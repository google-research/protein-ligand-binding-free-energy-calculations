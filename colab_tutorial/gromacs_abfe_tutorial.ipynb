{
  "cells": [
    {
      "cell_type": "markdown",
      "metadata": {
        "id": "view-in-github",
        "colab_type": "text"
      },
      "source": [
        "<a href=\"https://colab.research.google.com/github/google-research/protein-ligand-binding-free-energy-calculations/blob/matteo-dev/colab_tutorial/gromacs_abfe_tutorial.ipynb\" target=\"_parent\"><img src=\"https://colab.research.google.com/assets/colab-badge.svg\" alt=\"Open In Colab\"/></a>"
      ]
    },
    {
      "cell_type": "markdown",
      "metadata": {
        "id": "fU8sSQIYm8r0"
      },
      "source": [
        "##### Copyright 2022 Google LLC."
      ]
    },
    {
      "cell_type": "code",
      "execution_count": null,
      "metadata": {
        "cellView": "form",
        "id": "zwikt2vqm8r4"
      },
      "outputs": [],
      "source": [
        "#@title Licensed under the Apache License, Version 2.0 (the \"License\");\n",
        "# you may not use this file except in compliance with the License.\n",
        "# You may obtain a copy of the License at\n",
        "#\n",
        "# https://www.apache.org/licenses/LICENSE-2.0\n",
        "#\n",
        "# Unless required by applicable law or agreed to in writing, software\n",
        "# distributed under the License is distributed on an \"AS IS\" BASIS,\n",
        "# WITHOUT WARRANTIES OR CONDITIONS OF ANY KIND, either express or implied.\n",
        "# See the License for the specific language governing permissions and\n",
        "# limitations under the License."
      ]
    },
    {
      "cell_type": "markdown",
      "metadata": {
        "id": "hh6WOswDFRkx"
      },
      "source": [
        "# Dependencies and Mini Gromacs Tutorial\n",
        "\n",
        "## Note\n",
        "\n",
        "1. If you use a public colab instance, remember to change your runtime type to GPU\n",
        "2. If you deployed a custom GCE runtime, please connect to a GPU VM instance.\n",
        "\n",
        "## Summary\n",
        "\n",
        "1. Pull Gromacs 2022.3 binary compiled specifically for Colab GPU environment and install the software.\n",
        "2. Install Gromacs Python API on the fly, together with other packages used in the tutorial.\n",
        "3. Run simulations for benchmarks and show how to use the official GMX\n",
        "Python API to modify inputs.\n",
        "4. Visualize the output conformation for the longer simulation."
      ]
    },
    {
      "cell_type": "code",
      "execution_count": 1,
      "metadata": {
        "id": "t-xOe6rDm8r7",
        "outputId": "b40592d5-18d4-43cf-c3e7-1920d2fbe0b7",
        "colab": {
          "base_uri": "https://localhost:8080/"
        }
      },
      "outputs": [
        {
          "output_type": "stream",
          "name": "stdout",
          "text": [
            "--2022-11-05 00:59:53--  https://storage.googleapis.com/gromacs-bin/gromacs-avx2_256-cuda-11_2.tar.gz\n",
            "Resolving storage.googleapis.com (storage.googleapis.com)... 74.125.24.128, 172.217.194.128, 142.251.10.128, ...\n",
            "Connecting to storage.googleapis.com (storage.googleapis.com)|74.125.24.128|:443... connected.\n",
            "HTTP request sent, awaiting response... 200 OK\n",
            "Length: 23920923 (23M) [application/x-gzip]\n",
            "Saving to: ‘/tmp/gromacs.tar.gz’\n",
            "\n",
            "/tmp/gromacs.tar.gz 100%[===================>]  22.81M  11.3MB/s    in 2.0s    \n",
            "\n",
            "2022-11-05 00:59:56 (11.3 MB/s) - ‘/tmp/gromacs.tar.gz’ saved [23920923/23920923]\n",
            "\n",
            "--2022-11-05 00:59:56--  https://storage.googleapis.com/gromacs-bin/benchMEM.tpr\n",
            "Resolving storage.googleapis.com (storage.googleapis.com)... 74.125.24.128, 172.217.194.128, 142.251.10.128, ...\n",
            "Connecting to storage.googleapis.com (storage.googleapis.com)|74.125.24.128|:443... connected.\n",
            "HTTP request sent, awaiting response... 200 OK\n",
            "Length: 3461380 (3.3M) [application/octet-stream]\n",
            "Saving to: ‘/tmp/benchMEM.tpr’\n",
            "\n",
            "/tmp/benchMEM.tpr   100%[===================>]   3.30M  --.-KB/s    in 0.02s   \n",
            "\n",
            "2022-11-05 00:59:57 (132 MB/s) - ‘/tmp/benchMEM.tpr’ saved [3461380/3461380]\n",
            "\n",
            "--2022-11-05 00:59:57--  https://storage.googleapis.com/gromacs-bin/hif2a_eq.tpr\n",
            "Resolving storage.googleapis.com (storage.googleapis.com)... 74.125.24.128, 172.217.194.128, 142.251.10.128, ...\n",
            "Connecting to storage.googleapis.com (storage.googleapis.com)|74.125.24.128|:443... connected.\n",
            "HTTP request sent, awaiting response... 200 OK\n",
            "Length: 1319892 (1.3M) [application/octet-stream]\n",
            "Saving to: ‘/tmp/hif2a_eq.tpr’\n",
            "\n",
            "/tmp/hif2a_eq.tpr   100%[===================>]   1.26M  --.-KB/s    in 0.01s   \n",
            "\n",
            "2022-11-05 00:59:58 (121 MB/s) - ‘/tmp/hif2a_eq.tpr’ saved [1319892/1319892]\n",
            "\n",
            "Looking in indexes: https://pypi.org/simple, https://us-python.pkg.dev/colab-wheels/public/simple/\n",
            "Requirement already satisfied: pip in /usr/local/lib/python3.7/dist-packages (22.3)\n",
            "\u001b[33mWARNING: Running pip as the 'root' user can result in broken permissions and conflicting behaviour with the system package manager. It is recommended to use a virtual environment instead: https://pip.pypa.io/warnings/venv\u001b[0m\u001b[33m\n",
            "\u001b[0mLooking in indexes: https://pypi.org/simple, https://us-python.pkg.dev/colab-wheels/public/simple/\n",
            "Requirement already satisfied: setuptools in /usr/local/lib/python3.7/dist-packages (57.4.0)\n",
            "Requirement already satisfied: wheel in /usr/local/lib/python3.7/dist-packages (0.37.1)\n",
            "Requirement already satisfied: cmake in /usr/local/lib/python3.7/dist-packages (3.22.6)\n",
            "Requirement already satisfied: pybind11 in /usr/local/lib/python3.7/dist-packages (2.10.1)\n",
            "Requirement already satisfied: py3DMol in /usr/local/lib/python3.7/dist-packages (1.8.1)\n",
            "\u001b[33mWARNING: Running pip as the 'root' user can result in broken permissions and conflicting behaviour with the system package manager. It is recommended to use a virtual environment instead: https://pip.pypa.io/warnings/venv\u001b[0m\u001b[33m\n",
            "\u001b[0mFound existing installation: pmx 0+untagged.877.g9283878\n",
            "Uninstalling pmx-0+untagged.877.g9283878:\n",
            "  Would remove:\n",
            "    /usr/local/bin/pmx\n",
            "    /usr/local/lib/python3.7/dist-packages/pmx-0+untagged.877.g9283878.dist-info/*\n",
            "    /usr/local/lib/python3.7/dist-packages/pmx/*\n",
            "Proceed (Y/n)?   Successfully uninstalled pmx-0+untagged.877.g9283878\n",
            "\u001b[33mWARNING: Running pip as the 'root' user can result in broken permissions and conflicting behaviour with the system package manager. It is recommended to use a virtual environment instead: https://pip.pypa.io/warnings/venv\u001b[0m\u001b[33m\n",
            "\u001b[0mLooking in indexes: https://pypi.org/simple, https://us-python.pkg.dev/colab-wheels/public/simple/\n",
            "Collecting git+https://github.com/deGrootLab/pmx.git@abfe_dev\n",
            "  Cloning https://github.com/deGrootLab/pmx.git (to revision abfe_dev) to /tmp/pip-req-build-i9doxzli\n",
            "  Running command git clone --filter=blob:none --quiet https://github.com/deGrootLab/pmx.git /tmp/pip-req-build-i9doxzli\n",
            "  Running command git checkout -b abfe_dev --track origin/abfe_dev\n",
            "  Switched to a new branch 'abfe_dev'\n",
            "  Branch 'abfe_dev' set up to track remote branch 'abfe_dev' from 'origin'.\n",
            "  Resolved https://github.com/deGrootLab/pmx.git to commit 92838787006b8bd2e295a10868965e052682c67e\n",
            "  Preparing metadata (setup.py) ... \u001b[?25l\u001b[?25hdone\n",
            "Requirement already satisfied: numpy in /usr/local/lib/python3.7/dist-packages (from pmx==0+untagged.877.g9283878) (1.21.6)\n",
            "Requirement already satisfied: scipy in /usr/local/lib/python3.7/dist-packages (from pmx==0+untagged.877.g9283878) (1.7.3)\n",
            "Requirement already satisfied: matplotlib in /usr/local/lib/python3.7/dist-packages (from pmx==0+untagged.877.g9283878) (3.2.2)\n",
            "Requirement already satisfied: future in /usr/local/lib/python3.7/dist-packages (from pmx==0+untagged.877.g9283878) (0.16.0)\n",
            "Requirement already satisfied: python-dateutil>=2.1 in /usr/local/lib/python3.7/dist-packages (from matplotlib->pmx==0+untagged.877.g9283878) (2.8.2)\n",
            "Requirement already satisfied: cycler>=0.10 in /usr/local/lib/python3.7/dist-packages (from matplotlib->pmx==0+untagged.877.g9283878) (0.11.0)\n",
            "Requirement already satisfied: pyparsing!=2.0.4,!=2.1.2,!=2.1.6,>=2.0.1 in /usr/local/lib/python3.7/dist-packages (from matplotlib->pmx==0+untagged.877.g9283878) (3.0.9)\n",
            "Requirement already satisfied: kiwisolver>=1.0.1 in /usr/local/lib/python3.7/dist-packages (from matplotlib->pmx==0+untagged.877.g9283878) (1.4.4)\n",
            "Requirement already satisfied: typing-extensions in /usr/local/lib/python3.7/dist-packages (from kiwisolver>=1.0.1->matplotlib->pmx==0+untagged.877.g9283878) (4.1.1)\n",
            "Requirement already satisfied: six>=1.5 in /usr/local/lib/python3.7/dist-packages (from python-dateutil>=2.1->matplotlib->pmx==0+untagged.877.g9283878) (1.15.0)\n",
            "Building wheels for collected packages: pmx\n",
            "  Building wheel for pmx (setup.py) ... \u001b[?25l\u001b[?25hdone\n",
            "  Created wheel for pmx: filename=pmx-0+untagged.877.g9283878-cp37-cp37m-linux_x86_64.whl size=12284001 sha256=8a38e3bf0c66e1b5d74567f9c3a90c9ea4ec942d45ea752ab92d8eeb51a62c76\n",
            "  Stored in directory: /tmp/pip-ephem-wheel-cache-_xjlvvhh/wheels/cd/e9/20/1e8d3a49d2df752f5a6b8c84cf02697d0c25d73a5eacc7ebbb\n",
            "Successfully built pmx\n",
            "Installing collected packages: pmx\n",
            "Successfully installed pmx-0+untagged.877.g9283878\n",
            "\u001b[33mWARNING: Running pip as the 'root' user can result in broken permissions and conflicting behaviour with the system package manager. It is recommended to use a virtual environment instead: https://pip.pypa.io/warnings/venv\u001b[0m\u001b[33m\n",
            "\u001b[0mLooking in indexes: https://pypi.org/simple, https://us-python.pkg.dev/colab-wheels/public/simple/\n",
            "Requirement already satisfied: gmxapi in /usr/local/lib/python3.7/dist-packages (0.3.2.post1)\n",
            "Requirement already satisfied: pybind11 in /usr/local/lib/python3.7/dist-packages (from gmxapi) (2.10.1)\n",
            "Requirement already satisfied: numpy>1.7 in /usr/local/lib/python3.7/dist-packages (from gmxapi) (1.21.6)\n",
            "Requirement already satisfied: networkx>=2.0 in /usr/local/lib/python3.7/dist-packages (from gmxapi) (2.6.3)\n",
            "Requirement already satisfied: packaging in /usr/local/lib/python3.7/dist-packages (from gmxapi) (21.3)\n",
            "Requirement already satisfied: pyparsing!=3.0.5,>=2.0.2 in /usr/local/lib/python3.7/dist-packages (from packaging->gmxapi) (3.0.9)\n",
            "\u001b[33mWARNING: Running pip as the 'root' user can result in broken permissions and conflicting behaviour with the system package manager. It is recommended to use a virtual environment instead: https://pip.pypa.io/warnings/venv\u001b[0m\u001b[33m\n",
            "\u001b[0m"
          ]
        }
      ],
      "source": [
        "#@title Install Gromacs and Gromacs Python API\n",
        "!wget https://storage.googleapis.com/gromacs-bin/gromacs-avx2_256-cuda-11_2.tar.gz -O /tmp/gromacs.tar.gz\n",
        "!wget https://storage.googleapis.com/gromacs-bin/benchMEM.tpr -O /tmp/benchMEM.tpr\n",
        "!wget https://storage.googleapis.com/gromacs-bin/hif2a_eq.tpr -O /tmp/hif2a_eq.tpr\n",
        "\n",
        "!tar zxf /tmp/gromacs.tar.gz\n",
        "!sudo rm -rf /usr/local/gromacs\n",
        "!sudo mv gromacs-avx /usr/local/gromacs\n",
        "!rm /tmp/gromacs.tar.gz\n",
        "\n",
        "!pip3 install --upgrade pip\n",
        "!pip3 install setuptools wheel cmake pybind11 py3DMol\n",
        "# This ensure we always install the latest PMX version from GitHub.\n",
        "!if [ -d /usr/local/lib/python3.7/dist-packages/pmx/ ]; then yes Y | pip3 uninstall pmx; fi\n",
        "!pip3 install git+https://github.com/deGrootLab/pmx.git@abfe_dev\n",
        "!gmxapi_ROOT=/usr/local/gromacs/ pip3 install --no-cache-dir gmxapi"
      ]
    },
    {
      "cell_type": "code",
      "execution_count": 2,
      "metadata": {
        "cellView": "form",
        "id": "Sd-L2ttCm8r7"
      },
      "outputs": [],
      "source": [
        "#@title Set Level for Logging\n",
        "#@markdown Sets the python logging level. This is useful for debugging.\n",
        "import logging\n",
        "\n",
        "log_level = 'INFO' #@param ['DEBUG', 'INFO', 'ERROR']\n",
        "\n",
        "_log_level = {\n",
        "    'DEBUG': logging.DEBUG,\n",
        "    'INFO': logging.INFO,\n",
        "    'ERROR': logging.ERROR\n",
        "}\n",
        "\n",
        "logging.basicConfig(level=_log_level[log_level])"
      ]
    },
    {
      "cell_type": "code",
      "execution_count": 3,
      "metadata": {
        "id": "F5gQOMIJBRUY",
        "outputId": "e9ae9483-d90c-4462-a521-ec1cc978244f",
        "colab": {
          "base_uri": "https://localhost:8080/"
        }
      },
      "outputs": [
        {
          "output_type": "stream",
          "name": "stdout",
          "text": [
            "Session ID:  1667610056\n"
          ]
        }
      ],
      "source": [
        "#@title [Please Rerun after Restart] Create a Session\n",
        "#@markdown Please rerun this cell every time when you restart the runtime.\n",
        "#@markdown A new session ID will be created for a new colab runtime session.\n",
        "#@markdown Run this cell again will refresh the session ID.\n",
        "\n",
        "import os\n",
        "import time\n",
        "import gmxapi\n",
        "\n",
        "\n",
        "# Sets a session ID for this session.\n",
        "_SESSION_ID = str(int(time.time())) #@param\n",
        "\n",
        "# Monkey patch this session ID into the gmxapi.operation.ResourceManager.\n",
        "# Hack. Do not use in the user code.\n",
        "# This is temporarily added to allow users to start from a new set of working\n",
        "# directories for all the mdrun launches. GMX API doesn't expose the\n",
        "# underlying resource manager or context yet.\n",
        "def operation_id(self):\n",
        "  return f\"{self._base_operation_id}_{_SESSION_ID}\"\n",
        "gmxapi.operation.ResourceManager.operation_id = property(operation_id)\n",
        "\n",
        "\n",
        "def get_work_dir(md_output):\n",
        "  values = [v for v in md_output.values()]\n",
        "  return values[0].result()\n",
        "\n",
        "\n",
        "def tail_log(md_output, output_file_base, last_n_lines=6):\n",
        "  work_dir = get_work_dir(md_output)\n",
        "\n",
        "  with open(os.path.join(work_dir, output_file_base + '.log'), 'r') as log:\n",
        "    for line in log.readlines()[-last_n_lines:]:\n",
        "      print(line)\n",
        "\n",
        "print(\"Session ID: \", _SESSION_ID)"
      ]
    },
    {
      "cell_type": "code",
      "execution_count": null,
      "metadata": {
        "id": "ae475fnVm8r8",
        "outputId": "a5fcc1fc-c47f-489c-8d70-8ab4e7f518e2",
        "colab": {
          "base_uri": "https://localhost:8080/"
        }
      },
      "outputs": [
        {
          "output_type": "stream",
          "name": "stderr",
          "text": [
            "INFO:gmxapi.mdrun:Building mdrun operation from source <gmxapi.simulation.read_tpr.StandardOperationHandle object at 0x7f156fb49710>\n",
            "INFO:gmxapi.mdrun:mdrun receiving input _simulation_input: ResultDescription(dtype=<class 'str'>, width=1)\n",
            "INFO:gmxapi.mdrun:mdrun input bound as source collection DataSourceCollection([('_simulation_input', <Future: name='_simulation_input', description=ResultDescription(dtype=<class 'str'>, width=1)>), ('parameters', <Future: name='parameters', description=ResultDescription(dtype=<class 'dict'>, width=1)>), ('runtime_args', {'-nb': 'gpu', '-pme': 'gpu', '-pmefft': 'gpu', '-bonded': 'gpu', '-deffnm': 'short'})])\n",
            "INFO:gmxapi.simulation.context:Importing gmxapi.simulation.context\n",
            "INFO:gmxapi.simulation.context:mpi4py is not available for default session communication.\n",
            "INFO:gmxapi.mdrun:Created /content/mdrun_0_1667586554_0/topol.tpr on rank 0\n",
            "INFO:gmxapi.simulation.workflow:Added element md_sim to workspec.\n",
            "INFO:gmxapi.simulation.context:Collected builder for tpr_input\n",
            "INFO:gmxapi.simulation.context:Collected builder for md_sim\n",
            "INFO:gmxapi.simulation.context:Subscribing md_sim to tpr_input.\n",
            "INFO:gmxapi.simulation.context:Building sequence ['tpr_input', 'md_sim']\n",
            "INFO:gmxapi.simulation.context:Building <gmxapi.simulation.context._load_tpr.<locals>.Builder object at 0x7f156fa52810>\n",
            "INFO:gmxapi.simulation.context:Building <gmxapi.simulation.context._md.<locals>.Builder object at 0x7f154cea0bd0>\n",
            "INFO:gmxapi.simulation.context:Launching work on context rank 0, subcommunicator rank 0.\n",
            "INFO:gmxapi.simulation.context:rank 0 changed directory to /content/mdrun_0_1667586554_0\n",
            "INFO:gmxapi.simulation.context:Loading TPR file: /content/mdrun_0_1667586554_0/topol.tpr\n",
            "INFO:gmxapi.simulation.context:Exiting session on context rank 0.\n",
            "INFO:gmxapi.simulation.context:Calling session.close().\n",
            "INFO:gmxapi.simulation.context:Freeing sub-communicator _DummyCommunicator on rank 0\n",
            "INFO:gmxapi.simulation.context:Session closed on context rank 0.\n",
            "INFO:gmxapi.mdrun:Missing output. *trajectory* is \"None\"\n"
          ]
        },
        {
          "output_type": "stream",
          "name": "stdout",
          "text": [
            "               Core t (s)   Wall t (s)        (%)\n",
            "\n",
            "       Time:      168.602       42.151      400.0\n",
            "\n",
            "                 (ns/day)    (hour/ns)\n",
            "\n",
            "Performance:       41.000        0.585\n",
            "\n",
            "Finished mdrun on rank 0 Fri Nov  4 18:30:00 2022\n",
            "\n",
            "\n",
            "\n"
          ]
        }
      ],
      "source": [
        "#@title Run a Short Simulation for Benchmark\n",
        "\n",
        "# Read a TPR sample and run it.\n",
        "# The TPR file configures a 20ps simulation.\n",
        "input_tpr = gmxapi.read_tpr('/tmp/benchMEM.tpr')\n",
        "\n",
        "# Can specify computations to GPU.\n",
        "output_file_base = 'short'\n",
        "md = gmxapi.mdrun(input_tpr, runtime_args={\n",
        "    '-nb': 'gpu', '-pme': 'gpu', '-pmefft': 'gpu', '-bonded': 'gpu',\n",
        "    '-deffnm': output_file_base})\n",
        "\n",
        "# Run the simulation\n",
        "md.run()\n",
        "\n",
        "# Tail performance\n",
        "tail_log(md.output, output_file_base)"
      ]
    },
    {
      "cell_type": "code",
      "execution_count": null,
      "metadata": {
        "id": "z0zIeiCbm8r9"
      },
      "outputs": [],
      "source": [
        "#@title Modified Params and Run A Longer Simulation\n",
        "# Run the simulation for 40 ps.\n",
        "output_file_base = 'long2'\n",
        "\n",
        "modified_tpr = gmxapi.modify_input(\n",
        "    input=input_tpr, parameters={'nsteps': 20000, 'nstlist': 100})\n",
        "\n",
        "md = gmxapi.mdrun(modified_tpr, runtime_args={\n",
        "    '-nb': 'gpu', '-pme': 'gpu', '-pmefft': 'gpu', '-bonded': 'gpu',\n",
        "    '-deffnm': output_file_base})\n",
        "md.run()\n",
        "\n",
        "# Tail performance\n",
        "tail_log(md.output, output_file_base)"
      ]
    },
    {
      "cell_type": "code",
      "execution_count": null,
      "metadata": {
        "cellView": "form",
        "id": "vNyin5LB2KNy"
      },
      "outputs": [],
      "source": [
        "#@title What about a binding affinity simulation with HIF2a?\n",
        "output_file_base = 'hif'\n",
        "\n",
        "input_tpr = gmx.read_tpr('/tmp/hif2a_eq.tpr')\n",
        "modified_tpr = gmx.modify_input(\n",
        "    input=input_tpr, parameters={'nsteps': 20000, 'nstlist': 100})\n",
        "md = gmx.mdrun(modified_tpr, runtime_args={\n",
        "    '-nb': 'gpu', '-pme': 'gpu', '-pmefft': 'gpu', '-bonded': 'gpu',\n",
        "    '-deffnm': output_file_base})\n",
        "md.run()\n",
        "\n",
        "# Tail performance\n",
        "tail_log(md.output, output_file_base)"
      ]
    },
    {
      "cell_type": "markdown",
      "metadata": {
        "id": "_kMM_sx3Gv8_"
      },
      "source": [
        "## Visualization\n",
        "\n",
        "Visualize the output from the above HIF2A simulation.\n",
        "We use py3DMol to visualize the output gro file."
      ]
    },
    {
      "cell_type": "code",
      "execution_count": null,
      "metadata": {
        "cellView": "form",
        "id": "b4eb9g3um8r_"
      },
      "outputs": [],
      "source": [
        "#@title Visualize the output conformation of the HIF2A simulation.\n",
        "import py3Dmol\n",
        "\n",
        "view = py3Dmol.view()\n",
        "work_dir = get_work_dir(md.output)\n",
        "\n",
        "view.addModel(\n",
        "    open(os.path.join(work_dir, output_file_base + '.gro'), 'r').read(), 'gro')\n",
        "\n",
        "view.zoomTo()\n",
        "view.setBackgroundColor('white')\n",
        "view.setStyle({}, {'cartoon': {'color': 'spectrum'}})\n",
        "\n",
        "view.show()"
      ]
    },
    {
      "cell_type": "markdown",
      "metadata": {
        "id": "Skich7muxHrf"
      },
      "source": [
        "# ABFE Workflow\n",
        "-----"
      ]
    },
    {
      "cell_type": "code",
      "source": [
        "import numpy as np\n",
        "import shutil\n",
        "from tqdm import tqdm\n",
        "import pmx\n",
        "from pmx.AbsoluteDG import AbsoluteDG"
      ],
      "metadata": {
        "id": "KdQigJ26pJrv",
        "colab": {
          "base_uri": "https://localhost:8080/"
        },
        "outputId": "8236787e-d070-48b7-ccec-2644cfc98042"
      },
      "execution_count": 4,
      "outputs": [
        {
          "output_type": "stream",
          "name": "stdout",
          "text": [
            "RDKit imports failed\n"
          ]
        }
      ]
    },
    {
      "cell_type": "code",
      "source": [
        "#@title Define some helper functions\n",
        "\n",
        "def mdrun(tpr, pmegpu=True, nsteps=None):\n",
        "  \"\"\"Wrapper for gmxapi.mdrun with predefined scenarios optimized for different \n",
        "  types of simulations.\n",
        "\n",
        "  Args:\n",
        "    tpr (str): path to TPR file.\n",
        "    pmegpu (bool): whether to run PME calculations on the GPU. Default is True.\n",
        "      Note this is not possible with certain integrators.\n",
        "    nsteps (int): number of integration steps to run, overwrites nsteps defined\n",
        "      by the MDP file used to generate the TPR. Default is None (do not modify \n",
        "      TPR).\n",
        "\n",
        "  Returns:\n",
        "    object: StandardOperationHandle returned by gmxapi.mdrun.\n",
        "  \"\"\"\n",
        "  # Load TPR file.\n",
        "  input_tpr = gmxapi.read_tpr(tpr)\n",
        "  if nsteps is not None:\n",
        "    input_tpr = gmxapi.modify_input(input=input_tpr, \n",
        "                                    parameters={'nsteps': nsteps})    \n",
        "\n",
        "  # Get path to TPR.\n",
        "  path = \"/\".join(tpr.split('/')[:-1])\n",
        "  \n",
        "  # Specify command line flags and arguments to be passed to mdrun.\n",
        "  # Note: energy minimization cannot run PME on GPU.\n",
        "  if pmegpu:\n",
        "    _pme = 'gpu'\n",
        "    _pmefft = 'gpu'\n",
        "    _bonded = 'gpu'\n",
        "  else:\n",
        "    _pme = 'auto'\n",
        "    _pmefft = 'auto'\n",
        "    _bonded = 'auto'\n",
        "\n",
        "  md = gmxapi.mdrun(input_tpr,\n",
        "                    runtime_args={'-nb': 'gpu', \n",
        "                                  '-pme': _pme, \n",
        "                                  '-pmefft': _pmefft, \n",
        "                                  '-bonded': _bonded,\n",
        "                                  '-x': f'{path}/traj.xtc',\n",
        "                                  '-o': f'{path}/traj.trr',\n",
        "                                  '-c': f'{path}/confout.gro',\n",
        "                                  '-e': f'{path}/ener.edr', \n",
        "                                  '-g': f'{path}/md.log',\n",
        "                                  '-cpo': f'{path}/state.cpt',\n",
        "                                  '-dhdl': f'{path}/dhdl.xvg'\n",
        "                                  }\n",
        "                    )\n",
        "\n",
        "  # Run the simulation.\n",
        "  md.run()\n",
        "  return md\n",
        "\n",
        "\n",
        "def mdrun_completed(tpr: str) -> bool:\n",
        "  \"\"\"Checks whether energy minimization completed successfully.\n",
        "  \n",
        "  Args:\n",
        "    tpr (str): path to TPR file.\n",
        "\n",
        "  Returns:\n",
        "    bool: whether the TPR has been run successfully.\n",
        "  \"\"\"\n",
        "  # (maldeghi): IIRC Gromacs would output the GRO file only for mdruns that\n",
        "  # did not crash/errored. We can make this stricted by checking the log\n",
        "  # file too.\n",
        "  gro = \"/\".join(tpr.split(\"/\")[:-1]) + \"/confout.gro\"\n",
        "  if os.path.isfile(gro):\n",
        "    return True\n",
        "  else:\n",
        "    return False\n",
        "\n",
        "\n",
        "def tail(fname, n):\n",
        "  with open(fname) as f:\n",
        "    for line in (f.readlines() [-n:]):\n",
        "      print(line, end ='')"
      ],
      "metadata": {
        "id": "n-2EswQwUya3"
      },
      "execution_count": 5,
      "outputs": []
    },
    {
      "cell_type": "code",
      "source": [
        "#@title Copy input files\n",
        "\n",
        "#_WORKDIR = f\"/content/pmxrun_{_SESSION_ID}\"\n",
        "_WORKDIR = f\"/content/pmxrun_matteo\"\n",
        "\n",
        "if not os.path.isdir(_WORKDIR):\n",
        "  os.mkdir(_WORKDIR)\n",
        "\n",
        "  # Copy topology and structure files for protein and ligand.\n",
        "  shutil.copytree('/usr/local/lib/python3.7/dist-packages/pmx/abfe_scripts/struct_top/', f'{_WORKDIR}/struct_top/')\n",
        "\n",
        "  # Copy MDP files (i.e. Gromacs config files).\n",
        "  shutil.copytree('/usr/local/lib/python3.7/dist-packages/pmx/abfe_scripts/mdppath/', f'{_WORKDIR}/mdppath/')\n",
        "\n",
        "# Quick fix to the MDP files: use pme-order 4 becuase this is the only order\n",
        "# supported to be able to run PME on the GPU.\n",
        "! sed -i 's/pme-order.*/pme-order = 4/g' $_WORKDIR/mdppath/*\n",
        "\n",
        "# We also shorten the alchemical transitions to speed things up.\n",
        "# Note we cannot just change nsteps in mdrun here because we need to adjust the\n",
        "# lambda schedule too.\n",
        "! sed -i 's/nsteps.*/nsteps = 25000/g' $_WORKDIR/mdppath/ti_l*mdp\n",
        "! sed -i 's/delta-lambda.*/delta-lambda = 4e-5/g' $_WORKDIR/mdppath/ti_l0.mdp  # 1/25,000 = 4e-5\n",
        "! sed -i 's/delta-lambda.*/delta-lambda = -4e-5/g' $_WORKDIR/mdppath/ti_l1.mdp\n",
        "\n",
        "# Show contents of our working directory.\n",
        "!ls -l $_WORKDIR"
      ],
      "metadata": {
        "id": "UpP5TYyavS-D",
        "outputId": "0a8bfe8f-7b84-4667-c5ca-e3be3607d540",
        "colab": {
          "base_uri": "https://localhost:8080/"
        }
      },
      "execution_count": 6,
      "outputs": [
        {
          "output_type": "stream",
          "name": "stdout",
          "text": [
            "total 12\n",
            "drwxr-xr-x 3 root root 4096 Nov  5 00:44 lysopath\n",
            "drwxr-xr-x 2 root root 4096 Nov  5 01:00 mdppath\n",
            "drwxr-xr-x 4 root root 4096 Nov  5 00:40 struct_top\n"
          ]
        }
      ]
    },
    {
      "cell_type": "markdown",
      "source": [
        "## 1.&nbsp; Input Files Preparation"
      ],
      "metadata": {
        "id": "hTMjgKkLXvQa"
      }
    },
    {
      "cell_type": "code",
      "source": [
        "#@title 1.1&nbsp; Setup folder structure\n",
        "\n",
        "# Initialize the free energy environment object. It will store the main \n",
        "# parameters for the calculations.\n",
        "fe = AbsoluteDG(ligList=['lysozyme_benzene'], \n",
        "                apoCase='lysozyme_apo', \n",
        "                bDSSB=False,\n",
        "                gmxexec='/usr/local/gromacs/bin/gmx')\n",
        "\n",
        "# Set the workpath in which simulation input files will be created.\n",
        "fe.workPath = f'{_WORKDIR}/lysopath'\n",
        "# Set the path to the MDP files.\n",
        "fe.mdpPath = f'{_WORKDIR}/mdppath'\n",
        "# Set the number of replicas.\n",
        "fe.replicas = 2\n",
        "# Provide the path to the structures and topologies.\n",
        "fe.structTopPath = f'{_WORKDIR}/struct_top'\n",
        "\n",
        "# Prepare the directory structure with all simulations steps required.\n",
        "fe.simTypes = ['em_posre',  # Energy minimization.\n",
        "               'eq_posre',  # Equilibrium sim with position restraints.\n",
        "               'eq',  # Equilibrium simulation.\n",
        "               'transitions']  # Alchemical, non-equilibrium simulations.\n",
        "\n",
        "fe.prepareFreeEnergyDir()"
      ],
      "metadata": {
        "id": "7aWt8mknrxut",
        "outputId": "e0551ece-0f2c-4269-c7a0-ea82986f847a",
        "colab": {
          "base_uri": "https://localhost:8080/"
        }
      },
      "execution_count": 7,
      "outputs": [
        {
          "output_type": "stream",
          "name": "stdout",
          "text": [
            "\n",
            "---------------------\n",
            "Summary of the setup:\n",
            "---------------------\n",
            "\n",
            "   workpath: /content/pmxrun_matteo/lysopath\n",
            "   mdp path: /content/pmxrun_matteo/mdppath\n",
            "   # ligands: 1\n",
            "   ligands:\n",
            "        lysozyme_benzene\n",
            "   apo state: lysozyme_apo\n",
            "\n",
            "---------------------\n",
            "Directory structure:\n",
            "---------------------\n",
            "\n",
            "/content/pmxrun_matteo/lysopath/\n",
            "|\n",
            "|--ligX\n",
            "|--|--water\n",
            "|--|--|--stateA\n",
            "|--|--|--|--run1/2\n",
            "|--|--|--|--|--/em_posre/eq_posre/eq/transitions\n",
            "|--|--|--stateB\n",
            "|--|--|--|--run1/2\n",
            "|--|--|--|--|--/em_posre/eq_posre/eq/transitions\n",
            "|--|--protein\n",
            "|--|--|--stateA\n",
            "|--|--|--|--run1/2\n",
            "|--|--|--|--|--/em_posre/eq_posre/eq/transitions\n",
            "|--|--|--stateB\n",
            "|--|--|--|--run1/2\n",
            "|--|--|--|--|--/em_posre/eq_posre/eq/transitions\n",
            "|--|--strTopFolder\n",
            "|--lig..\n",
            "\n",
            "DONE\n"
          ]
        }
      ]
    },
    {
      "cell_type": "code",
      "source": [
        "#@title 1.2&nbsp; Assemble simulation systems\n",
        "\n",
        "# Assemble the systems: build Gromacs structure and topology for the \n",
        "# ligand+water and ligand+protein+water systems.\n",
        "fe.assemble_systems()\n",
        "\n",
        "# Define the simulation boxes, fill them with water molecules, and add ions to \n",
        "# neutralize the system and reach desired NaCl concentration (0.15 M by default).\n",
        "fe.boxWaterIons()"
      ],
      "metadata": {
        "id": "cotlzEQ9sNgk",
        "outputId": "fe8daeee-3b6a-47ab-d276-f85ded38ffbf",
        "colab": {
          "base_uri": "https://localhost:8080/"
        }
      },
      "execution_count": 8,
      "outputs": [
        {
          "output_type": "stream",
          "name": "stdout",
          "text": [
            "----------------------\n",
            "Assembling the systems\n",
            "----------------------\n",
            "Order: ligand-protein-other-water\n",
            "--- Assembling structures: lysozyme_benzene ---\n",
            "--- Assembling topologies: lysozyme_benzene ---\n",
            "----------------\n",
            "Box, water, ions\n",
            "----------------\n"
          ]
        }
      ]
    },
    {
      "cell_type": "code",
      "source": [
        "# Check the files present now. This is the content of root dir of the \n",
        "# calculation for this protein-ligand pair. The following ls calls show \n",
        "# the content of some subfolders for the complex simulations, \n",
        "# stateA (coupled ligand). The other folders have the same structure/files but \n",
        "# for the ligand in water simulations and for stateB too.\n",
        "!echo \"> ls ${_WORKDIR}/lysopath/lysozyme_benzene/\"\n",
        "!ls $_WORKDIR/lysopath/lysozyme_benzene/\n",
        "!echo \"\"\n",
        "!echo \"> ls ${_WORKDIR}/lysopath/lysozyme_benzene/protein\"\n",
        "!ls $_WORKDIR/lysopath/lysozyme_benzene/protein/\n",
        "!echo \"\"\n",
        "!echo \"> ls ${_WORKDIR}/lysopath/lysozyme_benzene/protein/stateA\"\n",
        "!ls $_WORKDIR/lysopath/lysozyme_benzene/protein/stateA/\n",
        "!echo \"\"\n",
        "!echo \"> ls ${_WORKDIR}/lysopath/lysozyme_benzene/protein/stateA/run1/\"\n",
        "!ls $_WORKDIR/lysopath/lysozyme_benzene/protein/stateA/run1/\n",
        "!echo \"\"\n",
        "!echo \"> ls ${_WORKDIR}/lysopath/lysozyme_benzene/protein/stateA/run1/em_posre\"\n",
        "!ls $_WORKDIR/lysopath/lysozyme_benzene/protein/stateA/run1/em_posre/"
      ],
      "metadata": {
        "id": "hYIk_gOoyIUs",
        "colab": {
          "base_uri": "https://localhost:8080/"
        },
        "outputId": "cce46aae-0e97-4986-8ee3-81cd1aa33d28"
      },
      "execution_count": 9,
      "outputs": [
        {
          "output_type": "stream",
          "name": "stdout",
          "text": [
            "> ls $/content/pmxrun_matteo/lysopath/lysozyme_benzene/\n",
            "protein  strTopFolder_apo  strTopFolder_holo  water\n",
            "\n",
            "> ls $/content/pmxrun_matteo/lysopath/lysozyme_benzene/protein\n",
            "stateA\tstateB\n",
            "\n",
            "> ls $/content/pmxrun_matteo/lysopath/lysozyme_benzene/protein/stateA\n",
            "box.pdb   mdout.mdp  run2\t topol.top  tpr.tpr\n",
            "ions.pdb  run1\t     system.pdb  top.top    water.pdb\n",
            "\n",
            "> ls $/content/pmxrun_matteo/lysopath/lysozyme_benzene/protein/stateA/run1/\n",
            "em_posre  eq  eq_posre\ttransitions\n",
            "\n",
            "> ls $/content/pmxrun_matteo/lysopath/lysozyme_benzene/protein/stateA/run1/em_posre\n",
            "confout.gro  ener.edr  md.log  mdout.mdp  tpr.tpr  traj.trr\n"
          ]
        }
      ]
    },
    {
      "cell_type": "markdown",
      "source": [
        "## 2&nbsp; Energy Minimization"
      ],
      "metadata": {
        "id": "lUZaXKThYEEL"
      }
    },
    {
      "cell_type": "code",
      "source": [
        "#@title 2.1&nbsp; Prepare TPR files\n",
        "\n",
        "# Call grompp and create TPR files for all systems and repeats.\n",
        "# (maldeghi): why EM with -DPOSRES? To be checked.\n",
        "tpr_files = fe.prepare_simulation(simType='em_posre')\n",
        "\n",
        "print(\"List of TPR files that we'll run:\")\n",
        "for f in tpr_files:\n",
        "  print(f\"  {f}\")"
      ],
      "metadata": {
        "id": "Zx2YhHZ8xtZN",
        "colab": {
          "base_uri": "https://localhost:8080/"
        },
        "outputId": "688a1a01-f1c7-4da8-e5ff-da69626c9cd7"
      },
      "execution_count": 10,
      "outputs": [
        {
          "output_type": "stream",
          "name": "stdout",
          "text": [
            "-----------------------------------------\n",
            "Preparing simulation: em_posre\n",
            "-----------------------------------------\n",
            "List of TPR files that we'll run:\n",
            "  /content/pmxrun_matteo/lysopath/lysozyme_benzene/water/stateA/run1/em_posre/tpr.tpr\n",
            "  /content/pmxrun_matteo/lysopath/lysozyme_benzene/water/stateA/run2/em_posre/tpr.tpr\n",
            "  /content/pmxrun_matteo/lysopath/lysozyme_benzene/water/stateB/run1/em_posre/tpr.tpr\n",
            "  /content/pmxrun_matteo/lysopath/lysozyme_benzene/water/stateB/run2/em_posre/tpr.tpr\n",
            "  /content/pmxrun_matteo/lysopath/lysozyme_benzene/protein/stateA/run1/em_posre/tpr.tpr\n",
            "  /content/pmxrun_matteo/lysopath/lysozyme_benzene/protein/stateA/run2/em_posre/tpr.tpr\n",
            "  /content/pmxrun_matteo/lysopath/lysozyme_benzene/protein/stateB/run1/em_posre/tpr.tpr\n",
            "  /content/pmxrun_matteo/lysopath/lysozyme_benzene/protein/stateB/run2/em_posre/tpr.tpr\n"
          ]
        }
      ]
    },
    {
      "cell_type": "code",
      "source": [
        "#@title 2.2&nbsp; Run minimizations\n",
        "\n",
        "# Read the TPR files and run all minimizations.\n",
        "for tpr_file in tqdm(tpr_files):\n",
        "\n",
        "  # If minimization has been run already, skip.\n",
        "  if mdrun_completed(tpr_file):\n",
        "    print(f\"`{tpr_file}` already ran successfully\")\n",
        "    continue\n",
        "\n",
        "  # Run the simulation (with reduced number of steps to speed things up)\n",
        "  md = mdrun(tpr_file, pmegpu=False, nsteps=1000)"
      ],
      "metadata": {
        "colab": {
          "base_uri": "https://localhost:8080/"
        },
        "id": "6Jec4JUu1caU",
        "outputId": "a4eea00d-cf17-437b-d7cb-b6bf530bf5ef"
      },
      "execution_count": 11,
      "outputs": [
        {
          "output_type": "stream",
          "name": "stderr",
          "text": [
            "100%|██████████| 8/8 [00:00<00:00, 10318.09it/s]"
          ]
        },
        {
          "output_type": "stream",
          "name": "stdout",
          "text": [
            "`/content/pmxrun_matteo/lysopath/lysozyme_benzene/water/stateA/run1/em_posre/tpr.tpr` already ran successfully\n",
            "`/content/pmxrun_matteo/lysopath/lysozyme_benzene/water/stateA/run2/em_posre/tpr.tpr` already ran successfully\n",
            "`/content/pmxrun_matteo/lysopath/lysozyme_benzene/water/stateB/run1/em_posre/tpr.tpr` already ran successfully\n",
            "`/content/pmxrun_matteo/lysopath/lysozyme_benzene/water/stateB/run2/em_posre/tpr.tpr` already ran successfully\n",
            "`/content/pmxrun_matteo/lysopath/lysozyme_benzene/protein/stateA/run1/em_posre/tpr.tpr` already ran successfully\n",
            "`/content/pmxrun_matteo/lysopath/lysozyme_benzene/protein/stateA/run2/em_posre/tpr.tpr` already ran successfully\n",
            "`/content/pmxrun_matteo/lysopath/lysozyme_benzene/protein/stateB/run1/em_posre/tpr.tpr` already ran successfully\n",
            "`/content/pmxrun_matteo/lysopath/lysozyme_benzene/protein/stateB/run2/em_posre/tpr.tpr` already ran successfully\n"
          ]
        },
        {
          "output_type": "stream",
          "name": "stderr",
          "text": [
            "\n"
          ]
        }
      ]
    },
    {
      "cell_type": "markdown",
      "source": [
        "## 3.&nbsp; Equilibrium Simulations\n",
        "\n",
        "First, we run a short MD simulation with position restraints to equilibrate the solvent and ions around the protein/ligand. Then, we run tha actual production simulation."
      ],
      "metadata": {
        "id": "fGrncu-0YPh6"
      }
    },
    {
      "cell_type": "code",
      "source": [
        "#@title 3.1&nbsp; Prepare TPR files for short equilibration\n",
        "\n",
        "tpr_files = fe.prepare_simulation(simType='eq_posre', prevSim='em_posre')\n",
        "\n",
        "print(\"List of TPR files that we'll run:\")\n",
        "for f in tpr_files:\n",
        "  print(f\"  {f}\")"
      ],
      "metadata": {
        "colab": {
          "base_uri": "https://localhost:8080/"
        },
        "id": "hJXqCkr8XEK7",
        "outputId": "b38636d8-35e1-4ca7-d42d-793c96c1ba43"
      },
      "execution_count": 12,
      "outputs": [
        {
          "output_type": "stream",
          "name": "stdout",
          "text": [
            "-----------------------------------------\n",
            "Preparing simulation: eq_posre\n",
            "-----------------------------------------\n",
            "List of TPR files that we'll run:\n",
            "  /content/pmxrun_matteo/lysopath/lysozyme_benzene/water/stateA/run1/eq_posre/tpr.tpr\n",
            "  /content/pmxrun_matteo/lysopath/lysozyme_benzene/water/stateA/run2/eq_posre/tpr.tpr\n",
            "  /content/pmxrun_matteo/lysopath/lysozyme_benzene/water/stateB/run1/eq_posre/tpr.tpr\n",
            "  /content/pmxrun_matteo/lysopath/lysozyme_benzene/water/stateB/run2/eq_posre/tpr.tpr\n",
            "  /content/pmxrun_matteo/lysopath/lysozyme_benzene/protein/stateA/run1/eq_posre/tpr.tpr\n",
            "  /content/pmxrun_matteo/lysopath/lysozyme_benzene/protein/stateA/run2/eq_posre/tpr.tpr\n",
            "  /content/pmxrun_matteo/lysopath/lysozyme_benzene/protein/stateB/run1/eq_posre/tpr.tpr\n",
            "  /content/pmxrun_matteo/lysopath/lysozyme_benzene/protein/stateB/run2/eq_posre/tpr.tpr\n"
          ]
        }
      ]
    },
    {
      "cell_type": "code",
      "source": [
        "#@title 3.2&nbsp; Run short equilibration\n",
        "\n",
        "# Read the TPR files and run all simulations.\n",
        "for tpr_file in tqdm(tpr_files):\n",
        "\n",
        "  # If simulation has been run already, skip.\n",
        "  if mdrun_completed(tpr_file):\n",
        "    print(f\"`{tpr_file}` already ran successfully\")\n",
        "    continue\n",
        "\n",
        "  # Run the simulation (with reduced number of steps to speed things up)\n",
        "  md = mdrun(tpr_file, pmegpu=True, nsteps=50_000)  # 50,000 x 2 fs = 100 ps"
      ],
      "metadata": {
        "colab": {
          "base_uri": "https://localhost:8080/"
        },
        "id": "xNJ4StaWYYJT",
        "outputId": "55ebec79-7376-491d-ceee-dcfbd746e40d"
      },
      "execution_count": 13,
      "outputs": [
        {
          "output_type": "stream",
          "name": "stderr",
          "text": [
            "100%|██████████| 8/8 [00:00<00:00, 2805.09it/s]"
          ]
        },
        {
          "output_type": "stream",
          "name": "stdout",
          "text": [
            "`/content/pmxrun_matteo/lysopath/lysozyme_benzene/water/stateA/run1/eq_posre/tpr.tpr` already ran successfully\n",
            "`/content/pmxrun_matteo/lysopath/lysozyme_benzene/water/stateA/run2/eq_posre/tpr.tpr` already ran successfully\n",
            "`/content/pmxrun_matteo/lysopath/lysozyme_benzene/water/stateB/run1/eq_posre/tpr.tpr` already ran successfully\n",
            "`/content/pmxrun_matteo/lysopath/lysozyme_benzene/water/stateB/run2/eq_posre/tpr.tpr` already ran successfully\n",
            "`/content/pmxrun_matteo/lysopath/lysozyme_benzene/protein/stateA/run1/eq_posre/tpr.tpr` already ran successfully\n",
            "`/content/pmxrun_matteo/lysopath/lysozyme_benzene/protein/stateA/run2/eq_posre/tpr.tpr` already ran successfully\n",
            "`/content/pmxrun_matteo/lysopath/lysozyme_benzene/protein/stateB/run1/eq_posre/tpr.tpr` already ran successfully\n",
            "`/content/pmxrun_matteo/lysopath/lysozyme_benzene/protein/stateB/run2/eq_posre/tpr.tpr` already ran successfully\n"
          ]
        },
        {
          "output_type": "stream",
          "name": "stderr",
          "text": [
            "\n"
          ]
        }
      ]
    },
    {
      "cell_type": "code",
      "source": [
        "# Show output files for one run.\n",
        "print(os.listdir(\"/\".join(tpr_files[0].split(\"/\")[:-1])))\n",
        "print()\n",
        "\n",
        "# Tail log file to see performance.\n",
        "tail(tpr_files[0].replace('tpr.tpr', 'md.log'), n=5)"
      ],
      "metadata": {
        "id": "4HZiyPuOwQAD",
        "outputId": "cd170b48-1578-4d51-ec60-4a22bd3211e1",
        "colab": {
          "base_uri": "https://localhost:8080/"
        }
      },
      "execution_count": 14,
      "outputs": [
        {
          "output_type": "stream",
          "name": "stdout",
          "text": [
            "['tpr.tpr', 'dhdl.xvg', 'confout.gro', 'traj.trr', 'md.log', 'mdout.mdp', 'ener.edr', 'state.cpt']\n",
            "\n",
            "       Time:        2.753        1.377      200.0\n",
            "                 (ns/day)    (hour/ns)\n",
            "Performance:      627.803        0.038\n",
            "Finished mdrun on rank 0 Sat Nov  5 00:45:33 2022\n",
            "\n"
          ]
        }
      ]
    },
    {
      "cell_type": "code",
      "source": [
        "#@title 3.3&nbsp; Prepare TPR files for equilibrium simulations\n",
        "\n",
        "tpr_files = fe.prepare_simulation(simType='eq', prevSim='eq_posre')\n",
        "\n",
        "print(\"List of TPR files that we'll run:\")\n",
        "for f in tpr_files:\n",
        "  print(f\"  {f}\")"
      ],
      "metadata": {
        "colab": {
          "base_uri": "https://localhost:8080/"
        },
        "id": "niTYHk9FYYLv",
        "outputId": "07eeffb9-7918-4bff-fb94-6d30ae643767"
      },
      "execution_count": 15,
      "outputs": [
        {
          "output_type": "stream",
          "name": "stdout",
          "text": [
            "-----------------------------------------\n",
            "Preparing simulation: eq\n",
            "-----------------------------------------\n",
            "List of TPR files that we'll run:\n",
            "  /content/pmxrun_matteo/lysopath/lysozyme_benzene/water/stateA/run1/eq/tpr.tpr\n",
            "  /content/pmxrun_matteo/lysopath/lysozyme_benzene/water/stateA/run2/eq/tpr.tpr\n",
            "  /content/pmxrun_matteo/lysopath/lysozyme_benzene/water/stateB/run1/eq/tpr.tpr\n",
            "  /content/pmxrun_matteo/lysopath/lysozyme_benzene/water/stateB/run2/eq/tpr.tpr\n",
            "  /content/pmxrun_matteo/lysopath/lysozyme_benzene/protein/stateA/run1/eq/tpr.tpr\n",
            "  /content/pmxrun_matteo/lysopath/lysozyme_benzene/protein/stateA/run2/eq/tpr.tpr\n",
            "  /content/pmxrun_matteo/lysopath/lysozyme_benzene/protein/stateB/run1/eq/tpr.tpr\n",
            "  /content/pmxrun_matteo/lysopath/lysozyme_benzene/protein/stateB/run2/eq/tpr.tpr\n"
          ]
        }
      ]
    },
    {
      "cell_type": "code",
      "source": [
        "#@title 3.4&nbsp; Run equilibrium simulations\n",
        "\n",
        "# Read the TPR files and run all simulations.\n",
        "for tpr_file in tqdm(tpr_files):\n",
        "\n",
        "  # If simulation has been run already, skip.\n",
        "  if mdrun_completed(tpr_file):\n",
        "    print(f\"`{tpr_file}` already ran successfully\")\n",
        "    continue\n",
        "\n",
        "  # Run the simulation (with reduced number of steps to speed things up)\n",
        "  md = mdrun(tpr_file, pmegpu=True, nsteps=100_000)  # 100,000 x 2 fs = 200 ps"
      ],
      "metadata": {
        "colab": {
          "base_uri": "https://localhost:8080/"
        },
        "id": "7tQPHNndYYN8",
        "outputId": "b032f789-e958-496b-98c7-5a11333944fa"
      },
      "execution_count": 16,
      "outputs": [
        {
          "output_type": "stream",
          "name": "stderr",
          "text": [
            "100%|██████████| 8/8 [00:00<00:00, 2023.06it/s]"
          ]
        },
        {
          "output_type": "stream",
          "name": "stdout",
          "text": [
            "`/content/pmxrun_matteo/lysopath/lysozyme_benzene/water/stateA/run1/eq/tpr.tpr` already ran successfully\n",
            "`/content/pmxrun_matteo/lysopath/lysozyme_benzene/water/stateA/run2/eq/tpr.tpr` already ran successfully\n",
            "`/content/pmxrun_matteo/lysopath/lysozyme_benzene/water/stateB/run1/eq/tpr.tpr` already ran successfully\n",
            "`/content/pmxrun_matteo/lysopath/lysozyme_benzene/water/stateB/run2/eq/tpr.tpr` already ran successfully\n",
            "`/content/pmxrun_matteo/lysopath/lysozyme_benzene/protein/stateA/run1/eq/tpr.tpr` already ran successfully\n",
            "`/content/pmxrun_matteo/lysopath/lysozyme_benzene/protein/stateA/run2/eq/tpr.tpr` already ran successfully\n",
            "`/content/pmxrun_matteo/lysopath/lysozyme_benzene/protein/stateB/run1/eq/tpr.tpr` already ran successfully\n",
            "`/content/pmxrun_matteo/lysopath/lysozyme_benzene/protein/stateB/run2/eq/tpr.tpr` already ran successfully\n"
          ]
        },
        {
          "output_type": "stream",
          "name": "stderr",
          "text": [
            "\n"
          ]
        }
      ]
    },
    {
      "cell_type": "code",
      "source": [
        "i = 0\n",
        "\n",
        "# Show output files for one run.\n",
        "print(os.listdir(\"/\".join(tpr_files[i].split(\"/\")[:-1])))\n",
        "print()\n",
        "\n",
        "# Tail log file to see performance.\n",
        "tail(tpr_files[i].replace('tpr.tpr', 'md.log'), n=5)"
      ],
      "metadata": {
        "id": "A65hr9eJy3rA",
        "outputId": "8fa2192c-7449-4c75-9961-32a27a4c0695",
        "colab": {
          "base_uri": "https://localhost:8080/"
        }
      },
      "execution_count": 17,
      "outputs": [
        {
          "output_type": "stream",
          "name": "stdout",
          "text": [
            "['tpr.tpr', 'dhdl.xvg', 'confout.gro', 'traj.trr', 'md.log', 'mdout.mdp', 'ener.edr', 'state.cpt']\n",
            "\n",
            "       Time:        6.863        3.432      200.0\n",
            "                 (ns/day)    (hour/ns)\n",
            "Performance:      503.617        0.048\n",
            "Finished mdrun on rank 0 Sat Nov  5 00:47:52 2022\n",
            "\n"
          ]
        }
      ]
    },
    {
      "cell_type": "markdown",
      "source": [
        "## 4.&nbsp; Non-Equilibrium Simulations"
      ],
      "metadata": {
        "id": "39TLpxzEYlEH"
      }
    },
    {
      "cell_type": "code",
      "source": [
        "#@title 4.1&nbsp; Extract frames from equilibrium runs, and prepare TPRs\n",
        "\n",
        "fe.equilTime = 0.  # ps to discard as equilibration\n",
        "fe.bGenTiTpr = True  # Generates TPRs from extracted frames and rm GRO file.\n",
        "tpr_files = fe.prepare_simulation(simType='transitions')\n",
        "\n",
        "print(\"List of TPR files that we'll run:\")\n",
        "for f in tpr_files:\n",
        "  print(f\"  {f}\")"
      ],
      "metadata": {
        "colab": {
          "base_uri": "https://localhost:8080/"
        },
        "id": "86UiwjoqYYQV",
        "outputId": "b2a822ae-e8a7-456f-db21-dc66bd37cd41"
      },
      "execution_count": 18,
      "outputs": [
        {
          "output_type": "stream",
          "name": "stdout",
          "text": [
            "-----------------------------------------\n",
            "Preparing simulation: transitions\n",
            "-----------------------------------------\n",
            "List of TPR files that we'll run:\n",
            "  /content/pmxrun_matteo/lysopath/lysozyme_benzene/water/stateA/run1/transitions/ti1.tpr\n",
            "  /content/pmxrun_matteo/lysopath/lysozyme_benzene/water/stateA/run2/transitions/ti1.tpr\n",
            "  /content/pmxrun_matteo/lysopath/lysozyme_benzene/water/stateB/run1/transitions/ti1.tpr\n",
            "  /content/pmxrun_matteo/lysopath/lysozyme_benzene/water/stateB/run2/transitions/ti1.tpr\n",
            "  /content/pmxrun_matteo/lysopath/lysozyme_benzene/protein/stateA/run1/transitions/ti1.tpr\n",
            "  /content/pmxrun_matteo/lysopath/lysozyme_benzene/protein/stateA/run2/transitions/ti1.tpr\n",
            "  /content/pmxrun_matteo/lysopath/lysozyme_benzene/protein/stateB/run1/transitions/ti1.tpr\n",
            "  /content/pmxrun_matteo/lysopath/lysozyme_benzene/protein/stateB/run2/transitions/ti1.tpr\n"
          ]
        }
      ]
    },
    {
      "cell_type": "code",
      "source": [
        "#@title 4.2&nbsp; Run non-equilibrium simulations\n",
        "\n",
        "# Read the TPR files and run all simulations.\n",
        "for tpr_file in tqdm(tpr_files):\n",
        "\n",
        "  # If simulation has been run already, skip.\n",
        "  if mdrun_completed(tpr_file):\n",
        "    print(f\"`{tpr_file}` already ran successfully\")\n",
        "    continue\n",
        "\n",
        "  # Run the simulation (with reduced number of steps to speed things up)\n",
        "  md = mdrun(tpr_file, pmegpu=True)"
      ],
      "metadata": {
        "id": "eXYNsz6qYYSd",
        "outputId": "1784b0c0-3561-4023-dddf-183590997f72",
        "colab": {
          "base_uri": "https://localhost:8080/"
        }
      },
      "execution_count": 19,
      "outputs": [
        {
          "output_type": "stream",
          "name": "stderr",
          "text": [
            "\r  0%|          | 0/8 [00:00<?, ?it/s]"
          ]
        },
        {
          "output_type": "stream",
          "name": "stdout",
          "text": [
            "`/content/pmxrun_matteo/lysopath/lysozyme_benzene/water/stateA/run1/transitions/ti1.tpr` already ran successfully\n",
            "`/content/pmxrun_matteo/lysopath/lysozyme_benzene/water/stateA/run2/transitions/ti1.tpr` already ran successfully\n"
          ]
        },
        {
          "output_type": "stream",
          "name": "stderr",
          "text": [
            "100%|██████████| 8/8 [16:00<00:00, 120.07s/it]\n"
          ]
        }
      ]
    },
    {
      "cell_type": "code",
      "source": [
        "i = 0  # tpr id\n",
        "\n",
        "# Show output files for one run.\n",
        "print(os.listdir(\"/\".join(tpr_files[i].split(\"/\")[:-1])))\n",
        "print()\n",
        "\n",
        "# Tail log file to see performance.\n",
        "tail(\"/\".join(tpr_files[i].split(\"/\")[:-1]) + \"/md.log\", n=5)"
      ],
      "metadata": {
        "id": "sDYl7JsRRjA3",
        "outputId": "67fbbe2a-9e49-44aa-9155-24e4a8e3a0eb",
        "colab": {
          "base_uri": "https://localhost:8080/"
        }
      },
      "execution_count": 25,
      "outputs": [
        {
          "output_type": "stream",
          "name": "stdout",
          "text": [
            "['dhdl.xvg', 'confout.gro', 'md.log', 'mdout.mdp', 'ener.edr', 'state.cpt', 'ti1.tpr']\n",
            "\n",
            "       Time:       30.364       15.182      200.0\n",
            "                 (ns/day)    (hour/ns)\n",
            "Performance:      569.100        0.042\n",
            "Finished mdrun on rank 0 Sat Nov  5 00:52:46 2022\n",
            "\n"
          ]
        }
      ]
    },
    {
      "cell_type": "markdown",
      "source": [
        "## 5.&nbsp; Free Energy Estimation"
      ],
      "metadata": {
        "id": "nAub78THv3Sc"
      }
    },
    {
      "cell_type": "code",
      "source": [
        "fe.run_analysis(ligs=['lysozyme_benzene'])\n",
        "fe.analysis_summary()"
      ],
      "metadata": {
        "id": "0BVbzMNXKY9q",
        "outputId": "67220bd2-60b1-4cdc-df43-e3b833333e4b",
        "colab": {
          "base_uri": "https://localhost:8080/",
          "height": 398
        }
      },
      "execution_count": 27,
      "outputs": [
        {
          "output_type": "stream",
          "name": "stdout",
          "text": [
            "----------------\n",
            "Running analysis\n",
            "----------------\n",
            "No jobscript to prepare\n"
          ]
        },
        {
          "output_type": "error",
          "ename": "FileNotFoundError",
          "evalue": "ignored",
          "traceback": [
            "\u001b[0;31m---------------------------------------------------------------------------\u001b[0m",
            "\u001b[0;31mFileNotFoundError\u001b[0m                         Traceback (most recent call last)",
            "\u001b[0;32m<ipython-input-27-5a28aedffaa6>\u001b[0m in \u001b[0;36m<module>\u001b[0;34m\u001b[0m\n\u001b[1;32m      1\u001b[0m \u001b[0mfe\u001b[0m\u001b[0;34m.\u001b[0m\u001b[0mrun_analysis\u001b[0m\u001b[0;34m(\u001b[0m\u001b[0mligs\u001b[0m\u001b[0;34m=\u001b[0m\u001b[0;34m[\u001b[0m\u001b[0;34m'lysozyme_benzene'\u001b[0m\u001b[0;34m]\u001b[0m\u001b[0;34m)\u001b[0m\u001b[0;34m\u001b[0m\u001b[0;34m\u001b[0m\u001b[0m\n\u001b[0;32m----> 2\u001b[0;31m \u001b[0mfe\u001b[0m\u001b[0;34m.\u001b[0m\u001b[0manalysis_summary\u001b[0m\u001b[0;34m(\u001b[0m\u001b[0;34m)\u001b[0m\u001b[0;34m\u001b[0m\u001b[0;34m\u001b[0m\u001b[0m\n\u001b[0m",
            "\u001b[0;32m/usr/local/lib/python3.7/dist-packages/pmx/AbsoluteDG.py\u001b[0m in \u001b[0;36manalysis_summary\u001b[0;34m(self, ligs)\u001b[0m\n\u001b[1;32m   1706\u001b[0m                 \u001b[0manalysispath\u001b[0m \u001b[0;34m=\u001b[0m \u001b[0;34m'{0}/analyse_all'\u001b[0m\u001b[0;34m.\u001b[0m\u001b[0mformat\u001b[0m\u001b[0;34m(\u001b[0m \u001b[0mself\u001b[0m\u001b[0;34m.\u001b[0m\u001b[0m_get_specific_path\u001b[0m\u001b[0;34m(\u001b[0m\u001b[0mlig\u001b[0m\u001b[0;34m=\u001b[0m\u001b[0mlig\u001b[0m\u001b[0;34m,\u001b[0m\u001b[0mwp\u001b[0m\u001b[0;34m=\u001b[0m\u001b[0mwp\u001b[0m\u001b[0;34m)\u001b[0m \u001b[0;34m)\u001b[0m\u001b[0;34m\u001b[0m\u001b[0;34m\u001b[0m\u001b[0m\n\u001b[1;32m   1707\u001b[0m                 \u001b[0mresultsfile\u001b[0m \u001b[0;34m=\u001b[0m \u001b[0;34m'{0}/results.txt'\u001b[0m\u001b[0;34m.\u001b[0m\u001b[0mformat\u001b[0m\u001b[0;34m(\u001b[0m\u001b[0manalysispath\u001b[0m\u001b[0;34m)\u001b[0m\u001b[0;34m\u001b[0m\u001b[0;34m\u001b[0m\u001b[0m\n\u001b[0;32m-> 1708\u001b[0;31m                 \u001b[0mres\u001b[0m \u001b[0;34m=\u001b[0m \u001b[0mself\u001b[0m\u001b[0;34m.\u001b[0m\u001b[0m_read_neq_results\u001b[0m\u001b[0;34m(\u001b[0m \u001b[0mresultsfile\u001b[0m \u001b[0;34m)\u001b[0m\u001b[0;34m\u001b[0m\u001b[0;34m\u001b[0m\u001b[0m\n\u001b[0m\u001b[1;32m   1709\u001b[0m                 \u001b[0mself\u001b[0m\u001b[0;34m.\u001b[0m\u001b[0m_fill_resultsAll\u001b[0m\u001b[0;34m(\u001b[0m \u001b[0mres\u001b[0m\u001b[0;34m,\u001b[0m \u001b[0mlig\u001b[0m\u001b[0;34m,\u001b[0m \u001b[0mwp\u001b[0m\u001b[0;34m,\u001b[0m \u001b[0mdgCorrection\u001b[0m\u001b[0;34m=\u001b[0m\u001b[0mdgCorrection\u001b[0m \u001b[0;34m)\u001b[0m\u001b[0;34m\u001b[0m\u001b[0;34m\u001b[0m\u001b[0m\n\u001b[1;32m   1710\u001b[0m \u001b[0;34m\u001b[0m\u001b[0m\n",
            "\u001b[0;32m/usr/local/lib/python3.7/dist-packages/pmx/AbsoluteDG.py\u001b[0m in \u001b[0;36m_read_neq_results\u001b[0;34m(self, fname)\u001b[0m\n\u001b[1;32m   1636\u001b[0m \u001b[0;34m\u001b[0m\u001b[0m\n\u001b[1;32m   1637\u001b[0m     \u001b[0;32mdef\u001b[0m \u001b[0m_read_neq_results\u001b[0m\u001b[0;34m(\u001b[0m \u001b[0mself\u001b[0m\u001b[0;34m,\u001b[0m \u001b[0mfname\u001b[0m \u001b[0;34m)\u001b[0m\u001b[0;34m:\u001b[0m\u001b[0;34m\u001b[0m\u001b[0;34m\u001b[0m\u001b[0m\n\u001b[0;32m-> 1638\u001b[0;31m         \u001b[0mfp\u001b[0m \u001b[0;34m=\u001b[0m \u001b[0mopen\u001b[0m\u001b[0;34m(\u001b[0m\u001b[0mfname\u001b[0m\u001b[0;34m,\u001b[0m\u001b[0;34m'r'\u001b[0m\u001b[0;34m)\u001b[0m\u001b[0;34m\u001b[0m\u001b[0;34m\u001b[0m\u001b[0m\n\u001b[0m\u001b[1;32m   1639\u001b[0m         \u001b[0mlines\u001b[0m \u001b[0;34m=\u001b[0m \u001b[0mfp\u001b[0m\u001b[0;34m.\u001b[0m\u001b[0mreadlines\u001b[0m\u001b[0;34m(\u001b[0m\u001b[0;34m)\u001b[0m\u001b[0;34m\u001b[0m\u001b[0;34m\u001b[0m\u001b[0m\n\u001b[1;32m   1640\u001b[0m         \u001b[0mfp\u001b[0m\u001b[0;34m.\u001b[0m\u001b[0mclose\u001b[0m\u001b[0;34m(\u001b[0m\u001b[0;34m)\u001b[0m\u001b[0;34m\u001b[0m\u001b[0;34m\u001b[0m\u001b[0m\n",
            "\u001b[0;31mFileNotFoundError\u001b[0m: [Errno 2] No such file or directory: '/content/pmxrun_matteo/lysopath/lysozyme_benzene/water/analyse_all/results.txt'"
          ]
        }
      ]
    },
    {
      "cell_type": "code",
      "source": [
        "tpr_files[i]"
      ],
      "metadata": {
        "id": "TXnU3ddrLaoZ",
        "outputId": "7ec99230-b24d-40c7-87c5-46115987037e",
        "colab": {
          "base_uri": "https://localhost:8080/",
          "height": 35
        }
      },
      "execution_count": 21,
      "outputs": [
        {
          "output_type": "execute_result",
          "data": {
            "text/plain": [
              "'/content/pmxrun_matteo/lysopath/lysozyme_benzene/water/stateA/run1/transitions/ti1.tpr'"
            ],
            "application/vnd.google.colaboratory.intrinsic+json": {
              "type": "string"
            }
          },
          "metadata": {},
          "execution_count": 21
        }
      ]
    },
    {
      "cell_type": "code",
      "source": [],
      "metadata": {
        "id": "linEdMMFLd_A",
        "outputId": "48154763-9aa7-4181-a9ad-a4b69483a106",
        "colab": {
          "base_uri": "https://localhost:8080/",
          "height": 35
        }
      },
      "execution_count": 24,
      "outputs": [
        {
          "output_type": "execute_result",
          "data": {
            "text/plain": [
              "'/content/pmxrun_matteo/lysopath/lysozyme_benzene/water/stateA/run1/transitions/md.log'"
            ],
            "application/vnd.google.colaboratory.intrinsic+json": {
              "type": "string"
            }
          },
          "metadata": {},
          "execution_count": 24
        }
      ]
    },
    {
      "cell_type": "code",
      "source": [],
      "metadata": {
        "id": "OwIr66VFYBQV"
      },
      "execution_count": null,
      "outputs": []
    }
  ],
  "metadata": {
    "accelerator": "GPU",
    "colab": {
      "collapsed_sections": [],
      "name": "gromacs_abfe_tutorial.ipynb",
      "provenance": [],
      "toc_visible": true,
      "include_colab_link": true
    },
    "language_info": {
      "name": "python"
    },
    "kernelspec": {
      "name": "python3",
      "display_name": "Python 3"
    },
    "gpuClass": "standard"
  },
  "nbformat": 4,
  "nbformat_minor": 0
}