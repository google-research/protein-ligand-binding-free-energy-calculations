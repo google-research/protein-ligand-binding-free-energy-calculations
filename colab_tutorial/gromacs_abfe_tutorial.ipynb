{
  "cells": [
    {
      "cell_type": "markdown",
      "metadata": {
        "id": "view-in-github",
        "colab_type": "text"
      },
      "source": [
        "<a href=\"https://colab.research.google.com/github/google-research/protein-ligand-binding-free-energy-calculations/blob/matteo-dev/colab_tutorial/gromacs_abfe_tutorial.ipynb\" target=\"_parent\"><img src=\"https://colab.research.google.com/assets/colab-badge.svg\" alt=\"Open In Colab\"/></a>"
      ]
    },
    {
      "cell_type": "markdown",
      "metadata": {
        "id": "fU8sSQIYm8r0"
      },
      "source": [
        "##### Copyright 2022 Google LLC."
      ]
    },
    {
      "cell_type": "code",
      "execution_count": null,
      "metadata": {
        "cellView": "form",
        "id": "zwikt2vqm8r4"
      },
      "outputs": [],
      "source": [
        "#@title Licensed under the Apache License, Version 2.0 (the \"License\");\n",
        "# you may not use this file except in compliance with the License.\n",
        "# You may obtain a copy of the License at\n",
        "#\n",
        "# https://www.apache.org/licenses/LICENSE-2.0\n",
        "#\n",
        "# Unless required by applicable law or agreed to in writing, software\n",
        "# distributed under the License is distributed on an \"AS IS\" BASIS,\n",
        "# WITHOUT WARRANTIES OR CONDITIONS OF ANY KIND, either express or implied.\n",
        "# See the License for the specific language governing permissions and\n",
        "# limitations under the License."
      ]
    },
    {
      "cell_type": "markdown",
      "metadata": {
        "id": "hh6WOswDFRkx"
      },
      "source": [
        "# Dependencies and Mini Gromacs Tutorial\n",
        "\n",
        "## Note\n",
        "\n",
        "1. If you use a public colab instance, remember to change your runtime type to GPU\n",
        "2. If you deployed a custom GCE runtime, please connect to a GPU VM instance.\n",
        "\n",
        "## Summary\n",
        "\n",
        "1. Pull Gromacs 2022.3 binary compiled specifically for Colab GPU environment and install the software.\n",
        "2. Install Gromacs Python API on the fly, together with other packages used in the tutorial.\n",
        "3. Run simulations for benchmarks and show how to use the official GMX\n",
        "Python API to modify inputs.\n",
        "4. Visualize the output conformation for the longer simulation."
      ]
    },
    {
      "cell_type": "code",
      "execution_count": 8,
      "metadata": {
        "id": "t-xOe6rDm8r7",
        "outputId": "461e6551-4701-4850-a8fd-3f92f31703a6",
        "colab": {
          "base_uri": "https://localhost:8080/"
        }
      },
      "outputs": [
        {
          "output_type": "stream",
          "name": "stdout",
          "text": [
            "--2022-11-04 18:28:30--  https://storage.googleapis.com/gromacs-bin/gromacs-avx2_256-cuda-11_2.tar.gz\n",
            "Resolving storage.googleapis.com (storage.googleapis.com)... 74.125.195.128, 172.253.117.128, 173.194.202.128, ...\n",
            "Connecting to storage.googleapis.com (storage.googleapis.com)|74.125.195.128|:443... connected.\n",
            "HTTP request sent, awaiting response... 200 OK\n",
            "Length: 23920923 (23M) [application/x-gzip]\n",
            "Saving to: ‘/tmp/gromacs.tar.gz’\n",
            "\n",
            "\r/tmp/gromacs.tar.gz   0%[                    ]       0  --.-KB/s               \r/tmp/gromacs.tar.gz 100%[===================>]  22.81M  --.-KB/s    in 0.1s    \n",
            "\n",
            "2022-11-04 18:28:30 (208 MB/s) - ‘/tmp/gromacs.tar.gz’ saved [23920923/23920923]\n",
            "\n",
            "--2022-11-04 18:28:30--  https://storage.googleapis.com/gromacs-bin/benchMEM.tpr\n",
            "Resolving storage.googleapis.com (storage.googleapis.com)... 74.125.195.128, 172.253.117.128, 173.194.202.128, ...\n",
            "Connecting to storage.googleapis.com (storage.googleapis.com)|74.125.195.128|:443... connected.\n",
            "HTTP request sent, awaiting response... 200 OK\n",
            "Length: 3461380 (3.3M) [application/octet-stream]\n",
            "Saving to: ‘/tmp/benchMEM.tpr’\n",
            "\n",
            "/tmp/benchMEM.tpr   100%[===================>]   3.30M  --.-KB/s    in 0.02s   \n",
            "\n",
            "2022-11-04 18:28:30 (183 MB/s) - ‘/tmp/benchMEM.tpr’ saved [3461380/3461380]\n",
            "\n",
            "--2022-11-04 18:28:30--  https://storage.googleapis.com/gromacs-bin/hif2a_eq.tpr\n",
            "Resolving storage.googleapis.com (storage.googleapis.com)... 74.125.195.128, 172.253.117.128, 173.194.202.128, ...\n",
            "Connecting to storage.googleapis.com (storage.googleapis.com)|74.125.195.128|:443... connected.\n",
            "HTTP request sent, awaiting response... 200 OK\n",
            "Length: 1319892 (1.3M) [application/octet-stream]\n",
            "Saving to: ‘/tmp/hif2a_eq.tpr’\n",
            "\n",
            "/tmp/hif2a_eq.tpr   100%[===================>]   1.26M  --.-KB/s    in 0.007s  \n",
            "\n",
            "2022-11-04 18:28:30 (170 MB/s) - ‘/tmp/hif2a_eq.tpr’ saved [1319892/1319892]\n",
            "\n",
            "Requirement already satisfied: pip in /usr/local/lib/python3.7/dist-packages (22.3)\n",
            "\u001b[33mWARNING: Running pip as the 'root' user can result in broken permissions and conflicting behaviour with the system package manager. It is recommended to use a virtual environment instead: https://pip.pypa.io/warnings/venv\u001b[0m\u001b[33m\n",
            "\u001b[0mRequirement already satisfied: setuptools in /usr/local/lib/python3.7/dist-packages (57.4.0)\n",
            "Requirement already satisfied: wheel in /usr/local/lib/python3.7/dist-packages (0.37.1)\n",
            "Requirement already satisfied: cmake in /usr/local/lib/python3.7/dist-packages (3.12.0)\n",
            "Requirement already satisfied: pybind11 in /usr/local/lib/python3.7/dist-packages (2.10.0)\n",
            "Requirement already satisfied: py3DMol in /usr/local/lib/python3.7/dist-packages (1.8.1)\n",
            "\u001b[33mWARNING: Running pip as the 'root' user can result in broken permissions and conflicting behaviour with the system package manager. It is recommended to use a virtual environment instead: https://pip.pypa.io/warnings/venv\u001b[0m\u001b[33m\n",
            "\u001b[0mFound existing installation: pmx 0+untagged.875.g0b47c04\n",
            "Uninstalling pmx-0+untagged.875.g0b47c04:\n",
            "  Would remove:\n",
            "    /usr/local/bin/pmx\n",
            "    /usr/local/lib/python3.7/dist-packages/pmx-0+untagged.875.g0b47c04.dist-info/*\n",
            "    /usr/local/lib/python3.7/dist-packages/pmx/*\n",
            "Proceed (Y/n)?   Successfully uninstalled pmx-0+untagged.875.g0b47c04\n",
            "\u001b[33mWARNING: Running pip as the 'root' user can result in broken permissions and conflicting behaviour with the system package manager. It is recommended to use a virtual environment instead: https://pip.pypa.io/warnings/venv\u001b[0m\u001b[33m\n",
            "\u001b[0mCollecting git+https://github.com/deGrootLab/pmx.git@abfe_dev\n",
            "  Cloning https://github.com/deGrootLab/pmx.git (to revision abfe_dev) to /tmp/pip-req-build-hspn41zy\n",
            "  Running command git clone --filter=blob:none --quiet https://github.com/deGrootLab/pmx.git /tmp/pip-req-build-hspn41zy\n",
            "  Running command git checkout -b abfe_dev --track origin/abfe_dev\n",
            "  Switched to a new branch 'abfe_dev'\n",
            "  Branch 'abfe_dev' set up to track remote branch 'abfe_dev' from 'origin'.\n",
            "  Resolved https://github.com/deGrootLab/pmx.git to commit 0b47c04f57218b43ddd6718fa8d66428f9d72f04\n",
            "  Preparing metadata (setup.py) ... \u001b[?25l\u001b[?25hdone\n",
            "Requirement already satisfied: numpy in /usr/local/lib/python3.7/dist-packages (from pmx==0+untagged.875.g0b47c04) (1.21.5)\n",
            "Requirement already satisfied: scipy in /usr/local/lib/python3.7/dist-packages (from pmx==0+untagged.875.g0b47c04) (1.4.1)\n",
            "Requirement already satisfied: matplotlib in /usr/local/lib/python3.7/dist-packages (from pmx==0+untagged.875.g0b47c04) (3.1.3)\n",
            "Requirement already satisfied: future in /usr/local/lib/python3.7/dist-packages (from pmx==0+untagged.875.g0b47c04) (0.16.0)\n",
            "Requirement already satisfied: cycler>=0.10 in /usr/local/lib/python3.7/dist-packages (from matplotlib->pmx==0+untagged.875.g0b47c04) (0.11.0)\n",
            "Requirement already satisfied: pyparsing!=2.0.4,!=2.1.2,!=2.1.6,>=2.0.1 in /usr/local/lib/python3.7/dist-packages (from matplotlib->pmx==0+untagged.875.g0b47c04) (3.0.7)\n",
            "Requirement already satisfied: python-dateutil>=2.1 in /usr/local/lib/python3.7/dist-packages (from matplotlib->pmx==0+untagged.875.g0b47c04) (2.8.2)\n",
            "Requirement already satisfied: kiwisolver>=1.0.1 in /usr/local/lib/python3.7/dist-packages (from matplotlib->pmx==0+untagged.875.g0b47c04) (1.3.2)\n",
            "Requirement already satisfied: six>=1.5 in /usr/local/lib/python3.7/dist-packages (from python-dateutil>=2.1->matplotlib->pmx==0+untagged.875.g0b47c04) (1.15.0)\n",
            "Building wheels for collected packages: pmx\n",
            "  Building wheel for pmx (setup.py) ... \u001b[?25l\u001b[?25hdone\n",
            "  Created wheel for pmx: filename=pmx-0+untagged.875.g0b47c04-cp37-cp37m-linux_x86_64.whl size=12283992 sha256=f353770943185b025ce11d2f069deac2ad7572128376cfbc1d7279abdc8c0533\n",
            "  Stored in directory: /tmp/pip-ephem-wheel-cache-95l4jd9o/wheels/cd/e9/20/1e8d3a49d2df752f5a6b8c84cf02697d0c25d73a5eacc7ebbb\n",
            "Successfully built pmx\n",
            "Installing collected packages: pmx\n",
            "Successfully installed pmx-0+untagged.875.g0b47c04\n",
            "\u001b[33mWARNING: Running pip as the 'root' user can result in broken permissions and conflicting behaviour with the system package manager. It is recommended to use a virtual environment instead: https://pip.pypa.io/warnings/venv\u001b[0m\u001b[33m\n",
            "\u001b[0mRequirement already satisfied: gmxapi in /usr/local/lib/python3.7/dist-packages (0.3.2.post1)\n",
            "Requirement already satisfied: numpy>1.7 in /usr/local/lib/python3.7/dist-packages (from gmxapi) (1.21.5)\n",
            "Requirement already satisfied: networkx>=2.0 in /usr/local/lib/python3.7/dist-packages (from gmxapi) (2.6.3)\n",
            "Requirement already satisfied: packaging in /usr/local/lib/python3.7/dist-packages (from gmxapi) (21.3)\n",
            "Requirement already satisfied: pybind11 in /usr/local/lib/python3.7/dist-packages (from gmxapi) (2.10.0)\n",
            "Requirement already satisfied: pyparsing!=3.0.5,>=2.0.2 in /usr/local/lib/python3.7/dist-packages (from packaging->gmxapi) (3.0.7)\n",
            "\u001b[33mWARNING: Running pip as the 'root' user can result in broken permissions and conflicting behaviour with the system package manager. It is recommended to use a virtual environment instead: https://pip.pypa.io/warnings/venv\u001b[0m\u001b[33m\n",
            "\u001b[0m"
          ]
        }
      ],
      "source": [
        "#@title Install Gromacs and Gromacs Python API\n",
        "!wget https://storage.googleapis.com/gromacs-bin/gromacs-avx2_256-cuda-11_2.tar.gz -O /tmp/gromacs.tar.gz\n",
        "!wget https://storage.googleapis.com/gromacs-bin/benchMEM.tpr -O /tmp/benchMEM.tpr\n",
        "!wget https://storage.googleapis.com/gromacs-bin/hif2a_eq.tpr -O /tmp/hif2a_eq.tpr\n",
        "\n",
        "!tar zxf /tmp/gromacs.tar.gz\n",
        "!sudo rm -rf /usr/local/gromacs\n",
        "!sudo mv gromacs-avx /usr/local/gromacs\n",
        "!rm /tmp/gromacs.tar.gz\n",
        "\n",
        "!pip3 install --upgrade pip\n",
        "!pip3 install setuptools wheel cmake pybind11 py3DMol\n",
        "# This ensure we always install the latest PMX version from GitHub.\n",
        "!if [ -d /usr/local/lib/python3.7/dist-packages/pmx/ ]; then yes Y | pip3 uninstall pmx; fi\n",
        "!pip3 install git+https://github.com/deGrootLab/pmx.git@abfe_dev\n",
        "!gmxapi_ROOT=/usr/local/gromacs/ pip3 install --no-cache-dir gmxapi"
      ]
    },
    {
      "cell_type": "code",
      "execution_count": 1,
      "metadata": {
        "cellView": "form",
        "id": "Sd-L2ttCm8r7"
      },
      "outputs": [],
      "source": [
        "#@title Set Level for Logging\n",
        "#@markdown Sets the python logging level. This is useful for debugging.\n",
        "import logging\n",
        "\n",
        "log_level = 'INFO' #@param ['DEBUG', 'INFO', 'ERROR']\n",
        "\n",
        "_log_level = {\n",
        "    'DEBUG': logging.DEBUG,\n",
        "    'INFO': logging.INFO,\n",
        "    'ERROR': logging.ERROR\n",
        "}\n",
        "\n",
        "logging.basicConfig(level=_log_level[log_level])"
      ]
    },
    {
      "cell_type": "code",
      "execution_count": 2,
      "metadata": {
        "id": "F5gQOMIJBRUY",
        "outputId": "0f386cc7-3503-4320-ddea-4a811363f7b5",
        "colab": {
          "base_uri": "https://localhost:8080/"
        }
      },
      "outputs": [
        {
          "output_type": "stream",
          "name": "stderr",
          "text": [
            "INFO:gmxapi:Importing gmxapi.\n",
            "INFO:gmxapi.operation:Importing gmxapi.operation\n",
            "INFO:gmxapi.commandline:Importing gmxapi.commandline\n",
            "INFO:gmxapi.simulation.workflow:Importing gmx.workflow\n",
            "INFO:gmxapi.simulation.workflow:Using schema version gmxapi_workspec_0_1.\n",
            "INFO:gmxapi.mdrun:Importing gmxapi.simulation.mdrun\n",
            "INFO:gmxapi.read_tpr:Importing gmxapi.simulation.read_tpr\n",
            "INFO:gmxapi.modify_input:Importing gmxapi.simulation.modify_input\n"
          ]
        },
        {
          "output_type": "stream",
          "name": "stdout",
          "text": [
            "Session ID:  1667596348\n"
          ]
        }
      ],
      "source": [
        "#@title [Please Rerun after Restart] Create a Session\n",
        "#@markdown Please rerun this cell every time when you restart the runtime.\n",
        "#@markdown A new session ID will be created for a new colab runtime session.\n",
        "#@markdown Run this cell again will refresh the session ID.\n",
        "\n",
        "import os\n",
        "import time\n",
        "\n",
        "import gmxapi\n",
        "\n",
        "\n",
        "# Sets a session ID for this session.\n",
        "_SESSION_ID = str(int(time.time())) #@param\n",
        "\n",
        "# Monkey patch this session ID into the gmxapi.operation.ResourceManager.\n",
        "# Hack. Do not use in the user code.\n",
        "# This is temporarily added to allow users to start from a new set of working\n",
        "# directories for all the mdrun launches. GMX API doesn't expose the\n",
        "# underlying resource manager or context yet.\n",
        "def operation_id(self):\n",
        "  return f\"{self._base_operation_id}_{_SESSION_ID}\"\n",
        "gmxapi.operation.ResourceManager.operation_id = property(operation_id)\n",
        "\n",
        "\n",
        "def get_work_dir(md_output):\n",
        "  values = [v for v in md_output.values()]\n",
        "  return values[0].result()\n",
        "\n",
        "\n",
        "def tail_log(md_output, output_file_base, last_n_lines=6):\n",
        "  work_dir = get_work_dir(md_output)\n",
        "\n",
        "  with open(os.path.join(work_dir, output_file_base + '.log'), 'r') as log:\n",
        "    for line in log.readlines()[-last_n_lines:]:\n",
        "      print(line)\n",
        "\n",
        "print(\"Session ID: \", _SESSION_ID)"
      ]
    },
    {
      "cell_type": "code",
      "execution_count": 11,
      "metadata": {
        "id": "ae475fnVm8r8",
        "outputId": "a5fcc1fc-c47f-489c-8d70-8ab4e7f518e2",
        "colab": {
          "base_uri": "https://localhost:8080/"
        }
      },
      "outputs": [
        {
          "output_type": "stream",
          "name": "stderr",
          "text": [
            "INFO:gmxapi.mdrun:Building mdrun operation from source <gmxapi.simulation.read_tpr.StandardOperationHandle object at 0x7f156fb49710>\n",
            "INFO:gmxapi.mdrun:mdrun receiving input _simulation_input: ResultDescription(dtype=<class 'str'>, width=1)\n",
            "INFO:gmxapi.mdrun:mdrun input bound as source collection DataSourceCollection([('_simulation_input', <Future: name='_simulation_input', description=ResultDescription(dtype=<class 'str'>, width=1)>), ('parameters', <Future: name='parameters', description=ResultDescription(dtype=<class 'dict'>, width=1)>), ('runtime_args', {'-nb': 'gpu', '-pme': 'gpu', '-pmefft': 'gpu', '-bonded': 'gpu', '-deffnm': 'short'})])\n",
            "INFO:gmxapi.simulation.context:Importing gmxapi.simulation.context\n",
            "INFO:gmxapi.simulation.context:mpi4py is not available for default session communication.\n",
            "INFO:gmxapi.mdrun:Created /content/mdrun_0_1667586554_0/topol.tpr on rank 0\n",
            "INFO:gmxapi.simulation.workflow:Added element md_sim to workspec.\n",
            "INFO:gmxapi.simulation.context:Collected builder for tpr_input\n",
            "INFO:gmxapi.simulation.context:Collected builder for md_sim\n",
            "INFO:gmxapi.simulation.context:Subscribing md_sim to tpr_input.\n",
            "INFO:gmxapi.simulation.context:Building sequence ['tpr_input', 'md_sim']\n",
            "INFO:gmxapi.simulation.context:Building <gmxapi.simulation.context._load_tpr.<locals>.Builder object at 0x7f156fa52810>\n",
            "INFO:gmxapi.simulation.context:Building <gmxapi.simulation.context._md.<locals>.Builder object at 0x7f154cea0bd0>\n",
            "INFO:gmxapi.simulation.context:Launching work on context rank 0, subcommunicator rank 0.\n",
            "INFO:gmxapi.simulation.context:rank 0 changed directory to /content/mdrun_0_1667586554_0\n",
            "INFO:gmxapi.simulation.context:Loading TPR file: /content/mdrun_0_1667586554_0/topol.tpr\n",
            "INFO:gmxapi.simulation.context:Exiting session on context rank 0.\n",
            "INFO:gmxapi.simulation.context:Calling session.close().\n",
            "INFO:gmxapi.simulation.context:Freeing sub-communicator _DummyCommunicator on rank 0\n",
            "INFO:gmxapi.simulation.context:Session closed on context rank 0.\n",
            "INFO:gmxapi.mdrun:Missing output. *trajectory* is \"None\"\n"
          ]
        },
        {
          "output_type": "stream",
          "name": "stdout",
          "text": [
            "               Core t (s)   Wall t (s)        (%)\n",
            "\n",
            "       Time:      168.602       42.151      400.0\n",
            "\n",
            "                 (ns/day)    (hour/ns)\n",
            "\n",
            "Performance:       41.000        0.585\n",
            "\n",
            "Finished mdrun on rank 0 Fri Nov  4 18:30:00 2022\n",
            "\n",
            "\n",
            "\n"
          ]
        }
      ],
      "source": [
        "#@title Run a Short Simulation for Benchmark\n",
        "\n",
        "# Read a TPR sample and run it.\n",
        "# The TPR file configures a 20ps simulation.\n",
        "input_tpr = gmxapi.read_tpr('/tmp/benchMEM.tpr')\n",
        "\n",
        "# Can specify computations to GPU.\n",
        "output_file_base = 'short'\n",
        "md = gmxapi.mdrun(input_tpr, runtime_args={\n",
        "    '-nb': 'gpu', '-pme': 'gpu', '-pmefft': 'gpu', '-bonded': 'gpu',\n",
        "    '-deffnm': output_file_base})\n",
        "\n",
        "# Run the simulation\n",
        "md.run()\n",
        "\n",
        "# Tail performance\n",
        "tail_log(md.output, output_file_base)"
      ]
    },
    {
      "cell_type": "code",
      "execution_count": null,
      "metadata": {
        "id": "z0zIeiCbm8r9"
      },
      "outputs": [],
      "source": [
        "#@title Modified Params and Run A Longer Simulation\n",
        "# Run the simulation for 40 ps.\n",
        "output_file_base = 'long2'\n",
        "\n",
        "modified_tpr = gmxapi.modify_input(\n",
        "    input=input_tpr, parameters={'nsteps': 20000, 'nstlist': 100})\n",
        "\n",
        "md = gmxapi.mdrun(modified_tpr, runtime_args={\n",
        "    '-nb': 'gpu', '-pme': 'gpu', '-pmefft': 'gpu', '-bonded': 'gpu',\n",
        "    '-deffnm': output_file_base})\n",
        "md.run()\n",
        "\n",
        "# Tail performance\n",
        "tail_log(md.output, output_file_base)"
      ]
    },
    {
      "cell_type": "code",
      "execution_count": null,
      "metadata": {
        "cellView": "form",
        "id": "vNyin5LB2KNy"
      },
      "outputs": [],
      "source": [
        "#@title What about a binding affinity simulation with HIF2a?\n",
        "output_file_base = 'hif'\n",
        "\n",
        "input_tpr = gmx.read_tpr('/tmp/hif2a_eq.tpr')\n",
        "modified_tpr = gmx.modify_input(\n",
        "    input=input_tpr, parameters={'nsteps': 20000, 'nstlist': 100})\n",
        "md = gmx.mdrun(modified_tpr, runtime_args={\n",
        "    '-nb': 'gpu', '-pme': 'gpu', '-pmefft': 'gpu', '-bonded': 'gpu',\n",
        "    '-deffnm': output_file_base})\n",
        "md.run()\n",
        "\n",
        "# Tail performance\n",
        "tail_log(md.output, output_file_base)"
      ]
    },
    {
      "cell_type": "markdown",
      "metadata": {
        "id": "_kMM_sx3Gv8_"
      },
      "source": [
        "## Visualization\n",
        "\n",
        "Visualize the output from the above HIF2A simulation.\n",
        "We use py3DMol to visualize the output gro file."
      ]
    },
    {
      "cell_type": "code",
      "execution_count": null,
      "metadata": {
        "cellView": "form",
        "id": "b4eb9g3um8r_"
      },
      "outputs": [],
      "source": [
        "#@title Visualize the output conformation of the HIF2A simulation.\n",
        "import py3Dmol\n",
        "\n",
        "view = py3Dmol.view()\n",
        "work_dir = get_work_dir(md.output)\n",
        "\n",
        "view.addModel(\n",
        "    open(os.path.join(work_dir, output_file_base + '.gro'), 'r').read(), 'gro')\n",
        "\n",
        "view.zoomTo()\n",
        "view.setBackgroundColor('white')\n",
        "view.setStyle({}, {'cartoon': {'color': 'spectrum'}})\n",
        "\n",
        "view.show()"
      ]
    },
    {
      "cell_type": "markdown",
      "metadata": {
        "id": "Skich7muxHrf"
      },
      "source": [
        "# ABFE Workflow\n",
        "-----"
      ]
    },
    {
      "cell_type": "code",
      "source": [
        "import shutil\n",
        "import numpy as np\n",
        "from tqdm import tqdm\n",
        "import pmx\n",
        "from pmx.AbsoluteDG import AbsoluteDG"
      ],
      "metadata": {
        "id": "KdQigJ26pJrv"
      },
      "execution_count": 45,
      "outputs": []
    },
    {
      "cell_type": "code",
      "source": [
        "#@title Define some helper functions\n",
        "\n",
        "def mdrun(tpr, pmegpu=True, nsteps=None):\n",
        "  \"\"\"Wrapper for gmxapi.mdrun with predefined scenarios optimized for different \n",
        "  types of simulations.\n",
        "\n",
        "  Args:\n",
        "    tpr (str): path to TPR file.\n",
        "    pmegpu (bool): whether to run PME calculations on the GPU. Default is True.\n",
        "      Note this is not possible with certain integrators.\n",
        "    nsteps (int): number of integration steps to run, overwrites nsteps defined\n",
        "      by the MDP file used to generate the TPR. Default is None (do not modify \n",
        "      TPR).\n",
        "\n",
        "  Returns:\n",
        "    object: StandardOperationHandle returned by gmxapi.mdrun.\n",
        "  \"\"\"\n",
        "  # Load TPR file.\n",
        "  input_tpr = gmxapi.read_tpr(tpr)\n",
        "  if nsteps is not None:\n",
        "    input_tpr = gmxapi.modify_input(input=input_tpr, \n",
        "                                    parameters={'nsteps': nsteps})\n",
        "    \n",
        "\n",
        "  # Use deffnm with full path.\n",
        "  #_deffnm = \"/\".join(tpr.split('/')[:-1]) + f\"/{deffnm}\"\n",
        "  path = \"/\".join(tpr.split('/')[:-1])\n",
        "  \n",
        "  # Specify command line flags and arguments to be passed to mdrun.\n",
        "  # Note: energy minimization cannot run PME on GPU.\n",
        "  if pmegpu:\n",
        "    _pme = 'gpu'\n",
        "    _pmefft = 'gpu'\n",
        "    _bonded = 'gpu'\n",
        "  else:\n",
        "    _pme = 'auto'\n",
        "    _pmefft = 'auto'\n",
        "    _bonded = 'auto'\n",
        "\n",
        "  md = gmxapi.mdrun(input_tpr,\n",
        "                    runtime_args={'-nb': 'gpu', \n",
        "                                  '-pme': _pme, \n",
        "                                  '-pmefft': _pmefft, \n",
        "                                  '-bonded': _bonded,\n",
        "                                  '-x': f'{path}/traj.xtc',\n",
        "                                  '-o': f'{path}/traj.trr',\n",
        "                                  '-c': f'{path}/confout.gro',\n",
        "                                  '-e': f'{path}/ener.edr', \n",
        "                                  '-g': f'{path}/md.log',\n",
        "                                  '-cpo': f'{path}/state.cpt'\n",
        "                                  }\n",
        "                    )\n",
        "\n",
        "  # Run the simulation.\n",
        "  md.run()\n",
        "  return md\n",
        "\n",
        "\n",
        "def mdrun_completed(tpr: str) -> bool:\n",
        "  \"\"\"Checks whether energy minimization completed successfully.\n",
        "  \n",
        "  Args:\n",
        "    tpr (str): path to TPR file.\n",
        "\n",
        "  Returns:\n",
        "    bool: whether the TPR has been run successfully.\n",
        "  \"\"\"\n",
        "  # (maldeghi): IIRC Gromacs would output the GRO file only for mdruns that\n",
        "  # did not crash/errored. We can make this stricted by checking the log\n",
        "  # file too.\n",
        "  gro = tpr.replace('tpr.tpr', 'confout.gro')\n",
        "  if os.path.isfile(gro):\n",
        "    return True\n",
        "  else:\n",
        "    return False"
      ],
      "metadata": {
        "id": "n-2EswQwUya3"
      },
      "execution_count": 67,
      "outputs": []
    },
    {
      "cell_type": "code",
      "source": [
        "#@title Copy input files\n",
        "\n",
        "_WORKDIR = f\"/content/pmxrun_{_SESSION_ID}\"\n",
        "\n",
        "if not os.path.isdir(_WORKDIR):\n",
        "  os.mkdir(_WORKDIR)\n",
        "\n",
        "  # Copy topology and structure files for protein and ligand.\n",
        "  shutil.copytree('/usr/local/lib/python3.7/dist-packages/pmx/abfe_scripts/struct_top/', f'{_WORKDIR}/struct_top/')\n",
        "\n",
        "  # Copy MDP files (i.e. Gromacs config files).\n",
        "  shutil.copytree('/usr/local/lib/python3.7/dist-packages/pmx/abfe_scripts/mdppath/', f'{_WORKDIR}/mdppath/')\n",
        "\n",
        "# Quick fix to the MDP files: use pme-order 4 becuase this is the only order\n",
        "# supported to be able to run PME on the GPU.\n",
        "! sed -i 's/pme-order.*/pme-order = 4/g' $_WORKDIR/mdppath/*\n",
        "\n",
        "# Show contents of our working directory.\n",
        "!ls -l $_WORKDIR"
      ],
      "metadata": {
        "id": "UpP5TYyavS-D",
        "outputId": "228b22b5-eb21-4ffd-8e7c-6eeb797c493b",
        "colab": {
          "base_uri": "https://localhost:8080/"
        }
      },
      "execution_count": 60,
      "outputs": [
        {
          "output_type": "stream",
          "name": "stdout",
          "text": [
            "total 12\n",
            "drwxr-xr-x 3 root root 4096 Nov  4 21:12 lysopath\n",
            "drwxr-sr-x 2 root root 4096 Nov  4 21:54 mdppath\n",
            "drwxr-sr-x 4 root root 4096 Nov  4 18:29 struct_top\n"
          ]
        }
      ]
    },
    {
      "cell_type": "markdown",
      "source": [
        "## 1.&nbsp; Input Files Preparation"
      ],
      "metadata": {
        "id": "hTMjgKkLXvQa"
      }
    },
    {
      "cell_type": "code",
      "source": [
        "#@title 1.1&nbsp; Setup folder structure\n",
        "\n",
        "# Initialize the free energy environment object. It will store the main \n",
        "# parameters for the calculations.\n",
        "fe = AbsoluteDG(ligList=['lysozyme_benzene'], \n",
        "                apoCase='lysozyme_apo', \n",
        "                bDSSB=False,\n",
        "                gmxexec='/usr/local/gromacs/bin/gmx')\n",
        "\n",
        "# Set the workpath in which simulation input files will be created.\n",
        "fe.workPath = f'{_WORKDIR}/lysopath'\n",
        "# Set the path to the MDP files.\n",
        "fe.mdpPath = f'{_WORKDIR}/mdppath'\n",
        "# Set the number of replicas.\n",
        "fe.replicas = 3\n",
        "# Provide the path to the structures and topologies.\n",
        "fe.structTopPath = f'{_WORKDIR}/struct_top'\n",
        "\n",
        "# Prepare the directory structure with all simulations steps required.\n",
        "fe.simTypes = ['em_posre',  # Energy minimization.\n",
        "               'eq_posre',  # Equilibrium sim with position restraints.\n",
        "               'eq',  # Equilibrium simulation.\n",
        "               'transitions']  # Alchemical, non-equilibrium simulations.\n",
        "\n",
        "fe.prepareFreeEnergyDir()"
      ],
      "metadata": {
        "id": "7aWt8mknrxut",
        "outputId": "161d961b-40d6-4f17-83f6-2860c1169b1d",
        "colab": {
          "base_uri": "https://localhost:8080/"
        }
      },
      "execution_count": 6,
      "outputs": [
        {
          "output_type": "stream",
          "name": "stdout",
          "text": [
            "\n",
            "---------------------\n",
            "Summary of the setup:\n",
            "---------------------\n",
            "\n",
            "   workpath: /content/pmxrun_1667596348/lysopath\n",
            "   mdp path: /content/pmxrun_1667596348/mdppath\n",
            "   # ligands: 1\n",
            "   ligands:\n",
            "        lysozyme_benzene\n",
            "   apo state: lysozyme_apo\n",
            "\n",
            "---------------------\n",
            "Directory structure:\n",
            "---------------------\n",
            "\n",
            "/content/pmxrun_1667596348/lysopath/\n",
            "|\n",
            "|--ligX\n",
            "|--|--water\n",
            "|--|--|--stateA\n",
            "|--|--|--|--run1/2/3\n",
            "|--|--|--|--|--/em_posre/eq_posre/eq/transitions\n",
            "|--|--|--stateB\n",
            "|--|--|--|--run1/2/3\n",
            "|--|--|--|--|--/em_posre/eq_posre/eq/transitions\n",
            "|--|--protein\n",
            "|--|--|--stateA\n",
            "|--|--|--|--run1/2/3\n",
            "|--|--|--|--|--/em_posre/eq_posre/eq/transitions\n",
            "|--|--|--stateB\n",
            "|--|--|--|--run1/2/3\n",
            "|--|--|--|--|--/em_posre/eq_posre/eq/transitions\n",
            "|--|--strTopFolder\n",
            "|--lig..\n",
            "\n",
            "DONE\n"
          ]
        }
      ]
    },
    {
      "cell_type": "code",
      "source": [
        "#@title 1.2&nbsp; Assemble simulation systems\n",
        "\n",
        "# Assemble the systems: build Gromacs structure and topology for the \n",
        "# ligand+water and ligand+protein+water systems.\n",
        "fe.assemble_systems()\n",
        "\n",
        "# Define the simulation boxes, fill them with water molecules, and add ions to \n",
        "# neutralize the system and reach desired NaCl concentration (0.15 M by default).\n",
        "fe.boxWaterIons()"
      ],
      "metadata": {
        "id": "cotlzEQ9sNgk",
        "outputId": "6aafb2f8-0578-442b-b465-f0e485bad97f",
        "colab": {
          "base_uri": "https://localhost:8080/"
        }
      },
      "execution_count": 7,
      "outputs": [
        {
          "output_type": "stream",
          "name": "stdout",
          "text": [
            "----------------------\n",
            "Assembling the systems\n",
            "----------------------\n",
            "Order: ligand-protein-other-water\n",
            "--- Assembling structures: lysozyme_benzene ---\n",
            "--- Assembling topologies: lysozyme_benzene ---\n",
            "----------------\n",
            "Box, water, ions\n",
            "----------------\n"
          ]
        }
      ]
    },
    {
      "cell_type": "code",
      "source": [
        "# Check the files present now. This is the content of root dir of the \n",
        "# calculation for this protein-ligand pair. The following ls calls show \n",
        "# the content of some subfolders for the complex simulations, \n",
        "# stateA (coupled ligand). The other folders have the same structure/files but \n",
        "# for the ligand in water simulations and for stateB too.\n",
        "!echo \"> ls ${_WORKDIR}/lysopath/lysozyme_benzene/\"\n",
        "!ls $_WORKDIR/lysopath/lysozyme_benzene/\n",
        "!echo \"\"\n",
        "!echo \"> ls ${_WORKDIR}/lysopath/lysozyme_benzene/protein\"\n",
        "!ls $_WORKDIR/lysopath/lysozyme_benzene/protein/\n",
        "!echo \"\"\n",
        "!echo \"> ls ${_WORKDIR}/lysopath/lysozyme_benzene/protein/stateA\"\n",
        "!ls $_WORKDIR/lysopath/lysozyme_benzene/protein/stateA/\n",
        "!echo \"\"\n",
        "!echo \"> ls ${_WORKDIR}/lysopath/lysozyme_benzene/protein/stateA/run1/\"\n",
        "!ls $_WORKDIR/lysopath/lysozyme_benzene/protein/stateA/run1/\n",
        "!echo \"\"\n",
        "!echo \"> ls ${_WORKDIR}/lysopath/lysozyme_benzene/protein/stateA/run1/em_posre\"\n",
        "!ls $_WORKDIR/lysopath/lysozyme_benzene/protein/stateA/run1/em_posre/"
      ],
      "metadata": {
        "id": "hYIk_gOoyIUs",
        "outputId": "ba39a1f5-0bb9-4d6c-b94c-baa0bdfd6ea9",
        "colab": {
          "base_uri": "https://localhost:8080/"
        }
      },
      "execution_count": 8,
      "outputs": [
        {
          "output_type": "stream",
          "name": "stdout",
          "text": [
            "> ls $/content/pmxrun_1667596348/lysopath/lysozyme_benzene/\n",
            "protein  strTopFolder_apo  strTopFolder_holo  water\n",
            "\n",
            "> ls $/content/pmxrun_1667596348/lysopath/lysozyme_benzene/protein\n",
            "stateA\tstateB\n",
            "\n",
            "> ls $/content/pmxrun_1667596348/lysopath/lysozyme_benzene/protein/stateA\n",
            "box.pdb   mdout.mdp  run2  system.pdb  top.top\twater.pdb\n",
            "ions.pdb  run1\t     run3  topol.top   tpr.tpr\n",
            "\n",
            "> ls $/content/pmxrun_1667596348/lysopath/lysozyme_benzene/protein/stateA/run1/\n",
            "em_posre  eq  eq_posre\ttransitions\n",
            "\n",
            "> ls $/content/pmxrun_1667596348/lysopath/lysozyme_benzene/protein/stateA/run1/em_posre\n"
          ]
        }
      ]
    },
    {
      "cell_type": "markdown",
      "source": [
        "## 2&nbsp; Energy Minimization"
      ],
      "metadata": {
        "id": "lUZaXKThYEEL"
      }
    },
    {
      "cell_type": "code",
      "source": [
        "#@title 2.1&nbsp; Prepare TPR files\n",
        "\n",
        "# Call grompp and create TPR files for all systems and repeats.\n",
        "# (maldeghi): why EM with -DPOSRES? To be checked.\n",
        "tpr_files = fe.prepare_simulation(simType='em_posre')\n",
        "print(\"List of TPR files that we'll run:\")\n",
        "for f in tpr_files:\n",
        "  print(f\"  {f}\")\n",
        "\n",
        "# eq_posre\n",
        "#fe.prepare_simulation( simType='eq_posre', prevSim='em_posre' )\n",
        "\n",
        "# eq\n",
        "#fe.prepare_simulation( simType='eq', prevSim='eq_posre' )\n",
        "\n",
        "# transitions\n",
        "#fe.equilTime = 1080.0 # ps to discard as equilibration\n",
        "#fe.bGenTiTpr = True\n",
        "\n",
        "# analysis\n",
        "#fe.run_analysis(ligs=['lysozyme_benzene'] )\n",
        "#fe.analysis_summary()"
      ],
      "metadata": {
        "id": "Zx2YhHZ8xtZN",
        "outputId": "a4f9bede-00b9-4c9f-884d-443e3c0e963d",
        "colab": {
          "base_uri": "https://localhost:8080/"
        }
      },
      "execution_count": 62,
      "outputs": [
        {
          "output_type": "stream",
          "name": "stdout",
          "text": [
            "-----------------------------------------\n",
            "Preparing simulation: em_posre\n",
            "-----------------------------------------\n",
            "List of TPR files that we'll run:\n",
            "  /content/pmxrun_1667596348/lysopath/lysozyme_benzene/water/stateA/run1/em_posre/tpr.tpr\n",
            "  /content/pmxrun_1667596348/lysopath/lysozyme_benzene/water/stateA/run2/em_posre/tpr.tpr\n",
            "  /content/pmxrun_1667596348/lysopath/lysozyme_benzene/water/stateA/run3/em_posre/tpr.tpr\n",
            "  /content/pmxrun_1667596348/lysopath/lysozyme_benzene/water/stateB/run1/em_posre/tpr.tpr\n",
            "  /content/pmxrun_1667596348/lysopath/lysozyme_benzene/water/stateB/run2/em_posre/tpr.tpr\n",
            "  /content/pmxrun_1667596348/lysopath/lysozyme_benzene/water/stateB/run3/em_posre/tpr.tpr\n",
            "  /content/pmxrun_1667596348/lysopath/lysozyme_benzene/protein/stateA/run1/em_posre/tpr.tpr\n",
            "  /content/pmxrun_1667596348/lysopath/lysozyme_benzene/protein/stateA/run2/em_posre/tpr.tpr\n",
            "  /content/pmxrun_1667596348/lysopath/lysozyme_benzene/protein/stateA/run3/em_posre/tpr.tpr\n",
            "  /content/pmxrun_1667596348/lysopath/lysozyme_benzene/protein/stateB/run1/em_posre/tpr.tpr\n",
            "  /content/pmxrun_1667596348/lysopath/lysozyme_benzene/protein/stateB/run2/em_posre/tpr.tpr\n",
            "  /content/pmxrun_1667596348/lysopath/lysozyme_benzene/protein/stateB/run3/em_posre/tpr.tpr\n"
          ]
        }
      ]
    },
    {
      "cell_type": "code",
      "source": [
        "#@title 2.2&nbsp; Run minimizations\n",
        "\n",
        "# Read the TPR files and run all minimizations.\n",
        "for tpr_file in tqdm(tpr_files):\n",
        "\n",
        "  # If minimization has been run already, skip.\n",
        "  if mdrun_completed(tpr_file):\n",
        "    print(f\"`{tpr_file}` already ran successfully\")\n",
        "    continue\n",
        "\n",
        "  # Run the simulation (with reduced number of steps to speed things up)\n",
        "  md = mdrun(tpr_file, pmegpu=False, nsteps=1000)"
      ],
      "metadata": {
        "id": "6Jec4JUu1caU",
        "outputId": "aea9348e-01f9-4052-f74c-22f32a32594b",
        "colab": {
          "base_uri": "https://localhost:8080/"
        }
      },
      "execution_count": 68,
      "outputs": [
        {
          "output_type": "stream",
          "name": "stderr",
          "text": [
            "\r  0%|          | 0/12 [00:00<?, ?it/s]INFO:gmxapi.modify_input:Building mdrun operation from source <gmxapi.simulation.read_tpr.StandardOperationHandle object at 0x7f99ec1f3910>\n",
            "INFO:gmxapi.modify_input:modify_input receiving input _simulation_input: ResultDescription(dtype=<class 'str'>, width=1)\n",
            "INFO:gmxapi.modify_input:modify_input input bound as source collection DataSourceCollection([('_simulation_input', <Future: name='_simulation_input', description=ResultDescription(dtype=<class 'str'>, width=1)>), ('parameters', {'nsteps': 1000})])\n",
            "INFO:gmxapi.mdrun:Building mdrun operation from source <gmxapi.simulation.modify_input.StandardOperationHandle object at 0x7f99ecc22150>\n",
            "INFO:gmxapi.mdrun:mdrun receiving input _simulation_input: ResultDescription(dtype=<class 'str'>, width=1)\n",
            "INFO:gmxapi.mdrun:mdrun input bound as source collection DataSourceCollection([('_simulation_input', <Future: name='_simulation_input', description=ResultDescription(dtype=<class 'str'>, width=1)>), ('parameters', <Future: name='parameters', description=ResultDescription(dtype=<class 'dict'>, width=1)>), ('runtime_args', {'-nb': 'gpu', '-pme': 'auto', '-pmefft': 'auto', '-bonded': 'auto', '-x': '/content/pmxrun_1667596348/lysopath/lysozyme_benzene/protein/stateB/run1/em_posre/traj.xtc', '-o': '/content/pmxrun_1667596348/lysopath/lysozyme_benzene/protein/stateB/run1/em_posre/traj.trr', '-c': '/content/pmxrun_1667596348/lysopath/lysozyme_benzene/protein/stateB/run1/em_posre/confout.gro', '-e': '/content/pmxrun_1667596348/lysopath/lysozyme_benzene/protein/stateB/run1/em_posre/ener.edr', '-g': '/content/pmxrun_1667596348/lysopath/lysozyme_benzene/protein/stateB/run1/em_posre/md.log', '-cpo': '/content/pmxrun_1667596348/lysopath/lysozyme_benzene/protein/stateB/run1/em_posre/state.cpt'})])\n",
            "INFO:gmxapi.simulation.context:mpi4py is not available for default session communication.\n",
            "INFO:gmxapi.mdrun:Created /content/mdrun_24_1667596348_0/mdrun_25_1667596348_0/mdrun_26_1667596348_0/mdrun_27_1667596348_0/topol.tpr on rank 0\n",
            "INFO:gmxapi.simulation.workflow:Added element md_sim to workspec.\n",
            "INFO:gmxapi.simulation.context:Collected builder for tpr_input\n"
          ]
        },
        {
          "output_type": "stream",
          "name": "stdout",
          "text": [
            "`/content/pmxrun_1667596348/lysopath/lysozyme_benzene/water/stateA/run1/em_posre/tpr.tpr` already ran successfully\n",
            "`/content/pmxrun_1667596348/lysopath/lysozyme_benzene/water/stateA/run2/em_posre/tpr.tpr` already ran successfully\n",
            "`/content/pmxrun_1667596348/lysopath/lysozyme_benzene/water/stateA/run3/em_posre/tpr.tpr` already ran successfully\n",
            "`/content/pmxrun_1667596348/lysopath/lysozyme_benzene/water/stateB/run1/em_posre/tpr.tpr` already ran successfully\n",
            "`/content/pmxrun_1667596348/lysopath/lysozyme_benzene/water/stateB/run2/em_posre/tpr.tpr` already ran successfully\n",
            "`/content/pmxrun_1667596348/lysopath/lysozyme_benzene/water/stateB/run3/em_posre/tpr.tpr` already ran successfully\n",
            "`/content/pmxrun_1667596348/lysopath/lysozyme_benzene/protein/stateA/run1/em_posre/tpr.tpr` already ran successfully\n",
            "`/content/pmxrun_1667596348/lysopath/lysozyme_benzene/protein/stateA/run2/em_posre/tpr.tpr` already ran successfully\n",
            "`/content/pmxrun_1667596348/lysopath/lysozyme_benzene/protein/stateA/run3/em_posre/tpr.tpr` already ran successfully\n"
          ]
        },
        {
          "output_type": "stream",
          "name": "stderr",
          "text": [
            "INFO:gmxapi.simulation.context:Collected builder for md_sim\n",
            "INFO:gmxapi.simulation.context:Subscribing md_sim to tpr_input.\n",
            "INFO:gmxapi.simulation.context:Building sequence ['tpr_input', 'md_sim']\n",
            "INFO:gmxapi.simulation.context:Building <gmxapi.simulation.context._load_tpr.<locals>.Builder object at 0x7f99ec1cb990>\n",
            "INFO:gmxapi.simulation.context:Building <gmxapi.simulation.context._md.<locals>.Builder object at 0x7f99ec1cbd10>\n",
            "INFO:gmxapi.simulation.context:Launching work on context rank 0, subcommunicator rank 0.\n",
            "INFO:gmxapi.simulation.context:rank 0 changed directory to /content/mdrun_24_1667596348_0/mdrun_25_1667596348_0/mdrun_26_1667596348_0/mdrun_27_1667596348_0\n",
            "INFO:gmxapi.simulation.context:Loading TPR file: /content/mdrun_24_1667596348_0/mdrun_25_1667596348_0/mdrun_26_1667596348_0/mdrun_27_1667596348_0/topol.tpr\n",
            "INFO:gmxapi.simulation.context:Exiting session on context rank 0.\n",
            "INFO:gmxapi.simulation.context:Calling session.close().\n",
            "INFO:gmxapi.simulation.context:Freeing sub-communicator _DummyCommunicator on rank 0\n",
            "INFO:gmxapi.simulation.context:Session closed on context rank 0.\n",
            "INFO:gmxapi.mdrun:Output file /content/pmxrun_1667596348/lysopath/lysozyme_benzene/protein/stateB/run1/em_posre/state.cpt does not exist.\n",
            "INFO:gmxapi.mdrun:/content/pmxrun_1667596348/lysopath/lysozyme_benzene/protein/stateB/run1/em_posre/ener.edrDirectory /content/pmxrun_1667596348/lysopath/lysozyme_benzene/protein/stateB/run1/em_posre contents: , /content/pmxrun_1667596348/lysopath/lysozyme_benzene/protein/stateB/run1/em_posre/md.logDirectory /content/pmxrun_1667596348/lysopath/lysozyme_benzene/protein/stateB/run1/em_posre contents: , /content/pmxrun_1667596348/lysopath/lysozyme_benzene/protein/stateB/run1/em_posre/traj.trrDirectory /content/pmxrun_1667596348/lysopath/lysozyme_benzene/protein/stateB/run1/em_posre contents: , /content/pmxrun_1667596348/lysopath/lysozyme_benzene/protein/stateB/run1/em_posre/confout.groDirectory /content/pmxrun_1667596348/lysopath/lysozyme_benzene/protein/stateB/run1/em_posre contents: , /content/pmxrun_1667596348/lysopath/lysozyme_benzene/protein/stateB/run1/em_posre/mdout.mdpDirectory /content/pmxrun_1667596348/lysopath/lysozyme_benzene/protein/stateB/run1/em_posre contents: , /content/pmxrun_1667596348/lysopath/lysozyme_benzene/protein/stateB/run1/em_posre/tpr.tpr\n",
            " 83%|████████▎ | 10/12 [00:17<00:03,  1.71s/it]INFO:gmxapi.modify_input:Building mdrun operation from source <gmxapi.simulation.read_tpr.StandardOperationHandle object at 0x7f99ec1bbbd0>\n",
            "INFO:gmxapi.modify_input:modify_input receiving input _simulation_input: ResultDescription(dtype=<class 'str'>, width=1)\n",
            "INFO:gmxapi.modify_input:modify_input input bound as source collection DataSourceCollection([('_simulation_input', <Future: name='_simulation_input', description=ResultDescription(dtype=<class 'str'>, width=1)>), ('parameters', {'nsteps': 1000})])\n",
            "INFO:gmxapi.mdrun:Building mdrun operation from source <gmxapi.simulation.modify_input.StandardOperationHandle object at 0x7f99ec18f890>\n",
            "INFO:gmxapi.mdrun:mdrun receiving input _simulation_input: ResultDescription(dtype=<class 'str'>, width=1)\n",
            "INFO:gmxapi.mdrun:mdrun input bound as source collection DataSourceCollection([('_simulation_input', <Future: name='_simulation_input', description=ResultDescription(dtype=<class 'str'>, width=1)>), ('parameters', <Future: name='parameters', description=ResultDescription(dtype=<class 'dict'>, width=1)>), ('runtime_args', {'-nb': 'gpu', '-pme': 'auto', '-pmefft': 'auto', '-bonded': 'auto', '-x': '/content/pmxrun_1667596348/lysopath/lysozyme_benzene/protein/stateB/run2/em_posre/traj.xtc', '-o': '/content/pmxrun_1667596348/lysopath/lysozyme_benzene/protein/stateB/run2/em_posre/traj.trr', '-c': '/content/pmxrun_1667596348/lysopath/lysozyme_benzene/protein/stateB/run2/em_posre/confout.gro', '-e': '/content/pmxrun_1667596348/lysopath/lysozyme_benzene/protein/stateB/run2/em_posre/ener.edr', '-g': '/content/pmxrun_1667596348/lysopath/lysozyme_benzene/protein/stateB/run2/em_posre/md.log', '-cpo': '/content/pmxrun_1667596348/lysopath/lysozyme_benzene/protein/stateB/run2/em_posre/state.cpt'})])\n",
            "INFO:gmxapi.simulation.context:mpi4py is not available for default session communication.\n",
            "INFO:gmxapi.mdrun:Created /content/mdrun_24_1667596348_0/mdrun_25_1667596348_0/mdrun_26_1667596348_0/mdrun_28_1667596348_0/topol.tpr on rank 0\n",
            "INFO:gmxapi.simulation.workflow:Added element md_sim to workspec.\n",
            "INFO:gmxapi.simulation.context:Collected builder for tpr_input\n",
            "INFO:gmxapi.simulation.context:Collected builder for md_sim\n",
            "INFO:gmxapi.simulation.context:Subscribing md_sim to tpr_input.\n",
            "INFO:gmxapi.simulation.context:Building sequence ['tpr_input', 'md_sim']\n",
            "INFO:gmxapi.simulation.context:Building <gmxapi.simulation.context._load_tpr.<locals>.Builder object at 0x7f99ecc09410>\n",
            "INFO:gmxapi.simulation.context:Building <gmxapi.simulation.context._md.<locals>.Builder object at 0x7f99ec18fc10>\n",
            "INFO:gmxapi.simulation.context:Launching work on context rank 0, subcommunicator rank 0.\n",
            "INFO:gmxapi.simulation.context:rank 0 changed directory to /content/mdrun_24_1667596348_0/mdrun_25_1667596348_0/mdrun_26_1667596348_0/mdrun_28_1667596348_0\n",
            "INFO:gmxapi.simulation.context:Loading TPR file: /content/mdrun_24_1667596348_0/mdrun_25_1667596348_0/mdrun_26_1667596348_0/mdrun_28_1667596348_0/topol.tpr\n",
            "INFO:gmxapi.simulation.context:Exiting session on context rank 0.\n",
            "INFO:gmxapi.simulation.context:Calling session.close().\n",
            "INFO:gmxapi.simulation.context:Freeing sub-communicator _DummyCommunicator on rank 0\n",
            "INFO:gmxapi.simulation.context:Session closed on context rank 0.\n",
            "INFO:gmxapi.mdrun:Output file /content/pmxrun_1667596348/lysopath/lysozyme_benzene/protein/stateB/run2/em_posre/state.cpt does not exist.\n",
            "INFO:gmxapi.mdrun:/content/pmxrun_1667596348/lysopath/lysozyme_benzene/protein/stateB/run2/em_posre/ener.edrDirectory /content/pmxrun_1667596348/lysopath/lysozyme_benzene/protein/stateB/run2/em_posre contents: , /content/pmxrun_1667596348/lysopath/lysozyme_benzene/protein/stateB/run2/em_posre/md.logDirectory /content/pmxrun_1667596348/lysopath/lysozyme_benzene/protein/stateB/run2/em_posre contents: , /content/pmxrun_1667596348/lysopath/lysozyme_benzene/protein/stateB/run2/em_posre/traj.trrDirectory /content/pmxrun_1667596348/lysopath/lysozyme_benzene/protein/stateB/run2/em_posre contents: , /content/pmxrun_1667596348/lysopath/lysozyme_benzene/protein/stateB/run2/em_posre/confout.groDirectory /content/pmxrun_1667596348/lysopath/lysozyme_benzene/protein/stateB/run2/em_posre contents: , /content/pmxrun_1667596348/lysopath/lysozyme_benzene/protein/stateB/run2/em_posre/mdout.mdpDirectory /content/pmxrun_1667596348/lysopath/lysozyme_benzene/protein/stateB/run2/em_posre contents: , /content/pmxrun_1667596348/lysopath/lysozyme_benzene/protein/stateB/run2/em_posre/tpr.tpr\n",
            " 92%|█████████▏| 11/12 [00:34<00:03,  3.64s/it]INFO:gmxapi.modify_input:Building mdrun operation from source <gmxapi.simulation.read_tpr.StandardOperationHandle object at 0x7f99ec1cbed0>\n",
            "INFO:gmxapi.modify_input:modify_input receiving input _simulation_input: ResultDescription(dtype=<class 'str'>, width=1)\n",
            "INFO:gmxapi.modify_input:modify_input input bound as source collection DataSourceCollection([('_simulation_input', <Future: name='_simulation_input', description=ResultDescription(dtype=<class 'str'>, width=1)>), ('parameters', {'nsteps': 1000})])\n",
            "INFO:gmxapi.mdrun:Building mdrun operation from source <gmxapi.simulation.modify_input.StandardOperationHandle object at 0x7f99ecc20250>\n",
            "INFO:gmxapi.mdrun:mdrun receiving input _simulation_input: ResultDescription(dtype=<class 'str'>, width=1)\n",
            "INFO:gmxapi.mdrun:mdrun input bound as source collection DataSourceCollection([('_simulation_input', <Future: name='_simulation_input', description=ResultDescription(dtype=<class 'str'>, width=1)>), ('parameters', <Future: name='parameters', description=ResultDescription(dtype=<class 'dict'>, width=1)>), ('runtime_args', {'-nb': 'gpu', '-pme': 'auto', '-pmefft': 'auto', '-bonded': 'auto', '-x': '/content/pmxrun_1667596348/lysopath/lysozyme_benzene/protein/stateB/run3/em_posre/traj.xtc', '-o': '/content/pmxrun_1667596348/lysopath/lysozyme_benzene/protein/stateB/run3/em_posre/traj.trr', '-c': '/content/pmxrun_1667596348/lysopath/lysozyme_benzene/protein/stateB/run3/em_posre/confout.gro', '-e': '/content/pmxrun_1667596348/lysopath/lysozyme_benzene/protein/stateB/run3/em_posre/ener.edr', '-g': '/content/pmxrun_1667596348/lysopath/lysozyme_benzene/protein/stateB/run3/em_posre/md.log', '-cpo': '/content/pmxrun_1667596348/lysopath/lysozyme_benzene/protein/stateB/run3/em_posre/state.cpt'})])\n",
            "INFO:gmxapi.simulation.context:mpi4py is not available for default session communication.\n",
            "INFO:gmxapi.mdrun:Created /content/mdrun_24_1667596348_0/mdrun_25_1667596348_0/mdrun_26_1667596348_0/mdrun_29_1667596348_0/topol.tpr on rank 0\n",
            "INFO:gmxapi.simulation.workflow:Added element md_sim to workspec.\n",
            "INFO:gmxapi.simulation.context:Collected builder for tpr_input\n",
            "INFO:gmxapi.simulation.context:Collected builder for md_sim\n",
            "INFO:gmxapi.simulation.context:Subscribing md_sim to tpr_input.\n",
            "INFO:gmxapi.simulation.context:Building sequence ['tpr_input', 'md_sim']\n",
            "INFO:gmxapi.simulation.context:Building <gmxapi.simulation.context._load_tpr.<locals>.Builder object at 0x7f99ec1f3590>\n",
            "INFO:gmxapi.simulation.context:Building <gmxapi.simulation.context._md.<locals>.Builder object at 0x7f99ecc31ed0>\n",
            "INFO:gmxapi.simulation.context:Launching work on context rank 0, subcommunicator rank 0.\n",
            "INFO:gmxapi.simulation.context:rank 0 changed directory to /content/mdrun_24_1667596348_0/mdrun_25_1667596348_0/mdrun_26_1667596348_0/mdrun_29_1667596348_0\n",
            "INFO:gmxapi.simulation.context:Loading TPR file: /content/mdrun_24_1667596348_0/mdrun_25_1667596348_0/mdrun_26_1667596348_0/mdrun_29_1667596348_0/topol.tpr\n",
            "INFO:gmxapi.simulation.context:Exiting session on context rank 0.\n",
            "INFO:gmxapi.simulation.context:Calling session.close().\n",
            "INFO:gmxapi.simulation.context:Freeing sub-communicator _DummyCommunicator on rank 0\n",
            "INFO:gmxapi.simulation.context:Session closed on context rank 0.\n",
            "INFO:gmxapi.mdrun:Output file /content/pmxrun_1667596348/lysopath/lysozyme_benzene/protein/stateB/run3/em_posre/state.cpt does not exist.\n",
            "INFO:gmxapi.mdrun:/content/pmxrun_1667596348/lysopath/lysozyme_benzene/protein/stateB/run3/em_posre/ener.edrDirectory /content/pmxrun_1667596348/lysopath/lysozyme_benzene/protein/stateB/run3/em_posre contents: , /content/pmxrun_1667596348/lysopath/lysozyme_benzene/protein/stateB/run3/em_posre/md.logDirectory /content/pmxrun_1667596348/lysopath/lysozyme_benzene/protein/stateB/run3/em_posre contents: , /content/pmxrun_1667596348/lysopath/lysozyme_benzene/protein/stateB/run3/em_posre/traj.trrDirectory /content/pmxrun_1667596348/lysopath/lysozyme_benzene/protein/stateB/run3/em_posre contents: , /content/pmxrun_1667596348/lysopath/lysozyme_benzene/protein/stateB/run3/em_posre/confout.groDirectory /content/pmxrun_1667596348/lysopath/lysozyme_benzene/protein/stateB/run3/em_posre contents: , /content/pmxrun_1667596348/lysopath/lysozyme_benzene/protein/stateB/run3/em_posre/mdout.mdpDirectory /content/pmxrun_1667596348/lysopath/lysozyme_benzene/protein/stateB/run3/em_posre contents: , /content/pmxrun_1667596348/lysopath/lysozyme_benzene/protein/stateB/run3/em_posre/tpr.tpr\n",
            "100%|██████████| 12/12 [00:51<00:00,  4.28s/it]\n"
          ]
        }
      ]
    },
    {
      "cell_type": "markdown",
      "source": [
        "## 3.&nbsp; Equilibrium simulations\n",
        "\n",
        "First, we run a short MD simulation with position restraints to equilibrate the solvent and ions around the protein/ligand. Then, we run tha actual production simulation."
      ],
      "metadata": {
        "id": "fGrncu-0YPh6"
      }
    },
    {
      "cell_type": "code",
      "source": [
        "#@title 3.1&nbsp; Prepare TPR files for short equilibration\n",
        "\n",
        "tpr_files = fe.prepare_simulation(simType='eq_posre', prevSim='em_posre')"
      ],
      "metadata": {
        "id": "hJXqCkr8XEK7",
        "outputId": "388b78c8-7735-4000-a790-eea49367e6f0",
        "colab": {
          "base_uri": "https://localhost:8080/"
        }
      },
      "execution_count": 75,
      "outputs": [
        {
          "output_type": "stream",
          "name": "stdout",
          "text": [
            "-----------------------------------------\n",
            "Preparing simulation: eq_posre\n",
            "-----------------------------------------\n"
          ]
        }
      ]
    },
    {
      "cell_type": "code",
      "source": [
        "tpr_files[0]"
      ],
      "metadata": {
        "id": "bwn5rWZdea0T",
        "outputId": "bb2ab914-dcbe-4323-a2fd-1243ab20bab2",
        "colab": {
          "base_uri": "https://localhost:8080/",
          "height": 35
        }
      },
      "execution_count": 86,
      "outputs": [
        {
          "output_type": "execute_result",
          "data": {
            "application/vnd.google.colaboratory.intrinsic+json": {
              "type": "string"
            },
            "text/plain": [
              "'/content/pmxrun_1667587093/lysopath/lysozyme_benzene/water/stateA/run1/eq_posre/tpr.tpr'"
            ]
          },
          "metadata": {},
          "execution_count": 86
        }
      ]
    },
    {
      "cell_type": "code",
      "source": [
        "! ls /content/pmxrun_1667587093/lysopath/lysozyme_benzene/water/stateA/run1/eq_posre"
      ],
      "metadata": {
        "id": "9NUNStZNeos7"
      },
      "execution_count": 89,
      "outputs": []
    },
    {
      "cell_type": "code",
      "source": [
        "# Read the TPR files and run all minimizations.\n",
        "for tpr_file in tpr_files:\n",
        "\n",
        "  # If minimization has been run already, skip.\n",
        "  if mdrun_completed(tpr_file):\n",
        "    print(f\"`{tpr_file}` already ran successfully\")\n",
        "    continue\n",
        "\n",
        "  # Load TPR file.\n",
        "  input_tpr = gmxapi.read_tpr(tpr_file)\n",
        "\n",
        "  # Specify command line flags and arguments to be passed to mdrun.\n",
        "  # Note: energy minimization cannot run PME on GPU.\n",
        "  deffnm = tpr_file.replace('tpr.tpr', 'md')\n",
        "  md = gmxapi.mdrun(input_tpr, runtime_args={\n",
        "      '-nb': 'gpu', '-deffnm': deffnm, '-o': deffnm})\n",
        "\n",
        "  # Run the simulation.\n",
        "  md.run()"
      ],
      "metadata": {
        "id": "9Yg0wcnWbLnG"
      },
      "execution_count": null,
      "outputs": []
    },
    {
      "cell_type": "code",
      "source": [
        "#@title 3.2&nbsp; Run short equilibration"
      ],
      "metadata": {
        "id": "xNJ4StaWYYJT"
      },
      "execution_count": null,
      "outputs": []
    },
    {
      "cell_type": "code",
      "source": [
        "#@title 3.3&nbsp; Prepare TPR files for equilibrium simulations"
      ],
      "metadata": {
        "id": "niTYHk9FYYLv"
      },
      "execution_count": null,
      "outputs": []
    },
    {
      "cell_type": "code",
      "source": [
        "#@title 3.4&nbsp; Run equilibrium simulations"
      ],
      "metadata": {
        "id": "7tQPHNndYYN8"
      },
      "execution_count": null,
      "outputs": []
    },
    {
      "cell_type": "markdown",
      "source": [
        "## 4.&nbsp; Non-equilibrium simulations"
      ],
      "metadata": {
        "id": "39TLpxzEYlEH"
      }
    },
    {
      "cell_type": "code",
      "source": [
        "#@title 4.1&nbsp; Extract frames from equilibrium runs"
      ],
      "metadata": {
        "id": "86UiwjoqYYQV"
      },
      "execution_count": null,
      "outputs": []
    },
    {
      "cell_type": "code",
      "source": [
        "#@title 4.2&nbsp; Prepare TPR files"
      ],
      "metadata": {
        "id": "eXYNsz6qYYSd"
      },
      "execution_count": null,
      "outputs": []
    },
    {
      "cell_type": "code",
      "source": [
        "#@title 4.3&nbsp; Run non-equilibrium simulations"
      ],
      "metadata": {
        "id": "mlC0XPgQYYUt"
      },
      "execution_count": 90,
      "outputs": []
    },
    {
      "cell_type": "code",
      "source": [],
      "metadata": {
        "id": "zS379d6vYYWU"
      },
      "execution_count": null,
      "outputs": []
    },
    {
      "cell_type": "code",
      "source": [],
      "metadata": {
        "id": "Yk1Tmp1FYYYs"
      },
      "execution_count": null,
      "outputs": []
    },
    {
      "cell_type": "code",
      "source": [],
      "metadata": {
        "id": "2SMTCyygYYat"
      },
      "execution_count": null,
      "outputs": []
    },
    {
      "cell_type": "code",
      "execution_count": null,
      "metadata": {
        "id": "ypL80389p5_q"
      },
      "outputs": [],
      "source": []
    },
    {
      "cell_type": "code",
      "execution_count": null,
      "metadata": {
        "id": "0gbJlUZxp6B6"
      },
      "outputs": [],
      "source": []
    },
    {
      "cell_type": "code",
      "execution_count": null,
      "metadata": {
        "id": "SdCsxM5lp6ES"
      },
      "outputs": [],
      "source": []
    }
  ],
  "metadata": {
    "accelerator": "GPU",
    "colab": {
      "collapsed_sections": [],
      "name": "gromacs_abfe_tutorial.ipynb",
      "provenance": [],
      "toc_visible": true,
      "include_colab_link": true
    },
    "language_info": {
      "name": "python"
    },
    "kernelspec": {
      "name": "python3",
      "display_name": "Python 3"
    },
    "gpuClass": "standard"
  },
  "nbformat": 4,
  "nbformat_minor": 0
}