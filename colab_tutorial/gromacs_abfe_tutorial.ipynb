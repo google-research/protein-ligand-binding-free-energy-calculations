{
  "cells": [
    {
      "cell_type": "markdown",
      "metadata": {},
      "source": [
        "##### Copyright 2022 Google LLC."
      ]
    },
    {
      "cell_type": "code",
      "execution_count": null,
      "metadata": {
        "cellView": "form"
      },
      "outputs": [],
      "source": [
        "#@title Licensed under the Apache License, Version 2.0 (the \"License\");\n",
        "# you may not use this file except in compliance with the License.\n",
        "# You may obtain a copy of the License at\n",
        "#\n",
        "# https://www.apache.org/licenses/LICENSE-2.0\n",
        "#\n",
        "# Unless required by applicable law or agreed to in writing, software\n",
        "# distributed under the License is distributed on an \"AS IS\" BASIS,\n",
        "# WITHOUT WARRANTIES OR CONDITIONS OF ANY KIND, either express or implied.\n",
        "# See the License for the specific language governing permissions and\n",
        "# limitations under the License."
      ]
    },
    {
      "cell_type": "markdown",
      "metadata": {
        "id": "hh6WOswDFRkx"
      },
      "source": [
        "# ABFE Tutorial\n",
        "\n",
        "## Note\n",
        "\n",
        "1. If you use a public colab instance, remember to change your runtime type to GPU\n",
        "2. If you deployed a custom GCE runtime, please connect to a GPU VM instance.\n",
        "\n",
        "## Summary\n",
        "\n",
        "1. Pull Gromacs 2022.3 binary compiled specifically for Colab GPU environment and install the software.\n",
        "2. Install Gromacs Python API on the fly, together with other packages used in the tutorial.\n",
        "3. Run simulations for benchmarks and show how to use the official GMX\n",
        "Python API to modify inputs.\n",
        "4. Visualize the output conformation for the longer simulation."
      ]
    },
    {
      "cell_type": "code",
      "execution_count": null,
      "metadata": {
        "cellView": "form"
      },
      "outputs": [],
      "source": [
        "#@title Install Gromacs and Gromacs Python API\n",
        "!wget https://storage.googleapis.com/gromacs-bin/gromacs-avx2_256-cuda-11_2.tar.gz -O /tmp/gromacs.tar.gz\n",
        "!wget https://storage.googleapis.com/gromacs-bin/benchMEM.tpr -O /tmp/benchMEM.tpr\n",
        "!wget https://storage.googleapis.com/gromacs-bin/hif2a_eq.tpr -O /tmp/hif2a_eq.tpr\n",
        "\n",
        "!tar zxf /tmp/gromacs.tar.gz\n",
        "!sudo rm -rf /usr/local/gromacs\n",
        "!sudo mv gromacs-avx /usr/local/gromacs\n",
        "!rm /tmp/gromacs.tar.gz\n",
        "\n",
        "!pip3 install --upgrade pip\n",
        "!pip3 install setuptools wheel cmake pybind11 py3DMol\n",
        "!gmxapi_ROOT=/usr/local/gromacs/ pip3 install --no-cache-dir gmxapi"
      ]
    },
    {
      "cell_type": "code",
      "execution_count": null,
      "metadata": {
        "cellView": "form"
      },
      "outputs": [],
      "source": [
        "#@title Set Level for Logging\n",
        "#@markdown Sets the python logging level. This is useful for debugging.\n",
        "import logging\n",
        "\n",
        "log_level = 'DEBUG' #@param ['DEBUG', 'INFO', 'ERROR']\n",
        "\n",
        "_log_level = {\n",
        "    'DEBUG': logging.DEBUG,\n",
        "    'INFO': logging.INFO,\n",
        "    'ERROR': logging.ERROR\n",
        "}\n",
        "\n",
        "logging.basicConfig(level=_log_level[log_level])"
      ]
    },
    {
      "cell_type": "code",
      "execution_count": null,
      "metadata": {
        "cellView": "form",
        "id": "F5gQOMIJBRUY"
      },
      "outputs": [],
      "source": [
        "#@title Implement some util functions\n",
        "#@markdown Please rerun this cell every time when you restart the runtime.\n",
        "#@markdown A new session ID will be created for a new colab runtime session.\n",
        "#@markdown Run this cell again will refresh the session ID.\n",
        "\n",
        "import os\n",
        "import time\n",
        "\n",
        "import gmxapi as gmx\n",
        "\n",
        "\n",
        "# Sets a session ID for this session.\n",
        "_SESSION_ID = str(int(time.time())) #@param\n",
        "\n",
        "# Monkey patch this session ID into the gmxapi.operation.ResourceManager.\n",
        "# Hack. Do not use in the user code.\n",
        "# This is temporarily added to allow users to start from a new set of working\n",
        "# directories for all the mdrun launches. GMX API doesn't expose the\n",
        "# underlying resource manager or context yet.\n",
        "def operation_id(self):\n",
        "  return f\"{self._base_operation_id}_{_SESSION_ID}\"\n",
        "gmx.operation.ResourceManager.operation_id = property(operation_id)\n",
        "\n",
        "\n",
        "def get_work_dir(md_output):\n",
        "  values = [v for v in md_output.values()]\n",
        "  return values[0].result()\n",
        "\n",
        "\n",
        "def tail_log(md_output, output_file_base, last_n_lines=6):\n",
        "  work_dir = get_work_dir(md_output)\n",
        "\n",
        "  with open(os.path.join(work_dir, output_file_base + '.log'), 'r') as log:\n",
        "    for line in log.readlines()[-last_n_lines:]:\n",
        "      print(line)\n",
        "\n",
        "print(\"Session ID: \", _SESSION_ID)"
      ]
    },
    {
      "cell_type": "code",
      "execution_count": null,
      "metadata": {
        "cellView": "form"
      },
      "outputs": [],
      "source": [
        "#@title Run a Short Simulation for Benchmark\n",
        "\n",
        "# Read a TPR sample and run it.\n",
        "# The TPR file configures a 20ps simulation.\n",
        "input_tpr = gmx.read_tpr('/tmp/benchMEM.tpr')\n",
        "\n",
        "# Can specify computations to GPU.\n",
        "output_file_base = 'short'\n",
        "md = gmx.mdrun(input_tpr, runtime_args={\n",
        "    '-nb': 'gpu', '-pme': 'gpu', '-pmefft': 'gpu', '-bonded': 'gpu',\n",
        "    '-deffnm': output_file_base})\n",
        "\n",
        "# Run the simulation\n",
        "md.run()\n",
        "\n",
        "# Tail performance\n",
        "tail_log(md.output, output_file_base)"
      ]
    },
    {
      "cell_type": "code",
      "execution_count": null,
      "metadata": {
        "cellView": "form"
      },
      "outputs": [],
      "source": [
        "#@title Modified Params and Run A Longer Simulation\n",
        "# Run the simulation for 40 ps.\n",
        "output_file_base = 'long2'\n",
        "\n",
        "modified_tpr = gmx.modify_input(\n",
        "    input=input_tpr, parameters={'nsteps': 20000, 'nstlist': 100})\n",
        "md = gmx.mdrun(modified_tpr, runtime_args={\n",
        "    '-nb': 'gpu', '-pme': 'gpu', '-pmefft': 'gpu', '-bonded': 'gpu',\n",
        "    '-deffnm': output_file_base})\n",
        "md.run()\n",
        "\n",
        "# Tail performance\n",
        "tail_log(md.output, output_file_base)"
      ]
    },
    {
      "cell_type": "code",
      "execution_count": null,
      "metadata": {
        "cellView": "form",
        "id": "vNyin5LB2KNy"
      },
      "outputs": [],
      "source": [
        "#@title What about a binding affinity simulation with HIF2a?\n",
        "output_file_base = 'hif'\n",
        "\n",
        "input_tpr = gmx.read_tpr('/tmp/hif2a_eq.tpr')\n",
        "modified_tpr = gmx.modify_input(\n",
        "    input=input_tpr, parameters={'nsteps': 20000, 'nstlist': 100})\n",
        "md = gmx.mdrun(modified_tpr, runtime_args={\n",
        "    '-nb': 'gpu', '-pme': 'gpu', '-pmefft': 'gpu', '-bonded': 'gpu',\n",
        "    '-deffnm': output_file_base})\n",
        "md.run()\n",
        "\n",
        "# Tail performance\n",
        "tail_log(md.output, output_file_base)"
      ]
    },
    {
      "cell_type": "markdown",
      "metadata": {
        "id": "_kMM_sx3Gv8_"
      },
      "source": [
        "## Visualization\n",
        "\n",
        "Visualize the output from the above HIF2A simulation.\n",
        "We use py3DMol to visualize the output gro file."
      ]
    },
    {
      "cell_type": "code",
      "execution_count": null,
      "metadata": {
        "cellView": "form"
      },
      "outputs": [],
      "source": [
        "#@title Visualize the output conformation of the HIF2A simulation.\n",
        "import py3Dmol\n",
        "\n",
        "view = py3Dmol.view()\n",
        "work_dir = get_work_dir(md.output)\n",
        "\n",
        "view.addModel(\n",
        "    open(os.path.join(work_dir, output_file_base + '.gro'), 'r').read(), 'gro')\n",
        "\n",
        "view.zoomTo()\n",
        "view.setBackgroundColor('white')\n",
        "view.setStyle({}, {'cartoon': {'color': 'spectrum'}})\n",
        "\n",
        "view.show()"
      ]
    },
    {
      "cell_type": "code",
      "execution_count": null,
      "metadata": {
        "id": "QsBZ9nRip57I"
      },
      "outputs": [],
      "source": []
    },
    {
      "cell_type": "markdown",
      "metadata": {
        "id": "Skich7muxHrf"
      },
      "source": [
        "# ABFE Workflow\n",
        "-----"
      ]
    },
    {
      "cell_type": "markdown",
      "metadata": {
        "id": "4Wcfmz_vp6dg"
      },
      "source": [
        "## 1. Copy input files and setup folder structure"
      ]
    },
    {
      "cell_type": "markdown",
      "metadata": {
        "id": "5JaGJW4ircGN"
      },
      "source": [
        "This is the structure for each calculation.\n",
        "\n",
        "```\n",
        "ligand1/\n",
        "  water/                # ligand in water simulations\n",
        "    stateA/             # coupled ligand (i.e. solvated)\n",
        "      run1/             # only 1 run as example, but we'll have >1\n",
        "        em/             # energy minimization\n",
        "        eq_posre/       # equilibration with position restraints\n",
        "        eq/             # equilibrium simulation\n",
        "        transitions/    # non-equilibrium transitions\n",
        "          frame1/       # individual non-eq runs starting\n",
        "          frame2/\n",
        "          ...\n",
        "          frame100/    \n",
        "    stateB              # decoupled ligand (i.e. in vacuum)\n",
        "      run1/\n",
        "        em/\n",
        "        eq_posre/\n",
        "        eq/\n",
        "        transitions/\n",
        "  protein/              # ligand in protein simulations\n",
        "    stateA/             # coupled ligand (i.e. protein-ligand complex)\n",
        "      run1/\n",
        "        em/\n",
        "        eq_posre/\n",
        "        eq/\n",
        "        transitions/\n",
        "    stateB/             # decoupled ligand (i.e. apo protein + restr ligand)\n",
        "      run1/\n",
        "        em/\n",
        "        eq_posre/\n",
        "        eq/\n",
        "        transitions/\n",
        "```"
      ]
    },
    {
      "cell_type": "markdown",
      "metadata": {
        "id": "L4xQEXGOx75k"
      },
      "source": [
        "### Setup protein-ligand restraints\n",
        "This step identifies the set of restraints to be used for the `protein/stateB` simulations.\n",
        "\n",
        "--> Matteo: we might be using a new approach for hanlding the restraints in `stateA`. I need to double check with Vytas how this is done in practice with pmx."
      ]
    },
    {
      "cell_type": "markdown",
      "metadata": {
        "id": "gv3vkuBRp6fh"
      },
      "source": [
        "## 2. Prepare and run equilibrium simulations\n",
        "This will prepare and run all simulations in folders `em/`, `eq_posre`, and `eq`."
      ]
    },
    {
      "cell_type": "markdown",
      "metadata": {
        "id": "jjXkMZ7Fp6iB"
      },
      "source": [
        "## 3. Prepare and run non-equilibrium simulations\n",
        "This extracts N frames from the equilibrium trajectories in the `eq/` folders, puts them in the `frame*/` folders and runs a non-equilibrium simulation from each frame. Each non-equilibrium simulation interpolates between `stateA` and `stateB` (i.e., between the \"coupled\" and \"decoupled\" ligand)."
      ]
    },
    {
      "cell_type": "markdown",
      "metadata": {
        "id": "0TmVb6Bup6jx"
      },
      "source": [
        "## 4. Estimate binding free energy\n",
        "The analysis will take in .xvg files present in each `frame*/` folder and return the estimated free energy differences."
      ]
    },
    {
      "cell_type": "code",
      "execution_count": null,
      "metadata": {
        "id": "9IMZf5Lsp59Q"
      },
      "outputs": [],
      "source": []
    },
    {
      "cell_type": "code",
      "execution_count": null,
      "metadata": {
        "id": "ypL80389p5_q"
      },
      "outputs": [],
      "source": []
    },
    {
      "cell_type": "code",
      "execution_count": null,
      "metadata": {
        "id": "0gbJlUZxp6B6"
      },
      "outputs": [],
      "source": []
    },
    {
      "cell_type": "code",
      "execution_count": null,
      "metadata": {
        "id": "SdCsxM5lp6ES"
      },
      "outputs": [],
      "source": []
    }
  ],
  "metadata": {
    "accelerator": "GPU",
    "colab": {
      "collapsed_sections": [],
      "name": "gromacs_abfe_tutorial.ipynb",
      "provenance": [],
      "toc_visible": true
    },
    "language_info": {
      "name": "python"
    }
  },
  "nbformat": 4,
  "nbformat_minor": 0
}
