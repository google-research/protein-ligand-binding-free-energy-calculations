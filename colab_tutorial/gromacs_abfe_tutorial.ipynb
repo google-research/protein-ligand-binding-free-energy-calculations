{
  "cells": [
    {
      "cell_type": "markdown",
      "metadata": {
        "id": "view-in-github",
        "colab_type": "text"
      },
      "source": [
        "<a href=\"https://colab.research.google.com/github/google-research/protein-ligand-binding-free-energy-calculations/blob/dev/colab_tutorial/gromacs_abfe_tutorial.ipynb\" target=\"_parent\"><img src=\"https://colab.research.google.com/assets/colab-badge.svg\" alt=\"Open In Colab\"/></a>"
      ]
    },
    {
      "cell_type": "markdown",
      "metadata": {
        "id": "fU8sSQIYm8r0"
      },
      "source": [
        "##### Copyright 2022 Google LLC."
      ]
    },
    {
      "cell_type": "code",
      "execution_count": null,
      "metadata": {
        "cellView": "form",
        "id": "zwikt2vqm8r4"
      },
      "outputs": [],
      "source": [
        "#@title Licensed under the Apache License, Version 2.0 (the \"License\");\n",
        "# you may not use this file except in compliance with the License.\n",
        "# You may obtain a copy of the License at\n",
        "#\n",
        "# https://www.apache.org/licenses/LICENSE-2.0\n",
        "#\n",
        "# Unless required by applicable law or agreed to in writing, software\n",
        "# distributed under the License is distributed on an \"AS IS\" BASIS,\n",
        "# WITHOUT WARRANTIES OR CONDITIONS OF ANY KIND, either express or implied.\n",
        "# See the License for the specific language governing permissions and\n",
        "# limitations under the License."
      ]
    },
    {
      "cell_type": "markdown",
      "metadata": {
        "id": "hh6WOswDFRkx"
      },
      "source": [
        "# ABFE Tutorial\n",
        "\n",
        "## Note\n",
        "\n",
        "1. If you use a public colab instance, remember to change your runtime type to GPU\n",
        "2. If you deployed a custom GCE runtime, please connect to a GPU VM instance.\n",
        "\n",
        "## Summary\n",
        "\n",
        "1. Pull Gromacs 2022.3 binary compiled specifically for Colab GPU environment and install the software.\n",
        "2. Install Gromacs Python API on the fly, together with other packages used in the tutorial.\n",
        "3. Run simulations for benchmarks and show how to use the official GMX\n",
        "Python API to modify inputs.\n",
        "4. Visualize the output conformation for the longer simulation."
      ]
    },
    {
      "cell_type": "code",
      "execution_count": 2,
      "metadata": {
        "id": "t-xOe6rDm8r7",
        "outputId": "d67ad262-fec1-4b53-d381-e5957d222db6",
        "colab": {
          "base_uri": "https://localhost:8080/"
        }
      },
      "outputs": [
        {
          "output_type": "stream",
          "name": "stdout",
          "text": [
            "--2022-10-28 22:05:21--  https://storage.googleapis.com/gromacs-bin/gromacs-avx2_256-cuda-11_2.tar.gz\n",
            "Resolving storage.googleapis.com (storage.googleapis.com)... 74.125.199.128, 74.125.20.128, 74.125.197.128, ...\n",
            "Connecting to storage.googleapis.com (storage.googleapis.com)|74.125.199.128|:443... connected.\n",
            "HTTP request sent, awaiting response... 200 OK\n",
            "Length: 23920923 (23M) [application/x-gzip]\n",
            "Saving to: ‘/tmp/gromacs.tar.gz’\n",
            "\n",
            "/tmp/gromacs.tar.gz 100%[===================>]  22.81M  --.-KB/s    in 0.1s    \n",
            "\n",
            "2022-10-28 22:05:21 (165 MB/s) - ‘/tmp/gromacs.tar.gz’ saved [23920923/23920923]\n",
            "\n",
            "--2022-10-28 22:05:21--  https://storage.googleapis.com/gromacs-bin/benchMEM.tpr\n",
            "Resolving storage.googleapis.com (storage.googleapis.com)... 74.125.199.128, 74.125.20.128, 74.125.197.128, ...\n",
            "Connecting to storage.googleapis.com (storage.googleapis.com)|74.125.199.128|:443... connected.\n",
            "HTTP request sent, awaiting response... 200 OK\n",
            "Length: 3461380 (3.3M) [application/octet-stream]\n",
            "Saving to: ‘/tmp/benchMEM.tpr’\n",
            "\n",
            "/tmp/benchMEM.tpr   100%[===================>]   3.30M  --.-KB/s    in 0.01s   \n",
            "\n",
            "2022-10-28 22:05:21 (244 MB/s) - ‘/tmp/benchMEM.tpr’ saved [3461380/3461380]\n",
            "\n",
            "--2022-10-28 22:05:21--  https://storage.googleapis.com/gromacs-bin/hif2a_eq.tpr\n",
            "Resolving storage.googleapis.com (storage.googleapis.com)... 74.125.199.128, 74.125.20.128, 74.125.197.128, ...\n",
            "Connecting to storage.googleapis.com (storage.googleapis.com)|74.125.199.128|:443... connected.\n",
            "HTTP request sent, awaiting response... 200 OK\n",
            "Length: 1319892 (1.3M) [application/octet-stream]\n",
            "Saving to: ‘/tmp/hif2a_eq.tpr’\n",
            "\n",
            "/tmp/hif2a_eq.tpr   100%[===================>]   1.26M  --.-KB/s    in 0.007s  \n",
            "\n",
            "2022-10-28 22:05:21 (169 MB/s) - ‘/tmp/hif2a_eq.tpr’ saved [1319892/1319892]\n",
            "\n",
            "Requirement already satisfied: pip in /usr/local/lib/python3.7/dist-packages (22.3)\n",
            "\u001b[33mWARNING: Running pip as the 'root' user can result in broken permissions and conflicting behaviour with the system package manager. It is recommended to use a virtual environment instead: https://pip.pypa.io/warnings/venv\u001b[0m\u001b[33m\n",
            "\u001b[0mRequirement already satisfied: setuptools in /usr/local/lib/python3.7/dist-packages (57.4.0)\n",
            "Requirement already satisfied: wheel in /usr/local/lib/python3.7/dist-packages (0.37.1)\n",
            "Requirement already satisfied: cmake in /usr/local/lib/python3.7/dist-packages (3.12.0)\n",
            "Requirement already satisfied: pybind11 in /usr/local/lib/python3.7/dist-packages (2.10.0)\n",
            "Requirement already satisfied: py3DMol in /usr/local/lib/python3.7/dist-packages (1.8.1)\n",
            "\u001b[33mWARNING: Running pip as the 'root' user can result in broken permissions and conflicting behaviour with the system package manager. It is recommended to use a virtual environment instead: https://pip.pypa.io/warnings/venv\u001b[0m\u001b[33m\n",
            "\u001b[0mCollecting git+https://github.com/deGrootLab/pmx.git@abfe_dev\n",
            "  Cloning https://github.com/deGrootLab/pmx.git (to revision abfe_dev) to /tmp/pip-req-build-vz3kyvwz\n",
            "  Running command git clone --filter=blob:none --quiet https://github.com/deGrootLab/pmx.git /tmp/pip-req-build-vz3kyvwz\n",
            "  Running command git checkout -b abfe_dev --track origin/abfe_dev\n",
            "  Switched to a new branch 'abfe_dev'\n",
            "  Branch 'abfe_dev' set up to track remote branch 'abfe_dev' from 'origin'.\n",
            "  Resolved https://github.com/deGrootLab/pmx.git to commit ba4d553757ab01ee9719df162653700b5d5c3002\n",
            "  Preparing metadata (setup.py) ... \u001b[?25l\u001b[?25hdone\n",
            "Requirement already satisfied: numpy in /usr/local/lib/python3.7/dist-packages (from pmx==0+untagged.865.gba4d553) (1.21.5)\n",
            "Requirement already satisfied: scipy in /usr/local/lib/python3.7/dist-packages (from pmx==0+untagged.865.gba4d553) (1.4.1)\n",
            "Requirement already satisfied: matplotlib in /usr/local/lib/python3.7/dist-packages (from pmx==0+untagged.865.gba4d553) (3.1.3)\n",
            "Requirement already satisfied: future in /usr/local/lib/python3.7/dist-packages (from pmx==0+untagged.865.gba4d553) (0.16.0)\n",
            "Requirement already satisfied: python-dateutil>=2.1 in /usr/local/lib/python3.7/dist-packages (from matplotlib->pmx==0+untagged.865.gba4d553) (2.8.2)\n",
            "Requirement already satisfied: cycler>=0.10 in /usr/local/lib/python3.7/dist-packages (from matplotlib->pmx==0+untagged.865.gba4d553) (0.11.0)\n",
            "Requirement already satisfied: kiwisolver>=1.0.1 in /usr/local/lib/python3.7/dist-packages (from matplotlib->pmx==0+untagged.865.gba4d553) (1.3.2)\n",
            "Requirement already satisfied: pyparsing!=2.0.4,!=2.1.2,!=2.1.6,>=2.0.1 in /usr/local/lib/python3.7/dist-packages (from matplotlib->pmx==0+untagged.865.gba4d553) (3.0.7)\n",
            "Requirement already satisfied: six>=1.5 in /usr/local/lib/python3.7/dist-packages (from python-dateutil>=2.1->matplotlib->pmx==0+untagged.865.gba4d553) (1.15.0)\n",
            "Building wheels for collected packages: pmx\n",
            "  Building wheel for pmx (setup.py) ... \u001b[?25l\u001b[?25hdone\n",
            "  Created wheel for pmx: filename=pmx-0+untagged.865.gba4d553-cp37-cp37m-linux_x86_64.whl size=12282756 sha256=05741605dcd8b58a0fd10ba7516fe77e243b55617ed1b4c565f39203c86f148c\n",
            "  Stored in directory: /tmp/pip-ephem-wheel-cache-uwxj9olz/wheels/cd/e9/20/1e8d3a49d2df752f5a6b8c84cf02697d0c25d73a5eacc7ebbb\n",
            "Successfully built pmx\n",
            "Installing collected packages: pmx\n",
            "Successfully installed pmx-0+untagged.865.gba4d553\n",
            "\u001b[33mWARNING: Running pip as the 'root' user can result in broken permissions and conflicting behaviour with the system package manager. It is recommended to use a virtual environment instead: https://pip.pypa.io/warnings/venv\u001b[0m\u001b[33m\n",
            "\u001b[0mRequirement already satisfied: gmxapi in /usr/local/lib/python3.7/dist-packages (0.3.2.post1)\n",
            "Requirement already satisfied: pybind11 in /usr/local/lib/python3.7/dist-packages (from gmxapi) (2.10.0)\n",
            "Requirement already satisfied: networkx>=2.0 in /usr/local/lib/python3.7/dist-packages (from gmxapi) (2.6.3)\n",
            "Requirement already satisfied: numpy>1.7 in /usr/local/lib/python3.7/dist-packages (from gmxapi) (1.21.5)\n",
            "Requirement already satisfied: packaging in /usr/local/lib/python3.7/dist-packages (from gmxapi) (21.3)\n",
            "Requirement already satisfied: pyparsing!=3.0.5,>=2.0.2 in /usr/local/lib/python3.7/dist-packages (from packaging->gmxapi) (3.0.7)\n",
            "\u001b[33mWARNING: Running pip as the 'root' user can result in broken permissions and conflicting behaviour with the system package manager. It is recommended to use a virtual environment instead: https://pip.pypa.io/warnings/venv\u001b[0m\u001b[33m\n",
            "\u001b[0m"
          ]
        }
      ],
      "source": [
        "#@title Install Gromacs and Gromacs Python API\n",
        "!wget https://storage.googleapis.com/gromacs-bin/gromacs-avx2_256-cuda-11_2.tar.gz -O /tmp/gromacs.tar.gz\n",
        "!wget https://storage.googleapis.com/gromacs-bin/benchMEM.tpr -O /tmp/benchMEM.tpr\n",
        "!wget https://storage.googleapis.com/gromacs-bin/hif2a_eq.tpr -O /tmp/hif2a_eq.tpr\n",
        "\n",
        "!tar zxf /tmp/gromacs.tar.gz\n",
        "!sudo rm -rf /usr/local/gromacs\n",
        "!sudo mv gromacs-avx /usr/local/gromacs\n",
        "!rm /tmp/gromacs.tar.gz\n",
        "\n",
        "!pip3 install --upgrade pip\n",
        "!pip3 install setuptools wheel cmake pybind11 py3DMol\n",
        "!pip3 install git+https://github.com/deGrootLab/pmx.git@abfe_dev\n",
        "!gmxapi_ROOT=/usr/local/gromacs/ pip3 install --no-cache-dir gmxapi"
      ]
    },
    {
      "cell_type": "code",
      "execution_count": 3,
      "metadata": {
        "cellView": "form",
        "id": "Sd-L2ttCm8r7"
      },
      "outputs": [],
      "source": [
        "#@title Set Level for Logging\n",
        "#@markdown Sets the python logging level. This is useful for debugging.\n",
        "import logging\n",
        "\n",
        "log_level = 'DEBUG' #@param ['DEBUG', 'INFO', 'ERROR']\n",
        "\n",
        "_log_level = {\n",
        "    'DEBUG': logging.DEBUG,\n",
        "    'INFO': logging.INFO,\n",
        "    'ERROR': logging.ERROR\n",
        "}\n",
        "\n",
        "logging.basicConfig(level=_log_level[log_level])"
      ]
    },
    {
      "cell_type": "code",
      "execution_count": 4,
      "metadata": {
        "id": "F5gQOMIJBRUY",
        "outputId": "2f7e0209-ed18-4616-c277-51cef76e847f",
        "colab": {
          "base_uri": "https://localhost:8080/"
        }
      },
      "outputs": [
        {
          "output_type": "stream",
          "name": "stderr",
          "text": [
            "INFO:gmxapi:Importing gmxapi.\n",
            "INFO:gmxapi.operation:Importing gmxapi.operation\n",
            "DEBUG:gmxapi.operation:Creating runner for signature (*, front: gmxapi.datamodel.NDArray = (), back: gmxapi.datamodel.NDArray = ()) -> gmxapi.datamodel.NDArray.\n",
            "INFO:gmxapi.commandline:Importing gmxapi.commandline\n",
            "DEBUG:gmxapi.operation:Creating runner for signature (command: gmxapi.datamodel.NDArray, shell: bool, env: dict, output, stdin: str = '', _exist_ok=True).\n",
            "DEBUG:gmxapi.operation:Creating runner for signature (filemap: dict) -> list.\n",
            "INFO:gmxapi.simulation.workflow:Importing gmx.workflow\n",
            "INFO:gmxapi.simulation.workflow:Using schema version gmxapi_workspec_0_1.\n",
            "INFO:gmxapi.mdrun:Importing gmxapi.simulation.mdrun\n",
            "INFO:gmxapi.read_tpr:Importing gmxapi.simulation.read_tpr\n",
            "INFO:gmxapi.modify_input:Importing gmxapi.simulation.modify_input\n"
          ]
        },
        {
          "output_type": "stream",
          "name": "stdout",
          "text": [
            "Session ID:  1666994793\n"
          ]
        }
      ],
      "source": [
        "#@title [Please Rerun after Restart] Create a Session\n",
        "#@markdown Please rerun this cell every time when you restart the runtime.\n",
        "#@markdown A new session ID will be created for a new colab runtime session.\n",
        "#@markdown Run this cell again will refresh the session ID.\n",
        "\n",
        "import os\n",
        "import time\n",
        "\n",
        "import gmxapi as gmx\n",
        "\n",
        "\n",
        "# Sets a session ID for this session.\n",
        "_SESSION_ID = str(int(time.time())) #@param\n",
        "\n",
        "# Monkey patch this session ID into the gmxapi.operation.ResourceManager.\n",
        "# Hack. Do not use in the user code.\n",
        "# This is temporarily added to allow users to start from a new set of working\n",
        "# directories for all the mdrun launches. GMX API doesn't expose the\n",
        "# underlying resource manager or context yet.\n",
        "def operation_id(self):\n",
        "  return f\"{self._base_operation_id}_{_SESSION_ID}\"\n",
        "gmx.operation.ResourceManager.operation_id = property(operation_id)\n",
        "\n",
        "\n",
        "def get_work_dir(md_output):\n",
        "  values = [v for v in md_output.values()]\n",
        "  return values[0].result()\n",
        "\n",
        "\n",
        "def tail_log(md_output, output_file_base, last_n_lines=6):\n",
        "  work_dir = get_work_dir(md_output)\n",
        "\n",
        "  with open(os.path.join(work_dir, output_file_base + '.log'), 'r') as log:\n",
        "    for line in log.readlines()[-last_n_lines:]:\n",
        "      print(line)\n",
        "\n",
        "print(\"Session ID: \", _SESSION_ID)"
      ]
    },
    {
      "cell_type": "code",
      "execution_count": 5,
      "metadata": {
        "id": "ae475fnVm8r8",
        "outputId": "48d1c164-2ff6-4d4b-eb50-b3bb5ba91b26",
        "colab": {
          "base_uri": "https://localhost:8080/"
        }
      },
      "outputs": [
        {
          "output_type": "stream",
          "name": "stderr",
          "text": [
            "DEBUG:gmxapi.operation:Updating Sink for source filename: /tmp/benchMEM.tpr.\n",
            "DEBUG:gmxapi.operation:Source matches sink. No update necessary.\n",
            "DEBUG:gmxapi.operation:SinkTerminal configured: <class 'gmxapi.operation.SinkTerminal'>\n",
            "DEBUG:gmxapi.operation:Resolving filename for <SinkTerminal: width=1, InputCollectionDescription([('filename', <class 'str'>)])>.\n",
            "DEBUG:gmxapi.operation:Input filename:(str) provided by a local constant of type <class 'str'>.\n",
            "DEBUG:gmxapi.operation:Created data edge <DataEdge: source_collection=DataSourceCollection([('filename', '/tmp/benchMEM.tpr')]), sink_terminal=<SinkTerminal: width=1, InputCollectionDescription([('filename', <class 'str'>)])>> with Sink <SinkTerminal: width=1, InputCollectionDescription([('filename', <class 'str'>)])>\n",
            "INFO:gmxapi.mdrun:Building mdrun operation from source <gmxapi.simulation.read_tpr.StandardOperationHandle object at 0x7f209599bc10>\n",
            "INFO:gmxapi.mdrun:mdrun receiving input _simulation_input: ResultDescription(dtype=<class 'str'>, width=1)\n",
            "INFO:gmxapi.mdrun:mdrun input bound as source collection DataSourceCollection([('_simulation_input', <Future: name='_simulation_input', description=ResultDescription(dtype=<class 'str'>, width=1)>), ('parameters', <Future: name='parameters', description=ResultDescription(dtype=<class 'dict'>, width=1)>), ('runtime_args', {'-nb': 'gpu', '-pme': 'gpu', '-pmefft': 'gpu', '-bonded': 'gpu', '-deffnm': 'short'})])\n",
            "DEBUG:gmxapi.operation:Updating Sink for source _simulation_input: <Future: name='_simulation_input', description=ResultDescription(dtype=<class 'str'>, width=1)>.\n",
            "DEBUG:gmxapi.operation:Updating Sink for source parameters: <Future: name='parameters', description=ResultDescription(dtype=<class 'dict'>, width=1)>.\n",
            "DEBUG:gmxapi.operation:Updating Sink for source runtime_args: {'-nb': 'gpu', '-pme': 'gpu', '-pmefft': 'gpu', '-bonded': 'gpu', '-deffnm': 'short'}.\n",
            "DEBUG:gmxapi.operation:SinkTerminal configured: <class 'gmxapi.operation.SinkTerminal'>\n",
            "DEBUG:gmxapi.operation:Resolving _simulation_input for <SinkTerminal: width=1, InputCollectionDescription([('_simulation_input', <class 'str'>), ('parameters', <class 'dict'>), ('runtime_args', <class 'dict'>)])>.\n",
            "DEBUG:gmxapi.operation:Input _simulation_input:(str) provided by a Future ResultDescription(dtype=<class 'str'>, width=1)\n",
            "DEBUG:gmxapi.operation:Resolving parameters for <SinkTerminal: width=1, InputCollectionDescription([('_simulation_input', <class 'str'>), ('parameters', <class 'dict'>), ('runtime_args', <class 'dict'>)])>.\n",
            "DEBUG:gmxapi.operation:Input parameters:(dict) provided by a Future ResultDescription(dtype=<class 'dict'>, width=1)\n",
            "DEBUG:gmxapi.operation:Resolving runtime_args for <SinkTerminal: width=1, InputCollectionDescription([('_simulation_input', <class 'str'>), ('parameters', <class 'dict'>), ('runtime_args', <class 'dict'>)])>.\n",
            "DEBUG:gmxapi.operation:Input runtime_args:(dict) provided by a local constant of type <class 'dict'>.\n",
            "DEBUG:gmxapi.operation:Created data edge <DataEdge: source_collection=DataSourceCollection([('_simulation_input', <Future: name='_simulation_input', description=ResultDescription(dtype=<class 'str'>, width=1)>), ('parameters', <Future: name='parameters', description=ResultDescription(dtype=<class 'dict'>, width=1)>), ('runtime_args', {'-nb': 'gpu', '-pme': 'gpu', '-pmefft': 'gpu', '-bonded': 'gpu', '-deffnm': 'short'})]), sink_terminal=<SinkTerminal: width=1, InputCollectionDescription([('_simulation_input', <class 'str'>), ('parameters', <class 'dict'>), ('runtime_args', <class 'dict'>)])>> with Sink <SinkTerminal: width=1, InputCollectionDescription([('_simulation_input', <class 'str'>), ('parameters', <class 'dict'>), ('runtime_args', <class 'dict'>)])>\n",
            "INFO:gmxapi.simulation.context:Importing gmxapi.simulation.context\n",
            "INFO:gmxapi.simulation.context:mpi4py is not available for default session communication.\n",
            "DEBUG:gmxapi.simulation.context:Getting trivial ensemble communicator for ensemble of size 1 for session rank 0 in session communicator of size 1\n",
            "INFO:gmxapi.mdrun:Created /content/mdrun_0_1666994793_0/topol.tpr on rank 0\n",
            "DEBUG:gmxapi.mdrun:Context rank 0 acknowledges working directories ['/content/mdrun_0_1666994793_0']\n",
            "DEBUG:gmxapi.mdrun:Operation mdrun_0_1666994793:0 will use /content/mdrun_0_1666994793_0\n",
            "DEBUG:gmxapi.mdrun:Adding mdrun run time argument from user input: -nb=gpu\n",
            "DEBUG:gmxapi.mdrun:Adding mdrun run time argument from user input: -pme=gpu\n",
            "DEBUG:gmxapi.mdrun:Adding mdrun run time argument from user input: -pmefft=gpu\n",
            "DEBUG:gmxapi.mdrun:Adding mdrun run time argument from user input: -bonded=gpu\n",
            "DEBUG:gmxapi.mdrun:Adding mdrun run time argument from user input: -deffnm=short\n",
            "INFO:gmxapi.simulation.workflow:Added element md_sim to workspec.\n",
            "DEBUG:gmxapi.simulation.context:Launching session from /content\n",
            "DEBUG:gmxapi.simulation.context:Context rank 0 in context _DummyCommunicator of size 1\n",
            "DEBUG:gmxapi.simulation.context:Processing workspec:\n",
            "{\n",
            "    \"elements\": {\n",
            "        \"md_sim\": {\n",
            "            \"depends\": [\n",
            "                \"tpr_input\"\n",
            "            ],\n",
            "            \"namespace\": \"gmxapi\",\n",
            "            \"operation\": \"md\",\n",
            "            \"params\": {\n",
            "                \"-bonded\": \"gpu\",\n",
            "                \"-deffnm\": \"short\",\n",
            "                \"-nb\": \"gpu\",\n",
            "                \"-pme\": \"gpu\",\n",
            "                \"-pmefft\": \"gpu\"\n",
            "            }\n",
            "        },\n",
            "        \"tpr_input\": {\n",
            "            \"depends\": [],\n",
            "            \"namespace\": \"gromacs\",\n",
            "            \"operation\": \"load_tpr\",\n",
            "            \"params\": {\n",
            "                \"input\": [\n",
            "                    \"/content/mdrun_0_1666994793_0/topol.tpr\"\n",
            "                ]\n",
            "            }\n",
            "        }\n",
            "    },\n",
            "    \"version\": \"gmxapi_workspec_0_1\"\n",
            "}\n",
            "DEBUG:gmxapi.simulation.context:Loading tpr builder for tpr_list ['/content/mdrun_0_1666994793_0/topol.tpr']\n",
            "INFO:gmxapi.simulation.context:Collected builder for tpr_input\n",
            "DEBUG:gmxapi.simulation.context:Appended tpr_input to builder sequence.\n",
            "INFO:gmxapi.simulation.context:Collected builder for md_sim\n",
            "INFO:gmxapi.simulation.context:Subscribing md_sim to tpr_input.\n",
            "DEBUG:gmxapi.simulation.context:Appended md_sim to builder sequence.\n",
            "INFO:gmxapi.simulation.context:Building sequence ['tpr_input', 'md_sim']\n",
            "INFO:gmxapi.simulation.context:Building <gmxapi.simulation.context._load_tpr.<locals>.Builder object at 0x7f20703dc910>\n",
            "DEBUG:gmxapi.simulation.context:Has build attribute <bound method _load_tpr.<locals>.Builder.build of <gmxapi.simulation.context._load_tpr.<locals>.Builder object at 0x7f20703dc910>>.\n",
            "DEBUG:gmxapi.simulation.context:Built.\n",
            "INFO:gmxapi.simulation.context:Building <gmxapi.simulation.context._md.<locals>.Builder object at 0x7f20703dc690>\n",
            "DEBUG:gmxapi.simulation.context:Has build attribute <bound method _md.<locals>.Builder.build of <gmxapi.simulation.context._md.<locals>.Builder object at 0x7f20703dc690>>.\n",
            "DEBUG:gmxapi.simulation.context:Built.\n",
            "DEBUG:gmxapi.simulation.context:Getting trivial ensemble communicator for ensemble of size 1 for session rank 0 in session communicator of size 1\n",
            "DEBUG:gmxapi.simulation.context:Launching graph {'width': 1}.\n",
            "DEBUG:gmxapi.simulation.context:Graph nodes: ['md_sim']\n",
            "DEBUG:gmxapi.simulation.context:Graph edges: []\n",
            "INFO:gmxapi.simulation.context:Launching work on context rank 0, subcommunicator rank 0.\n",
            "INFO:gmxapi.simulation.context:rank 0 changed directory to /content/mdrun_0_1666994793_0\n",
            "INFO:gmxapi.simulation.context:Loading TPR file: /content/mdrun_0_1666994793_0/topol.tpr\n",
            "INFO:gmxapi.simulation.context:Exiting session on context rank 0.\n",
            "INFO:gmxapi.simulation.context:Calling session.close().\n",
            "DEBUG:gmxapi.simulation.context:Closing node: <bound method PyCapsule.close of <gmxapi._gmxapi.MDSession object at 0x7f20703e96b0>>\n",
            "INFO:gmxapi.simulation.context:Freeing sub-communicator _DummyCommunicator on rank 0\n",
            "DEBUG:gmxapi.simulation.context:Freeing session communicator.\n",
            "DEBUG:gmxapi.simulation.context:Deleting session communicator reference.\n",
            "INFO:gmxapi.simulation.context:Session closed on context rank 0.\n",
            "DEBUG:gmxapi.mdrun:workdir[0] = /content/mdrun_0_1666994793_0\n",
            "DEBUG:gmxapi.mdrun:parameters[0] = {'init-step': 0, 'ld-seed': 1993, 'nsteps': 10000, 'nbfgscorr': 10, 'niter': 100, 'nstcalcenergy': 100, 'nstcgsteep': 1000, 'nstcomm': 100, 'nstenergy': 0, 'nstfout': 0, 'nstlist': 10, 'nstlog': 0, 'nstvout': 0, 'nstxout': 0, 'nstxout-compressed': 0, 'simulation-part': 1, 'bd-fric': 0.0, 'compressed-x-precision': 1000.0, 'emstep': 0.009999999776482582, 'emtol': 9.999999974752427e-07, 'fcstep': 0.0, 'rtpi': 0.05000000074505806, 'dt': 0.002, 'tinit': 0.0}\n",
            "DEBUG:gmxapi.mdrun:runtime_args[0] = {'-nb': 'gpu', '-pme': 'gpu', '-pmefft': 'gpu', '-bonded': 'gpu', '-deffnm': 'short'}\n",
            "DEBUG:gmxapi.mdrun:Session resources have runtime_args: {'-nb': 'gpu', '-pme': 'gpu', '-pmefft': 'gpu', '-bonded': 'gpu', '-deffnm': 'short'}\n",
            "INFO:gmxapi.mdrun:Missing output. *trajectory* is \"None\"\n"
          ]
        },
        {
          "output_type": "stream",
          "name": "stdout",
          "text": [
            "               Core t (s)   Wall t (s)        (%)\n",
            "\n",
            "       Time:      137.896       34.474      400.0\n",
            "\n",
            "                 (ns/day)    (hour/ns)\n",
            "\n",
            "Performance:       50.129        0.479\n",
            "\n",
            "Finished mdrun on rank 0 Fri Oct 28 22:07:16 2022\n",
            "\n",
            "\n",
            "\n"
          ]
        }
      ],
      "source": [
        "#@title Run a Short Simulation for Benchmark\n",
        "\n",
        "# Read a TPR sample and run it.\n",
        "# The TPR file configures a 20ps simulation.\n",
        "input_tpr = gmx.read_tpr('/tmp/benchMEM.tpr')\n",
        "\n",
        "# Can specify computations to GPU.\n",
        "output_file_base = 'short'\n",
        "md = gmx.mdrun(input_tpr, runtime_args={\n",
        "    '-nb': 'gpu', '-pme': 'gpu', '-pmefft': 'gpu', '-bonded': 'gpu',\n",
        "    '-deffnm': output_file_base})\n",
        "\n",
        "# Run the simulation\n",
        "md.run()\n",
        "\n",
        "# Tail performance\n",
        "tail_log(md.output, output_file_base)"
      ]
    },
    {
      "cell_type": "code",
      "execution_count": null,
      "metadata": {
        "id": "z0zIeiCbm8r9"
      },
      "outputs": [],
      "source": [
        "#@title Modified Params and Run A Longer Simulation\n",
        "# Run the simulation for 40 ps.\n",
        "output_file_base = 'long2'\n",
        "\n",
        "modified_tpr = gmx.modify_input(\n",
        "    input=input_tpr, parameters={'nsteps': 20000, 'nstlist': 100})\n",
        "md = gmx.mdrun(modified_tpr, runtime_args={\n",
        "    '-nb': 'gpu', '-pme': 'gpu', '-pmefft': 'gpu', '-bonded': 'gpu',\n",
        "    '-deffnm': output_file_base})\n",
        "md.run()\n",
        "\n",
        "# Tail performance\n",
        "tail_log(md.output, output_file_base)"
      ]
    },
    {
      "cell_type": "code",
      "execution_count": null,
      "metadata": {
        "cellView": "form",
        "id": "vNyin5LB2KNy"
      },
      "outputs": [],
      "source": [
        "#@title What about a binding affinity simulation with HIF2a?\n",
        "output_file_base = 'hif'\n",
        "\n",
        "input_tpr = gmx.read_tpr('/tmp/hif2a_eq.tpr')\n",
        "modified_tpr = gmx.modify_input(\n",
        "    input=input_tpr, parameters={'nsteps': 20000, 'nstlist': 100})\n",
        "md = gmx.mdrun(modified_tpr, runtime_args={\n",
        "    '-nb': 'gpu', '-pme': 'gpu', '-pmefft': 'gpu', '-bonded': 'gpu',\n",
        "    '-deffnm': output_file_base})\n",
        "md.run()\n",
        "\n",
        "# Tail performance\n",
        "tail_log(md.output, output_file_base)"
      ]
    },
    {
      "cell_type": "markdown",
      "metadata": {
        "id": "_kMM_sx3Gv8_"
      },
      "source": [
        "## Visualization\n",
        "\n",
        "Visualize the output from the above HIF2A simulation.\n",
        "We use py3DMol to visualize the output gro file."
      ]
    },
    {
      "cell_type": "code",
      "execution_count": null,
      "metadata": {
        "cellView": "form",
        "id": "b4eb9g3um8r_"
      },
      "outputs": [],
      "source": [
        "#@title Visualize the output conformation of the HIF2A simulation.\n",
        "import py3Dmol\n",
        "\n",
        "view = py3Dmol.view()\n",
        "work_dir = get_work_dir(md.output)\n",
        "\n",
        "view.addModel(\n",
        "    open(os.path.join(work_dir, output_file_base + '.gro'), 'r').read(), 'gro')\n",
        "\n",
        "view.zoomTo()\n",
        "view.setBackgroundColor('white')\n",
        "view.setStyle({}, {'cartoon': {'color': 'spectrum'}})\n",
        "\n",
        "view.show()"
      ]
    },
    {
      "cell_type": "markdown",
      "metadata": {
        "id": "Skich7muxHrf"
      },
      "source": [
        "# ABFE Workflow\n",
        "-----"
      ]
    },
    {
      "cell_type": "code",
      "source": [
        "import numpy as np\n",
        "import pmx\n",
        "from pmx.AbsoluteDG import *\n",
        "import shutil"
      ],
      "metadata": {
        "id": "KdQigJ26pJrv"
      },
      "execution_count": 60,
      "outputs": []
    },
    {
      "cell_type": "code",
      "source": [
        "#@title Copy input files\n",
        "\n",
        "_WORKDIR = f\"/content/pmxrun_{_SESSION_ID}\"\n",
        "os.mkdir(_WORKDIR)\n",
        "\n",
        "shutil.copytree('/usr/local/lib/python3.7/dist-packages/pmx/abfe_scripts/lysopath/', f'{_WORKDIR}/lysopath/')\n",
        "shutil.copytree('/usr/local/lib/python3.7/dist-packages/pmx/abfe_scripts/mdppath/', f'{_WORKDIR}/mdppath/')\n",
        "shutil.copytree('/usr/local/lib/python3.7/dist-packages/pmx/abfe_scripts/struct_top/', f'{_WORKDIR}/struct_top/')\n",
        "\n",
        "!ls -l $_WORKDIR"
      ],
      "metadata": {
        "id": "UpP5TYyavS-D",
        "outputId": "9b17f47a-9df7-4724-8e5f-f26657f02daa",
        "colab": {
          "base_uri": "https://localhost:8080/"
        }
      },
      "execution_count": 61,
      "outputs": [
        {
          "output_type": "stream",
          "name": "stdout",
          "text": [
            "total 12\n",
            "drwxr-sr-x 3 root root 4096 Oct 28 22:06 lysopath\n",
            "drwxr-sr-x 2 root root 4096 Oct 28 22:06 mdppath\n",
            "drwxr-sr-x 4 root root 4096 Oct 28 22:06 struct_top\n"
          ]
        }
      ]
    },
    {
      "cell_type": "code",
      "source": [
        "#@title Setup folder structure\n",
        "\n",
        "# Initialize the free energy environment object. It will store the main \n",
        "# parameters for the calculations.\n",
        "fe = AbsoluteDG(ligList=['lysozyme_benzene'], \n",
        "                apoCase='lysozyme_apo', \n",
        "                bDSSB=False)\n",
        "\n",
        "# set the workpath\n",
        "fe.workPath = f'{_WORKDIR}/lysopath'\n",
        "# set the path to the molecular dynamics parameter files\n",
        "fe.mdpPath = f'{_WORKDIR}/mdppath'\n",
        "# set the number of replicas (several repetitions of calculation are useful to obtain reliable statistics)\n",
        "fe.replicas = 3\n",
        "# provide the path to the structures and topologies\n",
        "fe.structTopPath = f'{_WORKDIR}/struct_top'\n",
        "\n",
        "# finally, let's prepare the overall free energy calculation directory structure\n",
        "fe.simTypes = ['em_posre', 'eq_posre', 'eq', 'transitions']\n",
        "\n",
        "fe.prepareFreeEnergyDir()"
      ],
      "metadata": {
        "id": "7aWt8mknrxut",
        "outputId": "835ff196-6ec2-401f-e105-8887eb3304b6",
        "colab": {
          "base_uri": "https://localhost:8080/"
        }
      },
      "execution_count": 63,
      "outputs": [
        {
          "output_type": "stream",
          "name": "stdout",
          "text": [
            "\n",
            "---------------------\n",
            "Summary of the setup:\n",
            "---------------------\n",
            "\n",
            "   workpath: /content/pmxrun_1666994793/lysopath\n",
            "   mdp path: /content/pmxrun_1666994793/mdppath\n",
            "   # ligands: 1\n",
            "   ligands:\n",
            "        lysozyme_benzene\n",
            "   apo state: lysozyme_apo\n",
            "\n",
            "---------------------\n",
            "Directory structure:\n",
            "---------------------\n",
            "\n",
            "/content/pmxrun_1666994793/lysopath/\n",
            "|\n",
            "|--ligX\n",
            "|--|--water\n",
            "|--|--|--stateA\n",
            "|--|--|--|--run1/2/3\n",
            "|--|--|--|--|--/em_posre/eq_posre/eq/transitions\n",
            "|--|--|--stateB\n",
            "|--|--|--|--run1/2/3\n",
            "|--|--|--|--|--/em_posre/eq_posre/eq/transitions\n",
            "|--|--protein\n",
            "|--|--|--stateA\n",
            "|--|--|--|--run1/2/3\n",
            "|--|--|--|--|--/em_posre/eq_posre/eq/transitions\n",
            "|--|--|--stateB\n",
            "|--|--|--|--run1/2/3\n",
            "|--|--|--|--|--/em_posre/eq_posre/eq/transitions\n",
            "|--|--strTopFolder\n",
            "|--lig..\n",
            "\n",
            "DONE\n"
          ]
        }
      ]
    },
    {
      "cell_type": "code",
      "source": [
        "#@title Assemble simulation systems\n",
        "\n",
        "# assemble the systems \n",
        "fe.assemble_systems()\n",
        "\n",
        "# box/water/ions\n",
        "fe.boxWaterIons()"
      ],
      "metadata": {
        "id": "cotlzEQ9sNgk",
        "outputId": "f3ecb4fb-5f2b-4dd0-ed0d-1b0dbdfee8b5",
        "colab": {
          "base_uri": "https://localhost:8080/"
        }
      },
      "execution_count": 64,
      "outputs": [
        {
          "output_type": "stream",
          "name": "stdout",
          "text": [
            "----------------------\n",
            "Assembling the systems\n",
            "----------------------\n",
            "Order: ligand-protein-other-water\n",
            "--- Assembling structures: lysozyme_benzene ---\n",
            "--- Assembling topologies: lysozyme_benzene ---\n",
            "----------------\n",
            "Box, water, ions\n",
            "----------------\n",
            "TODO\n"
          ]
        }
      ]
    },
    {
      "cell_type": "code",
      "source": [
        "!ls $_WORKDIR/lysopath/lysozyme_benzene/protein/stateA/run1/"
      ],
      "metadata": {
        "id": "hYIk_gOoyIUs"
      },
      "execution_count": 72,
      "outputs": []
    },
    {
      "cell_type": "code",
      "source": [
        "#@title Prepare simulations\n",
        "\n",
        "# em_posre\n",
        "#fe.prepare_simulation( simType='em_posre' )\n",
        "fe.JOBsimcpu = 4\n",
        "#fe.JOBmodules = ['shared','owl/intel-mpi-default','cuda91']\n",
        "#fe.JOBsource = ['/etc/profile.d/modules.sh']\n",
        "fe.JOBqueue = 'SLURM'\n",
        "fe.JOBmodules = ['owl/intel-mpi-default','cuda/11.0','hwloc']\n",
        "fe.JOBgmx = '/usr/local/gromacs/2021/2021.2-impi2017-fftw337-gcc93-cuda11.1/bin/mdrun_threads_AVX_256'\n",
        "#fe.prepare_jobscripts( simType='em_posre' )\n",
        "\n",
        "# eq_posre\n",
        "#fe.prepare_simulation( simType='eq_posre', prevSim='em_posre' )\n",
        "fe.JOBsimcpu = 8\n",
        "#fe.prepare_jobscripts( simType='eq_posre' )\n",
        "\n",
        "# eq\n",
        "#fe.prepare_simulation( simType='eq', prevSim='eq_posre' )\n",
        "fe.JOBsimcpu = 20\n",
        "#fe.prepare_jobscripts( simType='eq' )\n",
        "\n",
        "# transitions\n",
        "fe.equilTime = 1080.0 # ps to discard as equilibration\n",
        "#fe.bGenTiTpr = True\n",
        "fe.JOBgmx = '/usr/local/gromacs/2021/2021.2-impi2017-fftw337-gcc93-cuda11.1/bin/mdrun_threads_AVX_256'\n",
        "#fe.prepare_simulation( simType='transitions' )\n",
        "\n",
        "# jobscript for transitions\n",
        "fe.JOBgmx = '/usr/local/gromacs/2021/2021.2-impi2017-fftw337-gcc93-cuda11.1/bin/mdrun_threads_AVX_256'\n",
        "fe.JOBqueue = 'SLURM'\n",
        "fe.JOBmodules = ['owl/intel-mpi-default','cuda/11.0','hwloc']\n",
        "fe.JOBsimcpu = 4\n",
        "#fe.prepare_jobscripts( simType='transitions' )\n",
        "\n",
        "# analysis\n",
        "#fe.run_analysis(ligs=['lysozyme_benzene'] )\n",
        "#fe.analysis_summary()"
      ],
      "metadata": {
        "id": "Zx2YhHZ8xtZN"
      },
      "execution_count": null,
      "outputs": []
    },
    {
      "cell_type": "markdown",
      "metadata": {
        "id": "5JaGJW4ircGN"
      },
      "source": [
        "This is the structure for each calculation.\n",
        "\n",
        "```\n",
        "ligand1/\n",
        "  water/                # ligand in water simulations\n",
        "    stateA/             # coupled ligand (i.e. solvated)\n",
        "      run1/             # only 1 run as example, but we'll have >1\n",
        "        em/             # energy minimization\n",
        "        eq_posre/       # equilibration with position restraints\n",
        "        eq/             # equilibrium simulation\n",
        "        transitions/    # non-equilibrium transitions\n",
        "          frame1/       # individual non-eq runs starting\n",
        "          frame2/\n",
        "          ...\n",
        "          frame100/    \n",
        "    stateB              # decoupled ligand (i.e. in vacuum)\n",
        "      run1/\n",
        "        em/\n",
        "        eq_posre/\n",
        "        eq/\n",
        "        transitions/\n",
        "  protein/              # ligand in protein simulations\n",
        "    stateA/             # coupled ligand (i.e. protein-ligand complex)\n",
        "      run1/\n",
        "        em/\n",
        "        eq_posre/\n",
        "        eq/\n",
        "        transitions/\n",
        "    stateB/             # decoupled ligand (i.e. apo protein + restr ligand)\n",
        "      run1/\n",
        "        em/\n",
        "        eq_posre/\n",
        "        eq/\n",
        "        transitions/\n",
        "```"
      ]
    },
    {
      "cell_type": "markdown",
      "metadata": {
        "id": "L4xQEXGOx75k"
      },
      "source": [
        "### Setup protein-ligand restraints\n",
        "This step identifies the set of restraints to be used for the `protein/stateB` simulations.\n",
        "\n",
        "--> Matteo: we might be using a new approach for hanlding the restraints in `stateA`. I need to double check with Vytas how this is done in practice with pmx."
      ]
    },
    {
      "cell_type": "markdown",
      "metadata": {
        "id": "gv3vkuBRp6fh"
      },
      "source": [
        "## 2. Prepare and run equilibrium simulations\n",
        "This will prepare and run all simulations in folders `em/`, `eq_posre`, and `eq`."
      ]
    },
    {
      "cell_type": "markdown",
      "metadata": {
        "id": "jjXkMZ7Fp6iB"
      },
      "source": [
        "## 3. Prepare and run non-equilibrium simulations\n",
        "This extracts N frames from the equilibrium trajectories in the `eq/` folders, puts them in the `frame*/` folders and runs a non-equilibrium simulation from each frame. Each non-equilibrium simulation interpolates between `stateA` and `stateB` (i.e., between the \"coupled\" and \"decoupled\" ligand)."
      ]
    },
    {
      "cell_type": "markdown",
      "metadata": {
        "id": "0TmVb6Bup6jx"
      },
      "source": [
        "## 4. Estimate binding free energy\n",
        "The analysis will take in .xvg files present in each `frame*/` folder and return the estimated free energy differences."
      ]
    },
    {
      "cell_type": "code",
      "execution_count": null,
      "metadata": {
        "id": "9IMZf5Lsp59Q"
      },
      "outputs": [],
      "source": []
    },
    {
      "cell_type": "code",
      "execution_count": null,
      "metadata": {
        "id": "ypL80389p5_q"
      },
      "outputs": [],
      "source": []
    },
    {
      "cell_type": "code",
      "execution_count": null,
      "metadata": {
        "id": "0gbJlUZxp6B6"
      },
      "outputs": [],
      "source": []
    },
    {
      "cell_type": "code",
      "execution_count": null,
      "metadata": {
        "id": "SdCsxM5lp6ES"
      },
      "outputs": [],
      "source": []
    }
  ],
  "metadata": {
    "accelerator": "GPU",
    "colab": {
      "collapsed_sections": [],
      "name": "gromacs_abfe_tutorial.ipynb",
      "provenance": [],
      "toc_visible": true,
      "include_colab_link": true
    },
    "language_info": {
      "name": "python"
    },
    "kernelspec": {
      "name": "python3",
      "display_name": "Python 3"
    },
    "gpuClass": "standard"
  },
  "nbformat": 4,
  "nbformat_minor": 0
}