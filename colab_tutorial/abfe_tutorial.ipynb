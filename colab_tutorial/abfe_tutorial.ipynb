{
  "cells": [
    {
      "cell_type": "markdown",
      "metadata": {
        "id": "view-in-github",
        "colab_type": "text"
      },
      "source": [
        "<a href=\"https://colab.research.google.com/github/google-research/protein-ligand-binding-free-energy-calculations/blob/matteo-dev/colab_tutorial/abfe_tutorial.ipynb\" target=\"_parent\"><img src=\"https://colab.research.google.com/assets/colab-badge.svg\" alt=\"Open In Colab\"/></a>"
      ]
    },
    {
      "cell_type": "markdown",
      "metadata": {
        "id": "fU8sSQIYm8r0"
      },
      "source": [
        "##### Copyright 2022 Google LLC."
      ]
    },
    {
      "cell_type": "code",
      "execution_count": null,
      "metadata": {
        "cellView": "form",
        "id": "zwikt2vqm8r4"
      },
      "outputs": [],
      "source": [
        "#@title Licensed under the Apache License, Version 2.0 (the \"License\");\n",
        "# you may not use this file except in compliance with the License.\n",
        "# You may obtain a copy of the License at\n",
        "#\n",
        "# https://www.apache.org/licenses/LICENSE-2.0\n",
        "#\n",
        "# Unless required by applicable law or agreed to in writing, software\n",
        "# distributed under the License is distributed on an \"AS IS\" BASIS,\n",
        "# WITHOUT WARRANTIES OR CONDITIONS OF ANY KIND, either express or implied.\n",
        "# See the License for the specific language governing permissions and\n",
        "# limitations under the License."
      ]
    },
    {
      "cell_type": "code",
      "execution_count": null,
      "metadata": {
        "id": "t-xOe6rDm8r7",
        "outputId": "8ebbc893-2568-4227-b994-f08023281e9e",
        "colab": {
          "base_uri": "https://localhost:8080/",
          "height": 1000
        }
      },
      "outputs": [
        {
          "output_type": "stream",
          "name": "stdout",
          "text": [
            "--2022-11-15 01:47:34--  https://storage.googleapis.com/gromacs-bin/gromacs-avx2_256-cuda-11_2.tar.gz\n",
            "Resolving storage.googleapis.com (storage.googleapis.com)... 172.217.194.128, 142.251.10.128, 142.251.12.128, ...\n",
            "Connecting to storage.googleapis.com (storage.googleapis.com)|172.217.194.128|:443... connected.\n",
            "HTTP request sent, awaiting response... 200 OK\n",
            "Length: 23920923 (23M) [application/x-gzip]\n",
            "Saving to: ‘/tmp/gromacs.tar.gz’\n",
            "\n",
            "/tmp/gromacs.tar.gz 100%[===================>]  22.81M  11.3MB/s    in 2.0s    \n",
            "\n",
            "2022-11-15 01:47:36 (11.3 MB/s) - ‘/tmp/gromacs.tar.gz’ saved [23920923/23920923]\n",
            "\n",
            "Looking in indexes: https://pypi.org/simple, https://us-python.pkg.dev/colab-wheels/public/simple/\n",
            "Requirement already satisfied: pip in /usr/local/lib/python3.7/dist-packages (22.3.1)\n",
            "\u001b[33mWARNING: Running pip as the 'root' user can result in broken permissions and conflicting behaviour with the system package manager. It is recommended to use a virtual environment instead: https://pip.pypa.io/warnings/venv\u001b[0m\u001b[33m\n",
            "\u001b[0mLooking in indexes: https://pypi.org/simple, https://us-python.pkg.dev/colab-wheels/public/simple/\n",
            "Requirement already satisfied: setuptools in /usr/local/lib/python3.7/dist-packages (57.4.0)\n",
            "Requirement already satisfied: wheel in /usr/local/lib/python3.7/dist-packages (0.38.3)\n",
            "Requirement already satisfied: cmake in /usr/local/lib/python3.7/dist-packages (3.22.6)\n",
            "Requirement already satisfied: pybind11 in /usr/local/lib/python3.7/dist-packages (2.10.1)\n",
            "Requirement already satisfied: py3DMol in /usr/local/lib/python3.7/dist-packages (1.8.1)\n",
            "\u001b[33mWARNING: Running pip as the 'root' user can result in broken permissions and conflicting behaviour with the system package manager. It is recommended to use a virtual environment instead: https://pip.pypa.io/warnings/venv\u001b[0m\u001b[33m\n",
            "\u001b[0mFound existing installation: pmx 0+untagged.886.g36e3fa1\n",
            "Uninstalling pmx-0+untagged.886.g36e3fa1:\n",
            "  Would remove:\n",
            "    /usr/local/bin/pmx\n",
            "    /usr/local/lib/python3.7/dist-packages/pmx-0+untagged.886.g36e3fa1.dist-info/*\n",
            "    /usr/local/lib/python3.7/dist-packages/pmx/*\n",
            "Proceed (Y/n)?   Successfully uninstalled pmx-0+untagged.886.g36e3fa1\n",
            "\u001b[33mWARNING: Running pip as the 'root' user can result in broken permissions and conflicting behaviour with the system package manager. It is recommended to use a virtual environment instead: https://pip.pypa.io/warnings/venv\u001b[0m\u001b[33m\n",
            "\u001b[0mLooking in indexes: https://pypi.org/simple, https://us-python.pkg.dev/colab-wheels/public/simple/\n",
            "Collecting git+https://github.com/deGrootLab/pmx.git@abfe_dev\n",
            "  Cloning https://github.com/deGrootLab/pmx.git (to revision abfe_dev) to /tmp/pip-req-build-ntpb4p6v\n",
            "  Running command git clone --filter=blob:none --quiet https://github.com/deGrootLab/pmx.git /tmp/pip-req-build-ntpb4p6v\n",
            "  Running command git checkout -b abfe_dev --track origin/abfe_dev\n",
            "  Switched to a new branch 'abfe_dev'\n",
            "  Branch 'abfe_dev' set up to track remote branch 'abfe_dev' from 'origin'.\n",
            "  Resolved https://github.com/deGrootLab/pmx.git to commit 36e3fa11cde7a5138b27232f34849ce098fa6306\n",
            "  Preparing metadata (setup.py) ... \u001b[?25l\u001b[?25hdone\n",
            "Requirement already satisfied: numpy in /usr/local/lib/python3.7/dist-packages (from pmx==0+untagged.886.g36e3fa1) (1.21.6)\n",
            "Requirement already satisfied: scipy in /usr/local/lib/python3.7/dist-packages (from pmx==0+untagged.886.g36e3fa1) (1.7.3)\n",
            "Requirement already satisfied: matplotlib in /usr/local/lib/python3.7/dist-packages (from pmx==0+untagged.886.g36e3fa1) (3.2.2)\n",
            "Requirement already satisfied: future in /usr/local/lib/python3.7/dist-packages (from pmx==0+untagged.886.g36e3fa1) (0.16.0)\n",
            "Requirement already satisfied: cycler>=0.10 in /usr/local/lib/python3.7/dist-packages (from matplotlib->pmx==0+untagged.886.g36e3fa1) (0.11.0)\n",
            "Requirement already satisfied: kiwisolver>=1.0.1 in /usr/local/lib/python3.7/dist-packages (from matplotlib->pmx==0+untagged.886.g36e3fa1) (1.4.4)\n",
            "Requirement already satisfied: python-dateutil>=2.1 in /usr/local/lib/python3.7/dist-packages (from matplotlib->pmx==0+untagged.886.g36e3fa1) (2.8.2)\n",
            "Requirement already satisfied: pyparsing!=2.0.4,!=2.1.2,!=2.1.6,>=2.0.1 in /usr/local/lib/python3.7/dist-packages (from matplotlib->pmx==0+untagged.886.g36e3fa1) (3.0.9)\n",
            "Requirement already satisfied: typing-extensions in /usr/local/lib/python3.7/dist-packages (from kiwisolver>=1.0.1->matplotlib->pmx==0+untagged.886.g36e3fa1) (4.1.1)\n",
            "Requirement already satisfied: six>=1.5 in /usr/local/lib/python3.7/dist-packages (from python-dateutil>=2.1->matplotlib->pmx==0+untagged.886.g36e3fa1) (1.15.0)\n",
            "Building wheels for collected packages: pmx\n",
            "  Building wheel for pmx (setup.py) ... \u001b[?25l\u001b[?25hdone\n",
            "  Created wheel for pmx: filename=pmx-0+untagged.886.g36e3fa1-cp37-cp37m-linux_x86_64.whl size=12270911 sha256=bc607093d858d794a09015418619efebb63d030714f258cf962030a58a9b72b2\n",
            "  Stored in directory: /tmp/pip-ephem-wheel-cache-xjpgydqr/wheels/cd/e9/20/1e8d3a49d2df752f5a6b8c84cf02697d0c25d73a5eacc7ebbb\n",
            "Successfully built pmx\n",
            "Installing collected packages: pmx\n",
            "Successfully installed pmx-0+untagged.886.g36e3fa1\n",
            "\u001b[33mWARNING: Running pip as the 'root' user can result in broken permissions and conflicting behaviour with the system package manager. It is recommended to use a virtual environment instead: https://pip.pypa.io/warnings/venv\u001b[0m\u001b[33m\n",
            "\u001b[0m"
          ]
        },
        {
          "output_type": "display_data",
          "data": {
            "application/vnd.colab-display-data+json": {
              "pip_warning": {
                "packages": [
                  "pmx"
                ]
              }
            }
          },
          "metadata": {}
        },
        {
          "output_type": "stream",
          "name": "stdout",
          "text": [
            "Looking in indexes: https://pypi.org/simple, https://us-python.pkg.dev/colab-wheels/public/simple/\n",
            "Requirement already satisfied: gmxapi in /usr/local/lib/python3.7/dist-packages (0.3.2.post1)\n",
            "Requirement already satisfied: pybind11 in /usr/local/lib/python3.7/dist-packages (from gmxapi) (2.10.1)\n",
            "Requirement already satisfied: networkx>=2.0 in /usr/local/lib/python3.7/dist-packages (from gmxapi) (2.6.3)\n",
            "Requirement already satisfied: packaging in /usr/local/lib/python3.7/dist-packages (from gmxapi) (21.3)\n",
            "Requirement already satisfied: numpy>1.7 in /usr/local/lib/python3.7/dist-packages (from gmxapi) (1.21.6)\n",
            "Requirement already satisfied: pyparsing!=3.0.5,>=2.0.2 in /usr/local/lib/python3.7/dist-packages (from packaging->gmxapi) (3.0.9)\n",
            "\u001b[33mWARNING: Running pip as the 'root' user can result in broken permissions and conflicting behaviour with the system package manager. It is recommended to use a virtual environment instead: https://pip.pypa.io/warnings/venv\u001b[0m\u001b[33m\n",
            "\u001b[0m"
          ]
        }
      ],
      "source": [
        "#@title Install Gromacs and Gromacs Python API\n",
        "!wget https://storage.googleapis.com/gromacs-bin/gromacs-avx2_256-cuda-11_2.tar.gz -O /tmp/gromacs.tar.gz\n",
        "!tar zxf /tmp/gromacs.tar.gz\n",
        "!sudo rm -rf /usr/local/gromacs\n",
        "!sudo mv gromacs-avx /usr/local/gromacs\n",
        "!rm /tmp/gromacs.tar.gz\n",
        "\n",
        "!pip3 install --upgrade pip\n",
        "!pip3 install setuptools wheel cmake pybind11 py3DMol\n",
        "# This ensure we always install the latest PMX version from GitHub.\n",
        "!if [ -d /usr/local/lib/python3.7/dist-packages/pmx/ ]; then yes Y | pip3 uninstall pmx; fi\n",
        "!pip3 install git+https://github.com/deGrootLab/pmx.git@abfe_dev\n",
        "!gmxapi_ROOT=/usr/local/gromacs/ pip3 install --no-cache-dir gmxapi\n",
        "\n",
        "# Add path to where pmx gets installed.\n",
        "import sys\n",
        "sys.path.append('/usr/local/lib/python3.7/site-packages/')"
      ]
    },
    {
      "cell_type": "code",
      "execution_count": null,
      "metadata": {
        "cellView": "form",
        "id": "Sd-L2ttCm8r7"
      },
      "outputs": [],
      "source": [
        "#@title Set Level for Logging\n",
        "#@markdown Sets the python logging level. This is useful for debugging.\n",
        "import logging\n",
        "\n",
        "log_level = 'INFO' #@param ['DEBUG', 'INFO', 'ERROR']\n",
        "\n",
        "_log_level = {\n",
        "    'DEBUG': logging.DEBUG,\n",
        "    'INFO': logging.INFO,\n",
        "    'ERROR': logging.ERROR\n",
        "}\n",
        "\n",
        "logging.basicConfig(level=_log_level[log_level])"
      ]
    },
    {
      "cell_type": "code",
      "execution_count": null,
      "metadata": {
        "id": "F5gQOMIJBRUY",
        "outputId": "03d019dd-8dcf-44fb-d55f-43eea6787776",
        "colab": {
          "base_uri": "https://localhost:8080/"
        }
      },
      "outputs": [
        {
          "output_type": "stream",
          "name": "stdout",
          "text": [
            "Session ID:  1668476992\n"
          ]
        }
      ],
      "source": [
        "#@title [Please Rerun after Restart] Create a Session\n",
        "#@markdown Please rerun this cell every time when you restart the runtime.\n",
        "#@markdown A new session ID will be created for a new colab runtime session.\n",
        "#@markdown Run this cell again will refresh the session ID.\n",
        "\n",
        "import os\n",
        "import time\n",
        "import gmxapi\n",
        "\n",
        "\n",
        "# Sets a session ID for this session.\n",
        "_SESSION_ID = str(int(time.time())) #@param\n",
        "\n",
        "# Monkey patch this session ID into the gmxapi.operation.ResourceManager.\n",
        "# Hack. Do not use in the user code.\n",
        "# This is temporarily added to allow users to start from a new set of working\n",
        "# directories for all the mdrun launches. GMX API doesn't expose the\n",
        "# underlying resource manager or context yet.\n",
        "def operation_id(self):\n",
        "  return f\"{self._base_operation_id}_{_SESSION_ID}\"\n",
        "gmxapi.operation.ResourceManager.operation_id = property(operation_id)\n",
        "\n",
        "\n",
        "def get_work_dir(md_output):\n",
        "  values = [v for v in md_output.values()]\n",
        "  return values[0].result()\n",
        "\n",
        "\n",
        "def tail_log(md_output, output_file_base, last_n_lines=6):\n",
        "  work_dir = get_work_dir(md_output)\n",
        "\n",
        "  with open(os.path.join(work_dir, output_file_base + '.log'), 'r') as log:\n",
        "    for line in log.readlines()[-last_n_lines:]:\n",
        "      print(line)\n",
        "\n",
        "print(\"Session ID: \", _SESSION_ID)"
      ]
    },
    {
      "cell_type": "markdown",
      "metadata": {
        "id": "Skich7muxHrf"
      },
      "source": [
        "# ABFE Workflow\n",
        "-----"
      ]
    },
    {
      "cell_type": "code",
      "source": [
        "import numpy as np\n",
        "import shutil\n",
        "from tqdm import tqdm\n",
        "import pmx\n",
        "from pmx.AbsoluteDG import AbsoluteDG"
      ],
      "metadata": {
        "id": "KdQigJ26pJrv"
      },
      "execution_count": null,
      "outputs": []
    },
    {
      "cell_type": "code",
      "source": [
        "#@title Define some helper functions\n",
        "\n",
        "def mdrun(tpr, pmegpu=True, nsteps=None, transition=False):\n",
        "  \"\"\"Wrapper for gmxapi.mdrun with predefined scenarios optimized for different \n",
        "  types of simulations.\n",
        "\n",
        "  Args:\n",
        "    tpr (str): path to TPR file.\n",
        "    pmegpu (bool): whether to run PME calculations on the GPU. Default is True.\n",
        "      Note this is not possible with certain integrators.\n",
        "    nsteps (int): number of integration steps to run, overwrites nsteps defined\n",
        "      by the MDP file used to generate the TPR. Default is None (do not modify \n",
        "      TPR).\n",
        "    transition (bool): whether we are running a non-equilibrium transition. \n",
        "      Default is False.\n",
        "\n",
        "  Returns:\n",
        "    object: StandardOperationHandle returned by gmxapi.mdrun.\n",
        "  \"\"\"\n",
        "  # Load TPR file.\n",
        "  input_tpr = gmxapi.read_tpr(tpr)\n",
        "  if nsteps is not None:\n",
        "    input_tpr = gmxapi.modify_input(input=input_tpr, \n",
        "                                    parameters={'nsteps': nsteps})    \n",
        "\n",
        "  # Get path to TPR.\n",
        "  path = \"/\".join(tpr.split('/')[:-1])\n",
        "  \n",
        "  # Specify command line flags and arguments to be passed to mdrun.\n",
        "  # Note: energy minimization cannot run PME on GPU.\n",
        "  if pmegpu:\n",
        "    _pme = 'gpu'\n",
        "    _pmefft = 'gpu'\n",
        "    _bonded = 'gpu'\n",
        "  else:\n",
        "    _pme = 'auto'\n",
        "    _pmefft = 'auto'\n",
        "    _bonded = 'auto'\n",
        "\n",
        "  # If we are running a non-equilibrium transition, we want to get the dhdl\n",
        "  # file and keep only that. We then use the presence of dhdl_{n}.xvg to \n",
        "  # determine if the simulation has been ran already.\n",
        "  if transition:\n",
        "    n = int(tpr.split('/')[-1].split('.')[0].replace('ti', ''))\n",
        "    md = gmxapi.mdrun(input_tpr,\n",
        "                      runtime_args={'-nb': 'gpu', \n",
        "                                    '-pme': _pme, \n",
        "                                    '-pmefft': _pmefft, \n",
        "                                    '-bonded': _bonded,\n",
        "                                    '-x': f'{path}/traj_{n}.xtc',\n",
        "                                    '-o': f'{path}/traj_{n}.trr',\n",
        "                                    '-c': f'{path}/confout_{n}.gro',\n",
        "                                    '-e': f'{path}/ener_{n}.edr', \n",
        "                                    '-g': f'{path}/md_{n}.log',\n",
        "                                    '-cpo': f'{path}/state_{n}.cpt',\n",
        "                                    '-dhdl': f'{path}/dhdl_{n}.xvg'\n",
        "                                    }\n",
        "                      )\n",
        "  else:\n",
        "    md = gmxapi.mdrun(input_tpr,\n",
        "                      runtime_args={'-nb': 'gpu', \n",
        "                                    '-pme': _pme, \n",
        "                                    '-pmefft': _pmefft, \n",
        "                                    '-bonded': _bonded,\n",
        "                                    '-x': f'{path}/traj.xtc',\n",
        "                                    '-o': f'{path}/traj.trr',\n",
        "                                    '-c': f'{path}/confout.gro',\n",
        "                                    '-e': f'{path}/ener.edr', \n",
        "                                    '-g': f'{path}/md.log',\n",
        "                                    '-cpo': f'{path}/state.cpt'\n",
        "                                    }\n",
        "                      )\n",
        "\n",
        "  # Run the simulation.\n",
        "  md.run()\n",
        "\n",
        "  # If transition, clean up files we won't need.\n",
        "  if transition:\n",
        "    for f in [f'{path}/traj_{n}.xtc', \n",
        "              f'{path}/traj_{n}.trr', \n",
        "              f'{path}/confout_{n}.gro', \n",
        "              f'{path}/ener_{n}.edr', \n",
        "              f'{path}/md_{n}.log',  \n",
        "              f'{path}/state_{n}.cpt']:\n",
        "      if os.path.isfile(f):\n",
        "        os.remove(f)\n",
        "\n",
        "  return md\n",
        "\n",
        "\n",
        "def mdrun_completed(tpr: str, transition: bool = False) -> bool:\n",
        "  \"\"\"Checks whether energy minimization completed successfully.\n",
        "  \n",
        "  Args:\n",
        "    tpr (str): path to TPR file.\n",
        "    transition (bool): whether we are checking completion for a non-equilibrium \n",
        "      transition. Default is False.\n",
        "\n",
        "  Returns:\n",
        "    bool: whether the TPR has been run successfully.\n",
        "  \"\"\"\n",
        "  # If we're chekcing the completion of a non-eq transition, we check that (i)\n",
        "  # the right dhdl.xvg file exists, and that (ii) it contains info up to the \n",
        "  # end of the transition. Otherwise, we assume it crashed and needs to be\n",
        "  # completed.\n",
        "  if transition:\n",
        "    # Get the index of the transition.\n",
        "    n = int(tpr.split('/')[-1].split('.')[0].replace('ti', ''))\n",
        "    # Get dhdl file path.\n",
        "    dhdl = \"/\".join(tpr.split(\"/\")[:-1]) + f\"/dhdl_{n}.xvg\"\n",
        "    # If dhdl file exists, check it's complete.\n",
        "    if os.path.isfile(dhdl):\n",
        "      input_tpr = gmxapi.read_tpr(tpr)\n",
        "      nsteps = input_tpr.output.parameters.result()['nsteps']\n",
        "      dt = input_tpr.output.parameters.result()['dt']\n",
        "      expected_final_time = nsteps * dt\n",
        "      \n",
        "      with open(dhdl, 'r') as f:\n",
        "        lines = f.readlines()\n",
        "      \n",
        "      try:\n",
        "        actual_final_time = float(lines[-1].split()[0])\n",
        "        if expected_final_time - actual_final_time < 1e-6:\n",
        "          return True\n",
        "      except:\n",
        "        return False\n",
        "      \n",
        "    return False\n",
        "  else:\n",
        "    # (maldeghi): IIRC Gromacs would output the GRO file only for mdruns that\n",
        "    # did not crash/errored. We can make this stricted by checking the log\n",
        "    # file too.\n",
        "    gro = \"/\".join(tpr.split(\"/\")[:-1]) + \"/confout.gro\"\n",
        "    if os.path.isfile(gro):\n",
        "      return True\n",
        "    else:\n",
        "      return False\n",
        "\n",
        "\n",
        "def tail(fname, n):\n",
        "  with open(fname) as f:\n",
        "    for line in (f.readlines() [-n:]):\n",
        "      print(line, end ='')"
      ],
      "metadata": {
        "id": "n-2EswQwUya3"
      },
      "execution_count": null,
      "outputs": []
    },
    {
      "cell_type": "code",
      "source": [
        "#@title Copy input files\n",
        "\n",
        "WORKDIR = f\"/content/pmxrun_{_SESSION_ID}\"  #@param {type:\"string\"}\n",
        "OVERWRITE_WORKDIR = True  #@param {type:\"boolean\"}\n",
        "\n",
        "#@markdown Whether to run very short simulations for testing. Otherwise, we run \n",
        "#@markdown the full set of calculations, which takes several hours.\n",
        "SHORT_SIMS = True  #@param {type:\"boolean\"}\n",
        "\n",
        "if os.path.isdir(WORKDIR) and OVERWRITE_WORKDIR:\n",
        "  shutil.rmtree(WORKDIR)\n",
        "\n",
        "if not os.path.isdir(WORKDIR):\n",
        "  os.mkdir(WORKDIR)\n",
        "\n",
        "  pmx_path = pmx.__file__.replace('/__init__.py', '')\n",
        "\n",
        "  # Copy topology and structure files for protein and ligand.\n",
        "  shutil.copytree(f'{pmx_path}/abfe_scripts/struct_top/', f'{WORKDIR}/struct_top/')\n",
        "\n",
        "  # Copy MDP files (i.e. Gromacs config files).\n",
        "  shutil.copytree(f'{pmx_path}/abfe_scripts/mdppath/', f'{WORKDIR}/mdppath/')\n",
        "\n",
        "# We also shorten the alchemical transitions to speed things up.\n",
        "# Note we cannot just change nsteps in mdrun here because we need to adjust the\n",
        "# lambda schedule too.\n",
        "! if [ $SHORT_SIMS == \"True\" ]; then sed -i 's/nsteps.*/nsteps = 25000/g' $WORKDIR/mdppath/ti_l*mdp; fi\n",
        "! if [ $SHORT_SIMS == \"True\" ]; then sed -i 's/delta-lambda.*/delta-lambda = 4e-5/g' $WORKDIR/mdppath/ti_l0.mdp; fi  # 1/25,000 = 4e-5\n",
        "! if [ $SHORT_SIMS == \"True\" ]; then sed -i 's/delta-lambda.*/delta-lambda = -4e-5/g' $WORKDIR/mdppath/ti_l1.mdp; fi\n",
        "\n",
        "# Show contents of our working directory.\n",
        "!echo \"> ls {WORKDIR}\"\n",
        "!ls -l {WORKDIR}"
      ],
      "metadata": {
        "id": "UpP5TYyavS-D",
        "outputId": "0701b063-c27f-40f6-d126-2e55917f4253",
        "colab": {
          "base_uri": "https://localhost:8080/"
        }
      },
      "execution_count": null,
      "outputs": [
        {
          "output_type": "stream",
          "name": "stdout",
          "text": [
            "> ls /content/pmxrun_1668476992\n",
            "total 8\n",
            "drwxr-xr-x 2 root root 4096 Nov 15 01:50 mdppath\n",
            "drwxr-xr-x 4 root root 4096 Nov 15 01:48 struct_top\n"
          ]
        }
      ]
    },
    {
      "cell_type": "markdown",
      "source": [
        "## 1.&nbsp; Input Files Preparation"
      ],
      "metadata": {
        "id": "hTMjgKkLXvQa"
      }
    },
    {
      "cell_type": "code",
      "source": [
        "#@title 1.1&nbsp; Setup folder structure\n",
        "\n",
        "# Initialize the free energy environment object. It will store the main \n",
        "# parameters for the calculations.\n",
        "fe = AbsoluteDG(ligList=['lysozyme_benzene'], \n",
        "                apoCase='lysozyme_apo', \n",
        "                bDSSB=False,\n",
        "                gmxexec='/usr/local/gromacs/bin/gmx')\n",
        "\n",
        "# Set the workpath in which simulation input files will be created.\n",
        "fe.workPath = f'{WORKDIR}/lysopath'\n",
        "# Set the path to the MDP files.\n",
        "fe.mdpPath = f'{WORKDIR}/mdppath'\n",
        "#@markdown Set the number of replicas (i.e., number of equilibrium simulations per state).\n",
        "fe.replicas = 2  #@param {type:\"integer\"}\n",
        "# Provide the path to the structures and topologies.\n",
        "fe.structTopPath = f'{WORKDIR}/struct_top'\n",
        "\n",
        "# Prepare the directory structure with all simulations steps required.\n",
        "fe.simTypes = ['em',  # Energy minimization.\n",
        "               'eq_posre',  # Equilibrium sim with position restraints.\n",
        "               'eq',  # Equilibrium simulation.\n",
        "               'transitions']  # Alchemical, non-equilibrium simulations.\n",
        "\n",
        "fe.prepareFreeEnergyDir()"
      ],
      "metadata": {
        "id": "7aWt8mknrxut",
        "outputId": "cd083a8c-af8e-4518-fba4-c0cdd0e77e24",
        "colab": {
          "base_uri": "https://localhost:8080/"
        }
      },
      "execution_count": null,
      "outputs": [
        {
          "output_type": "stream",
          "name": "stdout",
          "text": [
            "\n",
            "---------------------\n",
            "Summary of the setup:\n",
            "---------------------\n",
            "\n",
            "   workpath: /content/pmxrun_1668476992/lysopath\n",
            "   mdp path: /content/pmxrun_1668476992/mdppath\n",
            "   # ligands: 1\n",
            "   ligands:\n",
            "        lysozyme_benzene\n",
            "   apo state: lysozyme_apo\n",
            "\n",
            "---------------------\n",
            "Directory structure:\n",
            "---------------------\n",
            "\n",
            "/content/pmxrun_1668476992/lysopath/\n",
            "|\n",
            "|--ligX\n",
            "|--|--water\n",
            "|--|--|--stateA\n",
            "|--|--|--|--run1/2\n",
            "|--|--|--|--|--/em/eq_posre/eq/transitions\n",
            "|--|--|--stateB\n",
            "|--|--|--|--run1/2\n",
            "|--|--|--|--|--/em/eq_posre/eq/transitions\n",
            "|--|--protein\n",
            "|--|--|--stateA\n",
            "|--|--|--|--run1/2\n",
            "|--|--|--|--|--/em/eq_posre/eq/transitions\n",
            "|--|--|--stateB\n",
            "|--|--|--|--run1/2\n",
            "|--|--|--|--|--/em/eq_posre/eq/transitions\n",
            "|--|--strTopFolder\n",
            "|--lig..\n",
            "\n",
            "DONE\n"
          ]
        }
      ]
    },
    {
      "cell_type": "code",
      "source": [
        "#@title 1.2&nbsp; Assemble simulation systems\n",
        "\n",
        "# Assemble the systems: build Gromacs structure and topology for the \n",
        "# ligand+water and ligand+protein+water systems.\n",
        "fe.assemble_systems()\n",
        "\n",
        "# Define the simulation boxes, fill them with water molecules, and add ions to \n",
        "# neutralize the system and reach desired NaCl concentration (0.15 M by default).\n",
        "fe.boxWaterIons()"
      ],
      "metadata": {
        "id": "cotlzEQ9sNgk",
        "outputId": "157602fb-46a4-46c3-e7b2-4f3836e03fd3",
        "colab": {
          "base_uri": "https://localhost:8080/"
        }
      },
      "execution_count": null,
      "outputs": [
        {
          "output_type": "stream",
          "name": "stdout",
          "text": [
            "----------------------\n",
            "Assembling the systems\n",
            "----------------------\n",
            "Order: ligand-protein-other-water\n",
            "--- Assembling structures: lysozyme_benzene ---\n",
            "--- Assembling topologies: lysozyme_benzene ---\n",
            "----------------\n",
            "Box, water, ions\n",
            "----------------\n"
          ]
        }
      ]
    },
    {
      "cell_type": "code",
      "source": [
        "# Check the files present now. This is the content of root dir of the \n",
        "# calculation for this protein-ligand pair. The following ls calls show \n",
        "# the content of some subfolders for the complex simulations, \n",
        "# stateA (coupled ligand). The other folders have the same structure/files but \n",
        "# for the ligand in water simulations and for stateB too.\n",
        "!echo \"> ls {WORKDIR}/lysopath/lysozyme_benzene/\"\n",
        "!ls {WORKDIR}/lysopath/lysozyme_benzene/\n",
        "!echo \"\"\n",
        "!echo \"> ls {WORKDIR}/lysopath/lysozyme_benzene/protein\"\n",
        "!ls {WORKDIR}/lysopath/lysozyme_benzene/protein/\n",
        "!echo \"\"\n",
        "!echo \"> ls {WORKDIR}/lysopath/lysozyme_benzene/protein/stateA\"\n",
        "!ls {WORKDIR}/lysopath/lysozyme_benzene/protein/stateA/\n",
        "!echo \"\"\n",
        "!echo \"> ls {WORKDIR}/lysopath/lysozyme_benzene/protein/stateA/run1/\"\n",
        "!ls {WORKDIR}/lysopath/lysozyme_benzene/protein/stateA/run1/"
      ],
      "metadata": {
        "id": "hYIk_gOoyIUs",
        "colab": {
          "base_uri": "https://localhost:8080/"
        },
        "outputId": "8e2d3404-c105-40b5-d4e4-4e50926afe06"
      },
      "execution_count": null,
      "outputs": [
        {
          "output_type": "stream",
          "name": "stdout",
          "text": [
            "> ls /content/pmxrun_1668476992/lysopath/lysozyme_benzene/\n",
            "protein  strTopFolder_apo  strTopFolder_holo  water\n",
            "\n",
            "> ls /content/pmxrun_1668476992/lysopath/lysozyme_benzene/protein\n",
            "stateA\tstateB\n",
            "\n",
            "> ls /content/pmxrun_1668476992/lysopath/lysozyme_benzene/protein/stateA\n",
            "box.pdb   mdout.mdp  run2\t topol.top  tpr.tpr\n",
            "ions.pdb  run1\t     system.pdb  top.top    water.pdb\n",
            "\n",
            "> ls /content/pmxrun_1668476992/lysopath/lysozyme_benzene/protein/stateA/run1/\n",
            "em  eq\teq_posre  transitions\n"
          ]
        }
      ]
    },
    {
      "cell_type": "markdown",
      "source": [
        "## 2&nbsp; Energy Minimization"
      ],
      "metadata": {
        "id": "lUZaXKThYEEL"
      }
    },
    {
      "cell_type": "code",
      "source": [
        "#@title 2.1&nbsp; Prepare TPR files\n",
        "\n",
        "# Call grompp and create TPR files for all systems and repeats.\n",
        "tpr_files = fe.prepare_simulation(simType='em')\n",
        "\n",
        "print(\"List of TPR files that we'll run:\")\n",
        "for f in tpr_files:\n",
        "  print(f\"  {f}\")"
      ],
      "metadata": {
        "id": "Zx2YhHZ8xtZN",
        "colab": {
          "base_uri": "https://localhost:8080/"
        },
        "outputId": "a417bab1-e8b6-4050-ed88-023ed7664c3c"
      },
      "execution_count": null,
      "outputs": [
        {
          "output_type": "stream",
          "name": "stdout",
          "text": [
            "-----------------------------------------\n",
            "Preparing simulation: em\n",
            "-----------------------------------------\n",
            "List of TPR files that we'll run:\n",
            "  /content/pmxrun_1668476992/lysopath/lysozyme_benzene/water/stateA/run1/em/tpr.tpr\n",
            "  /content/pmxrun_1668476992/lysopath/lysozyme_benzene/water/stateA/run2/em/tpr.tpr\n",
            "  /content/pmxrun_1668476992/lysopath/lysozyme_benzene/water/stateB/run1/em/tpr.tpr\n",
            "  /content/pmxrun_1668476992/lysopath/lysozyme_benzene/water/stateB/run2/em/tpr.tpr\n",
            "  /content/pmxrun_1668476992/lysopath/lysozyme_benzene/protein/stateA/run1/em/tpr.tpr\n",
            "  /content/pmxrun_1668476992/lysopath/lysozyme_benzene/protein/stateA/run2/em/tpr.tpr\n",
            "  /content/pmxrun_1668476992/lysopath/lysozyme_benzene/protein/stateB/run1/em/tpr.tpr\n",
            "  /content/pmxrun_1668476992/lysopath/lysozyme_benzene/protein/stateB/run2/em/tpr.tpr\n"
          ]
        }
      ]
    },
    {
      "cell_type": "code",
      "source": [
        "#@title 2.2&nbsp; Run minimizations\n",
        "\n",
        "if SHORT_SIMS:\n",
        "  nsteps = 500\n",
        "else:\n",
        "  nsteps = None  # i.e. use what's in the MDP files\n",
        "\n",
        "# Read the TPR files and run all minimizations.\n",
        "for tpr_file in tqdm(tpr_files):\n",
        "  print(f\"\\nRunning {tpr_file}\")\n",
        "\n",
        "  # If minimization has been run already, skip.\n",
        "  if mdrun_completed(tpr_file):\n",
        "    print(f\"`{tpr_file}` already ran successfully\")\n",
        "    continue\n",
        "\n",
        "  # Run the simulation (with reduced number of steps if needed)\n",
        "  md = mdrun(tpr_file, pmegpu=False, nsteps=nsteps)"
      ],
      "metadata": {
        "colab": {
          "base_uri": "https://localhost:8080/"
        },
        "id": "6Jec4JUu1caU",
        "outputId": "c913a6ca-aba4-42ee-f4f9-30836cbb95f6"
      },
      "execution_count": null,
      "outputs": [
        {
          "output_type": "stream",
          "name": "stderr",
          "text": [
            "100%|██████████| 8/8 [02:01<00:00, 15.24s/it]\n"
          ]
        }
      ]
    },
    {
      "cell_type": "markdown",
      "source": [
        "## 3.&nbsp; Equilibrium Simulations\n",
        "\n",
        "First, we run a short MD simulation with position restraints to equilibrate the solvent and ions around the protein/ligand. Then, we run tha actual production simulation."
      ],
      "metadata": {
        "id": "fGrncu-0YPh6"
      }
    },
    {
      "cell_type": "code",
      "source": [
        "#@title 3.1&nbsp; Prepare TPR files for short equilibration\n",
        "\n",
        "tpr_files = fe.prepare_simulation(simType='eq_posre', prevSim='em')\n",
        "\n",
        "print(\"List of TPR files that we'll run:\")\n",
        "for f in tpr_files:\n",
        "  print(f\"  {f}\")"
      ],
      "metadata": {
        "colab": {
          "base_uri": "https://localhost:8080/"
        },
        "id": "hJXqCkr8XEK7",
        "outputId": "8f27666e-c1b0-4823-dc4e-8af16c834b02"
      },
      "execution_count": null,
      "outputs": [
        {
          "output_type": "stream",
          "name": "stdout",
          "text": [
            "-----------------------------------------\n",
            "Preparing simulation: eq_posre\n",
            "-----------------------------------------\n",
            "List of TPR files that we'll run:\n",
            "  /content/pmxrun_1668476992/lysopath/lysozyme_benzene/water/stateA/run1/eq_posre/tpr.tpr\n",
            "  /content/pmxrun_1668476992/lysopath/lysozyme_benzene/water/stateA/run2/eq_posre/tpr.tpr\n",
            "  /content/pmxrun_1668476992/lysopath/lysozyme_benzene/water/stateB/run1/eq_posre/tpr.tpr\n",
            "  /content/pmxrun_1668476992/lysopath/lysozyme_benzene/water/stateB/run2/eq_posre/tpr.tpr\n",
            "  /content/pmxrun_1668476992/lysopath/lysozyme_benzene/protein/stateA/run1/eq_posre/tpr.tpr\n",
            "  /content/pmxrun_1668476992/lysopath/lysozyme_benzene/protein/stateA/run2/eq_posre/tpr.tpr\n",
            "  /content/pmxrun_1668476992/lysopath/lysozyme_benzene/protein/stateB/run1/eq_posre/tpr.tpr\n",
            "  /content/pmxrun_1668476992/lysopath/lysozyme_benzene/protein/stateB/run2/eq_posre/tpr.tpr\n"
          ]
        }
      ]
    },
    {
      "cell_type": "code",
      "source": [
        "#@title 3.2&nbsp; Run short equilibration\n",
        "\n",
        "if SHORT_SIMS:\n",
        "  nsteps = 5_000  # 5,000 x 2 fs = 10 ps\n",
        "else:\n",
        "  nsteps = None  # i.e. use what's in the MDP files\n",
        "\n",
        "# Read the TPR files and run all simulations.\n",
        "for tpr_file in tqdm(tpr_files):\n",
        "  print(f\"\\nRunning {tpr_file}\")\n",
        "\n",
        "  # If simulation has been run already, skip.\n",
        "  if mdrun_completed(tpr_file):\n",
        "    print(f\"`{tpr_file}` already ran successfully\")\n",
        "    continue\n",
        "  # Run the simulation (with reduced number of steps to speed things up)\n",
        "  md = mdrun(tpr_file, pmegpu=True, nsteps=nsteps)"
      ],
      "metadata": {
        "colab": {
          "base_uri": "https://localhost:8080/"
        },
        "id": "xNJ4StaWYYJT",
        "outputId": "6c29cf37-fb93-4f45-8cdb-7a5615fbafa2"
      },
      "execution_count": null,
      "outputs": [
        {
          "output_type": "stream",
          "name": "stderr",
          "text": [
            "100%|██████████| 8/8 [01:48<00:00, 13.58s/it]\n"
          ]
        }
      ]
    },
    {
      "cell_type": "code",
      "source": [
        "# Show output files for one run.\n",
        "print(\"Path to mdrun output files:\", os.path.dirname(tpr_files[0]))\n",
        "print(\"Output files:\", os.listdir(\"/\".join(tpr_files[0].split(\"/\")[:-1])))\n",
        "print()\n",
        "\n",
        "# Tail log file to see performance.\n",
        "tail(tpr_files[0].replace('tpr.tpr', 'md.log'), n=5)"
      ],
      "metadata": {
        "id": "4HZiyPuOwQAD",
        "outputId": "a6f9fa8c-4e80-4e17-cf06-1805d3b46208",
        "colab": {
          "base_uri": "https://localhost:8080/"
        }
      },
      "execution_count": null,
      "outputs": [
        {
          "output_type": "stream",
          "name": "stdout",
          "text": [
            "Path to mdrun output files: /content/pmxrun_1668476992/lysopath/lysozyme_benzene/water/stateA/run1/eq_posre\n",
            "Output files: ['tpr.tpr', 'traj.trr', 'md.log', 'confout.gro', 'state.cpt', 'ener.edr', 'mdout.mdp']\n",
            "\n",
            "       Time:        6.019        3.010      200.0\n",
            "                 (ns/day)    (hour/ns)\n",
            "Performance:      287.132        0.084\n",
            "Finished mdrun on rank 0 Tue Nov 15 01:58:35 2022\n",
            "\n"
          ]
        }
      ]
    },
    {
      "cell_type": "code",
      "source": [
        "#@title 3.3&nbsp; Prepare TPR files for equilibrium simulations\n",
        "\n",
        "tpr_files = fe.prepare_simulation(simType='eq', prevSim='eq_posre')\n",
        "\n",
        "print(\"List of TPR files that we'll run:\")\n",
        "for f in tpr_files:\n",
        "  print(f\"  {f}\")"
      ],
      "metadata": {
        "colab": {
          "base_uri": "https://localhost:8080/"
        },
        "id": "niTYHk9FYYLv",
        "outputId": "abdb9c1d-c5a5-444b-8396-56af4c3f17b9"
      },
      "execution_count": null,
      "outputs": [
        {
          "output_type": "stream",
          "name": "stdout",
          "text": [
            "-----------------------------------------\n",
            "Preparing simulation: eq\n",
            "-----------------------------------------\n",
            "List of TPR files that we'll run:\n",
            "  /content/pmxrun_1668476992/lysopath/lysozyme_benzene/water/stateA/run1/eq/tpr.tpr\n",
            "  /content/pmxrun_1668476992/lysopath/lysozyme_benzene/water/stateA/run2/eq/tpr.tpr\n",
            "  /content/pmxrun_1668476992/lysopath/lysozyme_benzene/water/stateB/run1/eq/tpr.tpr\n",
            "  /content/pmxrun_1668476992/lysopath/lysozyme_benzene/water/stateB/run2/eq/tpr.tpr\n",
            "  /content/pmxrun_1668476992/lysopath/lysozyme_benzene/protein/stateA/run1/eq/tpr.tpr\n",
            "  /content/pmxrun_1668476992/lysopath/lysozyme_benzene/protein/stateA/run2/eq/tpr.tpr\n",
            "  /content/pmxrun_1668476992/lysopath/lysozyme_benzene/protein/stateB/run1/eq/tpr.tpr\n",
            "  /content/pmxrun_1668476992/lysopath/lysozyme_benzene/protein/stateB/run2/eq/tpr.tpr\n"
          ]
        }
      ]
    },
    {
      "cell_type": "code",
      "source": [
        "#@title 3.4&nbsp; Run equilibrium simulations\n",
        "\n",
        "if SHORT_SIMS:\n",
        "  nsteps = 25_000  # 25,000 x 2 fs = 50 ps\n",
        "else:\n",
        "  nsteps = None  # i.e. use what's in the MDP files\n",
        "\n",
        "# Read the TPR files and run all simulations.\n",
        "for tpr_file in tqdm(tpr_files):\n",
        "  print(f\"\\nRunning {tpr_file}\")\n",
        "\n",
        "  # If simulation has been run already, skip.\n",
        "  if mdrun_completed(tpr_file):\n",
        "    print(f\"`{tpr_file}` already ran successfully\")\n",
        "    continue\n",
        "\n",
        "  # Run the simulation (with reduced number of steps to speed things up)\n",
        "  md = mdrun(tpr_file, pmegpu=True, nsteps=nsteps)"
      ],
      "metadata": {
        "colab": {
          "base_uri": "https://localhost:8080/"
        },
        "id": "7tQPHNndYYN8",
        "outputId": "e9eaeaba-0a8c-471b-930f-258d5a36552b"
      },
      "execution_count": null,
      "outputs": [
        {
          "output_type": "stream",
          "name": "stderr",
          "text": [
            "100%|██████████| 8/8 [07:56<00:00, 59.57s/it]\n"
          ]
        }
      ]
    },
    {
      "cell_type": "code",
      "source": [
        "i = 0\n",
        "\n",
        "# Show output files for one run.\n",
        "print(\"Path to mdrun output files:\", os.path.dirname(tpr_files[i]))\n",
        "print(\"Output files:\", os.listdir(\"/\".join(tpr_files[i].split(\"/\")[:-1])))\n",
        "print()\n",
        "\n",
        "# Tail log file to see performance.\n",
        "tail(tpr_files[i].replace('tpr.tpr', 'md.log'), n=5)"
      ],
      "metadata": {
        "id": "A65hr9eJy3rA",
        "outputId": "bb566db4-24c5-460c-d583-ddafa5305ffa",
        "colab": {
          "base_uri": "https://localhost:8080/"
        }
      },
      "execution_count": null,
      "outputs": [
        {
          "output_type": "stream",
          "name": "stdout",
          "text": [
            "Path to mdrun output files: /content/pmxrun_1668476992/lysopath/lysozyme_benzene/water/stateA/run1/eq\n",
            "Output files: ['tpr.tpr', 'traj.trr', 'md.log', 'confout.gro', 'state.cpt', 'ener.edr', 'mdout.mdp']\n",
            "\n",
            "       Time:       30.071       15.036      200.0\n",
            "                 (ns/day)    (hour/ns)\n",
            "Performance:      287.326        0.084\n",
            "Finished mdrun on rank 0 Tue Nov 15 02:01:52 2022\n",
            "\n"
          ]
        }
      ]
    },
    {
      "cell_type": "markdown",
      "source": [
        "## 4.&nbsp; Non-Equilibrium Simulations"
      ],
      "metadata": {
        "id": "39TLpxzEYlEH"
      }
    },
    {
      "cell_type": "code",
      "source": [
        "#@title 4.1&nbsp; Extract frames from equilibrium runs, and prepare TPRs\n",
        "\n",
        "fe.equilTime = 0.  # ps to discard as equilibration\n",
        "fe.bGenTiTpr = True  # Generates TPRs from extracted frames and rm GRO file.\n",
        "tpr_files = fe.prepare_simulation(simType='transitions')\n",
        "\n",
        "print(\"List of TPR files that we'll run:\")\n",
        "for f in tpr_files:\n",
        "  print(f\"  {f}\")"
      ],
      "metadata": {
        "colab": {
          "base_uri": "https://localhost:8080/"
        },
        "id": "86UiwjoqYYQV",
        "outputId": "635ecb23-406c-47e4-8c91-9a4c6132c5cc"
      },
      "execution_count": null,
      "outputs": [
        {
          "output_type": "stream",
          "name": "stdout",
          "text": [
            "-----------------------------------------\n",
            "Preparing simulation: transitions\n",
            "-----------------------------------------\n",
            "List of TPR files that we'll run:\n",
            "  /content/pmxrun_1668476992/lysopath/lysozyme_benzene/water/stateA/run1/transitions/ti1.tpr\n",
            "  /content/pmxrun_1668476992/lysopath/lysozyme_benzene/water/stateA/run2/transitions/ti1.tpr\n",
            "  /content/pmxrun_1668476992/lysopath/lysozyme_benzene/water/stateB/run1/transitions/ti1.tpr\n",
            "  /content/pmxrun_1668476992/lysopath/lysozyme_benzene/water/stateB/run2/transitions/ti1.tpr\n",
            "  /content/pmxrun_1668476992/lysopath/lysozyme_benzene/protein/stateA/run1/transitions/ti1.tpr\n",
            "  /content/pmxrun_1668476992/lysopath/lysozyme_benzene/protein/stateA/run2/transitions/ti1.tpr\n",
            "  /content/pmxrun_1668476992/lysopath/lysozyme_benzene/protein/stateB/run1/transitions/ti1.tpr\n",
            "  /content/pmxrun_1668476992/lysopath/lysozyme_benzene/protein/stateB/run2/transitions/ti1.tpr\n"
          ]
        }
      ]
    },
    {
      "cell_type": "code",
      "source": [
        "#@title 4.2&nbsp; Run non-equilibrium simulations\n",
        "\n",
        "# Read the TPR files and run all simulations.\n",
        "for tpr_file in tqdm(tpr_files):\n",
        "  print(f\"\\nRunning {tpr_file}\")\n",
        "\n",
        "  # If simulation has been run already, skip.\n",
        "  if mdrun_completed(tpr_file, transition=True):\n",
        "    print(f\"`{tpr_file}` already ran successfully\")\n",
        "    continue\n",
        "\n",
        "  # Run the simulation (with reduced number of steps to speed things up)\n",
        "  md = mdrun(tpr_file, pmegpu=True, transition=True)"
      ],
      "metadata": {
        "id": "eXYNsz6qYYSd",
        "outputId": "c16ecfa1-fa9b-46c6-fb61-2310656ce422",
        "colab": {
          "base_uri": "https://localhost:8080/"
        }
      },
      "execution_count": null,
      "outputs": [
        {
          "output_type": "stream",
          "name": "stderr",
          "text": [
            "100%|██████████| 8/8 [09:05<00:00, 68.22s/it]\n"
          ]
        }
      ]
    },
    {
      "cell_type": "code",
      "source": [
        "i = 0  # tpr id\n",
        "\n",
        "# Show output files for one run.\n",
        "print(\"Path to mdrun output files:\", os.path.dirname(tpr_files[i]))\n",
        "print(\"Output files:\", os.listdir(\"/\".join(tpr_files[i].split(\"/\")[:-1])))\n",
        "print()\n",
        "\n",
        "# Tail dhdl file.\n",
        "print(\"Last 10 lines of an XVG files. The first column is time in ps, the second column is the instantaneous dH/dl.\")\n",
        "tail(\"/\".join(tpr_files[i].split(\"/\")[:-1]) + \"/dhdl_1.xvg\", n=10)"
      ],
      "metadata": {
        "id": "sDYl7JsRRjA3",
        "outputId": "ac874ef1-42d6-4e25-d9f4-66e7ca8a922c",
        "colab": {
          "base_uri": "https://localhost:8080/"
        }
      },
      "execution_count": null,
      "outputs": [
        {
          "output_type": "stream",
          "name": "stdout",
          "text": [
            "Path to mdrun output files: /content/pmxrun_1668476992/lysopath/lysozyme_benzene/water/stateA/run1/transitions\n",
            "Output files: ['dhdl_1.xvg', 'ti1.tpr', 'mdout.mdp']\n",
            "\n",
            "Last 10 lines of an XVG files. The first column is time in ps, the second column is the instantaneous dH/dl.\n",
            "49.9820 -1.6139436\n",
            "49.9840 -0.76984119\n",
            "49.9860 -0.13274097\n",
            "49.9880 0.24003887\n",
            "49.9900 0.33624554\n",
            "49.9920 0.15693951\n",
            "49.9940 -0.34234333\n",
            "49.9960 -1.0305147\n",
            "49.9980 -1.6820192\n",
            "50.0000 -2.2017336\n"
          ]
        }
      ]
    },
    {
      "cell_type": "markdown",
      "source": [
        "## 5.&nbsp; Free Energy Estimation"
      ],
      "metadata": {
        "id": "nAub78THv3Sc"
      }
    },
    {
      "cell_type": "code",
      "source": [
        "# Estimate and show free energy terms.\n",
        "fe.run_analysis(ligs=['lysozyme_benzene'])\n",
        "fe.resultsAll"
      ],
      "metadata": {
        "id": "TXnU3ddrLaoZ",
        "outputId": "7111c828-c0cd-4aeb-db3d-136a81659699",
        "colab": {
          "base_uri": "https://localhost:8080/",
          "height": 321
        }
      },
      "execution_count": null,
      "outputs": [
        {
          "output_type": "stream",
          "name": "stdout",
          "text": [
            "----------------\n",
            "Running analysis\n",
            "----------------\n"
          ]
        },
        {
          "output_type": "execute_result",
          "data": {
            "text/plain": [
              "                              dGcalc   errBoot  errAnalyt  framesA  framesB\n",
              "lysozyme_benzene_correction -32.3864       NaN        NaN      NaN      NaN\n",
              "lysozyme_benzene_water_1     -4.0400  0.000000   2.680000      1.0      1.0\n",
              "lysozyme_benzene_water_2     -5.0200  0.000000   5.300000      1.0      1.0\n",
              "lysozyme_benzene_protein_1   22.3400  0.000000  19.970000      1.0      1.0\n",
              "lysozyme_benzene_protein_2   20.0200  0.000000   5.000000      1.0      1.0\n",
              "lysozyme_benzene_water       -4.5300  0.346569   3.131834      2.0      2.0\n",
              "lysozyme_benzene_protein     21.1800  0.820449   9.925655      2.0      2.0"
            ],
            "text/html": [
              "\n",
              "  <div id=\"df-52a2b7c9-42ba-4a1a-af57-3bc9cc278d08\">\n",
              "    <div class=\"colab-df-container\">\n",
              "      <div>\n",
              "<style scoped>\n",
              "    .dataframe tbody tr th:only-of-type {\n",
              "        vertical-align: middle;\n",
              "    }\n",
              "\n",
              "    .dataframe tbody tr th {\n",
              "        vertical-align: top;\n",
              "    }\n",
              "\n",
              "    .dataframe thead th {\n",
              "        text-align: right;\n",
              "    }\n",
              "</style>\n",
              "<table border=\"1\" class=\"dataframe\">\n",
              "  <thead>\n",
              "    <tr style=\"text-align: right;\">\n",
              "      <th></th>\n",
              "      <th>dGcalc</th>\n",
              "      <th>errBoot</th>\n",
              "      <th>errAnalyt</th>\n",
              "      <th>framesA</th>\n",
              "      <th>framesB</th>\n",
              "    </tr>\n",
              "  </thead>\n",
              "  <tbody>\n",
              "    <tr>\n",
              "      <th>lysozyme_benzene_correction</th>\n",
              "      <td>-32.3864</td>\n",
              "      <td>NaN</td>\n",
              "      <td>NaN</td>\n",
              "      <td>NaN</td>\n",
              "      <td>NaN</td>\n",
              "    </tr>\n",
              "    <tr>\n",
              "      <th>lysozyme_benzene_water_1</th>\n",
              "      <td>-4.0400</td>\n",
              "      <td>0.000000</td>\n",
              "      <td>2.680000</td>\n",
              "      <td>1.0</td>\n",
              "      <td>1.0</td>\n",
              "    </tr>\n",
              "    <tr>\n",
              "      <th>lysozyme_benzene_water_2</th>\n",
              "      <td>-5.0200</td>\n",
              "      <td>0.000000</td>\n",
              "      <td>5.300000</td>\n",
              "      <td>1.0</td>\n",
              "      <td>1.0</td>\n",
              "    </tr>\n",
              "    <tr>\n",
              "      <th>lysozyme_benzene_protein_1</th>\n",
              "      <td>22.3400</td>\n",
              "      <td>0.000000</td>\n",
              "      <td>19.970000</td>\n",
              "      <td>1.0</td>\n",
              "      <td>1.0</td>\n",
              "    </tr>\n",
              "    <tr>\n",
              "      <th>lysozyme_benzene_protein_2</th>\n",
              "      <td>20.0200</td>\n",
              "      <td>0.000000</td>\n",
              "      <td>5.000000</td>\n",
              "      <td>1.0</td>\n",
              "      <td>1.0</td>\n",
              "    </tr>\n",
              "    <tr>\n",
              "      <th>lysozyme_benzene_water</th>\n",
              "      <td>-4.5300</td>\n",
              "      <td>0.346569</td>\n",
              "      <td>3.131834</td>\n",
              "      <td>2.0</td>\n",
              "      <td>2.0</td>\n",
              "    </tr>\n",
              "    <tr>\n",
              "      <th>lysozyme_benzene_protein</th>\n",
              "      <td>21.1800</td>\n",
              "      <td>0.820449</td>\n",
              "      <td>9.925655</td>\n",
              "      <td>2.0</td>\n",
              "      <td>2.0</td>\n",
              "    </tr>\n",
              "  </tbody>\n",
              "</table>\n",
              "</div>\n",
              "      <button class=\"colab-df-convert\" onclick=\"convertToInteractive('df-52a2b7c9-42ba-4a1a-af57-3bc9cc278d08')\"\n",
              "              title=\"Convert this dataframe to an interactive table.\"\n",
              "              style=\"display:none;\">\n",
              "        \n",
              "  <svg xmlns=\"http://www.w3.org/2000/svg\" height=\"24px\"viewBox=\"0 0 24 24\"\n",
              "       width=\"24px\">\n",
              "    <path d=\"M0 0h24v24H0V0z\" fill=\"none\"/>\n",
              "    <path d=\"M18.56 5.44l.94 2.06.94-2.06 2.06-.94-2.06-.94-.94-2.06-.94 2.06-2.06.94zm-11 1L8.5 8.5l.94-2.06 2.06-.94-2.06-.94L8.5 2.5l-.94 2.06-2.06.94zm10 10l.94 2.06.94-2.06 2.06-.94-2.06-.94-.94-2.06-.94 2.06-2.06.94z\"/><path d=\"M17.41 7.96l-1.37-1.37c-.4-.4-.92-.59-1.43-.59-.52 0-1.04.2-1.43.59L10.3 9.45l-7.72 7.72c-.78.78-.78 2.05 0 2.83L4 21.41c.39.39.9.59 1.41.59.51 0 1.02-.2 1.41-.59l7.78-7.78 2.81-2.81c.8-.78.8-2.07 0-2.86zM5.41 20L4 18.59l7.72-7.72 1.47 1.35L5.41 20z\"/>\n",
              "  </svg>\n",
              "      </button>\n",
              "      \n",
              "  <style>\n",
              "    .colab-df-container {\n",
              "      display:flex;\n",
              "      flex-wrap:wrap;\n",
              "      gap: 12px;\n",
              "    }\n",
              "\n",
              "    .colab-df-convert {\n",
              "      background-color: #E8F0FE;\n",
              "      border: none;\n",
              "      border-radius: 50%;\n",
              "      cursor: pointer;\n",
              "      display: none;\n",
              "      fill: #1967D2;\n",
              "      height: 32px;\n",
              "      padding: 0 0 0 0;\n",
              "      width: 32px;\n",
              "    }\n",
              "\n",
              "    .colab-df-convert:hover {\n",
              "      background-color: #E2EBFA;\n",
              "      box-shadow: 0px 1px 2px rgba(60, 64, 67, 0.3), 0px 1px 3px 1px rgba(60, 64, 67, 0.15);\n",
              "      fill: #174EA6;\n",
              "    }\n",
              "\n",
              "    [theme=dark] .colab-df-convert {\n",
              "      background-color: #3B4455;\n",
              "      fill: #D2E3FC;\n",
              "    }\n",
              "\n",
              "    [theme=dark] .colab-df-convert:hover {\n",
              "      background-color: #434B5C;\n",
              "      box-shadow: 0px 1px 3px 1px rgba(0, 0, 0, 0.15);\n",
              "      filter: drop-shadow(0px 1px 2px rgba(0, 0, 0, 0.3));\n",
              "      fill: #FFFFFF;\n",
              "    }\n",
              "  </style>\n",
              "\n",
              "      <script>\n",
              "        const buttonEl =\n",
              "          document.querySelector('#df-52a2b7c9-42ba-4a1a-af57-3bc9cc278d08 button.colab-df-convert');\n",
              "        buttonEl.style.display =\n",
              "          google.colab.kernel.accessAllowed ? 'block' : 'none';\n",
              "\n",
              "        async function convertToInteractive(key) {\n",
              "          const element = document.querySelector('#df-52a2b7c9-42ba-4a1a-af57-3bc9cc278d08');\n",
              "          const dataTable =\n",
              "            await google.colab.kernel.invokeFunction('convertToInteractive',\n",
              "                                                     [key], {});\n",
              "          if (!dataTable) return;\n",
              "\n",
              "          const docLinkHtml = 'Like what you see? Visit the ' +\n",
              "            '<a target=\"_blank\" href=https://colab.research.google.com/notebooks/data_table.ipynb>data table notebook</a>'\n",
              "            + ' to learn more about interactive tables.';\n",
              "          element.innerHTML = '';\n",
              "          dataTable['output_type'] = 'display_data';\n",
              "          await google.colab.output.renderOutput(dataTable, element);\n",
              "          const docLink = document.createElement('div');\n",
              "          docLink.innerHTML = docLinkHtml;\n",
              "          element.appendChild(docLink);\n",
              "        }\n",
              "      </script>\n",
              "    </div>\n",
              "  </div>\n",
              "  "
            ]
          },
          "metadata": {},
          "execution_count": 37
        }
      ]
    },
    {
      "cell_type": "code",
      "source": [
        "# Show estimated binding free energy (dGcalc).\n",
        "fe.resultsSummary"
      ],
      "metadata": {
        "id": "n_90Vy1QrjMh",
        "outputId": "dd31838f-053a-406b-cfc3-17197e0a479b",
        "colab": {
          "base_uri": "https://localhost:8080/",
          "height": 81
        }
      },
      "execution_count": null,
      "outputs": [
        {
          "output_type": "execute_result",
          "data": {
            "text/plain": [
              "                  dGcalc  errAnalyt   errBoot\n",
              "lysozyme_benzene  6.6764  10.408026  0.890644"
            ],
            "text/html": [
              "\n",
              "  <div id=\"df-51d825be-972d-41ae-ac9c-7963ad0e3d13\">\n",
              "    <div class=\"colab-df-container\">\n",
              "      <div>\n",
              "<style scoped>\n",
              "    .dataframe tbody tr th:only-of-type {\n",
              "        vertical-align: middle;\n",
              "    }\n",
              "\n",
              "    .dataframe tbody tr th {\n",
              "        vertical-align: top;\n",
              "    }\n",
              "\n",
              "    .dataframe thead th {\n",
              "        text-align: right;\n",
              "    }\n",
              "</style>\n",
              "<table border=\"1\" class=\"dataframe\">\n",
              "  <thead>\n",
              "    <tr style=\"text-align: right;\">\n",
              "      <th></th>\n",
              "      <th>dGcalc</th>\n",
              "      <th>errAnalyt</th>\n",
              "      <th>errBoot</th>\n",
              "    </tr>\n",
              "  </thead>\n",
              "  <tbody>\n",
              "    <tr>\n",
              "      <th>lysozyme_benzene</th>\n",
              "      <td>6.6764</td>\n",
              "      <td>10.408026</td>\n",
              "      <td>0.890644</td>\n",
              "    </tr>\n",
              "  </tbody>\n",
              "</table>\n",
              "</div>\n",
              "      <button class=\"colab-df-convert\" onclick=\"convertToInteractive('df-51d825be-972d-41ae-ac9c-7963ad0e3d13')\"\n",
              "              title=\"Convert this dataframe to an interactive table.\"\n",
              "              style=\"display:none;\">\n",
              "        \n",
              "  <svg xmlns=\"http://www.w3.org/2000/svg\" height=\"24px\"viewBox=\"0 0 24 24\"\n",
              "       width=\"24px\">\n",
              "    <path d=\"M0 0h24v24H0V0z\" fill=\"none\"/>\n",
              "    <path d=\"M18.56 5.44l.94 2.06.94-2.06 2.06-.94-2.06-.94-.94-2.06-.94 2.06-2.06.94zm-11 1L8.5 8.5l.94-2.06 2.06-.94-2.06-.94L8.5 2.5l-.94 2.06-2.06.94zm10 10l.94 2.06.94-2.06 2.06-.94-2.06-.94-.94-2.06-.94 2.06-2.06.94z\"/><path d=\"M17.41 7.96l-1.37-1.37c-.4-.4-.92-.59-1.43-.59-.52 0-1.04.2-1.43.59L10.3 9.45l-7.72 7.72c-.78.78-.78 2.05 0 2.83L4 21.41c.39.39.9.59 1.41.59.51 0 1.02-.2 1.41-.59l7.78-7.78 2.81-2.81c.8-.78.8-2.07 0-2.86zM5.41 20L4 18.59l7.72-7.72 1.47 1.35L5.41 20z\"/>\n",
              "  </svg>\n",
              "      </button>\n",
              "      \n",
              "  <style>\n",
              "    .colab-df-container {\n",
              "      display:flex;\n",
              "      flex-wrap:wrap;\n",
              "      gap: 12px;\n",
              "    }\n",
              "\n",
              "    .colab-df-convert {\n",
              "      background-color: #E8F0FE;\n",
              "      border: none;\n",
              "      border-radius: 50%;\n",
              "      cursor: pointer;\n",
              "      display: none;\n",
              "      fill: #1967D2;\n",
              "      height: 32px;\n",
              "      padding: 0 0 0 0;\n",
              "      width: 32px;\n",
              "    }\n",
              "\n",
              "    .colab-df-convert:hover {\n",
              "      background-color: #E2EBFA;\n",
              "      box-shadow: 0px 1px 2px rgba(60, 64, 67, 0.3), 0px 1px 3px 1px rgba(60, 64, 67, 0.15);\n",
              "      fill: #174EA6;\n",
              "    }\n",
              "\n",
              "    [theme=dark] .colab-df-convert {\n",
              "      background-color: #3B4455;\n",
              "      fill: #D2E3FC;\n",
              "    }\n",
              "\n",
              "    [theme=dark] .colab-df-convert:hover {\n",
              "      background-color: #434B5C;\n",
              "      box-shadow: 0px 1px 3px 1px rgba(0, 0, 0, 0.15);\n",
              "      filter: drop-shadow(0px 1px 2px rgba(0, 0, 0, 0.3));\n",
              "      fill: #FFFFFF;\n",
              "    }\n",
              "  </style>\n",
              "\n",
              "      <script>\n",
              "        const buttonEl =\n",
              "          document.querySelector('#df-51d825be-972d-41ae-ac9c-7963ad0e3d13 button.colab-df-convert');\n",
              "        buttonEl.style.display =\n",
              "          google.colab.kernel.accessAllowed ? 'block' : 'none';\n",
              "\n",
              "        async function convertToInteractive(key) {\n",
              "          const element = document.querySelector('#df-51d825be-972d-41ae-ac9c-7963ad0e3d13');\n",
              "          const dataTable =\n",
              "            await google.colab.kernel.invokeFunction('convertToInteractive',\n",
              "                                                     [key], {});\n",
              "          if (!dataTable) return;\n",
              "\n",
              "          const docLinkHtml = 'Like what you see? Visit the ' +\n",
              "            '<a target=\"_blank\" href=https://colab.research.google.com/notebooks/data_table.ipynb>data table notebook</a>'\n",
              "            + ' to learn more about interactive tables.';\n",
              "          element.innerHTML = '';\n",
              "          dataTable['output_type'] = 'display_data';\n",
              "          await google.colab.output.renderOutput(dataTable, element);\n",
              "          const docLink = document.createElement('div');\n",
              "          docLink.innerHTML = docLinkHtml;\n",
              "          element.appendChild(docLink);\n",
              "        }\n",
              "      </script>\n",
              "    </div>\n",
              "  </div>\n",
              "  "
            ]
          },
          "metadata": {},
          "execution_count": 38
        }
      ]
    },
    {
      "cell_type": "code",
      "source": [],
      "metadata": {
        "id": "WPMjYh4JhTl7"
      },
      "execution_count": null,
      "outputs": []
    }
  ],
  "metadata": {
    "accelerator": "GPU",
    "colab": {
      "name": "abfe_tutorial.ipynb",
      "provenance": [],
      "include_colab_link": true
    },
    "language_info": {
      "name": "python"
    },
    "kernelspec": {
      "name": "python3",
      "display_name": "Python 3"
    },
    "gpuClass": "standard"
  },
  "nbformat": 4,
  "nbformat_minor": 0
}