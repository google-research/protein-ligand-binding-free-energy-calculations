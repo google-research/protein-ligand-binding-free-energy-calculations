{
  "cells": [
    {
      "cell_type": "markdown",
      "metadata": {
        "id": "view-in-github",
        "colab_type": "text"
      },
      "source": [
        "<a href=\"https://colab.research.google.com/github/google-research/protein-ligand-binding-free-energy-calculations/blob/matteo-dev/colab_tutorial/abfe_tutorial.ipynb\" target=\"_parent\"><img src=\"https://colab.research.google.com/assets/colab-badge.svg\" alt=\"Open In Colab\"/></a>"
      ]
    },
    {
      "cell_type": "markdown",
      "metadata": {
        "id": "fU8sSQIYm8r0"
      },
      "source": [
        "##### Copyright 2022 Google LLC."
      ]
    },
    {
      "cell_type": "code",
      "execution_count": null,
      "metadata": {
        "cellView": "form",
        "id": "zwikt2vqm8r4"
      },
      "outputs": [],
      "source": [
        "#@title Licensed under the Apache License, Version 2.0 (the \"License\");\n",
        "# you may not use this file except in compliance with the License.\n",
        "# You may obtain a copy of the License at\n",
        "#\n",
        "# https://www.apache.org/licenses/LICENSE-2.0\n",
        "#\n",
        "# Unless required by applicable law or agreed to in writing, software\n",
        "# distributed under the License is distributed on an \"AS IS\" BASIS,\n",
        "# WITHOUT WARRANTIES OR CONDITIONS OF ANY KIND, either express or implied.\n",
        "# See the License for the specific language governing permissions and\n",
        "# limitations under the License."
      ]
    },
    {
      "cell_type": "code",
      "execution_count": 1,
      "metadata": {
        "id": "t-xOe6rDm8r7",
        "outputId": "3e81684b-4416-479b-b174-c7bcf910bef5",
        "colab": {
          "base_uri": "https://localhost:8080/"
        }
      },
      "outputs": [
        {
          "output_type": "stream",
          "name": "stdout",
          "text": [
            "--2022-12-14 20:56:58--  https://storage.googleapis.com/gromacs-bin/gromacs-avx2_256-cuda-11_2.tar.gz\n",
            "Resolving storage.googleapis.com (storage.googleapis.com)... 172.253.115.128, 172.253.122.128, 172.253.63.128, ...\n",
            "Connecting to storage.googleapis.com (storage.googleapis.com)|172.253.115.128|:443... connected.\n",
            "HTTP request sent, awaiting response... 200 OK\n",
            "Length: 23920923 (23M) [application/x-gzip]\n",
            "Saving to: ‘/tmp/gromacs.tar.gz’\n",
            "\n",
            "/tmp/gromacs.tar.gz 100%[===================>]  22.81M   105MB/s    in 0.2s    \n",
            "\n",
            "2022-12-14 20:56:59 (105 MB/s) - ‘/tmp/gromacs.tar.gz’ saved [23920923/23920923]\n",
            "\n",
            "Looking in indexes: https://pypi.org/simple, https://us-python.pkg.dev/colab-wheels/public/simple/\n",
            "Requirement already satisfied: pip in /usr/local/lib/python3.8/dist-packages (21.1.3)\n",
            "Collecting pip\n",
            "  Downloading pip-22.3.1-py3-none-any.whl (2.1 MB)\n",
            "\u001b[K     |████████████████████████████████| 2.1 MB 19.9 MB/s \n",
            "\u001b[?25hInstalling collected packages: pip\n",
            "  Attempting uninstall: pip\n",
            "    Found existing installation: pip 21.1.3\n",
            "    Uninstalling pip-21.1.3:\n",
            "      Successfully uninstalled pip-21.1.3\n",
            "Successfully installed pip-22.3.1\n",
            "Looking in indexes: https://pypi.org/simple, https://us-python.pkg.dev/colab-wheels/public/simple/\n",
            "Requirement already satisfied: setuptools in /usr/local/lib/python3.8/dist-packages (57.4.0)\n",
            "Requirement already satisfied: wheel in /usr/local/lib/python3.8/dist-packages (0.38.4)\n",
            "Requirement already satisfied: cmake in /usr/local/lib/python3.8/dist-packages (3.22.6)\n",
            "Collecting pybind11\n",
            "  Downloading pybind11-2.10.1-py3-none-any.whl (216 kB)\n",
            "\u001b[2K     \u001b[90m━━━━━━━━━━━━━━━━━━━━━━━━━━━━━━━━━━━━━━\u001b[0m \u001b[32m216.1/216.1 kB\u001b[0m \u001b[31m11.9 MB/s\u001b[0m eta \u001b[36m0:00:00\u001b[0m\n",
            "\u001b[?25hCollecting py3DMol\n",
            "  Downloading py3Dmol-1.8.1-py2.py3-none-any.whl (6.5 kB)\n",
            "Installing collected packages: py3DMol, pybind11\n",
            "Successfully installed py3DMol-1.8.1 pybind11-2.10.1\n",
            "\u001b[33mWARNING: Running pip as the 'root' user can result in broken permissions and conflicting behaviour with the system package manager. It is recommended to use a virtual environment instead: https://pip.pypa.io/warnings/venv\u001b[0m\u001b[33m\n",
            "\u001b[0mLooking in indexes: https://pypi.org/simple, https://us-python.pkg.dev/colab-wheels/public/simple/\n",
            "Collecting git+https://github.com/deGrootLab/pmx.git@abfe_dev\n",
            "  Cloning https://github.com/deGrootLab/pmx.git (to revision abfe_dev) to /tmp/pip-req-build-3ueksfgy\n",
            "  Running command git clone --filter=blob:none --quiet https://github.com/deGrootLab/pmx.git /tmp/pip-req-build-3ueksfgy\n",
            "  Running command git checkout -b abfe_dev --track origin/abfe_dev\n",
            "  Switched to a new branch 'abfe_dev'\n",
            "  Branch 'abfe_dev' set up to track remote branch 'abfe_dev' from 'origin'.\n",
            "  Resolved https://github.com/deGrootLab/pmx.git to commit a5424d290f713199a39fb3061308b657ef6c3062\n",
            "  Preparing metadata (setup.py) ... \u001b[?25l\u001b[?25hdone\n",
            "Requirement already satisfied: numpy in /usr/local/lib/python3.8/dist-packages (from pmx==0+untagged.896.ga5424d2) (1.21.6)\n",
            "Requirement already satisfied: scipy in /usr/local/lib/python3.8/dist-packages (from pmx==0+untagged.896.ga5424d2) (1.7.3)\n",
            "Requirement already satisfied: matplotlib in /usr/local/lib/python3.8/dist-packages (from pmx==0+untagged.896.ga5424d2) (3.2.2)\n",
            "Requirement already satisfied: future in /usr/local/lib/python3.8/dist-packages (from pmx==0+untagged.896.ga5424d2) (0.16.0)\n",
            "Requirement already satisfied: python-dateutil>=2.1 in /usr/local/lib/python3.8/dist-packages (from matplotlib->pmx==0+untagged.896.ga5424d2) (2.8.2)\n",
            "Requirement already satisfied: pyparsing!=2.0.4,!=2.1.2,!=2.1.6,>=2.0.1 in /usr/local/lib/python3.8/dist-packages (from matplotlib->pmx==0+untagged.896.ga5424d2) (3.0.9)\n",
            "Requirement already satisfied: kiwisolver>=1.0.1 in /usr/local/lib/python3.8/dist-packages (from matplotlib->pmx==0+untagged.896.ga5424d2) (1.4.4)\n",
            "Requirement already satisfied: cycler>=0.10 in /usr/local/lib/python3.8/dist-packages (from matplotlib->pmx==0+untagged.896.ga5424d2) (0.11.0)\n",
            "Requirement already satisfied: six>=1.5 in /usr/local/lib/python3.8/dist-packages (from python-dateutil>=2.1->matplotlib->pmx==0+untagged.896.ga5424d2) (1.15.0)\n",
            "Building wheels for collected packages: pmx\n",
            "  Building wheel for pmx (setup.py) ... \u001b[?25l\u001b[?25hdone\n",
            "  Created wheel for pmx: filename=pmx-0+untagged.896.ga5424d2-cp38-cp38-linux_x86_64.whl size=12272581 sha256=9ba50b378e489e1e6f4268ed664a6c6e58ef17b71388fe86f8d4615c46b53e15\n",
            "  Stored in directory: /tmp/pip-ephem-wheel-cache-n3120_28/wheels/69/00/3d/bfce4fe4a5905daed4390d7131ba1367076ec857a2bbc1d682\n",
            "Successfully built pmx\n",
            "Installing collected packages: pmx\n",
            "Successfully installed pmx-0+untagged.896.ga5424d2\n",
            "\u001b[33mWARNING: Running pip as the 'root' user can result in broken permissions and conflicting behaviour with the system package manager. It is recommended to use a virtual environment instead: https://pip.pypa.io/warnings/venv\u001b[0m\u001b[33m\n",
            "\u001b[0mLooking in indexes: https://pypi.org/simple, https://us-python.pkg.dev/colab-wheels/public/simple/\n",
            "Collecting gmxapi\n",
            "  Downloading gmxapi-0.3.2.post1.tar.gz (169 kB)\n",
            "\u001b[2K     \u001b[90m━━━━━━━━━━━━━━━━━━━━━━━━━━━━━━━━━━━━━━\u001b[0m \u001b[32m169.2/169.2 kB\u001b[0m \u001b[31m39.8 MB/s\u001b[0m eta \u001b[36m0:00:00\u001b[0m\n",
            "\u001b[?25h  Installing build dependencies ... \u001b[?25l\u001b[?25hdone\n",
            "  Getting requirements to build wheel ... \u001b[?25l\u001b[?25hdone\n",
            "  Preparing metadata (pyproject.toml) ... \u001b[?25l\u001b[?25hdone\n",
            "Requirement already satisfied: pybind11 in /usr/local/lib/python3.8/dist-packages (from gmxapi) (2.10.1)\n",
            "Requirement already satisfied: networkx>=2.0 in /usr/local/lib/python3.8/dist-packages (from gmxapi) (2.8.8)\n",
            "Requirement already satisfied: numpy>1.7 in /usr/local/lib/python3.8/dist-packages (from gmxapi) (1.21.6)\n",
            "Requirement already satisfied: packaging in /usr/local/lib/python3.8/dist-packages (from gmxapi) (21.3)\n",
            "Requirement already satisfied: pyparsing!=3.0.5,>=2.0.2 in /usr/local/lib/python3.8/dist-packages (from packaging->gmxapi) (3.0.9)\n",
            "Building wheels for collected packages: gmxapi\n",
            "  Building wheel for gmxapi (pyproject.toml) ... \u001b[?25l\u001b[?25hdone\n",
            "  Created wheel for gmxapi: filename=gmxapi-0.3.2.post1-cp38-cp38-linux_x86_64.whl size=252519 sha256=a51c8411fe991e3d4a6d9b67c51018effd080f953df8b2a55f46ebc6a7f7ce7a\n",
            "  Stored in directory: /tmp/pip-ephem-wheel-cache-frp4yre1/wheels/f4/49/c9/1ae34ebe19969018421153f1a84fc050ed18820a587092a2be\n",
            "Successfully built gmxapi\n",
            "Installing collected packages: gmxapi\n",
            "Successfully installed gmxapi-0.3.2.post1\n",
            "\u001b[33mWARNING: Running pip as the 'root' user can result in broken permissions and conflicting behaviour with the system package manager. It is recommended to use a virtual environment instead: https://pip.pypa.io/warnings/venv\u001b[0m\u001b[33m\n",
            "\u001b[0m"
          ]
        }
      ],
      "source": [
        "#@title Install Gromacs and Gromacs Python API\n",
        "!wget https://storage.googleapis.com/gromacs-bin/gromacs-avx2_256-cuda-11_2.tar.gz -O /tmp/gromacs.tar.gz\n",
        "!tar zxf /tmp/gromacs.tar.gz\n",
        "!sudo rm -rf /usr/local/gromacs\n",
        "!sudo mv gromacs-avx /usr/local/gromacs\n",
        "!rm /tmp/gromacs.tar.gz\n",
        "\n",
        "!pip3 install --upgrade pip\n",
        "!pip3 install setuptools wheel cmake pybind11 py3DMol\n",
        "# This ensure we always install the latest PMX version from GitHub.\n",
        "!if [ -d /usr/local/lib/python3.7/dist-packages/pmx/ ]; then yes Y | pip3 uninstall pmx; fi\n",
        "!if [ -d /usr/local/lib/python3.7/site-packages/pmx/ ]; then yes Y | pip3 uninstall pmx; fi\n",
        "!pip3 install --no-cache-dir git+https://github.com/deGrootLab/pmx.git@abfe_dev\n",
        "!gmxapi_ROOT=/usr/local/gromacs/ pip3 install --no-cache-dir gmxapi\n",
        "\n",
        "# Add path to where pmx gets installed.\n",
        "import sys\n",
        "sys.path.append('/usr/local/lib/python3.7/site-packages/')"
      ]
    },
    {
      "cell_type": "code",
      "execution_count": 2,
      "metadata": {
        "cellView": "form",
        "id": "Sd-L2ttCm8r7"
      },
      "outputs": [],
      "source": [
        "#@title Set Level for Logging\n",
        "#@markdown Sets the python logging level. This is useful for debugging.\n",
        "import logging\n",
        "\n",
        "log_level = 'INFO' #@param ['DEBUG', 'INFO', 'ERROR']\n",
        "\n",
        "_log_level = {\n",
        "    'DEBUG': logging.DEBUG,\n",
        "    'INFO': logging.INFO,\n",
        "    'ERROR': logging.ERROR\n",
        "}\n",
        "\n",
        "logging.basicConfig(level=_log_level[log_level])"
      ]
    },
    {
      "cell_type": "code",
      "execution_count": 3,
      "metadata": {
        "id": "F5gQOMIJBRUY",
        "outputId": "6d22e4fc-b142-45c3-b74d-0270faa35e83",
        "colab": {
          "base_uri": "https://localhost:8080/"
        }
      },
      "outputs": [
        {
          "output_type": "stream",
          "name": "stdout",
          "text": [
            "Session ID:  1671051601\n"
          ]
        }
      ],
      "source": [
        "#@title [Please Rerun after Restart] Create a Session\n",
        "#@markdown Please rerun this cell every time when you restart the runtime.\n",
        "#@markdown A new session ID will be created for a new colab runtime session.\n",
        "#@markdown Run this cell again will refresh the session ID.\n",
        "\n",
        "import os\n",
        "import time\n",
        "import gmxapi\n",
        "\n",
        "\n",
        "# Sets a session ID for this session.\n",
        "_SESSION_ID = str(int(time.time())) #@param\n",
        "\n",
        "# Monkey patch this session ID into the gmxapi.operation.ResourceManager.\n",
        "# Hack. Do not use in the user code.\n",
        "# This is temporarily added to allow users to start from a new set of working\n",
        "# directories for all the mdrun launches. GMX API doesn't expose the\n",
        "# underlying resource manager or context yet.\n",
        "def operation_id(self):\n",
        "  return f\"{self._base_operation_id}_{_SESSION_ID}\"\n",
        "gmxapi.operation.ResourceManager.operation_id = property(operation_id)\n",
        "\n",
        "\n",
        "def get_work_dir(md_output):\n",
        "  values = [v for v in md_output.values()]\n",
        "  return values[0].result()\n",
        "\n",
        "\n",
        "def tail_log(md_output, output_file_base, last_n_lines=6):\n",
        "  work_dir = get_work_dir(md_output)\n",
        "\n",
        "  with open(os.path.join(work_dir, output_file_base + '.log'), 'r') as log:\n",
        "    for line in log.readlines()[-last_n_lines:]:\n",
        "      print(line)\n",
        "\n",
        "print(\"Session ID: \", _SESSION_ID)"
      ]
    },
    {
      "cell_type": "markdown",
      "metadata": {
        "id": "Skich7muxHrf"
      },
      "source": [
        "# ABFE Workflow\n",
        "-----"
      ]
    },
    {
      "cell_type": "code",
      "source": [
        "import numpy as np\n",
        "import shutil\n",
        "from tqdm import tqdm\n",
        "import pmx\n",
        "from pmx.AbsoluteDG import AbsoluteDG"
      ],
      "metadata": {
        "id": "KdQigJ26pJrv",
        "outputId": "0a89a443-a924-468a-a209-c2dbd65d1543",
        "colab": {
          "base_uri": "https://localhost:8080/"
        }
      },
      "execution_count": 4,
      "outputs": [
        {
          "output_type": "stream",
          "name": "stdout",
          "text": [
            "RDKit imports failed\n"
          ]
        }
      ]
    },
    {
      "cell_type": "code",
      "source": [
        "#@title Define some helper functions\n",
        "\n",
        "def mdrun(tpr, pmegpu=True, nsteps=None):\n",
        "  \"\"\"Wrapper for gmxapi.mdrun with predefined scenarios optimized for different \n",
        "  types of simulations.\n",
        "\n",
        "  Args:\n",
        "    tpr (str): path to TPR file.\n",
        "    pmegpu (bool): whether to run PME calculations on the GPU. Default is True.\n",
        "      Note this is not possible with certain integrators.\n",
        "    nsteps (int): number of integration steps to run, overwrites nsteps defined\n",
        "      by the MDP file used to generate the TPR. Default is None (do not modify \n",
        "      TPR).\n",
        "\n",
        "  Returns:\n",
        "    object: StandardOperationHandle returned by gmxapi.mdrun.\n",
        "  \"\"\"\n",
        "  # Load TPR file.\n",
        "  input_tpr = gmxapi.read_tpr(tpr)\n",
        "  if nsteps is not None:\n",
        "    input_tpr = gmxapi.modify_input(input=input_tpr, \n",
        "                                    parameters={'nsteps': nsteps})    \n",
        "\n",
        "  # Get path to TPR.\n",
        "  path = \"/\".join(tpr.split('/')[:-1])\n",
        "  \n",
        "  # Specify command line flags and arguments to be passed to mdrun.\n",
        "  # Note: energy minimization cannot run PME on GPU.\n",
        "  if pmegpu:\n",
        "    _pme = 'gpu'\n",
        "    _pmefft = 'gpu'\n",
        "    _bonded = 'gpu'\n",
        "  else:\n",
        "    _pme = 'auto'\n",
        "    _pmefft = 'auto'\n",
        "    _bonded = 'auto'\n",
        "\n",
        "  md = gmxapi.mdrun(input_tpr,\n",
        "                    runtime_args={'-nb': 'gpu', \n",
        "                                  '-pme': _pme, \n",
        "                                  '-pmefft': _pmefft, \n",
        "                                  '-bonded': _bonded,\n",
        "                                  '-x': f'{path}/traj.xtc',\n",
        "                                  '-o': f'{path}/traj.trr',\n",
        "                                  '-c': f'{path}/confout.gro',\n",
        "                                  '-e': f'{path}/ener.edr', \n",
        "                                  '-g': f'{path}/md.log',\n",
        "                                  '-cpo': f'{path}/state.cpt',\n",
        "                                  '-dhdl': f'{path}/dhdl.xvg'\n",
        "                                  }\n",
        "                    )\n",
        "\n",
        "  # Run the simulation.\n",
        "  md.run()\n",
        "\n",
        "  return md\n",
        "\n",
        "\n",
        "def mdrun_completed(tpr: str, transition: bool = False) -> bool:\n",
        "  \"\"\"Checks whether a simulation completed successfully.\n",
        "  \n",
        "  Args:\n",
        "    tpr (str): path to TPR file.\n",
        "    transition (bool): whether we are checking completion for a non-equilibrium \n",
        "      transition. Default is False.\n",
        "\n",
        "  Returns:\n",
        "    bool: whether the TPR has been run successfully.\n",
        "  \"\"\"\n",
        "  # If we're chekcing the completion of a non-eq transition, we check that (i)\n",
        "  # the right dhdl.xvg file exists, and that (ii) it contains info up to the \n",
        "  # end of the transition. Otherwise, we assume it crashed and needs to be\n",
        "  # completed.\n",
        "  if transition:\n",
        "    dhdl = \"/\".join(tpr.split(\"/\")[:-1]) + f\"/dhdl.xvg\"\n",
        "    # If dhdl file exists, check it's complete.\n",
        "    if os.path.isfile(dhdl):\n",
        "      input_tpr = gmxapi.read_tpr(tpr)\n",
        "      nsteps = input_tpr.output.parameters.result()['nsteps']\n",
        "      dt = input_tpr.output.parameters.result()['dt']\n",
        "      expected_final_time = nsteps * dt\n",
        "      \n",
        "      with open(dhdl, 'r') as f:\n",
        "        lines = f.readlines()\n",
        "      \n",
        "      try:\n",
        "        actual_final_time = float(lines[-1].split()[0])\n",
        "        if expected_final_time - actual_final_time < 1e-6:\n",
        "          return True\n",
        "      except:\n",
        "        return False\n",
        "      \n",
        "    return False\n",
        "  else:\n",
        "    # (maldeghi): IIRC Gromacs would output the GRO file only for mdruns that\n",
        "    # did not crash/errored. We can make this stricted by checking the log\n",
        "    # file too.\n",
        "    gro = \"/\".join(tpr.split(\"/\")[:-1]) + \"/confout.gro\"\n",
        "    if os.path.isfile(gro):\n",
        "      return True\n",
        "    else:\n",
        "      return False\n",
        "\n",
        "\n",
        "def tail(fname, n):\n",
        "  with open(fname) as f:\n",
        "    for line in (f.readlines() [-n:]):\n",
        "      print(line, end ='')"
      ],
      "metadata": {
        "id": "n-2EswQwUya3"
      },
      "execution_count": 20,
      "outputs": []
    },
    {
      "cell_type": "code",
      "source": [
        "#@title Copy input files\n",
        "\n",
        "WORKDIR = f\"/content/pmxrun_{_SESSION_ID}\"  #@param {type:\"string\"}\n",
        "OVERWRITE_WORKDIR = True  #@param {type:\"boolean\"}\n",
        "\n",
        "#@markdown Whether to run very short simulations for testing. Otherwise, we run \n",
        "#@markdown the full set of calculations, which takes several hours.\n",
        "SHORT_SIMS = True  #@param {type:\"boolean\"}\n",
        "\n",
        "if os.path.isdir(WORKDIR) and OVERWRITE_WORKDIR:\n",
        "  shutil.rmtree(WORKDIR)\n",
        "\n",
        "if not os.path.isdir(WORKDIR):\n",
        "  os.mkdir(WORKDIR)\n",
        "\n",
        "  pmx_path = pmx.__file__.replace('/__init__.py', '')\n",
        "\n",
        "  # Copy topology and structure files for protein and ligand.\n",
        "  shutil.copytree(f'{pmx_path}/abfe_scripts/struct_top/', f'{WORKDIR}/struct_top/')\n",
        "\n",
        "  # Copy MDP files (i.e. Gromacs config files).\n",
        "  shutil.copytree(f'{pmx_path}/abfe_scripts/mdppath/', f'{WORKDIR}/mdppath/')\n",
        "\n",
        "# We also shorten the alchemical transitions to speed things up.\n",
        "# Note we cannot just change nsteps in mdrun here because we need to adjust the\n",
        "# lambda schedule too.\n",
        "! if [ $SHORT_SIMS == \"True\" ]; then sed -i 's/nsteps.*/nsteps = 25000/g' $WORKDIR/mdppath/ti_l*mdp; fi\n",
        "! if [ $SHORT_SIMS == \"True\" ]; then sed -i 's/delta-lambda.*/delta-lambda = 4e-5/g' $WORKDIR/mdppath/ti_l0.mdp; fi  # 1/25,000 = 4e-5\n",
        "! if [ $SHORT_SIMS == \"True\" ]; then sed -i 's/delta-lambda.*/delta-lambda = -4e-5/g' $WORKDIR/mdppath/ti_l1.mdp; fi\n",
        "\n",
        "# Show contents of our working directory.\n",
        "!echo \"> ls {WORKDIR}\"\n",
        "!ls -l {WORKDIR}"
      ],
      "metadata": {
        "id": "UpP5TYyavS-D",
        "outputId": "880f7a80-911a-4261-fb64-75c27532f6c5",
        "colab": {
          "base_uri": "https://localhost:8080/"
        }
      },
      "execution_count": 6,
      "outputs": [
        {
          "output_type": "stream",
          "name": "stdout",
          "text": [
            "> ls /content/pmxrun_1671051601\n",
            "total 8\n",
            "drwxr-xr-x 2 root root 4096 Dec 14 21:00 mdppath\n",
            "drwxr-xr-x 4 root root 4096 Dec 14 20:57 struct_top\n"
          ]
        }
      ]
    },
    {
      "cell_type": "markdown",
      "source": [
        "## 1.&nbsp; Input Files Preparation"
      ],
      "metadata": {
        "id": "hTMjgKkLXvQa"
      }
    },
    {
      "cell_type": "code",
      "source": [
        "#@title 1.1&nbsp; Setup folder structure\n",
        "\n",
        "# Initialize the free energy environment object. It will store the main \n",
        "# parameters for the calculations.\n",
        "fe = AbsoluteDG(ligList=['lysozyme_benzene'], \n",
        "                apoCase='lysozyme_apo', \n",
        "                bDSSB=False,\n",
        "                gmxexec='/usr/local/gromacs/bin/gmx')\n",
        "\n",
        "# Set the workpath in which simulation input files will be created.\n",
        "fe.workPath = f'{WORKDIR}/lysopath'\n",
        "# Set the path to the MDP files.\n",
        "fe.mdpPath = f'{WORKDIR}/mdppath'\n",
        "#@markdown Set the number of replicas (i.e., number of equilibrium simulations per state).\n",
        "fe.replicas = 2  #@param {type:\"integer\"}\n",
        "# Provide the path to the structures and topologies.\n",
        "fe.structTopPath = f'{WORKDIR}/struct_top'\n",
        "\n",
        "# Prepare the directory structure with all simulations steps required.\n",
        "fe.simTypes = ['em',  # Energy minimization.\n",
        "               'eq_posre',  # Equilibrium sim with position restraints.\n",
        "               'eq',  # Equilibrium simulation.\n",
        "               'transitions']  # Alchemical, non-equilibrium simulations.\n",
        "\n",
        "fe.prepareFreeEnergyDir()"
      ],
      "metadata": {
        "id": "7aWt8mknrxut",
        "outputId": "4fca0e20-6e96-4570-8d62-6831c69aefd3",
        "colab": {
          "base_uri": "https://localhost:8080/"
        }
      },
      "execution_count": 7,
      "outputs": [
        {
          "output_type": "stream",
          "name": "stdout",
          "text": [
            "\n",
            "---------------------\n",
            "Summary of the setup:\n",
            "---------------------\n",
            "\n",
            "   workpath: /content/pmxrun_1671051601/lysopath\n",
            "   mdp path: /content/pmxrun_1671051601/mdppath\n",
            "   # ligands: 1\n",
            "   ligands:\n",
            "        lysozyme_benzene\n",
            "   apo state: lysozyme_apo\n",
            "\n",
            "---------------------\n",
            "Directory structure:\n",
            "---------------------\n",
            "\n",
            "/content/pmxrun_1671051601/lysopath/\n",
            "|\n",
            "|--ligX\n",
            "|--|--water\n",
            "|--|--|--stateA\n",
            "|--|--|--|--run1/2\n",
            "|--|--|--|--|--/em/eq_posre/eq/transitions\n",
            "|--|--|--stateB\n",
            "|--|--|--|--run1/2\n",
            "|--|--|--|--|--/em/eq_posre/eq/transitions\n",
            "|--|--protein\n",
            "|--|--|--stateA\n",
            "|--|--|--|--run1/2\n",
            "|--|--|--|--|--/em/eq_posre/eq/transitions\n",
            "|--|--|--stateB\n",
            "|--|--|--|--run1/2\n",
            "|--|--|--|--|--/em/eq_posre/eq/transitions\n",
            "|--|--strTopFolder\n",
            "|--lig..\n",
            "\n",
            "DONE\n"
          ]
        }
      ]
    },
    {
      "cell_type": "code",
      "source": [
        "#@title 1.2&nbsp; Assemble simulation systems\n",
        "\n",
        "# Assemble the systems: build Gromacs structure and topology for the \n",
        "# ligand+water and ligand+protein+water systems.\n",
        "fe.assemble_systems()\n",
        "\n",
        "# Define the simulation boxes, fill them with water molecules, and add ions to \n",
        "# neutralize the system and reach desired NaCl concentration (0.15 M by default).\n",
        "fe.boxWaterIons()"
      ],
      "metadata": {
        "id": "cotlzEQ9sNgk",
        "outputId": "1135245a-40f2-46a1-ef50-acde8245e4a3",
        "colab": {
          "base_uri": "https://localhost:8080/"
        }
      },
      "execution_count": 8,
      "outputs": [
        {
          "output_type": "stream",
          "name": "stdout",
          "text": [
            "----------------------\n",
            "Assembling the systems\n",
            "----------------------\n",
            "Order: ligand-protein-other-water\n",
            "--- Assembling structures: lysozyme_benzene ---\n",
            "--- Assembling topologies: lysozyme_benzene ---\n",
            "----------------\n",
            "Box, water, ions\n",
            "----------------\n"
          ]
        }
      ]
    },
    {
      "cell_type": "code",
      "source": [
        "# Check the files present now. This is the content of root dir of the \n",
        "# calculation for this protein-ligand pair. The following ls calls show \n",
        "# the content of some subfolders for the complex simulations, \n",
        "# stateA (coupled ligand). The other folders have the same structure/files but \n",
        "# for the ligand in water simulations and for stateB too.\n",
        "!echo \"> ls {WORKDIR}/lysopath/lysozyme_benzene/\"\n",
        "!ls {WORKDIR}/lysopath/lysozyme_benzene/\n",
        "!echo \"\"\n",
        "!echo \"> ls {WORKDIR}/lysopath/lysozyme_benzene/protein\"\n",
        "!ls {WORKDIR}/lysopath/lysozyme_benzene/protein/\n",
        "!echo \"\"\n",
        "!echo \"> ls {WORKDIR}/lysopath/lysozyme_benzene/protein/stateA\"\n",
        "!ls {WORKDIR}/lysopath/lysozyme_benzene/protein/stateA/\n",
        "!echo \"\"\n",
        "!echo \"> ls {WORKDIR}/lysopath/lysozyme_benzene/protein/stateA/run1/\"\n",
        "!ls {WORKDIR}/lysopath/lysozyme_benzene/protein/stateA/run1/"
      ],
      "metadata": {
        "id": "hYIk_gOoyIUs",
        "colab": {
          "base_uri": "https://localhost:8080/"
        },
        "outputId": "6fceb10f-e62c-46f1-969a-e68375d6341b"
      },
      "execution_count": 9,
      "outputs": [
        {
          "output_type": "stream",
          "name": "stdout",
          "text": [
            "> ls /content/pmxrun_1671051601/lysopath/lysozyme_benzene/\n",
            "protein  strTopFolder_apo  strTopFolder_holo  water\n",
            "\n",
            "> ls /content/pmxrun_1671051601/lysopath/lysozyme_benzene/protein\n",
            "stateA\tstateB\n",
            "\n",
            "> ls /content/pmxrun_1671051601/lysopath/lysozyme_benzene/protein/stateA\n",
            "box.pdb   mdout.mdp  run2\t topol.top  tpr.tpr\n",
            "ions.pdb  run1\t     system.pdb  top.top    water.pdb\n",
            "\n",
            "> ls /content/pmxrun_1671051601/lysopath/lysozyme_benzene/protein/stateA/run1/\n",
            "em  eq\teq_posre  transitions\n"
          ]
        }
      ]
    },
    {
      "cell_type": "markdown",
      "source": [
        "## 2&nbsp; Energy Minimization"
      ],
      "metadata": {
        "id": "lUZaXKThYEEL"
      }
    },
    {
      "cell_type": "code",
      "source": [
        "#@title 2.1&nbsp; Prepare TPR files\n",
        "\n",
        "# Call grompp and create TPR files for all systems and repeats.\n",
        "tpr_files = fe.prepare_simulation(simType='em')\n",
        "\n",
        "print(\"List of TPR files that we'll run:\")\n",
        "for f in tpr_files:\n",
        "  print(f\"  {f}\")"
      ],
      "metadata": {
        "id": "Zx2YhHZ8xtZN",
        "colab": {
          "base_uri": "https://localhost:8080/"
        },
        "outputId": "a5922ef4-5cdf-40e5-c8a4-7ed1c751cbd6"
      },
      "execution_count": 10,
      "outputs": [
        {
          "output_type": "stream",
          "name": "stdout",
          "text": [
            "-----------------------------------------\n",
            "Preparing simulation: em\n",
            "-----------------------------------------\n",
            "List of TPR files that we'll run:\n",
            "  /content/pmxrun_1671051601/lysopath/lysozyme_benzene/water/stateA/run1/em/tpr.tpr\n",
            "  /content/pmxrun_1671051601/lysopath/lysozyme_benzene/water/stateA/run2/em/tpr.tpr\n",
            "  /content/pmxrun_1671051601/lysopath/lysozyme_benzene/water/stateB/run1/em/tpr.tpr\n",
            "  /content/pmxrun_1671051601/lysopath/lysozyme_benzene/water/stateB/run2/em/tpr.tpr\n",
            "  /content/pmxrun_1671051601/lysopath/lysozyme_benzene/protein/stateA/run1/em/tpr.tpr\n",
            "  /content/pmxrun_1671051601/lysopath/lysozyme_benzene/protein/stateA/run2/em/tpr.tpr\n",
            "  /content/pmxrun_1671051601/lysopath/lysozyme_benzene/protein/stateB/run1/em/tpr.tpr\n",
            "  /content/pmxrun_1671051601/lysopath/lysozyme_benzene/protein/stateB/run2/em/tpr.tpr\n"
          ]
        }
      ]
    },
    {
      "cell_type": "code",
      "source": [
        "#@title 2.2&nbsp; Run minimizations\n",
        "\n",
        "if SHORT_SIMS:\n",
        "  nsteps = 500\n",
        "else:\n",
        "  nsteps = None  # i.e. use what's in the MDP files\n",
        "\n",
        "# Read the TPR files and run all minimizations.\n",
        "for tpr_file in tqdm(tpr_files):\n",
        "  print(f\"\\nRunning {tpr_file}\")\n",
        "\n",
        "  # If minimization has been run already, skip.\n",
        "  if mdrun_completed(tpr_file):\n",
        "    print(f\"`{tpr_file}` already ran successfully\")\n",
        "    continue\n",
        "\n",
        "  # Run the simulation (with reduced number of steps if needed)\n",
        "  md = mdrun(tpr_file, pmegpu=False, nsteps=nsteps)"
      ],
      "metadata": {
        "colab": {
          "base_uri": "https://localhost:8080/"
        },
        "id": "6Jec4JUu1caU",
        "outputId": "e9caa70a-ab94-4420-e61c-a15ecf8fae04"
      },
      "execution_count": 11,
      "outputs": [
        {
          "output_type": "stream",
          "name": "stderr",
          "text": [
            "\r  0%|          | 0/8 [00:00<?, ?it/s]"
          ]
        },
        {
          "output_type": "stream",
          "name": "stdout",
          "text": [
            "\n",
            "Running /content/pmxrun_1671051601/lysopath/lysozyme_benzene/water/stateA/run1/em/tpr.tpr\n"
          ]
        },
        {
          "output_type": "stream",
          "name": "stderr",
          "text": [
            "\r 12%|█▎        | 1/8 [00:03<00:22,  3.28s/it]"
          ]
        },
        {
          "output_type": "stream",
          "name": "stdout",
          "text": [
            "\n",
            "Running /content/pmxrun_1671051601/lysopath/lysozyme_benzene/water/stateA/run2/em/tpr.tpr\n"
          ]
        },
        {
          "output_type": "stream",
          "name": "stderr",
          "text": [
            "\r 25%|██▌       | 2/8 [00:05<00:15,  2.66s/it]"
          ]
        },
        {
          "output_type": "stream",
          "name": "stdout",
          "text": [
            "\n",
            "Running /content/pmxrun_1671051601/lysopath/lysozyme_benzene/water/stateB/run1/em/tpr.tpr\n"
          ]
        },
        {
          "output_type": "stream",
          "name": "stderr",
          "text": [
            "\r 38%|███▊      | 3/8 [00:07<00:12,  2.46s/it]"
          ]
        },
        {
          "output_type": "stream",
          "name": "stdout",
          "text": [
            "\n",
            "Running /content/pmxrun_1671051601/lysopath/lysozyme_benzene/water/stateB/run2/em/tpr.tpr\n"
          ]
        },
        {
          "output_type": "stream",
          "name": "stderr",
          "text": [
            "\r 50%|█████     | 4/8 [00:09<00:09,  2.38s/it]"
          ]
        },
        {
          "output_type": "stream",
          "name": "stdout",
          "text": [
            "\n",
            "Running /content/pmxrun_1671051601/lysopath/lysozyme_benzene/protein/stateA/run1/em/tpr.tpr\n"
          ]
        },
        {
          "output_type": "stream",
          "name": "stderr",
          "text": [
            "\r 62%|██████▎   | 5/8 [00:35<00:32, 10.82s/it]"
          ]
        },
        {
          "output_type": "stream",
          "name": "stdout",
          "text": [
            "\n",
            "Running /content/pmxrun_1671051601/lysopath/lysozyme_benzene/protein/stateA/run2/em/tpr.tpr\n"
          ]
        },
        {
          "output_type": "stream",
          "name": "stderr",
          "text": [
            "\r 75%|███████▌  | 6/8 [01:00<00:30, 15.38s/it]"
          ]
        },
        {
          "output_type": "stream",
          "name": "stdout",
          "text": [
            "\n",
            "Running /content/pmxrun_1671051601/lysopath/lysozyme_benzene/protein/stateB/run1/em/tpr.tpr\n"
          ]
        },
        {
          "output_type": "stream",
          "name": "stderr",
          "text": [
            "\r 88%|████████▊ | 7/8 [01:25<00:18, 18.53s/it]"
          ]
        },
        {
          "output_type": "stream",
          "name": "stdout",
          "text": [
            "\n",
            "Running /content/pmxrun_1671051601/lysopath/lysozyme_benzene/protein/stateB/run2/em/tpr.tpr\n"
          ]
        },
        {
          "output_type": "stream",
          "name": "stderr",
          "text": [
            "100%|██████████| 8/8 [01:50<00:00, 13.76s/it]\n"
          ]
        }
      ]
    },
    {
      "cell_type": "markdown",
      "source": [
        "## 3.&nbsp; Equilibrium Simulations\n",
        "\n",
        "First, we run a short MD simulation with position restraints to equilibrate the solvent and ions around the protein/ligand. Then, we run tha actual production simulation."
      ],
      "metadata": {
        "id": "fGrncu-0YPh6"
      }
    },
    {
      "cell_type": "code",
      "source": [
        "#@title 3.1&nbsp; Prepare TPR files for short equilibration\n",
        "\n",
        "tpr_files = fe.prepare_simulation(simType='eq_posre', prevSim='em')\n",
        "\n",
        "print(\"List of TPR files that we'll run:\")\n",
        "for f in tpr_files:\n",
        "  print(f\"  {f}\")"
      ],
      "metadata": {
        "colab": {
          "base_uri": "https://localhost:8080/"
        },
        "id": "hJXqCkr8XEK7",
        "outputId": "bba53f3d-8336-430d-f367-e8a405b69315"
      },
      "execution_count": 12,
      "outputs": [
        {
          "output_type": "stream",
          "name": "stdout",
          "text": [
            "-----------------------------------------\n",
            "Preparing simulation: eq_posre\n",
            "-----------------------------------------\n",
            "List of TPR files that we'll run:\n",
            "  /content/pmxrun_1671051601/lysopath/lysozyme_benzene/water/stateA/run1/eq_posre/tpr.tpr\n",
            "  /content/pmxrun_1671051601/lysopath/lysozyme_benzene/water/stateA/run2/eq_posre/tpr.tpr\n",
            "  /content/pmxrun_1671051601/lysopath/lysozyme_benzene/water/stateB/run1/eq_posre/tpr.tpr\n",
            "  /content/pmxrun_1671051601/lysopath/lysozyme_benzene/water/stateB/run2/eq_posre/tpr.tpr\n",
            "  /content/pmxrun_1671051601/lysopath/lysozyme_benzene/protein/stateA/run1/eq_posre/tpr.tpr\n",
            "  /content/pmxrun_1671051601/lysopath/lysozyme_benzene/protein/stateA/run2/eq_posre/tpr.tpr\n",
            "  /content/pmxrun_1671051601/lysopath/lysozyme_benzene/protein/stateB/run1/eq_posre/tpr.tpr\n",
            "  /content/pmxrun_1671051601/lysopath/lysozyme_benzene/protein/stateB/run2/eq_posre/tpr.tpr\n"
          ]
        }
      ]
    },
    {
      "cell_type": "code",
      "source": [
        "#@title 3.2&nbsp; Run short equilibration\n",
        "\n",
        "if SHORT_SIMS:\n",
        "  nsteps = 5_000  # 5,000 x 2 fs = 10 ps\n",
        "else:\n",
        "  nsteps = None  # i.e. use what's in the MDP files\n",
        "\n",
        "# Read the TPR files and run all simulations.\n",
        "for tpr_file in tqdm(tpr_files):\n",
        "  print(f\"\\nRunning {tpr_file}\")\n",
        "\n",
        "  # If simulation has been run already, skip.\n",
        "  if mdrun_completed(tpr_file):\n",
        "    print(f\"`{tpr_file}` already ran successfully\")\n",
        "    continue\n",
        "  # Run the simulation (with reduced number of steps to speed things up)\n",
        "  md = mdrun(tpr_file, pmegpu=True, nsteps=nsteps)"
      ],
      "metadata": {
        "colab": {
          "base_uri": "https://localhost:8080/"
        },
        "id": "xNJ4StaWYYJT",
        "outputId": "97020e0d-0997-4ac3-b183-cf01c755255b"
      },
      "execution_count": 13,
      "outputs": [
        {
          "output_type": "stream",
          "name": "stderr",
          "text": [
            "\r  0%|          | 0/8 [00:00<?, ?it/s]"
          ]
        },
        {
          "output_type": "stream",
          "name": "stdout",
          "text": [
            "\n",
            "Running /content/pmxrun_1671051601/lysopath/lysozyme_benzene/water/stateA/run1/eq_posre/tpr.tpr\n"
          ]
        },
        {
          "output_type": "stream",
          "name": "stderr",
          "text": [
            "\r 12%|█▎        | 1/8 [00:04<00:29,  4.17s/it]"
          ]
        },
        {
          "output_type": "stream",
          "name": "stdout",
          "text": [
            "\n",
            "Running /content/pmxrun_1671051601/lysopath/lysozyme_benzene/water/stateA/run2/eq_posre/tpr.tpr\n"
          ]
        },
        {
          "output_type": "stream",
          "name": "stderr",
          "text": [
            "\r 25%|██▌       | 2/8 [00:08<00:25,  4.23s/it]"
          ]
        },
        {
          "output_type": "stream",
          "name": "stdout",
          "text": [
            "\n",
            "Running /content/pmxrun_1671051601/lysopath/lysozyme_benzene/water/stateB/run1/eq_posre/tpr.tpr\n"
          ]
        },
        {
          "output_type": "stream",
          "name": "stderr",
          "text": [
            "\r 38%|███▊      | 3/8 [00:12<00:20,  4.12s/it]"
          ]
        },
        {
          "output_type": "stream",
          "name": "stdout",
          "text": [
            "\n",
            "Running /content/pmxrun_1671051601/lysopath/lysozyme_benzene/water/stateB/run2/eq_posre/tpr.tpr\n"
          ]
        },
        {
          "output_type": "stream",
          "name": "stderr",
          "text": [
            "\r 50%|█████     | 4/8 [00:16<00:16,  4.04s/it]"
          ]
        },
        {
          "output_type": "stream",
          "name": "stdout",
          "text": [
            "\n",
            "Running /content/pmxrun_1671051601/lysopath/lysozyme_benzene/protein/stateA/run1/eq_posre/tpr.tpr\n"
          ]
        },
        {
          "output_type": "stream",
          "name": "stderr",
          "text": [
            "\r 62%|██████▎   | 5/8 [00:41<00:35, 11.71s/it]"
          ]
        },
        {
          "output_type": "stream",
          "name": "stdout",
          "text": [
            "\n",
            "Running /content/pmxrun_1671051601/lysopath/lysozyme_benzene/protein/stateA/run2/eq_posre/tpr.tpr\n"
          ]
        },
        {
          "output_type": "stream",
          "name": "stderr",
          "text": [
            "\r 75%|███████▌  | 6/8 [01:05<00:31, 15.89s/it]"
          ]
        },
        {
          "output_type": "stream",
          "name": "stdout",
          "text": [
            "\n",
            "Running /content/pmxrun_1671051601/lysopath/lysozyme_benzene/protein/stateB/run1/eq_posre/tpr.tpr\n"
          ]
        },
        {
          "output_type": "stream",
          "name": "stderr",
          "text": [
            "\r 88%|████████▊ | 7/8 [01:28<00:18, 18.08s/it]"
          ]
        },
        {
          "output_type": "stream",
          "name": "stdout",
          "text": [
            "\n",
            "Running /content/pmxrun_1671051601/lysopath/lysozyme_benzene/protein/stateB/run2/eq_posre/tpr.tpr\n"
          ]
        },
        {
          "output_type": "stream",
          "name": "stderr",
          "text": [
            "100%|██████████| 8/8 [01:50<00:00, 13.85s/it]\n"
          ]
        }
      ]
    },
    {
      "cell_type": "code",
      "source": [
        "# Show output files for one run.\n",
        "print(\"Path to mdrun output files:\", os.path.dirname(tpr_files[0]))\n",
        "print(\"Output files:\", os.listdir(\"/\".join(tpr_files[0].split(\"/\")[:-1])))\n",
        "print()\n",
        "\n",
        "# Tail log file to see performance.\n",
        "tail(tpr_files[0].replace('tpr.tpr', 'md.log'), n=5)"
      ],
      "metadata": {
        "id": "4HZiyPuOwQAD",
        "outputId": "a4129d8b-5309-4afc-91f3-d106798e4b59",
        "colab": {
          "base_uri": "https://localhost:8080/"
        }
      },
      "execution_count": 14,
      "outputs": [
        {
          "output_type": "stream",
          "name": "stdout",
          "text": [
            "Path to mdrun output files: /content/pmxrun_1671051601/lysopath/lysozyme_benzene/water/stateA/run1/eq_posre\n",
            "Output files: ['ener.edr', 'md.log', 'confout.gro', 'tpr.tpr', 'traj.trr', 'state.cpt', 'mdout.mdp']\n",
            "\n",
            "       Time:        6.180        3.090      200.0\n",
            "                 (ns/day)    (hour/ns)\n",
            "Performance:      279.675        0.086\n",
            "Finished mdrun on rank 0 Wed Dec 14 21:02:14 2022\n",
            "\n"
          ]
        }
      ]
    },
    {
      "cell_type": "code",
      "source": [
        "#@title 3.3&nbsp; Prepare TPR files for equilibrium simulations\n",
        "\n",
        "tpr_files = fe.prepare_simulation(simType='eq', prevSim='eq_posre')\n",
        "\n",
        "print(\"List of TPR files that we'll run:\")\n",
        "for f in tpr_files:\n",
        "  print(f\"  {f}\")"
      ],
      "metadata": {
        "colab": {
          "base_uri": "https://localhost:8080/"
        },
        "id": "niTYHk9FYYLv",
        "outputId": "fc3c5328-b813-4706-86f1-a7e1590fc02b"
      },
      "execution_count": 15,
      "outputs": [
        {
          "output_type": "stream",
          "name": "stdout",
          "text": [
            "-----------------------------------------\n",
            "Preparing simulation: eq\n",
            "-----------------------------------------\n",
            "List of TPR files that we'll run:\n",
            "  /content/pmxrun_1671051601/lysopath/lysozyme_benzene/water/stateA/run1/eq/tpr.tpr\n",
            "  /content/pmxrun_1671051601/lysopath/lysozyme_benzene/water/stateA/run2/eq/tpr.tpr\n",
            "  /content/pmxrun_1671051601/lysopath/lysozyme_benzene/water/stateB/run1/eq/tpr.tpr\n",
            "  /content/pmxrun_1671051601/lysopath/lysozyme_benzene/water/stateB/run2/eq/tpr.tpr\n",
            "  /content/pmxrun_1671051601/lysopath/lysozyme_benzene/protein/stateA/run1/eq/tpr.tpr\n",
            "  /content/pmxrun_1671051601/lysopath/lysozyme_benzene/protein/stateA/run2/eq/tpr.tpr\n",
            "  /content/pmxrun_1671051601/lysopath/lysozyme_benzene/protein/stateB/run1/eq/tpr.tpr\n",
            "  /content/pmxrun_1671051601/lysopath/lysozyme_benzene/protein/stateB/run2/eq/tpr.tpr\n"
          ]
        }
      ]
    },
    {
      "cell_type": "code",
      "source": [
        "#@title 3.4&nbsp; Run equilibrium simulations\n",
        "\n",
        "if SHORT_SIMS:\n",
        "  nsteps = 25_000  # 25,000 x 2 fs = 50 ps\n",
        "else:\n",
        "  nsteps = None  # i.e. use what's in the MDP files\n",
        "\n",
        "# Read the TPR files and run all simulations.\n",
        "for tpr_file in tqdm(tpr_files):\n",
        "  print(f\"\\nRunning {tpr_file}\")\n",
        "\n",
        "  # If simulation has been run already, skip.\n",
        "  if mdrun_completed(tpr_file):\n",
        "    print(f\"`{tpr_file}` already ran successfully\")\n",
        "    continue\n",
        "\n",
        "  # Run the simulation (with reduced number of steps to speed things up)\n",
        "  md = mdrun(tpr_file, pmegpu=True, nsteps=nsteps)"
      ],
      "metadata": {
        "colab": {
          "base_uri": "https://localhost:8080/"
        },
        "id": "7tQPHNndYYN8",
        "outputId": "d8ac0a0f-4b0f-49f7-c0c0-fe55a00cfdbc"
      },
      "execution_count": 16,
      "outputs": [
        {
          "output_type": "stream",
          "name": "stderr",
          "text": [
            "\r  0%|          | 0/8 [00:00<?, ?it/s]"
          ]
        },
        {
          "output_type": "stream",
          "name": "stdout",
          "text": [
            "\n",
            "Running /content/pmxrun_1671051601/lysopath/lysozyme_benzene/water/stateA/run1/eq/tpr.tpr\n"
          ]
        },
        {
          "output_type": "stream",
          "name": "stderr",
          "text": [
            "\r 12%|█▎        | 1/8 [00:16<01:55, 16.48s/it]"
          ]
        },
        {
          "output_type": "stream",
          "name": "stdout",
          "text": [
            "\n",
            "Running /content/pmxrun_1671051601/lysopath/lysozyme_benzene/water/stateA/run2/eq/tpr.tpr\n"
          ]
        },
        {
          "output_type": "stream",
          "name": "stderr",
          "text": [
            "\r 25%|██▌       | 2/8 [00:32<01:37, 16.27s/it]"
          ]
        },
        {
          "output_type": "stream",
          "name": "stdout",
          "text": [
            "\n",
            "Running /content/pmxrun_1671051601/lysopath/lysozyme_benzene/water/stateB/run1/eq/tpr.tpr\n"
          ]
        },
        {
          "output_type": "stream",
          "name": "stderr",
          "text": [
            "\r 38%|███▊      | 3/8 [00:48<01:19, 15.99s/it]"
          ]
        },
        {
          "output_type": "stream",
          "name": "stdout",
          "text": [
            "\n",
            "Running /content/pmxrun_1671051601/lysopath/lysozyme_benzene/water/stateB/run2/eq/tpr.tpr\n"
          ]
        },
        {
          "output_type": "stream",
          "name": "stderr",
          "text": [
            "\r 50%|█████     | 4/8 [01:04<01:03, 15.99s/it]"
          ]
        },
        {
          "output_type": "stream",
          "name": "stdout",
          "text": [
            "\n",
            "Running /content/pmxrun_1671051601/lysopath/lysozyme_benzene/protein/stateA/run1/eq/tpr.tpr\n"
          ]
        },
        {
          "output_type": "stream",
          "name": "stderr",
          "text": [
            "\r 62%|██████▎   | 5/8 [02:49<02:24, 48.02s/it]"
          ]
        },
        {
          "output_type": "stream",
          "name": "stdout",
          "text": [
            "\n",
            "Running /content/pmxrun_1671051601/lysopath/lysozyme_benzene/protein/stateA/run2/eq/tpr.tpr\n"
          ]
        },
        {
          "output_type": "stream",
          "name": "stderr",
          "text": [
            "\r 75%|███████▌  | 6/8 [04:33<02:14, 67.13s/it]"
          ]
        },
        {
          "output_type": "stream",
          "name": "stdout",
          "text": [
            "\n",
            "Running /content/pmxrun_1671051601/lysopath/lysozyme_benzene/protein/stateB/run1/eq/tpr.tpr\n"
          ]
        },
        {
          "output_type": "stream",
          "name": "stderr",
          "text": [
            "\r 88%|████████▊ | 7/8 [06:17<01:19, 79.26s/it]"
          ]
        },
        {
          "output_type": "stream",
          "name": "stdout",
          "text": [
            "\n",
            "Running /content/pmxrun_1671051601/lysopath/lysozyme_benzene/protein/stateB/run2/eq/tpr.tpr\n"
          ]
        },
        {
          "output_type": "stream",
          "name": "stderr",
          "text": [
            "100%|██████████| 8/8 [08:01<00:00, 60.20s/it]\n"
          ]
        }
      ]
    },
    {
      "cell_type": "code",
      "source": [
        "i = 0\n",
        "\n",
        "# Show output files for one run.\n",
        "print(\"Path to mdrun output files:\", os.path.dirname(tpr_files[i]))\n",
        "print(\"Output files:\", os.listdir(\"/\".join(tpr_files[i].split(\"/\")[:-1])))\n",
        "print()\n",
        "\n",
        "# Tail log file to see performance.\n",
        "tail(tpr_files[i].replace('tpr.tpr', 'md.log'), n=5)"
      ],
      "metadata": {
        "id": "A65hr9eJy3rA",
        "outputId": "c567e5d2-d55f-456a-99c6-21580cfdd449",
        "colab": {
          "base_uri": "https://localhost:8080/"
        }
      },
      "execution_count": 17,
      "outputs": [
        {
          "output_type": "stream",
          "name": "stdout",
          "text": [
            "Path to mdrun output files: /content/pmxrun_1671051601/lysopath/lysozyme_benzene/water/stateA/run1/eq\n",
            "Output files: ['ener.edr', 'md.log', 'confout.gro', 'tpr.tpr', 'traj.trr', 'state.cpt', 'mdout.mdp']\n",
            "\n",
            "       Time:       30.140       15.070      200.0\n",
            "                 (ns/day)    (hour/ns)\n",
            "Performance:      286.675        0.084\n",
            "Finished mdrun on rank 0 Wed Dec 14 21:04:19 2022\n",
            "\n"
          ]
        }
      ]
    },
    {
      "cell_type": "markdown",
      "source": [
        "## 4.&nbsp; Non-Equilibrium Simulations"
      ],
      "metadata": {
        "id": "39TLpxzEYlEH"
      }
    },
    {
      "cell_type": "code",
      "source": [
        "#@title 4.1&nbsp; Extract frames from equilibrium runs, and prepare TPRs\n",
        "\n",
        "fe.equilTime = 0.  # ps to discard as equilibration\n",
        "fe.bGenTiTpr = True  # Generates TPRs from extracted frames and rm GRO file.\n",
        "tpr_files = fe.prepare_simulation(simType='transitions')\n",
        "\n",
        "print(\"List of TPR files that we'll run:\")\n",
        "for f in tpr_files:\n",
        "  print(f\"  {f}\")"
      ],
      "metadata": {
        "colab": {
          "base_uri": "https://localhost:8080/"
        },
        "id": "86UiwjoqYYQV",
        "outputId": "257ece83-2e30-49dd-b98d-b10666824351"
      },
      "execution_count": 18,
      "outputs": [
        {
          "output_type": "stream",
          "name": "stdout",
          "text": [
            "-----------------------------------------\n",
            "Preparing simulation: transitions\n",
            "-----------------------------------------\n",
            "List of TPR files that we'll run:\n",
            "  /content/pmxrun_1671051601/lysopath/lysozyme_benzene/water/stateA/run1/transitions/frame1/tpr.tpr\n",
            "  /content/pmxrun_1671051601/lysopath/lysozyme_benzene/water/stateA/run2/transitions/frame1/tpr.tpr\n",
            "  /content/pmxrun_1671051601/lysopath/lysozyme_benzene/water/stateB/run1/transitions/frame1/tpr.tpr\n",
            "  /content/pmxrun_1671051601/lysopath/lysozyme_benzene/water/stateB/run2/transitions/frame1/tpr.tpr\n",
            "  /content/pmxrun_1671051601/lysopath/lysozyme_benzene/protein/stateA/run1/transitions/frame1/tpr.tpr\n",
            "  /content/pmxrun_1671051601/lysopath/lysozyme_benzene/protein/stateA/run2/transitions/frame1/tpr.tpr\n",
            "  /content/pmxrun_1671051601/lysopath/lysozyme_benzene/protein/stateB/run1/transitions/frame1/tpr.tpr\n",
            "  /content/pmxrun_1671051601/lysopath/lysozyme_benzene/protein/stateB/run2/transitions/frame1/tpr.tpr\n"
          ]
        }
      ]
    },
    {
      "cell_type": "code",
      "source": [
        "#@title 4.2&nbsp; Run non-equilibrium simulations\n",
        "\n",
        "# Read the TPR files and run all simulations.\n",
        "for tpr_file in tqdm(tpr_files):\n",
        "  print(f\"\\nRunning {tpr_file}\")\n",
        "\n",
        "  # If simulation has been run already, skip.\n",
        "  if mdrun_completed(tpr_file, transition=True):\n",
        "    print(f\"`{tpr_file}` already ran successfully\")\n",
        "    continue\n",
        "\n",
        "  # Run the simulation (with reduced number of steps to speed things up)\n",
        "  md = mdrun(tpr_file, pmegpu=True)"
      ],
      "metadata": {
        "id": "eXYNsz6qYYSd",
        "outputId": "8b14a778-ec29-4cc2-cc29-2bcf728175af",
        "colab": {
          "base_uri": "https://localhost:8080/"
        }
      },
      "execution_count": 21,
      "outputs": [
        {
          "output_type": "stream",
          "name": "stderr",
          "text": [
            "\r  0%|          | 0/8 [00:00<?, ?it/s]"
          ]
        },
        {
          "output_type": "stream",
          "name": "stdout",
          "text": [
            "\n",
            "Running /content/pmxrun_1671051601/lysopath/lysozyme_benzene/water/stateA/run1/transitions/frame1/tpr.tpr\n"
          ]
        },
        {
          "output_type": "stream",
          "name": "stderr",
          "text": [
            "\r 12%|█▎        | 1/8 [00:18<02:07, 18.27s/it]"
          ]
        },
        {
          "output_type": "stream",
          "name": "stdout",
          "text": [
            "\n",
            "Running /content/pmxrun_1671051601/lysopath/lysozyme_benzene/water/stateA/run2/transitions/frame1/tpr.tpr\n"
          ]
        },
        {
          "output_type": "stream",
          "name": "stderr",
          "text": [
            "\r 25%|██▌       | 2/8 [00:37<01:51, 18.66s/it]"
          ]
        },
        {
          "output_type": "stream",
          "name": "stdout",
          "text": [
            "\n",
            "Running /content/pmxrun_1671051601/lysopath/lysozyme_benzene/water/stateB/run1/transitions/frame1/tpr.tpr\n"
          ]
        },
        {
          "output_type": "stream",
          "name": "stderr",
          "text": [
            "\r 38%|███▊      | 3/8 [00:54<01:31, 18.22s/it]"
          ]
        },
        {
          "output_type": "stream",
          "name": "stdout",
          "text": [
            "\n",
            "Running /content/pmxrun_1671051601/lysopath/lysozyme_benzene/water/stateB/run2/transitions/frame1/tpr.tpr\n"
          ]
        },
        {
          "output_type": "stream",
          "name": "stderr",
          "text": [
            "\r 50%|█████     | 4/8 [01:12<01:11, 17.90s/it]"
          ]
        },
        {
          "output_type": "stream",
          "name": "stdout",
          "text": [
            "\n",
            "Running /content/pmxrun_1671051601/lysopath/lysozyme_benzene/protein/stateA/run1/transitions/frame1/tpr.tpr\n"
          ]
        },
        {
          "output_type": "stream",
          "name": "stderr",
          "text": [
            "\r 62%|██████▎   | 5/8 [03:09<02:41, 53.87s/it]"
          ]
        },
        {
          "output_type": "stream",
          "name": "stdout",
          "text": [
            "\n",
            "Running /content/pmxrun_1671051601/lysopath/lysozyme_benzene/protein/stateA/run2/transitions/frame1/tpr.tpr\n"
          ]
        },
        {
          "output_type": "stream",
          "name": "stderr",
          "text": [
            "\r 75%|███████▌  | 6/8 [05:08<02:31, 75.80s/it]"
          ]
        },
        {
          "output_type": "stream",
          "name": "stdout",
          "text": [
            "\n",
            "Running /content/pmxrun_1671051601/lysopath/lysozyme_benzene/protein/stateB/run1/transitions/frame1/tpr.tpr\n"
          ]
        },
        {
          "output_type": "stream",
          "name": "stderr",
          "text": [
            "\r 88%|████████▊ | 7/8 [07:09<01:30, 90.59s/it]"
          ]
        },
        {
          "output_type": "stream",
          "name": "stdout",
          "text": [
            "\n",
            "Running /content/pmxrun_1671051601/lysopath/lysozyme_benzene/protein/stateB/run2/transitions/frame1/tpr.tpr\n"
          ]
        },
        {
          "output_type": "stream",
          "name": "stderr",
          "text": [
            "100%|██████████| 8/8 [09:07<00:00, 68.43s/it]\n"
          ]
        }
      ]
    },
    {
      "cell_type": "code",
      "source": [
        "i = 0  # tpr id\n",
        "\n",
        "# Show output files for one run.\n",
        "print(\"Path to mdrun output files:\", os.path.dirname(tpr_files[i]))\n",
        "print(\"Output files:\", os.listdir(\"/\".join(tpr_files[i].split(\"/\")[:-1])))\n",
        "print()\n",
        "\n",
        "# Tail dhdl file.\n",
        "print(\"Last 10 lines of an XVG files. The first column is time in ps, the second column is the instantaneous dH/dl.\")\n",
        "tail(\"/\".join(tpr_files[i].split(\"/\")[:-1]) + \"/dhdl.xvg\", n=10)"
      ],
      "metadata": {
        "id": "sDYl7JsRRjA3",
        "outputId": "c276dc0c-c094-40d5-bd87-e3282b37b974",
        "colab": {
          "base_uri": "https://localhost:8080/"
        }
      },
      "execution_count": 23,
      "outputs": [
        {
          "output_type": "stream",
          "name": "stdout",
          "text": [
            "Path to mdrun output files: /content/pmxrun_1671051601/lysopath/lysozyme_benzene/water/stateA/run1/transitions/frame1\n",
            "Output files: ['dhdl.xvg', 'ener.edr', 'md.log', 'confout.gro', 'tpr.tpr', 'state.cpt', 'mdout.mdp']\n",
            "\n",
            "Last 10 lines of an XVG files. The first column is time in ps, the second column is the instantaneous dH/dl.\n",
            "49.9820 -45.852627\n",
            "49.9840 -45.171741\n",
            "49.9860 -44.153950\n",
            "49.9880 -42.886539\n",
            "49.9900 -41.460636\n",
            "49.9920 -40.087482\n",
            "49.9940 -39.105045\n",
            "49.9960 -38.526890\n",
            "49.9980 -38.283115\n",
            "50.0000 -38.413532\n"
          ]
        }
      ]
    },
    {
      "cell_type": "markdown",
      "source": [
        "## 5.&nbsp; Free Energy Estimation"
      ],
      "metadata": {
        "id": "nAub78THv3Sc"
      }
    },
    {
      "cell_type": "code",
      "source": [
        "# Estimate and show free energy terms.\n",
        "fe.ligSymmetry = 2  # This is becuase we're unlikely to sample ring flips in benzene.\n",
        "fe.run_analysis(ligs=['lysozyme_benzene'])\n",
        "fe.analysis_summary(ligs=['lysozyme_benzene'])\n",
        "fe.resultsAll"
      ],
      "metadata": {
        "id": "TXnU3ddrLaoZ",
        "outputId": "b3849d7a-9165-4fc5-e399-d567d144ed18",
        "colab": {
          "base_uri": "https://localhost:8080/",
          "height": 415
        }
      },
      "execution_count": 24,
      "outputs": [
        {
          "output_type": "stream",
          "name": "stdout",
          "text": [
            "----------------\n",
            "Running analysis\n",
            "----------------\n"
          ]
        },
        {
          "output_type": "execute_result",
          "data": {
            "text/plain": [
              "                                 dGcalc   errBoot  errAnalyt  framesA  framesB\n",
              "lysozyme_benzene_correction  -31.295500       NaN        NaN      NaN      NaN\n",
              "lysozyme_benzene_symmetry     -1.718282       NaN        NaN      NaN      NaN\n",
              "lysozyme_benzene_water_1      -7.840000  0.000000   0.210000      1.0      1.0\n",
              "lysozyme_benzene_water_2      -7.520000  0.000000   0.160000      1.0      1.0\n",
              "lysozyme_benzene_water_all    -7.680000  0.070000   0.150000      2.0      2.0\n",
              "lysozyme_benzene_protein_1    26.460000  0.000000  18.710000      1.0      1.0\n",
              "lysozyme_benzene_protein_2    18.570000  0.000000  88.310000      1.0      1.0\n",
              "lysozyme_benzene_protein_all  25.530000  3.460000  15.620000      2.0      2.0\n",
              "lysozyme_benzene_water        -7.680000  0.113165   0.173584      2.0      2.0\n",
              "lysozyme_benzene_protein      25.530000  2.790234  46.093702      2.0      2.0"
            ],
            "text/html": [
              "\n",
              "  <div id=\"df-c5461576-4c04-4584-8716-dae1ebaf0743\">\n",
              "    <div class=\"colab-df-container\">\n",
              "      <div>\n",
              "<style scoped>\n",
              "    .dataframe tbody tr th:only-of-type {\n",
              "        vertical-align: middle;\n",
              "    }\n",
              "\n",
              "    .dataframe tbody tr th {\n",
              "        vertical-align: top;\n",
              "    }\n",
              "\n",
              "    .dataframe thead th {\n",
              "        text-align: right;\n",
              "    }\n",
              "</style>\n",
              "<table border=\"1\" class=\"dataframe\">\n",
              "  <thead>\n",
              "    <tr style=\"text-align: right;\">\n",
              "      <th></th>\n",
              "      <th>dGcalc</th>\n",
              "      <th>errBoot</th>\n",
              "      <th>errAnalyt</th>\n",
              "      <th>framesA</th>\n",
              "      <th>framesB</th>\n",
              "    </tr>\n",
              "  </thead>\n",
              "  <tbody>\n",
              "    <tr>\n",
              "      <th>lysozyme_benzene_correction</th>\n",
              "      <td>-31.295500</td>\n",
              "      <td>NaN</td>\n",
              "      <td>NaN</td>\n",
              "      <td>NaN</td>\n",
              "      <td>NaN</td>\n",
              "    </tr>\n",
              "    <tr>\n",
              "      <th>lysozyme_benzene_symmetry</th>\n",
              "      <td>-1.718282</td>\n",
              "      <td>NaN</td>\n",
              "      <td>NaN</td>\n",
              "      <td>NaN</td>\n",
              "      <td>NaN</td>\n",
              "    </tr>\n",
              "    <tr>\n",
              "      <th>lysozyme_benzene_water_1</th>\n",
              "      <td>-7.840000</td>\n",
              "      <td>0.000000</td>\n",
              "      <td>0.210000</td>\n",
              "      <td>1.0</td>\n",
              "      <td>1.0</td>\n",
              "    </tr>\n",
              "    <tr>\n",
              "      <th>lysozyme_benzene_water_2</th>\n",
              "      <td>-7.520000</td>\n",
              "      <td>0.000000</td>\n",
              "      <td>0.160000</td>\n",
              "      <td>1.0</td>\n",
              "      <td>1.0</td>\n",
              "    </tr>\n",
              "    <tr>\n",
              "      <th>lysozyme_benzene_water_all</th>\n",
              "      <td>-7.680000</td>\n",
              "      <td>0.070000</td>\n",
              "      <td>0.150000</td>\n",
              "      <td>2.0</td>\n",
              "      <td>2.0</td>\n",
              "    </tr>\n",
              "    <tr>\n",
              "      <th>lysozyme_benzene_protein_1</th>\n",
              "      <td>26.460000</td>\n",
              "      <td>0.000000</td>\n",
              "      <td>18.710000</td>\n",
              "      <td>1.0</td>\n",
              "      <td>1.0</td>\n",
              "    </tr>\n",
              "    <tr>\n",
              "      <th>lysozyme_benzene_protein_2</th>\n",
              "      <td>18.570000</td>\n",
              "      <td>0.000000</td>\n",
              "      <td>88.310000</td>\n",
              "      <td>1.0</td>\n",
              "      <td>1.0</td>\n",
              "    </tr>\n",
              "    <tr>\n",
              "      <th>lysozyme_benzene_protein_all</th>\n",
              "      <td>25.530000</td>\n",
              "      <td>3.460000</td>\n",
              "      <td>15.620000</td>\n",
              "      <td>2.0</td>\n",
              "      <td>2.0</td>\n",
              "    </tr>\n",
              "    <tr>\n",
              "      <th>lysozyme_benzene_water</th>\n",
              "      <td>-7.680000</td>\n",
              "      <td>0.113165</td>\n",
              "      <td>0.173584</td>\n",
              "      <td>2.0</td>\n",
              "      <td>2.0</td>\n",
              "    </tr>\n",
              "    <tr>\n",
              "      <th>lysozyme_benzene_protein</th>\n",
              "      <td>25.530000</td>\n",
              "      <td>2.790234</td>\n",
              "      <td>46.093702</td>\n",
              "      <td>2.0</td>\n",
              "      <td>2.0</td>\n",
              "    </tr>\n",
              "  </tbody>\n",
              "</table>\n",
              "</div>\n",
              "      <button class=\"colab-df-convert\" onclick=\"convertToInteractive('df-c5461576-4c04-4584-8716-dae1ebaf0743')\"\n",
              "              title=\"Convert this dataframe to an interactive table.\"\n",
              "              style=\"display:none;\">\n",
              "        \n",
              "  <svg xmlns=\"http://www.w3.org/2000/svg\" height=\"24px\"viewBox=\"0 0 24 24\"\n",
              "       width=\"24px\">\n",
              "    <path d=\"M0 0h24v24H0V0z\" fill=\"none\"/>\n",
              "    <path d=\"M18.56 5.44l.94 2.06.94-2.06 2.06-.94-2.06-.94-.94-2.06-.94 2.06-2.06.94zm-11 1L8.5 8.5l.94-2.06 2.06-.94-2.06-.94L8.5 2.5l-.94 2.06-2.06.94zm10 10l.94 2.06.94-2.06 2.06-.94-2.06-.94-.94-2.06-.94 2.06-2.06.94z\"/><path d=\"M17.41 7.96l-1.37-1.37c-.4-.4-.92-.59-1.43-.59-.52 0-1.04.2-1.43.59L10.3 9.45l-7.72 7.72c-.78.78-.78 2.05 0 2.83L4 21.41c.39.39.9.59 1.41.59.51 0 1.02-.2 1.41-.59l7.78-7.78 2.81-2.81c.8-.78.8-2.07 0-2.86zM5.41 20L4 18.59l7.72-7.72 1.47 1.35L5.41 20z\"/>\n",
              "  </svg>\n",
              "      </button>\n",
              "      \n",
              "  <style>\n",
              "    .colab-df-container {\n",
              "      display:flex;\n",
              "      flex-wrap:wrap;\n",
              "      gap: 12px;\n",
              "    }\n",
              "\n",
              "    .colab-df-convert {\n",
              "      background-color: #E8F0FE;\n",
              "      border: none;\n",
              "      border-radius: 50%;\n",
              "      cursor: pointer;\n",
              "      display: none;\n",
              "      fill: #1967D2;\n",
              "      height: 32px;\n",
              "      padding: 0 0 0 0;\n",
              "      width: 32px;\n",
              "    }\n",
              "\n",
              "    .colab-df-convert:hover {\n",
              "      background-color: #E2EBFA;\n",
              "      box-shadow: 0px 1px 2px rgba(60, 64, 67, 0.3), 0px 1px 3px 1px rgba(60, 64, 67, 0.15);\n",
              "      fill: #174EA6;\n",
              "    }\n",
              "\n",
              "    [theme=dark] .colab-df-convert {\n",
              "      background-color: #3B4455;\n",
              "      fill: #D2E3FC;\n",
              "    }\n",
              "\n",
              "    [theme=dark] .colab-df-convert:hover {\n",
              "      background-color: #434B5C;\n",
              "      box-shadow: 0px 1px 3px 1px rgba(0, 0, 0, 0.15);\n",
              "      filter: drop-shadow(0px 1px 2px rgba(0, 0, 0, 0.3));\n",
              "      fill: #FFFFFF;\n",
              "    }\n",
              "  </style>\n",
              "\n",
              "      <script>\n",
              "        const buttonEl =\n",
              "          document.querySelector('#df-c5461576-4c04-4584-8716-dae1ebaf0743 button.colab-df-convert');\n",
              "        buttonEl.style.display =\n",
              "          google.colab.kernel.accessAllowed ? 'block' : 'none';\n",
              "\n",
              "        async function convertToInteractive(key) {\n",
              "          const element = document.querySelector('#df-c5461576-4c04-4584-8716-dae1ebaf0743');\n",
              "          const dataTable =\n",
              "            await google.colab.kernel.invokeFunction('convertToInteractive',\n",
              "                                                     [key], {});\n",
              "          if (!dataTable) return;\n",
              "\n",
              "          const docLinkHtml = 'Like what you see? Visit the ' +\n",
              "            '<a target=\"_blank\" href=https://colab.research.google.com/notebooks/data_table.ipynb>data table notebook</a>'\n",
              "            + ' to learn more about interactive tables.';\n",
              "          element.innerHTML = '';\n",
              "          dataTable['output_type'] = 'display_data';\n",
              "          await google.colab.output.renderOutput(dataTable, element);\n",
              "          const docLink = document.createElement('div');\n",
              "          docLink.innerHTML = docLinkHtml;\n",
              "          element.appendChild(docLink);\n",
              "        }\n",
              "      </script>\n",
              "    </div>\n",
              "  </div>\n",
              "  "
            ]
          },
          "metadata": {},
          "execution_count": 24
        }
      ]
    },
    {
      "cell_type": "code",
      "source": [
        "# Show estimated binding free energy (dGcalc).\n",
        "fe.resultsSummary"
      ],
      "metadata": {
        "id": "n_90Vy1QrjMh",
        "outputId": "5e91f525-58b8-472f-edaa-72d5c6fe151a",
        "colab": {
          "base_uri": "https://localhost:8080/",
          "height": 81
        }
      },
      "execution_count": 25,
      "outputs": [
        {
          "output_type": "execute_result",
          "data": {
            "text/plain": [
              "                    dGcalc  errAnalyt   errBoot\n",
              "lysozyme_benzene -3.632782  46.094029  2.792528"
            ],
            "text/html": [
              "\n",
              "  <div id=\"df-599aa007-84b3-4d4e-9bdb-ad6074bef03b\">\n",
              "    <div class=\"colab-df-container\">\n",
              "      <div>\n",
              "<style scoped>\n",
              "    .dataframe tbody tr th:only-of-type {\n",
              "        vertical-align: middle;\n",
              "    }\n",
              "\n",
              "    .dataframe tbody tr th {\n",
              "        vertical-align: top;\n",
              "    }\n",
              "\n",
              "    .dataframe thead th {\n",
              "        text-align: right;\n",
              "    }\n",
              "</style>\n",
              "<table border=\"1\" class=\"dataframe\">\n",
              "  <thead>\n",
              "    <tr style=\"text-align: right;\">\n",
              "      <th></th>\n",
              "      <th>dGcalc</th>\n",
              "      <th>errAnalyt</th>\n",
              "      <th>errBoot</th>\n",
              "    </tr>\n",
              "  </thead>\n",
              "  <tbody>\n",
              "    <tr>\n",
              "      <th>lysozyme_benzene</th>\n",
              "      <td>-3.632782</td>\n",
              "      <td>46.094029</td>\n",
              "      <td>2.792528</td>\n",
              "    </tr>\n",
              "  </tbody>\n",
              "</table>\n",
              "</div>\n",
              "      <button class=\"colab-df-convert\" onclick=\"convertToInteractive('df-599aa007-84b3-4d4e-9bdb-ad6074bef03b')\"\n",
              "              title=\"Convert this dataframe to an interactive table.\"\n",
              "              style=\"display:none;\">\n",
              "        \n",
              "  <svg xmlns=\"http://www.w3.org/2000/svg\" height=\"24px\"viewBox=\"0 0 24 24\"\n",
              "       width=\"24px\">\n",
              "    <path d=\"M0 0h24v24H0V0z\" fill=\"none\"/>\n",
              "    <path d=\"M18.56 5.44l.94 2.06.94-2.06 2.06-.94-2.06-.94-.94-2.06-.94 2.06-2.06.94zm-11 1L8.5 8.5l.94-2.06 2.06-.94-2.06-.94L8.5 2.5l-.94 2.06-2.06.94zm10 10l.94 2.06.94-2.06 2.06-.94-2.06-.94-.94-2.06-.94 2.06-2.06.94z\"/><path d=\"M17.41 7.96l-1.37-1.37c-.4-.4-.92-.59-1.43-.59-.52 0-1.04.2-1.43.59L10.3 9.45l-7.72 7.72c-.78.78-.78 2.05 0 2.83L4 21.41c.39.39.9.59 1.41.59.51 0 1.02-.2 1.41-.59l7.78-7.78 2.81-2.81c.8-.78.8-2.07 0-2.86zM5.41 20L4 18.59l7.72-7.72 1.47 1.35L5.41 20z\"/>\n",
              "  </svg>\n",
              "      </button>\n",
              "      \n",
              "  <style>\n",
              "    .colab-df-container {\n",
              "      display:flex;\n",
              "      flex-wrap:wrap;\n",
              "      gap: 12px;\n",
              "    }\n",
              "\n",
              "    .colab-df-convert {\n",
              "      background-color: #E8F0FE;\n",
              "      border: none;\n",
              "      border-radius: 50%;\n",
              "      cursor: pointer;\n",
              "      display: none;\n",
              "      fill: #1967D2;\n",
              "      height: 32px;\n",
              "      padding: 0 0 0 0;\n",
              "      width: 32px;\n",
              "    }\n",
              "\n",
              "    .colab-df-convert:hover {\n",
              "      background-color: #E2EBFA;\n",
              "      box-shadow: 0px 1px 2px rgba(60, 64, 67, 0.3), 0px 1px 3px 1px rgba(60, 64, 67, 0.15);\n",
              "      fill: #174EA6;\n",
              "    }\n",
              "\n",
              "    [theme=dark] .colab-df-convert {\n",
              "      background-color: #3B4455;\n",
              "      fill: #D2E3FC;\n",
              "    }\n",
              "\n",
              "    [theme=dark] .colab-df-convert:hover {\n",
              "      background-color: #434B5C;\n",
              "      box-shadow: 0px 1px 3px 1px rgba(0, 0, 0, 0.15);\n",
              "      filter: drop-shadow(0px 1px 2px rgba(0, 0, 0, 0.3));\n",
              "      fill: #FFFFFF;\n",
              "    }\n",
              "  </style>\n",
              "\n",
              "      <script>\n",
              "        const buttonEl =\n",
              "          document.querySelector('#df-599aa007-84b3-4d4e-9bdb-ad6074bef03b button.colab-df-convert');\n",
              "        buttonEl.style.display =\n",
              "          google.colab.kernel.accessAllowed ? 'block' : 'none';\n",
              "\n",
              "        async function convertToInteractive(key) {\n",
              "          const element = document.querySelector('#df-599aa007-84b3-4d4e-9bdb-ad6074bef03b');\n",
              "          const dataTable =\n",
              "            await google.colab.kernel.invokeFunction('convertToInteractive',\n",
              "                                                     [key], {});\n",
              "          if (!dataTable) return;\n",
              "\n",
              "          const docLinkHtml = 'Like what you see? Visit the ' +\n",
              "            '<a target=\"_blank\" href=https://colab.research.google.com/notebooks/data_table.ipynb>data table notebook</a>'\n",
              "            + ' to learn more about interactive tables.';\n",
              "          element.innerHTML = '';\n",
              "          dataTable['output_type'] = 'display_data';\n",
              "          await google.colab.output.renderOutput(dataTable, element);\n",
              "          const docLink = document.createElement('div');\n",
              "          docLink.innerHTML = docLinkHtml;\n",
              "          element.appendChild(docLink);\n",
              "        }\n",
              "      </script>\n",
              "    </div>\n",
              "  </div>\n",
              "  "
            ]
          },
          "metadata": {},
          "execution_count": 25
        }
      ]
    },
    {
      "cell_type": "code",
      "source": [],
      "metadata": {
        "id": "WPMjYh4JhTl7"
      },
      "execution_count": null,
      "outputs": []
    }
  ],
  "metadata": {
    "accelerator": "GPU",
    "colab": {
      "name": "abfe_tutorial.ipynb",
      "provenance": [],
      "toc_visible": true,
      "include_colab_link": true
    },
    "language_info": {
      "name": "python"
    },
    "kernelspec": {
      "name": "python3",
      "display_name": "Python 3"
    },
    "gpuClass": "standard"
  },
  "nbformat": 4,
  "nbformat_minor": 0
}