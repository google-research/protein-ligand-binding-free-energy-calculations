{
  "cells": [
    {
      "cell_type": "markdown",
      "metadata": {
        "id": "view-in-github",
        "colab_type": "text"
      },
      "source": [
        "<a href=\"https://colab.research.google.com/github/google-research/protein-ligand-binding-free-energy-calculations/blob/matteo-dev/colab_tutorial/abfe_tutorial.ipynb\" target=\"_parent\"><img src=\"https://colab.research.google.com/assets/colab-badge.svg\" alt=\"Open In Colab\"/></a>"
      ]
    },
    {
      "cell_type": "markdown",
      "metadata": {
        "id": "fU8sSQIYm8r0"
      },
      "source": [
        "##### Copyright 2022 Google LLC."
      ]
    },
    {
      "cell_type": "code",
      "execution_count": null,
      "metadata": {
        "cellView": "form",
        "id": "zwikt2vqm8r4"
      },
      "outputs": [],
      "source": [
        "#@title Licensed under the Apache License, Version 2.0 (the \"License\");\n",
        "# you may not use this file except in compliance with the License.\n",
        "# You may obtain a copy of the License at\n",
        "#\n",
        "# https://www.apache.org/licenses/LICENSE-2.0\n",
        "#\n",
        "# Unless required by applicable law or agreed to in writing, software\n",
        "# distributed under the License is distributed on an \"AS IS\" BASIS,\n",
        "# WITHOUT WARRANTIES OR CONDITIONS OF ANY KIND, either express or implied.\n",
        "# See the License for the specific language governing permissions and\n",
        "# limitations under the License."
      ]
    },
    {
      "cell_type": "code",
      "execution_count": 1,
      "metadata": {
        "id": "t-xOe6rDm8r7",
        "outputId": "95275206-f7eb-41e9-a6a6-ea0c42e865cb",
        "colab": {
          "base_uri": "https://localhost:8080/"
        }
      },
      "outputs": [
        {
          "output_type": "stream",
          "name": "stdout",
          "text": [
            "--2022-12-01 20:21:01--  https://storage.googleapis.com/gromacs-bin/gromacs-avx2_256-cuda-11_2.tar.gz\n",
            "Resolving storage.googleapis.com (storage.googleapis.com)... 172.253.117.128, 142.250.107.128, 74.125.20.128, ...\n",
            "Connecting to storage.googleapis.com (storage.googleapis.com)|172.253.117.128|:443... connected.\n",
            "HTTP request sent, awaiting response... 200 OK\n",
            "Length: 23920923 (23M) [application/x-gzip]\n",
            "Saving to: ‘/tmp/gromacs.tar.gz’\n",
            "\n",
            "/tmp/gromacs.tar.gz 100%[===================>]  22.81M  74.9MB/s    in 0.3s    \n",
            "\n",
            "2022-12-01 20:21:01 (74.9 MB/s) - ‘/tmp/gromacs.tar.gz’ saved [23920923/23920923]\n",
            "\n",
            "Requirement already satisfied: pip in /usr/local/lib/python3.7/site-packages (22.3.1)\n",
            "\u001b[33mWARNING: Running pip as the 'root' user can result in broken permissions and conflicting behaviour with the system package manager. It is recommended to use a virtual environment instead: https://pip.pypa.io/warnings/venv\u001b[0m\u001b[33m\n",
            "\u001b[0mRequirement already satisfied: setuptools in /usr/local/lib/python3.7/site-packages (65.5.1)\n",
            "Requirement already satisfied: wheel in /usr/local/lib/python3.7/site-packages (0.37.1)\n",
            "Requirement already satisfied: cmake in /usr/local/lib/python3.7/site-packages (3.24.3)\n",
            "Requirement already satisfied: pybind11 in /usr/local/lib/python3.7/site-packages (2.10.1)\n",
            "Requirement already satisfied: py3DMol in /usr/local/lib/python3.7/site-packages (1.8.1)\n",
            "\u001b[33mWARNING: Running pip as the 'root' user can result in broken permissions and conflicting behaviour with the system package manager. It is recommended to use a virtual environment instead: https://pip.pypa.io/warnings/venv\u001b[0m\u001b[33m\n",
            "\u001b[0mFound existing installation: pmx 0+untagged.895.gc9da329\n",
            "Uninstalling pmx-0+untagged.895.gc9da329:\n",
            "  Would remove:\n",
            "    /usr/local/bin/pmx\n",
            "    /usr/local/lib/python3.7/site-packages/pmx-0+untagged.895.gc9da329.dist-info/*\n",
            "    /usr/local/lib/python3.7/site-packages/pmx/*\n",
            "Proceed (Y/n)?   Successfully uninstalled pmx-0+untagged.895.gc9da329\n",
            "\u001b[33mWARNING: Running pip as the 'root' user can result in broken permissions and conflicting behaviour with the system package manager. It is recommended to use a virtual environment instead: https://pip.pypa.io/warnings/venv\u001b[0m\u001b[33m\n",
            "\u001b[0mCollecting git+https://github.com/deGrootLab/pmx.git@abfe_dev\n",
            "  Cloning https://github.com/deGrootLab/pmx.git (to revision abfe_dev) to /tmp/pip-req-build-zq6vspy4\n",
            "  Running command git clone --filter=blob:none --quiet https://github.com/deGrootLab/pmx.git /tmp/pip-req-build-zq6vspy4\n",
            "  Running command git checkout -b abfe_dev --track origin/abfe_dev\n",
            "  Switched to a new branch 'abfe_dev'\n",
            "  Branch 'abfe_dev' set up to track remote branch 'abfe_dev' from 'origin'.\n",
            "  Resolved https://github.com/deGrootLab/pmx.git to commit c9da329e26b3968943554180c5a555802601fc77\n",
            "  Preparing metadata (setup.py) ... \u001b[?25l\u001b[?25hdone\n",
            "Requirement already satisfied: numpy in /usr/local/lib/python3.7/site-packages (from pmx==0+untagged.895.gc9da329) (1.20.3)\n",
            "Requirement already satisfied: scipy in /usr/local/lib/python3.7/site-packages (from pmx==0+untagged.895.gc9da329) (1.7.3)\n",
            "Requirement already satisfied: matplotlib in /usr/local/lib/python3.7/site-packages (from pmx==0+untagged.895.gc9da329) (3.5.3)\n",
            "Requirement already satisfied: future in /usr/local/lib/python3.7/site-packages (from pmx==0+untagged.895.gc9da329) (0.18.2)\n",
            "Requirement already satisfied: cycler>=0.10 in /usr/local/lib/python3.7/site-packages (from matplotlib->pmx==0+untagged.895.gc9da329) (0.11.0)\n",
            "Requirement already satisfied: pillow>=6.2.0 in /usr/local/lib/python3.7/site-packages (from matplotlib->pmx==0+untagged.895.gc9da329) (9.3.0)\n",
            "Requirement already satisfied: packaging>=20.0 in /usr/local/lib/python3.7/site-packages (from matplotlib->pmx==0+untagged.895.gc9da329) (21.3)\n",
            "Requirement already satisfied: pyparsing>=2.2.1 in /usr/local/lib/python3.7/site-packages (from matplotlib->pmx==0+untagged.895.gc9da329) (3.0.9)\n",
            "Requirement already satisfied: fonttools>=4.22.0 in /usr/local/lib/python3.7/site-packages (from matplotlib->pmx==0+untagged.895.gc9da329) (4.38.0)\n",
            "Requirement already satisfied: python-dateutil>=2.7 in /usr/local/lib/python3.7/site-packages (from matplotlib->pmx==0+untagged.895.gc9da329) (2.8.2)\n",
            "Requirement already satisfied: kiwisolver>=1.0.1 in /usr/local/lib/python3.7/site-packages (from matplotlib->pmx==0+untagged.895.gc9da329) (1.4.4)\n",
            "Requirement already satisfied: typing-extensions in /usr/local/lib/python3.7/site-packages (from kiwisolver>=1.0.1->matplotlib->pmx==0+untagged.895.gc9da329) (4.4.0)\n",
            "Requirement already satisfied: six>=1.5 in /usr/local/lib/python3.7/site-packages (from python-dateutil>=2.7->matplotlib->pmx==0+untagged.895.gc9da329) (1.16.0)\n",
            "Building wheels for collected packages: pmx\n",
            "  Building wheel for pmx (setup.py) ... \u001b[?25l\u001b[?25hdone\n",
            "  Created wheel for pmx: filename=pmx-0+untagged.895.gc9da329-cp37-cp37m-linux_x86_64.whl size=12297127 sha256=a866a3f23374badfe902bc9ade7696665c78c8a67d1574ce37ccb340c143876f\n",
            "  Stored in directory: /tmp/pip-ephem-wheel-cache-f54urq84/wheels/cd/e9/20/1e8d3a49d2df752f5a6b8c84cf02697d0c25d73a5eacc7ebbb\n",
            "Successfully built pmx\n",
            "Installing collected packages: pmx\n",
            "Successfully installed pmx-0+untagged.895.gc9da329\n",
            "\u001b[33mWARNING: Running pip as the 'root' user can result in broken permissions and conflicting behaviour with the system package manager. It is recommended to use a virtual environment instead: https://pip.pypa.io/warnings/venv\u001b[0m\u001b[33m\n",
            "\u001b[0mRequirement already satisfied: gmxapi in /usr/local/lib/python3.7/site-packages (0.3.2.post1)\n",
            "Requirement already satisfied: packaging in /usr/local/lib/python3.7/site-packages (from gmxapi) (21.3)\n",
            "Requirement already satisfied: pybind11 in /usr/local/lib/python3.7/site-packages (from gmxapi) (2.10.1)\n",
            "Requirement already satisfied: numpy>1.7 in /usr/local/lib/python3.7/site-packages (from gmxapi) (1.20.3)\n",
            "Requirement already satisfied: networkx>=2.0 in /usr/local/lib/python3.7/site-packages (from gmxapi) (2.6.3)\n",
            "Requirement already satisfied: pyparsing!=3.0.5,>=2.0.2 in /usr/local/lib/python3.7/site-packages (from packaging->gmxapi) (3.0.9)\n",
            "\u001b[33mWARNING: Running pip as the 'root' user can result in broken permissions and conflicting behaviour with the system package manager. It is recommended to use a virtual environment instead: https://pip.pypa.io/warnings/venv\u001b[0m\u001b[33m\n",
            "\u001b[0m"
          ]
        }
      ],
      "source": [
        "#@title Install Gromacs and Gromacs Python API\n",
        "!wget https://storage.googleapis.com/gromacs-bin/gromacs-avx2_256-cuda-11_2.tar.gz -O /tmp/gromacs.tar.gz\n",
        "!tar zxf /tmp/gromacs.tar.gz\n",
        "!sudo rm -rf /usr/local/gromacs\n",
        "!sudo mv gromacs-avx /usr/local/gromacs\n",
        "!rm /tmp/gromacs.tar.gz\n",
        "\n",
        "!pip3 install --upgrade pip\n",
        "!pip3 install setuptools wheel cmake pybind11 py3DMol\n",
        "# This ensure we always install the latest PMX version from GitHub.\n",
        "!if [ -d /usr/local/lib/python3.7/dist-packages/pmx/ ]; then yes Y | pip3 uninstall pmx; fi\n",
        "!if [ -d /usr/local/lib/python3.7/site-packages/pmx/ ]; then yes Y | pip3 uninstall pmx; fi\n",
        "!pip3 install git+https://github.com/deGrootLab/pmx.git@abfe_dev\n",
        "!gmxapi_ROOT=/usr/local/gromacs/ pip3 install --no-cache-dir gmxapi\n",
        "\n",
        "# Add path to where pmx gets installed.\n",
        "import sys\n",
        "sys.path.append('/usr/local/lib/python3.7/site-packages/')"
      ]
    },
    {
      "cell_type": "code",
      "execution_count": 2,
      "metadata": {
        "cellView": "form",
        "id": "Sd-L2ttCm8r7"
      },
      "outputs": [],
      "source": [
        "#@title Set Level for Logging\n",
        "#@markdown Sets the python logging level. This is useful for debugging.\n",
        "import logging\n",
        "\n",
        "log_level = 'INFO' #@param ['DEBUG', 'INFO', 'ERROR']\n",
        "\n",
        "_log_level = {\n",
        "    'DEBUG': logging.DEBUG,\n",
        "    'INFO': logging.INFO,\n",
        "    'ERROR': logging.ERROR\n",
        "}\n",
        "\n",
        "logging.basicConfig(level=_log_level[log_level])"
      ]
    },
    {
      "cell_type": "code",
      "execution_count": 3,
      "metadata": {
        "id": "F5gQOMIJBRUY",
        "outputId": "22571ee9-f7c7-44eb-a73c-e6d9d46b2c02",
        "colab": {
          "base_uri": "https://localhost:8080/"
        }
      },
      "outputs": [
        {
          "output_type": "stream",
          "name": "stderr",
          "text": [
            "INFO:gmxapi:Importing gmxapi.\n",
            "INFO:gmxapi.operation:Importing gmxapi.operation\n",
            "INFO:gmxapi.commandline:Importing gmxapi.commandline\n",
            "INFO:gmxapi.simulation.workflow:Importing gmx.workflow\n",
            "INFO:gmxapi.simulation.workflow:Using schema version gmxapi_workspec_0_1.\n",
            "INFO:gmxapi.mdrun:Importing gmxapi.simulation.mdrun\n",
            "INFO:gmxapi.read_tpr:Importing gmxapi.simulation.read_tpr\n",
            "INFO:gmxapi.modify_input:Importing gmxapi.simulation.modify_input\n"
          ]
        },
        {
          "output_type": "stream",
          "name": "stdout",
          "text": [
            "Session ID:  1669926122\n"
          ]
        }
      ],
      "source": [
        "#@title [Please Rerun after Restart] Create a Session\n",
        "#@markdown Please rerun this cell every time when you restart the runtime.\n",
        "#@markdown A new session ID will be created for a new colab runtime session.\n",
        "#@markdown Run this cell again will refresh the session ID.\n",
        "\n",
        "import os\n",
        "import time\n",
        "import gmxapi\n",
        "\n",
        "\n",
        "# Sets a session ID for this session.\n",
        "_SESSION_ID = str(int(time.time())) #@param\n",
        "\n",
        "# Monkey patch this session ID into the gmxapi.operation.ResourceManager.\n",
        "# Hack. Do not use in the user code.\n",
        "# This is temporarily added to allow users to start from a new set of working\n",
        "# directories for all the mdrun launches. GMX API doesn't expose the\n",
        "# underlying resource manager or context yet.\n",
        "def operation_id(self):\n",
        "  return f\"{self._base_operation_id}_{_SESSION_ID}\"\n",
        "gmxapi.operation.ResourceManager.operation_id = property(operation_id)\n",
        "\n",
        "\n",
        "def get_work_dir(md_output):\n",
        "  values = [v for v in md_output.values()]\n",
        "  return values[0].result()\n",
        "\n",
        "\n",
        "def tail_log(md_output, output_file_base, last_n_lines=6):\n",
        "  work_dir = get_work_dir(md_output)\n",
        "\n",
        "  with open(os.path.join(work_dir, output_file_base + '.log'), 'r') as log:\n",
        "    for line in log.readlines()[-last_n_lines:]:\n",
        "      print(line)\n",
        "\n",
        "print(\"Session ID: \", _SESSION_ID)"
      ]
    },
    {
      "cell_type": "markdown",
      "metadata": {
        "id": "Skich7muxHrf"
      },
      "source": [
        "# ABFE Workflow\n",
        "-----"
      ]
    },
    {
      "cell_type": "code",
      "source": [
        "import numpy as np\n",
        "import shutil\n",
        "from tqdm import tqdm\n",
        "import pmx\n",
        "from pmx.AbsoluteDG import AbsoluteDG"
      ],
      "metadata": {
        "id": "KdQigJ26pJrv"
      },
      "execution_count": 4,
      "outputs": []
    },
    {
      "cell_type": "code",
      "source": [
        "#@title Define some helper functions\n",
        "\n",
        "def mdrun(tpr, pmegpu=True, nsteps=None, transition=False):\n",
        "  \"\"\"Wrapper for gmxapi.mdrun with predefined scenarios optimized for different \n",
        "  types of simulations.\n",
        "\n",
        "  Args:\n",
        "    tpr (str): path to TPR file.\n",
        "    pmegpu (bool): whether to run PME calculations on the GPU. Default is True.\n",
        "      Note this is not possible with certain integrators.\n",
        "    nsteps (int): number of integration steps to run, overwrites nsteps defined\n",
        "      by the MDP file used to generate the TPR. Default is None (do not modify \n",
        "      TPR).\n",
        "    transition (bool): whether we are running a non-equilibrium transition. \n",
        "      Default is False.\n",
        "\n",
        "  Returns:\n",
        "    object: StandardOperationHandle returned by gmxapi.mdrun.\n",
        "  \"\"\"\n",
        "  # Load TPR file.\n",
        "  input_tpr = gmxapi.read_tpr(tpr)\n",
        "  if nsteps is not None:\n",
        "    input_tpr = gmxapi.modify_input(input=input_tpr, \n",
        "                                    parameters={'nsteps': nsteps})    \n",
        "\n",
        "  # Get path to TPR.\n",
        "  path = \"/\".join(tpr.split('/')[:-1])\n",
        "  \n",
        "  # Specify command line flags and arguments to be passed to mdrun.\n",
        "  # Note: energy minimization cannot run PME on GPU.\n",
        "  if pmegpu:\n",
        "    _pme = 'gpu'\n",
        "    _pmefft = 'gpu'\n",
        "    _bonded = 'gpu'\n",
        "  else:\n",
        "    _pme = 'auto'\n",
        "    _pmefft = 'auto'\n",
        "    _bonded = 'auto'\n",
        "\n",
        "  # If we are running a non-equilibrium transition, we want to get the dhdl\n",
        "  # file and keep only that. We then use the presence of dhdl_{n}.xvg to \n",
        "  # determine if the simulation has been ran already.\n",
        "  if transition:\n",
        "    n = int(tpr.split('/')[-1].split('.')[0].replace('ti', ''))\n",
        "    md = gmxapi.mdrun(input_tpr,\n",
        "                      runtime_args={'-nb': 'gpu', \n",
        "                                    '-pme': _pme, \n",
        "                                    '-pmefft': _pmefft, \n",
        "                                    '-bonded': _bonded,\n",
        "                                    '-x': f'{path}/traj_{n}.xtc',\n",
        "                                    '-o': f'{path}/traj_{n}.trr',\n",
        "                                    '-c': f'{path}/confout_{n}.gro',\n",
        "                                    '-e': f'{path}/ener_{n}.edr', \n",
        "                                    '-g': f'{path}/md_{n}.log',\n",
        "                                    '-cpo': f'{path}/state_{n}.cpt',\n",
        "                                    '-dhdl': f'{path}/dhdl_{n}.xvg'\n",
        "                                    }\n",
        "                      )\n",
        "  else:\n",
        "    md = gmxapi.mdrun(input_tpr,\n",
        "                      runtime_args={'-nb': 'gpu', \n",
        "                                    '-pme': _pme, \n",
        "                                    '-pmefft': _pmefft, \n",
        "                                    '-bonded': _bonded,\n",
        "                                    '-x': f'{path}/traj.xtc',\n",
        "                                    '-o': f'{path}/traj.trr',\n",
        "                                    '-c': f'{path}/confout.gro',\n",
        "                                    '-e': f'{path}/ener.edr', \n",
        "                                    '-g': f'{path}/md.log',\n",
        "                                    '-cpo': f'{path}/state.cpt'\n",
        "                                    }\n",
        "                      )\n",
        "\n",
        "  # Run the simulation.\n",
        "  md.run()\n",
        "\n",
        "  # If transition, clean up files we won't need.\n",
        "  if transition:\n",
        "    for f in [f'{path}/traj_{n}.xtc', \n",
        "              f'{path}/traj_{n}.trr', \n",
        "              f'{path}/confout_{n}.gro', \n",
        "              f'{path}/ener_{n}.edr', \n",
        "              f'{path}/md_{n}.log',  \n",
        "              f'{path}/state_{n}.cpt']:\n",
        "      if os.path.isfile(f):\n",
        "        os.remove(f)\n",
        "\n",
        "  return md\n",
        "\n",
        "\n",
        "def mdrun_completed(tpr: str, transition: bool = False) -> bool:\n",
        "  \"\"\"Checks whether energy minimization completed successfully.\n",
        "  \n",
        "  Args:\n",
        "    tpr (str): path to TPR file.\n",
        "    transition (bool): whether we are checking completion for a non-equilibrium \n",
        "      transition. Default is False.\n",
        "\n",
        "  Returns:\n",
        "    bool: whether the TPR has been run successfully.\n",
        "  \"\"\"\n",
        "  # If we're chekcing the completion of a non-eq transition, we check that (i)\n",
        "  # the right dhdl.xvg file exists, and that (ii) it contains info up to the \n",
        "  # end of the transition. Otherwise, we assume it crashed and needs to be\n",
        "  # completed.\n",
        "  if transition:\n",
        "    # Get the index of the transition.\n",
        "    n = int(tpr.split('/')[-1].split('.')[0].replace('ti', ''))\n",
        "    # Get dhdl file path.\n",
        "    dhdl = \"/\".join(tpr.split(\"/\")[:-1]) + f\"/dhdl_{n}.xvg\"\n",
        "    # If dhdl file exists, check it's complete.\n",
        "    if os.path.isfile(dhdl):\n",
        "      input_tpr = gmxapi.read_tpr(tpr)\n",
        "      nsteps = input_tpr.output.parameters.result()['nsteps']\n",
        "      dt = input_tpr.output.parameters.result()['dt']\n",
        "      expected_final_time = nsteps * dt\n",
        "      \n",
        "      with open(dhdl, 'r') as f:\n",
        "        lines = f.readlines()\n",
        "      \n",
        "      try:\n",
        "        actual_final_time = float(lines[-1].split()[0])\n",
        "        if expected_final_time - actual_final_time < 1e-6:\n",
        "          return True\n",
        "      except:\n",
        "        return False\n",
        "      \n",
        "    return False\n",
        "  else:\n",
        "    # (maldeghi): IIRC Gromacs would output the GRO file only for mdruns that\n",
        "    # did not crash/errored. We can make this stricted by checking the log\n",
        "    # file too.\n",
        "    gro = \"/\".join(tpr.split(\"/\")[:-1]) + \"/confout.gro\"\n",
        "    if os.path.isfile(gro):\n",
        "      return True\n",
        "    else:\n",
        "      return False\n",
        "\n",
        "\n",
        "def tail(fname, n):\n",
        "  with open(fname) as f:\n",
        "    for line in (f.readlines() [-n:]):\n",
        "      print(line, end ='')"
      ],
      "metadata": {
        "id": "n-2EswQwUya3"
      },
      "execution_count": 5,
      "outputs": []
    },
    {
      "cell_type": "code",
      "source": [
        "#@title Copy input files\n",
        "\n",
        "WORKDIR = f\"/content/pmxrun_{_SESSION_ID}\"  #@param {type:\"string\"}\n",
        "OVERWRITE_WORKDIR = True  #@param {type:\"boolean\"}\n",
        "\n",
        "#@markdown Whether to run very short simulations for testing. Otherwise, we run \n",
        "#@markdown the full set of calculations, which takes several hours.\n",
        "SHORT_SIMS = True  #@param {type:\"boolean\"}\n",
        "\n",
        "if os.path.isdir(WORKDIR) and OVERWRITE_WORKDIR:\n",
        "  shutil.rmtree(WORKDIR)\n",
        "\n",
        "if not os.path.isdir(WORKDIR):\n",
        "  os.mkdir(WORKDIR)\n",
        "\n",
        "  pmx_path = pmx.__file__.replace('/__init__.py', '')\n",
        "\n",
        "  # Copy topology and structure files for protein and ligand.\n",
        "  shutil.copytree(f'{pmx_path}/abfe_scripts/struct_top/', f'{WORKDIR}/struct_top/')\n",
        "\n",
        "  # Copy MDP files (i.e. Gromacs config files).\n",
        "  shutil.copytree(f'{pmx_path}/abfe_scripts/mdppath/', f'{WORKDIR}/mdppath/')\n",
        "\n",
        "# We also shorten the alchemical transitions to speed things up.\n",
        "# Note we cannot just change nsteps in mdrun here because we need to adjust the\n",
        "# lambda schedule too.\n",
        "! if [ $SHORT_SIMS == \"True\" ]; then sed -i 's/nsteps.*/nsteps = 25000/g' $WORKDIR/mdppath/ti_l*mdp; fi\n",
        "! if [ $SHORT_SIMS == \"True\" ]; then sed -i 's/delta-lambda.*/delta-lambda = 4e-5/g' $WORKDIR/mdppath/ti_l0.mdp; fi  # 1/25,000 = 4e-5\n",
        "! if [ $SHORT_SIMS == \"True\" ]; then sed -i 's/delta-lambda.*/delta-lambda = -4e-5/g' $WORKDIR/mdppath/ti_l1.mdp; fi\n",
        "\n",
        "# Show contents of our working directory.\n",
        "!echo \"> ls {WORKDIR}\"\n",
        "!ls -l {WORKDIR}"
      ],
      "metadata": {
        "id": "UpP5TYyavS-D",
        "outputId": "7189bf33-4345-4b27-b85f-916a82e9c904",
        "colab": {
          "base_uri": "https://localhost:8080/"
        }
      },
      "execution_count": 6,
      "outputs": [
        {
          "output_type": "stream",
          "name": "stdout",
          "text": [
            "> ls /content/pmxrun_1669926122\n",
            "total 8\n",
            "drwxr-sr-x 2 root root 4096 Dec  1 20:22 mdppath\n",
            "drwxr-sr-x 4 root root 4096 Dec  1 20:21 struct_top\n"
          ]
        }
      ]
    },
    {
      "cell_type": "markdown",
      "source": [
        "## 1.&nbsp; Input Files Preparation"
      ],
      "metadata": {
        "id": "hTMjgKkLXvQa"
      }
    },
    {
      "cell_type": "code",
      "source": [
        "#@title 1.1&nbsp; Setup folder structure\n",
        "\n",
        "# Initialize the free energy environment object. It will store the main \n",
        "# parameters for the calculations.\n",
        "fe = AbsoluteDG(ligList=['lysozyme_benzene'], \n",
        "                apoCase='lysozyme_apo', \n",
        "                bDSSB=False,\n",
        "                gmxexec='/usr/local/gromacs/bin/gmx')\n",
        "\n",
        "# Set the workpath in which simulation input files will be created.\n",
        "fe.workPath = f'{WORKDIR}/lysopath'\n",
        "# Set the path to the MDP files.\n",
        "fe.mdpPath = f'{WORKDIR}/mdppath'\n",
        "#@markdown Set the number of replicas (i.e., number of equilibrium simulations per state).\n",
        "fe.replicas = 2  #@param {type:\"integer\"}\n",
        "# Provide the path to the structures and topologies.\n",
        "fe.structTopPath = f'{WORKDIR}/struct_top'\n",
        "\n",
        "# Prepare the directory structure with all simulations steps required.\n",
        "fe.simTypes = ['em',  # Energy minimization.\n",
        "               'eq_posre',  # Equilibrium sim with position restraints.\n",
        "               'eq',  # Equilibrium simulation.\n",
        "               'transitions']  # Alchemical, non-equilibrium simulations.\n",
        "\n",
        "fe.prepareFreeEnergyDir()"
      ],
      "metadata": {
        "id": "7aWt8mknrxut",
        "outputId": "667842e9-a3fe-4e40-bfb9-47f919ca1d7f",
        "colab": {
          "base_uri": "https://localhost:8080/"
        }
      },
      "execution_count": 7,
      "outputs": [
        {
          "output_type": "stream",
          "name": "stdout",
          "text": [
            "\n",
            "---------------------\n",
            "Summary of the setup:\n",
            "---------------------\n",
            "\n",
            "   workpath: /content/pmxrun_1669926122/lysopath\n",
            "   mdp path: /content/pmxrun_1669926122/mdppath\n",
            "   # ligands: 1\n",
            "   ligands:\n",
            "        lysozyme_benzene\n",
            "   apo state: lysozyme_apo\n",
            "\n",
            "---------------------\n",
            "Directory structure:\n",
            "---------------------\n",
            "\n",
            "/content/pmxrun_1669926122/lysopath/\n",
            "|\n",
            "|--ligX\n",
            "|--|--water\n",
            "|--|--|--stateA\n",
            "|--|--|--|--run1/2\n",
            "|--|--|--|--|--/em/eq_posre/eq/transitions\n",
            "|--|--|--stateB\n",
            "|--|--|--|--run1/2\n",
            "|--|--|--|--|--/em/eq_posre/eq/transitions\n",
            "|--|--protein\n",
            "|--|--|--stateA\n",
            "|--|--|--|--run1/2\n",
            "|--|--|--|--|--/em/eq_posre/eq/transitions\n",
            "|--|--|--stateB\n",
            "|--|--|--|--run1/2\n",
            "|--|--|--|--|--/em/eq_posre/eq/transitions\n",
            "|--|--strTopFolder\n",
            "|--lig..\n",
            "\n",
            "DONE\n"
          ]
        }
      ]
    },
    {
      "cell_type": "code",
      "source": [
        "#@title 1.2&nbsp; Assemble simulation systems\n",
        "\n",
        "# Assemble the systems: build Gromacs structure and topology for the \n",
        "# ligand+water and ligand+protein+water systems.\n",
        "fe.assemble_systems()\n",
        "\n",
        "# Define the simulation boxes, fill them with water molecules, and add ions to \n",
        "# neutralize the system and reach desired NaCl concentration (0.15 M by default).\n",
        "fe.boxWaterIons()"
      ],
      "metadata": {
        "id": "cotlzEQ9sNgk",
        "outputId": "b1c21b13-3f65-4ce2-c202-84b1c17019f5",
        "colab": {
          "base_uri": "https://localhost:8080/"
        }
      },
      "execution_count": 9,
      "outputs": [
        {
          "output_type": "stream",
          "name": "stdout",
          "text": [
            "----------------------\n",
            "Assembling the systems\n",
            "----------------------\n",
            "Order: ligand-protein-other-water\n",
            "--- Assembling structures: lysozyme_benzene ---\n",
            "--- Assembling topologies: lysozyme_benzene ---\n",
            "----------------\n",
            "Box, water, ions\n",
            "----------------\n"
          ]
        }
      ]
    },
    {
      "cell_type": "code",
      "source": [
        "# Check the files present now. This is the content of root dir of the \n",
        "# calculation for this protein-ligand pair. The following ls calls show \n",
        "# the content of some subfolders for the complex simulations, \n",
        "# stateA (coupled ligand). The other folders have the same structure/files but \n",
        "# for the ligand in water simulations and for stateB too.\n",
        "!echo \"> ls {WORKDIR}/lysopath/lysozyme_benzene/\"\n",
        "!ls {WORKDIR}/lysopath/lysozyme_benzene/\n",
        "!echo \"\"\n",
        "!echo \"> ls {WORKDIR}/lysopath/lysozyme_benzene/protein\"\n",
        "!ls {WORKDIR}/lysopath/lysozyme_benzene/protein/\n",
        "!echo \"\"\n",
        "!echo \"> ls {WORKDIR}/lysopath/lysozyme_benzene/protein/stateA\"\n",
        "!ls {WORKDIR}/lysopath/lysozyme_benzene/protein/stateA/\n",
        "!echo \"\"\n",
        "!echo \"> ls {WORKDIR}/lysopath/lysozyme_benzene/protein/stateA/run1/\"\n",
        "!ls {WORKDIR}/lysopath/lysozyme_benzene/protein/stateA/run1/"
      ],
      "metadata": {
        "id": "hYIk_gOoyIUs",
        "colab": {
          "base_uri": "https://localhost:8080/"
        },
        "outputId": "4ee5b22e-ee26-4438-c982-bc5a7660d608"
      },
      "execution_count": 10,
      "outputs": [
        {
          "output_type": "stream",
          "name": "stdout",
          "text": [
            "> ls /content/pmxrun_1669926122/lysopath/lysozyme_benzene/\n",
            "protein  strTopFolder_apo  strTopFolder_holo  water\n",
            "\n",
            "> ls /content/pmxrun_1669926122/lysopath/lysozyme_benzene/protein\n",
            "stateA\tstateB\n",
            "\n",
            "> ls /content/pmxrun_1669926122/lysopath/lysozyme_benzene/protein/stateA\n",
            "box.pdb   mdout.mdp  run2\t topol.top  tpr.tpr\n",
            "ions.pdb  run1\t     system.pdb  top.top    water.pdb\n",
            "\n",
            "> ls /content/pmxrun_1669926122/lysopath/lysozyme_benzene/protein/stateA/run1/\n",
            "em  eq\teq_posre  transitions\n"
          ]
        }
      ]
    },
    {
      "cell_type": "markdown",
      "source": [
        "## 2&nbsp; Energy Minimization"
      ],
      "metadata": {
        "id": "lUZaXKThYEEL"
      }
    },
    {
      "cell_type": "code",
      "source": [
        "#@title 2.1&nbsp; Prepare TPR files\n",
        "\n",
        "# Call grompp and create TPR files for all systems and repeats.\n",
        "tpr_files = fe.prepare_simulation(simType='em')\n",
        "\n",
        "print(\"List of TPR files that we'll run:\")\n",
        "for f in tpr_files:\n",
        "  print(f\"  {f}\")"
      ],
      "metadata": {
        "id": "Zx2YhHZ8xtZN",
        "colab": {
          "base_uri": "https://localhost:8080/"
        },
        "outputId": "7097fec5-29c9-41cc-8fba-25f16a201573"
      },
      "execution_count": 11,
      "outputs": [
        {
          "output_type": "stream",
          "name": "stdout",
          "text": [
            "-----------------------------------------\n",
            "Preparing simulation: em\n",
            "-----------------------------------------\n",
            "List of TPR files that we'll run:\n",
            "  /content/pmxrun_1669926122/lysopath/lysozyme_benzene/water/stateA/run1/em/tpr.tpr\n",
            "  /content/pmxrun_1669926122/lysopath/lysozyme_benzene/water/stateA/run2/em/tpr.tpr\n",
            "  /content/pmxrun_1669926122/lysopath/lysozyme_benzene/water/stateB/run1/em/tpr.tpr\n",
            "  /content/pmxrun_1669926122/lysopath/lysozyme_benzene/water/stateB/run2/em/tpr.tpr\n",
            "  /content/pmxrun_1669926122/lysopath/lysozyme_benzene/protein/stateA/run1/em/tpr.tpr\n",
            "  /content/pmxrun_1669926122/lysopath/lysozyme_benzene/protein/stateA/run2/em/tpr.tpr\n",
            "  /content/pmxrun_1669926122/lysopath/lysozyme_benzene/protein/stateB/run1/em/tpr.tpr\n",
            "  /content/pmxrun_1669926122/lysopath/lysozyme_benzene/protein/stateB/run2/em/tpr.tpr\n"
          ]
        }
      ]
    },
    {
      "cell_type": "code",
      "source": [
        "#@title 2.2&nbsp; Run minimizations\n",
        "\n",
        "if SHORT_SIMS:\n",
        "  nsteps = 500\n",
        "else:\n",
        "  nsteps = None  # i.e. use what's in the MDP files\n",
        "\n",
        "# Read the TPR files and run all minimizations.\n",
        "for tpr_file in tqdm(tpr_files):\n",
        "  print(f\"\\nRunning {tpr_file}\")\n",
        "\n",
        "  # If minimization has been run already, skip.\n",
        "  if mdrun_completed(tpr_file):\n",
        "    print(f\"`{tpr_file}` already ran successfully\")\n",
        "    continue\n",
        "\n",
        "  # Run the simulation (with reduced number of steps if needed)\n",
        "  md = mdrun(tpr_file, pmegpu=False, nsteps=nsteps)"
      ],
      "metadata": {
        "colab": {
          "base_uri": "https://localhost:8080/"
        },
        "id": "6Jec4JUu1caU",
        "outputId": "7e9dbf85-db2e-43c7-a80e-98e26dc717a6"
      },
      "execution_count": 12,
      "outputs": [
        {
          "output_type": "stream",
          "name": "stderr",
          "text": [
            "\r  0%|          | 0/8 [00:00<?, ?it/s]INFO:gmxapi.modify_input:Building mdrun operation from source <gmxapi.simulation.read_tpr.StandardOperationHandle object at 0x7f77642685d0>\n",
            "INFO:gmxapi.modify_input:modify_input receiving input _simulation_input: ResultDescription(dtype=<class 'str'>, width=1)\n",
            "INFO:gmxapi.modify_input:modify_input input bound as source collection DataSourceCollection([('_simulation_input', <Future: name='_simulation_input', description=ResultDescription(dtype=<class 'str'>, width=1)>), ('parameters', {'nsteps': 500})])\n",
            "INFO:gmxapi.mdrun:Building mdrun operation from source <gmxapi.simulation.modify_input.StandardOperationHandle object at 0x7f7763dea5d0>\n",
            "INFO:gmxapi.mdrun:mdrun receiving input _simulation_input: ResultDescription(dtype=<class 'str'>, width=1)\n",
            "INFO:gmxapi.mdrun:mdrun input bound as source collection DataSourceCollection([('_simulation_input', <Future: name='_simulation_input', description=ResultDescription(dtype=<class 'str'>, width=1)>), ('parameters', <Future: name='parameters', description=ResultDescription(dtype=<class 'dict'>, width=1)>), ('runtime_args', {'-nb': 'gpu', '-pme': 'auto', '-pmefft': 'auto', '-bonded': 'auto', '-x': '/content/pmxrun_1669926122/lysopath/lysozyme_benzene/water/stateA/run1/em/traj.xtc', '-o': '/content/pmxrun_1669926122/lysopath/lysozyme_benzene/water/stateA/run1/em/traj.trr', '-c': '/content/pmxrun_1669926122/lysopath/lysozyme_benzene/water/stateA/run1/em/confout.gro', '-e': '/content/pmxrun_1669926122/lysopath/lysozyme_benzene/water/stateA/run1/em/ener.edr', '-g': '/content/pmxrun_1669926122/lysopath/lysozyme_benzene/water/stateA/run1/em/md.log', '-cpo': '/content/pmxrun_1669926122/lysopath/lysozyme_benzene/water/stateA/run1/em/state.cpt'})])\n",
            "INFO:gmxapi.simulation.context:Importing gmxapi.simulation.context\n"
          ]
        },
        {
          "output_type": "stream",
          "name": "stdout",
          "text": [
            "\n",
            "Running /content/pmxrun_1669926122/lysopath/lysozyme_benzene/water/stateA/run1/em/tpr.tpr\n"
          ]
        },
        {
          "output_type": "stream",
          "name": "stderr",
          "text": [
            "INFO:gmxapi.simulation.context:mpi4py is not available for default session communication.\n",
            "INFO:gmxapi.mdrun:Created /content/mdrun_0_1669926122_0/topol.tpr on rank 0\n",
            "INFO:gmxapi.simulation.workflow:Added element md_sim to workspec.\n",
            "INFO:gmxapi.simulation.context:Collected builder for tpr_input\n",
            "INFO:gmxapi.simulation.context:Collected builder for md_sim\n",
            "INFO:gmxapi.simulation.context:Subscribing md_sim to tpr_input.\n",
            "INFO:gmxapi.simulation.context:Building sequence ['tpr_input', 'md_sim']\n",
            "INFO:gmxapi.simulation.context:Building <gmxapi.simulation.context._load_tpr.<locals>.Builder object at 0x7f7769555b50>\n",
            "INFO:gmxapi.simulation.context:Building <gmxapi.simulation.context._md.<locals>.Builder object at 0x7f7763f68690>\n",
            "INFO:gmxapi.simulation.context:Launching work on context rank 0, subcommunicator rank 0.\n",
            "INFO:gmxapi.simulation.context:rank 0 changed directory to /content/mdrun_0_1669926122_0\n",
            "INFO:gmxapi.simulation.context:Loading TPR file: /content/mdrun_0_1669926122_0/topol.tpr\n",
            "INFO:gmxapi.simulation.context:Exiting session on context rank 0.\n",
            "INFO:gmxapi.simulation.context:Calling session.close().\n",
            "INFO:gmxapi.simulation.context:Freeing sub-communicator _DummyCommunicator on rank 0\n",
            "INFO:gmxapi.simulation.context:Session closed on context rank 0.\n",
            "INFO:gmxapi.mdrun:Output file /content/pmxrun_1669926122/lysopath/lysozyme_benzene/water/stateA/run1/em/state.cpt does not exist.\n",
            "INFO:gmxapi.mdrun:/content/pmxrun_1669926122/lysopath/lysozyme_benzene/water/stateA/run1/em/ener.edrDirectory /content/pmxrun_1669926122/lysopath/lysozyme_benzene/water/stateA/run1/em contents: , /content/pmxrun_1669926122/lysopath/lysozyme_benzene/water/stateA/run1/em/md.logDirectory /content/pmxrun_1669926122/lysopath/lysozyme_benzene/water/stateA/run1/em contents: , /content/pmxrun_1669926122/lysopath/lysozyme_benzene/water/stateA/run1/em/traj.trrDirectory /content/pmxrun_1669926122/lysopath/lysozyme_benzene/water/stateA/run1/em contents: , /content/pmxrun_1669926122/lysopath/lysozyme_benzene/water/stateA/run1/em/confout.groDirectory /content/pmxrun_1669926122/lysopath/lysozyme_benzene/water/stateA/run1/em contents: , /content/pmxrun_1669926122/lysopath/lysozyme_benzene/water/stateA/run1/em/mdout.mdpDirectory /content/pmxrun_1669926122/lysopath/lysozyme_benzene/water/stateA/run1/em contents: , /content/pmxrun_1669926122/lysopath/lysozyme_benzene/water/stateA/run1/em/tpr.tpr\n",
            " 12%|█▎        | 1/8 [00:02<00:14,  2.04s/it]INFO:gmxapi.modify_input:Building mdrun operation from source <gmxapi.simulation.read_tpr.StandardOperationHandle object at 0x7f7763ce54d0>\n",
            "INFO:gmxapi.modify_input:modify_input receiving input _simulation_input: ResultDescription(dtype=<class 'str'>, width=1)\n",
            "INFO:gmxapi.modify_input:modify_input input bound as source collection DataSourceCollection([('_simulation_input', <Future: name='_simulation_input', description=ResultDescription(dtype=<class 'str'>, width=1)>), ('parameters', {'nsteps': 500})])\n",
            "INFO:gmxapi.mdrun:Building mdrun operation from source <gmxapi.simulation.modify_input.StandardOperationHandle object at 0x7f7763ce5c50>\n",
            "INFO:gmxapi.mdrun:mdrun receiving input _simulation_input: ResultDescription(dtype=<class 'str'>, width=1)\n",
            "INFO:gmxapi.mdrun:mdrun input bound as source collection DataSourceCollection([('_simulation_input', <Future: name='_simulation_input', description=ResultDescription(dtype=<class 'str'>, width=1)>), ('parameters', <Future: name='parameters', description=ResultDescription(dtype=<class 'dict'>, width=1)>), ('runtime_args', {'-nb': 'gpu', '-pme': 'auto', '-pmefft': 'auto', '-bonded': 'auto', '-x': '/content/pmxrun_1669926122/lysopath/lysozyme_benzene/water/stateA/run2/em/traj.xtc', '-o': '/content/pmxrun_1669926122/lysopath/lysozyme_benzene/water/stateA/run2/em/traj.trr', '-c': '/content/pmxrun_1669926122/lysopath/lysozyme_benzene/water/stateA/run2/em/confout.gro', '-e': '/content/pmxrun_1669926122/lysopath/lysozyme_benzene/water/stateA/run2/em/ener.edr', '-g': '/content/pmxrun_1669926122/lysopath/lysozyme_benzene/water/stateA/run2/em/md.log', '-cpo': '/content/pmxrun_1669926122/lysopath/lysozyme_benzene/water/stateA/run2/em/state.cpt'})])\n",
            "INFO:gmxapi.simulation.context:mpi4py is not available for default session communication.\n",
            "INFO:gmxapi.mdrun:Created /content/mdrun_1_1669926122_0/topol.tpr on rank 0\n",
            "INFO:gmxapi.simulation.workflow:Added element md_sim to workspec.\n",
            "INFO:gmxapi.simulation.context:Collected builder for tpr_input\n"
          ]
        },
        {
          "output_type": "stream",
          "name": "stdout",
          "text": [
            "\n",
            "Running /content/pmxrun_1669926122/lysopath/lysozyme_benzene/water/stateA/run2/em/tpr.tpr\n"
          ]
        },
        {
          "output_type": "stream",
          "name": "stderr",
          "text": [
            "INFO:gmxapi.simulation.context:Collected builder for md_sim\n",
            "INFO:gmxapi.simulation.context:Subscribing md_sim to tpr_input.\n",
            "INFO:gmxapi.simulation.context:Building sequence ['tpr_input', 'md_sim']\n",
            "INFO:gmxapi.simulation.context:Building <gmxapi.simulation.context._load_tpr.<locals>.Builder object at 0x7f7763d04e90>\n",
            "INFO:gmxapi.simulation.context:Building <gmxapi.simulation.context._md.<locals>.Builder object at 0x7f7763ce5e10>\n",
            "INFO:gmxapi.simulation.context:Launching work on context rank 0, subcommunicator rank 0.\n",
            "INFO:gmxapi.simulation.context:rank 0 changed directory to /content/mdrun_1_1669926122_0\n",
            "INFO:gmxapi.simulation.context:Loading TPR file: /content/mdrun_1_1669926122_0/topol.tpr\n",
            "INFO:gmxapi.simulation.context:Exiting session on context rank 0.\n",
            "INFO:gmxapi.simulation.context:Calling session.close().\n",
            "INFO:gmxapi.simulation.context:Freeing sub-communicator _DummyCommunicator on rank 0\n",
            "INFO:gmxapi.simulation.context:Session closed on context rank 0.\n",
            "INFO:gmxapi.mdrun:Output file /content/pmxrun_1669926122/lysopath/lysozyme_benzene/water/stateA/run2/em/state.cpt does not exist.\n",
            "INFO:gmxapi.mdrun:/content/pmxrun_1669926122/lysopath/lysozyme_benzene/water/stateA/run2/em/ener.edrDirectory /content/pmxrun_1669926122/lysopath/lysozyme_benzene/water/stateA/run2/em contents: , /content/pmxrun_1669926122/lysopath/lysozyme_benzene/water/stateA/run2/em/md.logDirectory /content/pmxrun_1669926122/lysopath/lysozyme_benzene/water/stateA/run2/em contents: , /content/pmxrun_1669926122/lysopath/lysozyme_benzene/water/stateA/run2/em/traj.trrDirectory /content/pmxrun_1669926122/lysopath/lysozyme_benzene/water/stateA/run2/em contents: , /content/pmxrun_1669926122/lysopath/lysozyme_benzene/water/stateA/run2/em/confout.groDirectory /content/pmxrun_1669926122/lysopath/lysozyme_benzene/water/stateA/run2/em contents: , /content/pmxrun_1669926122/lysopath/lysozyme_benzene/water/stateA/run2/em/mdout.mdpDirectory /content/pmxrun_1669926122/lysopath/lysozyme_benzene/water/stateA/run2/em contents: , /content/pmxrun_1669926122/lysopath/lysozyme_benzene/water/stateA/run2/em/tpr.tpr\n",
            " 25%|██▌       | 2/8 [00:04<00:13,  2.19s/it]INFO:gmxapi.modify_input:Building mdrun operation from source <gmxapi.simulation.read_tpr.StandardOperationHandle object at 0x7f7763d04750>\n",
            "INFO:gmxapi.modify_input:modify_input receiving input _simulation_input: ResultDescription(dtype=<class 'str'>, width=1)\n",
            "INFO:gmxapi.modify_input:modify_input input bound as source collection DataSourceCollection([('_simulation_input', <Future: name='_simulation_input', description=ResultDescription(dtype=<class 'str'>, width=1)>), ('parameters', {'nsteps': 500})])\n",
            "INFO:gmxapi.mdrun:Building mdrun operation from source <gmxapi.simulation.modify_input.StandardOperationHandle object at 0x7f7763d158d0>\n",
            "INFO:gmxapi.mdrun:mdrun receiving input _simulation_input: ResultDescription(dtype=<class 'str'>, width=1)\n",
            "INFO:gmxapi.mdrun:mdrun input bound as source collection DataSourceCollection([('_simulation_input', <Future: name='_simulation_input', description=ResultDescription(dtype=<class 'str'>, width=1)>), ('parameters', <Future: name='parameters', description=ResultDescription(dtype=<class 'dict'>, width=1)>), ('runtime_args', {'-nb': 'gpu', '-pme': 'auto', '-pmefft': 'auto', '-bonded': 'auto', '-x': '/content/pmxrun_1669926122/lysopath/lysozyme_benzene/water/stateB/run1/em/traj.xtc', '-o': '/content/pmxrun_1669926122/lysopath/lysozyme_benzene/water/stateB/run1/em/traj.trr', '-c': '/content/pmxrun_1669926122/lysopath/lysozyme_benzene/water/stateB/run1/em/confout.gro', '-e': '/content/pmxrun_1669926122/lysopath/lysozyme_benzene/water/stateB/run1/em/ener.edr', '-g': '/content/pmxrun_1669926122/lysopath/lysozyme_benzene/water/stateB/run1/em/md.log', '-cpo': '/content/pmxrun_1669926122/lysopath/lysozyme_benzene/water/stateB/run1/em/state.cpt'})])\n",
            "INFO:gmxapi.simulation.context:mpi4py is not available for default session communication.\n",
            "INFO:gmxapi.mdrun:Created /content/mdrun_2_1669926122_0/topol.tpr on rank 0\n",
            "INFO:gmxapi.simulation.workflow:Added element md_sim to workspec.\n"
          ]
        },
        {
          "output_type": "stream",
          "name": "stdout",
          "text": [
            "\n",
            "Running /content/pmxrun_1669926122/lysopath/lysozyme_benzene/water/stateB/run1/em/tpr.tpr\n"
          ]
        },
        {
          "output_type": "stream",
          "name": "stderr",
          "text": [
            "INFO:gmxapi.simulation.context:Collected builder for tpr_input\n",
            "INFO:gmxapi.simulation.context:Collected builder for md_sim\n",
            "INFO:gmxapi.simulation.context:Subscribing md_sim to tpr_input.\n",
            "INFO:gmxapi.simulation.context:Building sequence ['tpr_input', 'md_sim']\n",
            "INFO:gmxapi.simulation.context:Building <gmxapi.simulation.context._load_tpr.<locals>.Builder object at 0x7f7763d15a10>\n",
            "INFO:gmxapi.simulation.context:Building <gmxapi.simulation.context._md.<locals>.Builder object at 0x7f7763d073d0>\n",
            "INFO:gmxapi.simulation.context:Launching work on context rank 0, subcommunicator rank 0.\n",
            "INFO:gmxapi.simulation.context:rank 0 changed directory to /content/mdrun_2_1669926122_0\n",
            "INFO:gmxapi.simulation.context:Loading TPR file: /content/mdrun_2_1669926122_0/topol.tpr\n",
            "INFO:gmxapi.simulation.context:Exiting session on context rank 0.\n",
            "INFO:gmxapi.simulation.context:Calling session.close().\n",
            "INFO:gmxapi.simulation.context:Freeing sub-communicator _DummyCommunicator on rank 0\n",
            "INFO:gmxapi.simulation.context:Session closed on context rank 0.\n",
            "INFO:gmxapi.mdrun:Output file /content/pmxrun_1669926122/lysopath/lysozyme_benzene/water/stateB/run1/em/state.cpt does not exist.\n",
            "INFO:gmxapi.mdrun:/content/pmxrun_1669926122/lysopath/lysozyme_benzene/water/stateB/run1/em/ener.edrDirectory /content/pmxrun_1669926122/lysopath/lysozyme_benzene/water/stateB/run1/em contents: , /content/pmxrun_1669926122/lysopath/lysozyme_benzene/water/stateB/run1/em/md.logDirectory /content/pmxrun_1669926122/lysopath/lysozyme_benzene/water/stateB/run1/em contents: , /content/pmxrun_1669926122/lysopath/lysozyme_benzene/water/stateB/run1/em/traj.trrDirectory /content/pmxrun_1669926122/lysopath/lysozyme_benzene/water/stateB/run1/em contents: , /content/pmxrun_1669926122/lysopath/lysozyme_benzene/water/stateB/run1/em/confout.groDirectory /content/pmxrun_1669926122/lysopath/lysozyme_benzene/water/stateB/run1/em contents: , /content/pmxrun_1669926122/lysopath/lysozyme_benzene/water/stateB/run1/em/mdout.mdpDirectory /content/pmxrun_1669926122/lysopath/lysozyme_benzene/water/stateB/run1/em contents: , /content/pmxrun_1669926122/lysopath/lysozyme_benzene/water/stateB/run1/em/tpr.tpr\n",
            " 38%|███▊      | 3/8 [00:06<00:10,  2.00s/it]INFO:gmxapi.modify_input:Building mdrun operation from source <gmxapi.simulation.read_tpr.StandardOperationHandle object at 0x7f7763a42d10>\n",
            "INFO:gmxapi.modify_input:modify_input receiving input _simulation_input: ResultDescription(dtype=<class 'str'>, width=1)\n",
            "INFO:gmxapi.modify_input:modify_input input bound as source collection DataSourceCollection([('_simulation_input', <Future: name='_simulation_input', description=ResultDescription(dtype=<class 'str'>, width=1)>), ('parameters', {'nsteps': 500})])\n",
            "INFO:gmxapi.mdrun:Building mdrun operation from source <gmxapi.simulation.modify_input.StandardOperationHandle object at 0x7f7763a38690>\n",
            "INFO:gmxapi.mdrun:mdrun receiving input _simulation_input: ResultDescription(dtype=<class 'str'>, width=1)\n",
            "INFO:gmxapi.mdrun:mdrun input bound as source collection DataSourceCollection([('_simulation_input', <Future: name='_simulation_input', description=ResultDescription(dtype=<class 'str'>, width=1)>), ('parameters', <Future: name='parameters', description=ResultDescription(dtype=<class 'dict'>, width=1)>), ('runtime_args', {'-nb': 'gpu', '-pme': 'auto', '-pmefft': 'auto', '-bonded': 'auto', '-x': '/content/pmxrun_1669926122/lysopath/lysozyme_benzene/water/stateB/run2/em/traj.xtc', '-o': '/content/pmxrun_1669926122/lysopath/lysozyme_benzene/water/stateB/run2/em/traj.trr', '-c': '/content/pmxrun_1669926122/lysopath/lysozyme_benzene/water/stateB/run2/em/confout.gro', '-e': '/content/pmxrun_1669926122/lysopath/lysozyme_benzene/water/stateB/run2/em/ener.edr', '-g': '/content/pmxrun_1669926122/lysopath/lysozyme_benzene/water/stateB/run2/em/md.log', '-cpo': '/content/pmxrun_1669926122/lysopath/lysozyme_benzene/water/stateB/run2/em/state.cpt'})])\n",
            "INFO:gmxapi.simulation.context:mpi4py is not available for default session communication.\n",
            "INFO:gmxapi.mdrun:Created /content/mdrun_3_1669926122_0/topol.tpr on rank 0\n",
            "INFO:gmxapi.simulation.workflow:Added element md_sim to workspec.\n"
          ]
        },
        {
          "output_type": "stream",
          "name": "stdout",
          "text": [
            "\n",
            "Running /content/pmxrun_1669926122/lysopath/lysozyme_benzene/water/stateB/run2/em/tpr.tpr\n"
          ]
        },
        {
          "output_type": "stream",
          "name": "stderr",
          "text": [
            "INFO:gmxapi.simulation.context:Collected builder for tpr_input\n",
            "INFO:gmxapi.simulation.context:Collected builder for md_sim\n",
            "INFO:gmxapi.simulation.context:Subscribing md_sim to tpr_input.\n",
            "INFO:gmxapi.simulation.context:Building sequence ['tpr_input', 'md_sim']\n",
            "INFO:gmxapi.simulation.context:Building <gmxapi.simulation.context._load_tpr.<locals>.Builder object at 0x7f7763a33f90>\n",
            "INFO:gmxapi.simulation.context:Building <gmxapi.simulation.context._md.<locals>.Builder object at 0x7f7763a33b90>\n",
            "INFO:gmxapi.simulation.context:Launching work on context rank 0, subcommunicator rank 0.\n",
            "INFO:gmxapi.simulation.context:rank 0 changed directory to /content/mdrun_3_1669926122_0\n",
            "INFO:gmxapi.simulation.context:Loading TPR file: /content/mdrun_3_1669926122_0/topol.tpr\n",
            "INFO:gmxapi.simulation.context:Exiting session on context rank 0.\n",
            "INFO:gmxapi.simulation.context:Calling session.close().\n",
            "INFO:gmxapi.simulation.context:Freeing sub-communicator _DummyCommunicator on rank 0\n",
            "INFO:gmxapi.simulation.context:Session closed on context rank 0.\n",
            "INFO:gmxapi.mdrun:Output file /content/pmxrun_1669926122/lysopath/lysozyme_benzene/water/stateB/run2/em/state.cpt does not exist.\n",
            "INFO:gmxapi.mdrun:/content/pmxrun_1669926122/lysopath/lysozyme_benzene/water/stateB/run2/em/ener.edrDirectory /content/pmxrun_1669926122/lysopath/lysozyme_benzene/water/stateB/run2/em contents: , /content/pmxrun_1669926122/lysopath/lysozyme_benzene/water/stateB/run2/em/md.logDirectory /content/pmxrun_1669926122/lysopath/lysozyme_benzene/water/stateB/run2/em contents: , /content/pmxrun_1669926122/lysopath/lysozyme_benzene/water/stateB/run2/em/traj.trrDirectory /content/pmxrun_1669926122/lysopath/lysozyme_benzene/water/stateB/run2/em contents: , /content/pmxrun_1669926122/lysopath/lysozyme_benzene/water/stateB/run2/em/confout.groDirectory /content/pmxrun_1669926122/lysopath/lysozyme_benzene/water/stateB/run2/em contents: , /content/pmxrun_1669926122/lysopath/lysozyme_benzene/water/stateB/run2/em/mdout.mdpDirectory /content/pmxrun_1669926122/lysopath/lysozyme_benzene/water/stateB/run2/em contents: , /content/pmxrun_1669926122/lysopath/lysozyme_benzene/water/stateB/run2/em/tpr.tpr\n",
            " 50%|█████     | 4/8 [00:07<00:07,  1.91s/it]INFO:gmxapi.modify_input:Building mdrun operation from source <gmxapi.simulation.read_tpr.StandardOperationHandle object at 0x7f7763d07290>\n",
            "INFO:gmxapi.modify_input:modify_input receiving input _simulation_input: ResultDescription(dtype=<class 'str'>, width=1)\n",
            "INFO:gmxapi.modify_input:modify_input input bound as source collection DataSourceCollection([('_simulation_input', <Future: name='_simulation_input', description=ResultDescription(dtype=<class 'str'>, width=1)>), ('parameters', {'nsteps': 500})])\n",
            "INFO:gmxapi.mdrun:Building mdrun operation from source <gmxapi.simulation.modify_input.StandardOperationHandle object at 0x7f7763d073d0>\n",
            "INFO:gmxapi.mdrun:mdrun receiving input _simulation_input: ResultDescription(dtype=<class 'str'>, width=1)\n",
            "INFO:gmxapi.mdrun:mdrun input bound as source collection DataSourceCollection([('_simulation_input', <Future: name='_simulation_input', description=ResultDescription(dtype=<class 'str'>, width=1)>), ('parameters', <Future: name='parameters', description=ResultDescription(dtype=<class 'dict'>, width=1)>), ('runtime_args', {'-nb': 'gpu', '-pme': 'auto', '-pmefft': 'auto', '-bonded': 'auto', '-x': '/content/pmxrun_1669926122/lysopath/lysozyme_benzene/protein/stateA/run1/em/traj.xtc', '-o': '/content/pmxrun_1669926122/lysopath/lysozyme_benzene/protein/stateA/run1/em/traj.trr', '-c': '/content/pmxrun_1669926122/lysopath/lysozyme_benzene/protein/stateA/run1/em/confout.gro', '-e': '/content/pmxrun_1669926122/lysopath/lysozyme_benzene/protein/stateA/run1/em/ener.edr', '-g': '/content/pmxrun_1669926122/lysopath/lysozyme_benzene/protein/stateA/run1/em/md.log', '-cpo': '/content/pmxrun_1669926122/lysopath/lysozyme_benzene/protein/stateA/run1/em/state.cpt'})])\n",
            "INFO:gmxapi.simulation.context:mpi4py is not available for default session communication.\n",
            "INFO:gmxapi.mdrun:Created /content/mdrun_4_1669926122_0/topol.tpr on rank 0\n",
            "INFO:gmxapi.simulation.workflow:Added element md_sim to workspec.\n",
            "INFO:gmxapi.simulation.context:Collected builder for tpr_input\n"
          ]
        },
        {
          "output_type": "stream",
          "name": "stdout",
          "text": [
            "\n",
            "Running /content/pmxrun_1669926122/lysopath/lysozyme_benzene/protein/stateA/run1/em/tpr.tpr\n"
          ]
        },
        {
          "output_type": "stream",
          "name": "stderr",
          "text": [
            "INFO:gmxapi.simulation.context:Collected builder for md_sim\n",
            "INFO:gmxapi.simulation.context:Subscribing md_sim to tpr_input.\n",
            "INFO:gmxapi.simulation.context:Building sequence ['tpr_input', 'md_sim']\n",
            "INFO:gmxapi.simulation.context:Building <gmxapi.simulation.context._load_tpr.<locals>.Builder object at 0x7f7763a44310>\n",
            "INFO:gmxapi.simulation.context:Building <gmxapi.simulation.context._md.<locals>.Builder object at 0x7f7763b2c150>\n",
            "INFO:gmxapi.simulation.context:Launching work on context rank 0, subcommunicator rank 0.\n",
            "INFO:gmxapi.simulation.context:rank 0 changed directory to /content/mdrun_4_1669926122_0\n",
            "INFO:gmxapi.simulation.context:Loading TPR file: /content/mdrun_4_1669926122_0/topol.tpr\n",
            "INFO:gmxapi.simulation.context:Exiting session on context rank 0.\n",
            "INFO:gmxapi.simulation.context:Calling session.close().\n",
            "INFO:gmxapi.simulation.context:Freeing sub-communicator _DummyCommunicator on rank 0\n",
            "INFO:gmxapi.simulation.context:Session closed on context rank 0.\n",
            "INFO:gmxapi.mdrun:Output file /content/pmxrun_1669926122/lysopath/lysozyme_benzene/protein/stateA/run1/em/state.cpt does not exist.\n",
            "INFO:gmxapi.mdrun:/content/pmxrun_1669926122/lysopath/lysozyme_benzene/protein/stateA/run1/em/ener.edrDirectory /content/pmxrun_1669926122/lysopath/lysozyme_benzene/protein/stateA/run1/em contents: , /content/pmxrun_1669926122/lysopath/lysozyme_benzene/protein/stateA/run1/em/md.logDirectory /content/pmxrun_1669926122/lysopath/lysozyme_benzene/protein/stateA/run1/em contents: , /content/pmxrun_1669926122/lysopath/lysozyme_benzene/protein/stateA/run1/em/traj.trrDirectory /content/pmxrun_1669926122/lysopath/lysozyme_benzene/protein/stateA/run1/em contents: , /content/pmxrun_1669926122/lysopath/lysozyme_benzene/protein/stateA/run1/em/confout.groDirectory /content/pmxrun_1669926122/lysopath/lysozyme_benzene/protein/stateA/run1/em contents: , /content/pmxrun_1669926122/lysopath/lysozyme_benzene/protein/stateA/run1/em/mdout.mdpDirectory /content/pmxrun_1669926122/lysopath/lysozyme_benzene/protein/stateA/run1/em contents: , /content/pmxrun_1669926122/lysopath/lysozyme_benzene/protein/stateA/run1/em/tpr.tpr\n",
            " 62%|██████▎   | 5/8 [00:24<00:21,  7.22s/it]INFO:gmxapi.modify_input:Building mdrun operation from source <gmxapi.simulation.read_tpr.StandardOperationHandle object at 0x7f7763d04b50>\n",
            "INFO:gmxapi.modify_input:modify_input receiving input _simulation_input: ResultDescription(dtype=<class 'str'>, width=1)\n",
            "INFO:gmxapi.modify_input:modify_input input bound as source collection DataSourceCollection([('_simulation_input', <Future: name='_simulation_input', description=ResultDescription(dtype=<class 'str'>, width=1)>), ('parameters', {'nsteps': 500})])\n",
            "INFO:gmxapi.mdrun:Building mdrun operation from source <gmxapi.simulation.modify_input.StandardOperationHandle object at 0x7f7763a53690>\n",
            "INFO:gmxapi.mdrun:mdrun receiving input _simulation_input: ResultDescription(dtype=<class 'str'>, width=1)\n",
            "INFO:gmxapi.mdrun:mdrun input bound as source collection DataSourceCollection([('_simulation_input', <Future: name='_simulation_input', description=ResultDescription(dtype=<class 'str'>, width=1)>), ('parameters', <Future: name='parameters', description=ResultDescription(dtype=<class 'dict'>, width=1)>), ('runtime_args', {'-nb': 'gpu', '-pme': 'auto', '-pmefft': 'auto', '-bonded': 'auto', '-x': '/content/pmxrun_1669926122/lysopath/lysozyme_benzene/protein/stateA/run2/em/traj.xtc', '-o': '/content/pmxrun_1669926122/lysopath/lysozyme_benzene/protein/stateA/run2/em/traj.trr', '-c': '/content/pmxrun_1669926122/lysopath/lysozyme_benzene/protein/stateA/run2/em/confout.gro', '-e': '/content/pmxrun_1669926122/lysopath/lysozyme_benzene/protein/stateA/run2/em/ener.edr', '-g': '/content/pmxrun_1669926122/lysopath/lysozyme_benzene/protein/stateA/run2/em/md.log', '-cpo': '/content/pmxrun_1669926122/lysopath/lysozyme_benzene/protein/stateA/run2/em/state.cpt'})])\n",
            "INFO:gmxapi.simulation.context:mpi4py is not available for default session communication.\n",
            "INFO:gmxapi.mdrun:Created /content/mdrun_5_1669926122_0/topol.tpr on rank 0\n",
            "INFO:gmxapi.simulation.workflow:Added element md_sim to workspec.\n"
          ]
        },
        {
          "output_type": "stream",
          "name": "stdout",
          "text": [
            "\n",
            "Running /content/pmxrun_1669926122/lysopath/lysozyme_benzene/protein/stateA/run2/em/tpr.tpr\n"
          ]
        },
        {
          "output_type": "stream",
          "name": "stderr",
          "text": [
            "INFO:gmxapi.simulation.context:Collected builder for tpr_input\n",
            "INFO:gmxapi.simulation.context:Collected builder for md_sim\n",
            "INFO:gmxapi.simulation.context:Subscribing md_sim to tpr_input.\n",
            "INFO:gmxapi.simulation.context:Building sequence ['tpr_input', 'md_sim']\n",
            "INFO:gmxapi.simulation.context:Building <gmxapi.simulation.context._load_tpr.<locals>.Builder object at 0x7f7763ce5e10>\n",
            "INFO:gmxapi.simulation.context:Building <gmxapi.simulation.context._md.<locals>.Builder object at 0x7f7763a533d0>\n",
            "INFO:gmxapi.simulation.context:Launching work on context rank 0, subcommunicator rank 0.\n",
            "INFO:gmxapi.simulation.context:rank 0 changed directory to /content/mdrun_5_1669926122_0\n",
            "INFO:gmxapi.simulation.context:Loading TPR file: /content/mdrun_5_1669926122_0/topol.tpr\n",
            "INFO:gmxapi.simulation.context:Exiting session on context rank 0.\n",
            "INFO:gmxapi.simulation.context:Calling session.close().\n",
            "INFO:gmxapi.simulation.context:Freeing sub-communicator _DummyCommunicator on rank 0\n",
            "INFO:gmxapi.simulation.context:Session closed on context rank 0.\n",
            "INFO:gmxapi.mdrun:Output file /content/pmxrun_1669926122/lysopath/lysozyme_benzene/protein/stateA/run2/em/state.cpt does not exist.\n",
            "INFO:gmxapi.mdrun:/content/pmxrun_1669926122/lysopath/lysozyme_benzene/protein/stateA/run2/em/ener.edrDirectory /content/pmxrun_1669926122/lysopath/lysozyme_benzene/protein/stateA/run2/em contents: , /content/pmxrun_1669926122/lysopath/lysozyme_benzene/protein/stateA/run2/em/md.logDirectory /content/pmxrun_1669926122/lysopath/lysozyme_benzene/protein/stateA/run2/em contents: , /content/pmxrun_1669926122/lysopath/lysozyme_benzene/protein/stateA/run2/em/traj.trrDirectory /content/pmxrun_1669926122/lysopath/lysozyme_benzene/protein/stateA/run2/em contents: , /content/pmxrun_1669926122/lysopath/lysozyme_benzene/protein/stateA/run2/em/confout.groDirectory /content/pmxrun_1669926122/lysopath/lysozyme_benzene/protein/stateA/run2/em contents: , /content/pmxrun_1669926122/lysopath/lysozyme_benzene/protein/stateA/run2/em/mdout.mdpDirectory /content/pmxrun_1669926122/lysopath/lysozyme_benzene/protein/stateA/run2/em contents: , /content/pmxrun_1669926122/lysopath/lysozyme_benzene/protein/stateA/run2/em/tpr.tpr\n",
            " 75%|███████▌  | 6/8 [00:39<00:19,  9.79s/it]INFO:gmxapi.modify_input:Building mdrun operation from source <gmxapi.simulation.read_tpr.StandardOperationHandle object at 0x7f7763a2bb10>\n",
            "INFO:gmxapi.modify_input:modify_input receiving input _simulation_input: ResultDescription(dtype=<class 'str'>, width=1)\n",
            "INFO:gmxapi.modify_input:modify_input input bound as source collection DataSourceCollection([('_simulation_input', <Future: name='_simulation_input', description=ResultDescription(dtype=<class 'str'>, width=1)>), ('parameters', {'nsteps': 500})])\n",
            "INFO:gmxapi.mdrun:Building mdrun operation from source <gmxapi.simulation.modify_input.StandardOperationHandle object at 0x7f7763a2bcd0>\n",
            "INFO:gmxapi.mdrun:mdrun receiving input _simulation_input: ResultDescription(dtype=<class 'str'>, width=1)\n",
            "INFO:gmxapi.mdrun:mdrun input bound as source collection DataSourceCollection([('_simulation_input', <Future: name='_simulation_input', description=ResultDescription(dtype=<class 'str'>, width=1)>), ('parameters', <Future: name='parameters', description=ResultDescription(dtype=<class 'dict'>, width=1)>), ('runtime_args', {'-nb': 'gpu', '-pme': 'auto', '-pmefft': 'auto', '-bonded': 'auto', '-x': '/content/pmxrun_1669926122/lysopath/lysozyme_benzene/protein/stateB/run1/em/traj.xtc', '-o': '/content/pmxrun_1669926122/lysopath/lysozyme_benzene/protein/stateB/run1/em/traj.trr', '-c': '/content/pmxrun_1669926122/lysopath/lysozyme_benzene/protein/stateB/run1/em/confout.gro', '-e': '/content/pmxrun_1669926122/lysopath/lysozyme_benzene/protein/stateB/run1/em/ener.edr', '-g': '/content/pmxrun_1669926122/lysopath/lysozyme_benzene/protein/stateB/run1/em/md.log', '-cpo': '/content/pmxrun_1669926122/lysopath/lysozyme_benzene/protein/stateB/run1/em/state.cpt'})])\n",
            "INFO:gmxapi.simulation.context:mpi4py is not available for default session communication.\n",
            "INFO:gmxapi.mdrun:Created /content/mdrun_6_1669926122_0/topol.tpr on rank 0\n",
            "INFO:gmxapi.simulation.workflow:Added element md_sim to workspec.\n"
          ]
        },
        {
          "output_type": "stream",
          "name": "stdout",
          "text": [
            "\n",
            "Running /content/pmxrun_1669926122/lysopath/lysozyme_benzene/protein/stateB/run1/em/tpr.tpr\n"
          ]
        },
        {
          "output_type": "stream",
          "name": "stderr",
          "text": [
            "INFO:gmxapi.simulation.context:Collected builder for tpr_input\n",
            "INFO:gmxapi.simulation.context:Collected builder for md_sim\n",
            "INFO:gmxapi.simulation.context:Subscribing md_sim to tpr_input.\n",
            "INFO:gmxapi.simulation.context:Building sequence ['tpr_input', 'md_sim']\n",
            "INFO:gmxapi.simulation.context:Building <gmxapi.simulation.context._load_tpr.<locals>.Builder object at 0x7f7763a33ed0>\n",
            "INFO:gmxapi.simulation.context:Building <gmxapi.simulation.context._md.<locals>.Builder object at 0x7f7763a33b90>\n",
            "INFO:gmxapi.simulation.context:Launching work on context rank 0, subcommunicator rank 0.\n",
            "INFO:gmxapi.simulation.context:rank 0 changed directory to /content/mdrun_6_1669926122_0\n",
            "INFO:gmxapi.simulation.context:Loading TPR file: /content/mdrun_6_1669926122_0/topol.tpr\n",
            "INFO:gmxapi.simulation.context:Exiting session on context rank 0.\n",
            "INFO:gmxapi.simulation.context:Calling session.close().\n",
            "INFO:gmxapi.simulation.context:Freeing sub-communicator _DummyCommunicator on rank 0\n",
            "INFO:gmxapi.simulation.context:Session closed on context rank 0.\n",
            "INFO:gmxapi.mdrun:Output file /content/pmxrun_1669926122/lysopath/lysozyme_benzene/protein/stateB/run1/em/state.cpt does not exist.\n",
            "INFO:gmxapi.mdrun:/content/pmxrun_1669926122/lysopath/lysozyme_benzene/protein/stateB/run1/em/ener.edrDirectory /content/pmxrun_1669926122/lysopath/lysozyme_benzene/protein/stateB/run1/em contents: , /content/pmxrun_1669926122/lysopath/lysozyme_benzene/protein/stateB/run1/em/md.logDirectory /content/pmxrun_1669926122/lysopath/lysozyme_benzene/protein/stateB/run1/em contents: , /content/pmxrun_1669926122/lysopath/lysozyme_benzene/protein/stateB/run1/em/traj.trrDirectory /content/pmxrun_1669926122/lysopath/lysozyme_benzene/protein/stateB/run1/em contents: , /content/pmxrun_1669926122/lysopath/lysozyme_benzene/protein/stateB/run1/em/confout.groDirectory /content/pmxrun_1669926122/lysopath/lysozyme_benzene/protein/stateB/run1/em contents: , /content/pmxrun_1669926122/lysopath/lysozyme_benzene/protein/stateB/run1/em/mdout.mdpDirectory /content/pmxrun_1669926122/lysopath/lysozyme_benzene/protein/stateB/run1/em contents: , /content/pmxrun_1669926122/lysopath/lysozyme_benzene/protein/stateB/run1/em/tpr.tpr\n",
            " 88%|████████▊ | 7/8 [00:54<00:11, 11.58s/it]INFO:gmxapi.modify_input:Building mdrun operation from source <gmxapi.simulation.read_tpr.StandardOperationHandle object at 0x7f7763a42f90>\n",
            "INFO:gmxapi.modify_input:modify_input receiving input _simulation_input: ResultDescription(dtype=<class 'str'>, width=1)\n",
            "INFO:gmxapi.modify_input:modify_input input bound as source collection DataSourceCollection([('_simulation_input', <Future: name='_simulation_input', description=ResultDescription(dtype=<class 'str'>, width=1)>), ('parameters', {'nsteps': 500})])\n",
            "INFO:gmxapi.mdrun:Building mdrun operation from source <gmxapi.simulation.modify_input.StandardOperationHandle object at 0x7f7763a2b9d0>\n",
            "INFO:gmxapi.mdrun:mdrun receiving input _simulation_input: ResultDescription(dtype=<class 'str'>, width=1)\n",
            "INFO:gmxapi.mdrun:mdrun input bound as source collection DataSourceCollection([('_simulation_input', <Future: name='_simulation_input', description=ResultDescription(dtype=<class 'str'>, width=1)>), ('parameters', <Future: name='parameters', description=ResultDescription(dtype=<class 'dict'>, width=1)>), ('runtime_args', {'-nb': 'gpu', '-pme': 'auto', '-pmefft': 'auto', '-bonded': 'auto', '-x': '/content/pmxrun_1669926122/lysopath/lysozyme_benzene/protein/stateB/run2/em/traj.xtc', '-o': '/content/pmxrun_1669926122/lysopath/lysozyme_benzene/protein/stateB/run2/em/traj.trr', '-c': '/content/pmxrun_1669926122/lysopath/lysozyme_benzene/protein/stateB/run2/em/confout.gro', '-e': '/content/pmxrun_1669926122/lysopath/lysozyme_benzene/protein/stateB/run2/em/ener.edr', '-g': '/content/pmxrun_1669926122/lysopath/lysozyme_benzene/protein/stateB/run2/em/md.log', '-cpo': '/content/pmxrun_1669926122/lysopath/lysozyme_benzene/protein/stateB/run2/em/state.cpt'})])\n",
            "INFO:gmxapi.simulation.context:mpi4py is not available for default session communication.\n",
            "INFO:gmxapi.mdrun:Created /content/mdrun_7_1669926122_0/topol.tpr on rank 0\n",
            "INFO:gmxapi.simulation.workflow:Added element md_sim to workspec.\n"
          ]
        },
        {
          "output_type": "stream",
          "name": "stdout",
          "text": [
            "\n",
            "Running /content/pmxrun_1669926122/lysopath/lysozyme_benzene/protein/stateB/run2/em/tpr.tpr\n"
          ]
        },
        {
          "output_type": "stream",
          "name": "stderr",
          "text": [
            "INFO:gmxapi.simulation.context:Collected builder for tpr_input\n",
            "INFO:gmxapi.simulation.context:Collected builder for md_sim\n",
            "INFO:gmxapi.simulation.context:Subscribing md_sim to tpr_input.\n",
            "INFO:gmxapi.simulation.context:Building sequence ['tpr_input', 'md_sim']\n",
            "INFO:gmxapi.simulation.context:Building <gmxapi.simulation.context._load_tpr.<locals>.Builder object at 0x7f7763a33dd0>\n",
            "INFO:gmxapi.simulation.context:Building <gmxapi.simulation.context._md.<locals>.Builder object at 0x7f7763a57110>\n",
            "INFO:gmxapi.simulation.context:Launching work on context rank 0, subcommunicator rank 0.\n",
            "INFO:gmxapi.simulation.context:rank 0 changed directory to /content/mdrun_7_1669926122_0\n",
            "INFO:gmxapi.simulation.context:Loading TPR file: /content/mdrun_7_1669926122_0/topol.tpr\n",
            "INFO:gmxapi.simulation.context:Exiting session on context rank 0.\n",
            "INFO:gmxapi.simulation.context:Calling session.close().\n",
            "INFO:gmxapi.simulation.context:Freeing sub-communicator _DummyCommunicator on rank 0\n",
            "INFO:gmxapi.simulation.context:Session closed on context rank 0.\n",
            "INFO:gmxapi.mdrun:Output file /content/pmxrun_1669926122/lysopath/lysozyme_benzene/protein/stateB/run2/em/state.cpt does not exist.\n",
            "INFO:gmxapi.mdrun:/content/pmxrun_1669926122/lysopath/lysozyme_benzene/protein/stateB/run2/em/ener.edrDirectory /content/pmxrun_1669926122/lysopath/lysozyme_benzene/protein/stateB/run2/em contents: , /content/pmxrun_1669926122/lysopath/lysozyme_benzene/protein/stateB/run2/em/md.logDirectory /content/pmxrun_1669926122/lysopath/lysozyme_benzene/protein/stateB/run2/em contents: , /content/pmxrun_1669926122/lysopath/lysozyme_benzene/protein/stateB/run2/em/traj.trrDirectory /content/pmxrun_1669926122/lysopath/lysozyme_benzene/protein/stateB/run2/em contents: , /content/pmxrun_1669926122/lysopath/lysozyme_benzene/protein/stateB/run2/em/confout.groDirectory /content/pmxrun_1669926122/lysopath/lysozyme_benzene/protein/stateB/run2/em contents: , /content/pmxrun_1669926122/lysopath/lysozyme_benzene/protein/stateB/run2/em/mdout.mdpDirectory /content/pmxrun_1669926122/lysopath/lysozyme_benzene/protein/stateB/run2/em contents: , /content/pmxrun_1669926122/lysopath/lysozyme_benzene/protein/stateB/run2/em/tpr.tpr\n",
            "100%|██████████| 8/8 [01:09<00:00,  8.72s/it]\n"
          ]
        }
      ]
    },
    {
      "cell_type": "markdown",
      "source": [
        "## 3.&nbsp; Equilibrium Simulations\n",
        "\n",
        "First, we run a short MD simulation with position restraints to equilibrate the solvent and ions around the protein/ligand. Then, we run tha actual production simulation."
      ],
      "metadata": {
        "id": "fGrncu-0YPh6"
      }
    },
    {
      "cell_type": "code",
      "source": [
        "#@title 3.1&nbsp; Prepare TPR files for short equilibration\n",
        "\n",
        "tpr_files = fe.prepare_simulation(simType='eq_posre', prevSim='em')\n",
        "\n",
        "print(\"List of TPR files that we'll run:\")\n",
        "for f in tpr_files:\n",
        "  print(f\"  {f}\")"
      ],
      "metadata": {
        "colab": {
          "base_uri": "https://localhost:8080/"
        },
        "id": "hJXqCkr8XEK7",
        "outputId": "5106d28b-705b-41eb-e9d0-3523059bddeb"
      },
      "execution_count": 13,
      "outputs": [
        {
          "output_type": "stream",
          "name": "stdout",
          "text": [
            "-----------------------------------------\n",
            "Preparing simulation: eq_posre\n",
            "-----------------------------------------\n",
            "List of TPR files that we'll run:\n",
            "  /content/pmxrun_1669926122/lysopath/lysozyme_benzene/water/stateA/run1/eq_posre/tpr.tpr\n",
            "  /content/pmxrun_1669926122/lysopath/lysozyme_benzene/water/stateA/run2/eq_posre/tpr.tpr\n",
            "  /content/pmxrun_1669926122/lysopath/lysozyme_benzene/water/stateB/run1/eq_posre/tpr.tpr\n",
            "  /content/pmxrun_1669926122/lysopath/lysozyme_benzene/water/stateB/run2/eq_posre/tpr.tpr\n",
            "  /content/pmxrun_1669926122/lysopath/lysozyme_benzene/protein/stateA/run1/eq_posre/tpr.tpr\n",
            "  /content/pmxrun_1669926122/lysopath/lysozyme_benzene/protein/stateA/run2/eq_posre/tpr.tpr\n",
            "  /content/pmxrun_1669926122/lysopath/lysozyme_benzene/protein/stateB/run1/eq_posre/tpr.tpr\n",
            "  /content/pmxrun_1669926122/lysopath/lysozyme_benzene/protein/stateB/run2/eq_posre/tpr.tpr\n"
          ]
        }
      ]
    },
    {
      "cell_type": "code",
      "source": [
        "#@title 3.2&nbsp; Run short equilibration\n",
        "\n",
        "if SHORT_SIMS:\n",
        "  nsteps = 5_000  # 5,000 x 2 fs = 10 ps\n",
        "else:\n",
        "  nsteps = None  # i.e. use what's in the MDP files\n",
        "\n",
        "# Read the TPR files and run all simulations.\n",
        "for tpr_file in tqdm(tpr_files):\n",
        "  print(f\"\\nRunning {tpr_file}\")\n",
        "\n",
        "  # If simulation has been run already, skip.\n",
        "  if mdrun_completed(tpr_file):\n",
        "    print(f\"`{tpr_file}` already ran successfully\")\n",
        "    continue\n",
        "  # Run the simulation (with reduced number of steps to speed things up)\n",
        "  md = mdrun(tpr_file, pmegpu=True, nsteps=nsteps)"
      ],
      "metadata": {
        "colab": {
          "base_uri": "https://localhost:8080/"
        },
        "id": "xNJ4StaWYYJT",
        "outputId": "1fc1877d-3236-4509-cabc-0aa265ba63d3"
      },
      "execution_count": 14,
      "outputs": [
        {
          "output_type": "stream",
          "name": "stderr",
          "text": [
            "\r  0%|          | 0/8 [00:00<?, ?it/s]INFO:gmxapi.modify_input:Building mdrun operation from source <gmxapi.simulation.read_tpr.StandardOperationHandle object at 0x7f7763f6f0d0>\n",
            "INFO:gmxapi.modify_input:modify_input receiving input _simulation_input: ResultDescription(dtype=<class 'str'>, width=1)\n",
            "INFO:gmxapi.modify_input:modify_input input bound as source collection DataSourceCollection([('_simulation_input', <Future: name='_simulation_input', description=ResultDescription(dtype=<class 'str'>, width=1)>), ('parameters', {'nsteps': 5000})])\n",
            "INFO:gmxapi.mdrun:Building mdrun operation from source <gmxapi.simulation.modify_input.StandardOperationHandle object at 0x7f77645ce910>\n",
            "INFO:gmxapi.mdrun:mdrun receiving input _simulation_input: ResultDescription(dtype=<class 'str'>, width=1)\n",
            "INFO:gmxapi.mdrun:mdrun input bound as source collection DataSourceCollection([('_simulation_input', <Future: name='_simulation_input', description=ResultDescription(dtype=<class 'str'>, width=1)>), ('parameters', <Future: name='parameters', description=ResultDescription(dtype=<class 'dict'>, width=1)>), ('runtime_args', {'-nb': 'gpu', '-pme': 'gpu', '-pmefft': 'gpu', '-bonded': 'gpu', '-x': '/content/pmxrun_1669926122/lysopath/lysozyme_benzene/water/stateA/run1/eq_posre/traj.xtc', '-o': '/content/pmxrun_1669926122/lysopath/lysozyme_benzene/water/stateA/run1/eq_posre/traj.trr', '-c': '/content/pmxrun_1669926122/lysopath/lysozyme_benzene/water/stateA/run1/eq_posre/confout.gro', '-e': '/content/pmxrun_1669926122/lysopath/lysozyme_benzene/water/stateA/run1/eq_posre/ener.edr', '-g': '/content/pmxrun_1669926122/lysopath/lysozyme_benzene/water/stateA/run1/eq_posre/md.log', '-cpo': '/content/pmxrun_1669926122/lysopath/lysozyme_benzene/water/stateA/run1/eq_posre/state.cpt'})])\n",
            "INFO:gmxapi.simulation.context:mpi4py is not available for default session communication.\n",
            "INFO:gmxapi.mdrun:Created /content/mdrun_8_1669926122_0/topol.tpr on rank 0\n",
            "INFO:gmxapi.simulation.workflow:Added element md_sim to workspec.\n"
          ]
        },
        {
          "output_type": "stream",
          "name": "stdout",
          "text": [
            "\n",
            "Running /content/pmxrun_1669926122/lysopath/lysozyme_benzene/water/stateA/run1/eq_posre/tpr.tpr\n"
          ]
        },
        {
          "output_type": "stream",
          "name": "stderr",
          "text": [
            "INFO:gmxapi.simulation.context:Collected builder for tpr_input\n",
            "INFO:gmxapi.simulation.context:Collected builder for md_sim\n",
            "INFO:gmxapi.simulation.context:Subscribing md_sim to tpr_input.\n",
            "INFO:gmxapi.simulation.context:Building sequence ['tpr_input', 'md_sim']\n",
            "INFO:gmxapi.simulation.context:Building <gmxapi.simulation.context._load_tpr.<locals>.Builder object at 0x7f7763a2b690>\n",
            "INFO:gmxapi.simulation.context:Building <gmxapi.simulation.context._md.<locals>.Builder object at 0x7f7763a3cc90>\n",
            "INFO:gmxapi.simulation.context:Launching work on context rank 0, subcommunicator rank 0.\n",
            "INFO:gmxapi.simulation.context:rank 0 changed directory to /content/mdrun_8_1669926122_0\n",
            "INFO:gmxapi.simulation.context:Loading TPR file: /content/mdrun_8_1669926122_0/topol.tpr\n",
            "INFO:gmxapi.simulation.context:Exiting session on context rank 0.\n",
            "INFO:gmxapi.simulation.context:Calling session.close().\n",
            "INFO:gmxapi.simulation.context:Freeing sub-communicator _DummyCommunicator on rank 0\n",
            "INFO:gmxapi.simulation.context:Session closed on context rank 0.\n",
            " 12%|█▎        | 1/8 [00:04<00:30,  4.39s/it]INFO:gmxapi.modify_input:Building mdrun operation from source <gmxapi.simulation.read_tpr.StandardOperationHandle object at 0x7f7763a318d0>\n",
            "INFO:gmxapi.modify_input:modify_input receiving input _simulation_input: ResultDescription(dtype=<class 'str'>, width=1)\n",
            "INFO:gmxapi.modify_input:modify_input input bound as source collection DataSourceCollection([('_simulation_input', <Future: name='_simulation_input', description=ResultDescription(dtype=<class 'str'>, width=1)>), ('parameters', {'nsteps': 5000})])\n",
            "INFO:gmxapi.mdrun:Building mdrun operation from source <gmxapi.simulation.modify_input.StandardOperationHandle object at 0x7f7763a44450>\n",
            "INFO:gmxapi.mdrun:mdrun receiving input _simulation_input: ResultDescription(dtype=<class 'str'>, width=1)\n",
            "INFO:gmxapi.mdrun:mdrun input bound as source collection DataSourceCollection([('_simulation_input', <Future: name='_simulation_input', description=ResultDescription(dtype=<class 'str'>, width=1)>), ('parameters', <Future: name='parameters', description=ResultDescription(dtype=<class 'dict'>, width=1)>), ('runtime_args', {'-nb': 'gpu', '-pme': 'gpu', '-pmefft': 'gpu', '-bonded': 'gpu', '-x': '/content/pmxrun_1669926122/lysopath/lysozyme_benzene/water/stateA/run2/eq_posre/traj.xtc', '-o': '/content/pmxrun_1669926122/lysopath/lysozyme_benzene/water/stateA/run2/eq_posre/traj.trr', '-c': '/content/pmxrun_1669926122/lysopath/lysozyme_benzene/water/stateA/run2/eq_posre/confout.gro', '-e': '/content/pmxrun_1669926122/lysopath/lysozyme_benzene/water/stateA/run2/eq_posre/ener.edr', '-g': '/content/pmxrun_1669926122/lysopath/lysozyme_benzene/water/stateA/run2/eq_posre/md.log', '-cpo': '/content/pmxrun_1669926122/lysopath/lysozyme_benzene/water/stateA/run2/eq_posre/state.cpt'})])\n",
            "INFO:gmxapi.simulation.context:mpi4py is not available for default session communication.\n",
            "INFO:gmxapi.mdrun:Created /content/mdrun_9_1669926122_0/topol.tpr on rank 0\n",
            "INFO:gmxapi.simulation.workflow:Added element md_sim to workspec.\n"
          ]
        },
        {
          "output_type": "stream",
          "name": "stdout",
          "text": [
            "\n",
            "Running /content/pmxrun_1669926122/lysopath/lysozyme_benzene/water/stateA/run2/eq_posre/tpr.tpr\n"
          ]
        },
        {
          "output_type": "stream",
          "name": "stderr",
          "text": [
            "INFO:gmxapi.simulation.context:Collected builder for tpr_input\n",
            "INFO:gmxapi.simulation.context:Collected builder for md_sim\n",
            "INFO:gmxapi.simulation.context:Subscribing md_sim to tpr_input.\n",
            "INFO:gmxapi.simulation.context:Building sequence ['tpr_input', 'md_sim']\n",
            "INFO:gmxapi.simulation.context:Building <gmxapi.simulation.context._load_tpr.<locals>.Builder object at 0x7f7763749bd0>\n",
            "INFO:gmxapi.simulation.context:Building <gmxapi.simulation.context._md.<locals>.Builder object at 0x7f7763a33cd0>\n",
            "INFO:gmxapi.simulation.context:Launching work on context rank 0, subcommunicator rank 0.\n",
            "INFO:gmxapi.simulation.context:rank 0 changed directory to /content/mdrun_9_1669926122_0\n",
            "INFO:gmxapi.simulation.context:Loading TPR file: /content/mdrun_9_1669926122_0/topol.tpr\n",
            "INFO:gmxapi.simulation.context:Exiting session on context rank 0.\n",
            "INFO:gmxapi.simulation.context:Calling session.close().\n",
            "INFO:gmxapi.simulation.context:Freeing sub-communicator _DummyCommunicator on rank 0\n",
            "INFO:gmxapi.simulation.context:Session closed on context rank 0.\n",
            " 25%|██▌       | 2/8 [00:08<00:25,  4.25s/it]INFO:gmxapi.modify_input:Building mdrun operation from source <gmxapi.simulation.read_tpr.StandardOperationHandle object at 0x7f7763749810>\n",
            "INFO:gmxapi.modify_input:modify_input receiving input _simulation_input: ResultDescription(dtype=<class 'str'>, width=1)\n",
            "INFO:gmxapi.modify_input:modify_input input bound as source collection DataSourceCollection([('_simulation_input', <Future: name='_simulation_input', description=ResultDescription(dtype=<class 'str'>, width=1)>), ('parameters', {'nsteps': 5000})])\n",
            "INFO:gmxapi.mdrun:Building mdrun operation from source <gmxapi.simulation.modify_input.StandardOperationHandle object at 0x7f77637478d0>\n",
            "INFO:gmxapi.mdrun:mdrun receiving input _simulation_input: ResultDescription(dtype=<class 'str'>, width=1)\n",
            "INFO:gmxapi.mdrun:mdrun input bound as source collection DataSourceCollection([('_simulation_input', <Future: name='_simulation_input', description=ResultDescription(dtype=<class 'str'>, width=1)>), ('parameters', <Future: name='parameters', description=ResultDescription(dtype=<class 'dict'>, width=1)>), ('runtime_args', {'-nb': 'gpu', '-pme': 'gpu', '-pmefft': 'gpu', '-bonded': 'gpu', '-x': '/content/pmxrun_1669926122/lysopath/lysozyme_benzene/water/stateB/run1/eq_posre/traj.xtc', '-o': '/content/pmxrun_1669926122/lysopath/lysozyme_benzene/water/stateB/run1/eq_posre/traj.trr', '-c': '/content/pmxrun_1669926122/lysopath/lysozyme_benzene/water/stateB/run1/eq_posre/confout.gro', '-e': '/content/pmxrun_1669926122/lysopath/lysozyme_benzene/water/stateB/run1/eq_posre/ener.edr', '-g': '/content/pmxrun_1669926122/lysopath/lysozyme_benzene/water/stateB/run1/eq_posre/md.log', '-cpo': '/content/pmxrun_1669926122/lysopath/lysozyme_benzene/water/stateB/run1/eq_posre/state.cpt'})])\n",
            "INFO:gmxapi.simulation.context:mpi4py is not available for default session communication.\n",
            "INFO:gmxapi.mdrun:Created /content/mdrun_10_1669926122_0/topol.tpr on rank 0\n",
            "INFO:gmxapi.simulation.workflow:Added element md_sim to workspec.\n",
            "INFO:gmxapi.simulation.context:Collected builder for tpr_input\n"
          ]
        },
        {
          "output_type": "stream",
          "name": "stdout",
          "text": [
            "\n",
            "Running /content/pmxrun_1669926122/lysopath/lysozyme_benzene/water/stateB/run1/eq_posre/tpr.tpr\n"
          ]
        },
        {
          "output_type": "stream",
          "name": "stderr",
          "text": [
            "INFO:gmxapi.simulation.context:Collected builder for md_sim\n",
            "INFO:gmxapi.simulation.context:Subscribing md_sim to tpr_input.\n",
            "INFO:gmxapi.simulation.context:Building sequence ['tpr_input', 'md_sim']\n",
            "INFO:gmxapi.simulation.context:Building <gmxapi.simulation.context._load_tpr.<locals>.Builder object at 0x7f7764277d10>\n",
            "INFO:gmxapi.simulation.context:Building <gmxapi.simulation.context._md.<locals>.Builder object at 0x7f7763743f90>\n",
            "INFO:gmxapi.simulation.context:Launching work on context rank 0, subcommunicator rank 0.\n",
            "INFO:gmxapi.simulation.context:rank 0 changed directory to /content/mdrun_10_1669926122_0\n",
            "INFO:gmxapi.simulation.context:Loading TPR file: /content/mdrun_10_1669926122_0/topol.tpr\n",
            "INFO:gmxapi.simulation.context:Exiting session on context rank 0.\n",
            "INFO:gmxapi.simulation.context:Calling session.close().\n",
            "INFO:gmxapi.simulation.context:Freeing sub-communicator _DummyCommunicator on rank 0\n",
            "INFO:gmxapi.simulation.context:Session closed on context rank 0.\n",
            " 38%|███▊      | 3/8 [00:12<00:20,  4.18s/it]INFO:gmxapi.modify_input:Building mdrun operation from source <gmxapi.simulation.read_tpr.StandardOperationHandle object at 0x7f77637478d0>\n",
            "INFO:gmxapi.modify_input:modify_input receiving input _simulation_input: ResultDescription(dtype=<class 'str'>, width=1)\n",
            "INFO:gmxapi.modify_input:modify_input input bound as source collection DataSourceCollection([('_simulation_input', <Future: name='_simulation_input', description=ResultDescription(dtype=<class 'str'>, width=1)>), ('parameters', {'nsteps': 5000})])\n",
            "INFO:gmxapi.mdrun:Building mdrun operation from source <gmxapi.simulation.modify_input.StandardOperationHandle object at 0x7f7763747a50>\n",
            "INFO:gmxapi.mdrun:mdrun receiving input _simulation_input: ResultDescription(dtype=<class 'str'>, width=1)\n",
            "INFO:gmxapi.mdrun:mdrun input bound as source collection DataSourceCollection([('_simulation_input', <Future: name='_simulation_input', description=ResultDescription(dtype=<class 'str'>, width=1)>), ('parameters', <Future: name='parameters', description=ResultDescription(dtype=<class 'dict'>, width=1)>), ('runtime_args', {'-nb': 'gpu', '-pme': 'gpu', '-pmefft': 'gpu', '-bonded': 'gpu', '-x': '/content/pmxrun_1669926122/lysopath/lysozyme_benzene/water/stateB/run2/eq_posre/traj.xtc', '-o': '/content/pmxrun_1669926122/lysopath/lysozyme_benzene/water/stateB/run2/eq_posre/traj.trr', '-c': '/content/pmxrun_1669926122/lysopath/lysozyme_benzene/water/stateB/run2/eq_posre/confout.gro', '-e': '/content/pmxrun_1669926122/lysopath/lysozyme_benzene/water/stateB/run2/eq_posre/ener.edr', '-g': '/content/pmxrun_1669926122/lysopath/lysozyme_benzene/water/stateB/run2/eq_posre/md.log', '-cpo': '/content/pmxrun_1669926122/lysopath/lysozyme_benzene/water/stateB/run2/eq_posre/state.cpt'})])\n",
            "INFO:gmxapi.simulation.context:mpi4py is not available for default session communication.\n",
            "INFO:gmxapi.mdrun:Created /content/mdrun_11_1669926122_0/topol.tpr on rank 0\n",
            "INFO:gmxapi.simulation.workflow:Added element md_sim to workspec.\n",
            "INFO:gmxapi.simulation.context:Collected builder for tpr_input\n"
          ]
        },
        {
          "output_type": "stream",
          "name": "stdout",
          "text": [
            "\n",
            "Running /content/pmxrun_1669926122/lysopath/lysozyme_benzene/water/stateB/run2/eq_posre/tpr.tpr\n"
          ]
        },
        {
          "output_type": "stream",
          "name": "stderr",
          "text": [
            "INFO:gmxapi.simulation.context:Collected builder for md_sim\n",
            "INFO:gmxapi.simulation.context:Subscribing md_sim to tpr_input.\n",
            "INFO:gmxapi.simulation.context:Building sequence ['tpr_input', 'md_sim']\n",
            "INFO:gmxapi.simulation.context:Building <gmxapi.simulation.context._load_tpr.<locals>.Builder object at 0x7f7763735e10>\n",
            "INFO:gmxapi.simulation.context:Building <gmxapi.simulation.context._md.<locals>.Builder object at 0x7f7763735a10>\n",
            "INFO:gmxapi.simulation.context:Launching work on context rank 0, subcommunicator rank 0.\n",
            "INFO:gmxapi.simulation.context:rank 0 changed directory to /content/mdrun_11_1669926122_0\n",
            "INFO:gmxapi.simulation.context:Loading TPR file: /content/mdrun_11_1669926122_0/topol.tpr\n",
            "INFO:gmxapi.simulation.context:Exiting session on context rank 0.\n",
            "INFO:gmxapi.simulation.context:Calling session.close().\n",
            "INFO:gmxapi.simulation.context:Freeing sub-communicator _DummyCommunicator on rank 0\n",
            "INFO:gmxapi.simulation.context:Session closed on context rank 0.\n",
            " 50%|█████     | 4/8 [00:16<00:16,  4.13s/it]INFO:gmxapi.modify_input:Building mdrun operation from source <gmxapi.simulation.read_tpr.StandardOperationHandle object at 0x7f7763747050>\n",
            "INFO:gmxapi.modify_input:modify_input receiving input _simulation_input: ResultDescription(dtype=<class 'str'>, width=1)\n",
            "INFO:gmxapi.modify_input:modify_input input bound as source collection DataSourceCollection([('_simulation_input', <Future: name='_simulation_input', description=ResultDescription(dtype=<class 'str'>, width=1)>), ('parameters', {'nsteps': 5000})])\n",
            "INFO:gmxapi.mdrun:Building mdrun operation from source <gmxapi.simulation.modify_input.StandardOperationHandle object at 0x7f7763731990>\n",
            "INFO:gmxapi.mdrun:mdrun receiving input _simulation_input: ResultDescription(dtype=<class 'str'>, width=1)\n",
            "INFO:gmxapi.mdrun:mdrun input bound as source collection DataSourceCollection([('_simulation_input', <Future: name='_simulation_input', description=ResultDescription(dtype=<class 'str'>, width=1)>), ('parameters', <Future: name='parameters', description=ResultDescription(dtype=<class 'dict'>, width=1)>), ('runtime_args', {'-nb': 'gpu', '-pme': 'gpu', '-pmefft': 'gpu', '-bonded': 'gpu', '-x': '/content/pmxrun_1669926122/lysopath/lysozyme_benzene/protein/stateA/run1/eq_posre/traj.xtc', '-o': '/content/pmxrun_1669926122/lysopath/lysozyme_benzene/protein/stateA/run1/eq_posre/traj.trr', '-c': '/content/pmxrun_1669926122/lysopath/lysozyme_benzene/protein/stateA/run1/eq_posre/confout.gro', '-e': '/content/pmxrun_1669926122/lysopath/lysozyme_benzene/protein/stateA/run1/eq_posre/ener.edr', '-g': '/content/pmxrun_1669926122/lysopath/lysozyme_benzene/protein/stateA/run1/eq_posre/md.log', '-cpo': '/content/pmxrun_1669926122/lysopath/lysozyme_benzene/protein/stateA/run1/eq_posre/state.cpt'})])\n",
            "INFO:gmxapi.simulation.context:mpi4py is not available for default session communication.\n",
            "INFO:gmxapi.mdrun:Created /content/mdrun_12_1669926122_0/topol.tpr on rank 0\n",
            "INFO:gmxapi.simulation.workflow:Added element md_sim to workspec.\n"
          ]
        },
        {
          "output_type": "stream",
          "name": "stdout",
          "text": [
            "\n",
            "Running /content/pmxrun_1669926122/lysopath/lysozyme_benzene/protein/stateA/run1/eq_posre/tpr.tpr\n"
          ]
        },
        {
          "output_type": "stream",
          "name": "stderr",
          "text": [
            "INFO:gmxapi.simulation.context:Collected builder for tpr_input\n",
            "INFO:gmxapi.simulation.context:Collected builder for md_sim\n",
            "INFO:gmxapi.simulation.context:Subscribing md_sim to tpr_input.\n",
            "INFO:gmxapi.simulation.context:Building sequence ['tpr_input', 'md_sim']\n",
            "INFO:gmxapi.simulation.context:Building <gmxapi.simulation.context._load_tpr.<locals>.Builder object at 0x7f7763728f90>\n",
            "INFO:gmxapi.simulation.context:Building <gmxapi.simulation.context._md.<locals>.Builder object at 0x7f7763731410>\n",
            "INFO:gmxapi.simulation.context:Launching work on context rank 0, subcommunicator rank 0.\n",
            "INFO:gmxapi.simulation.context:rank 0 changed directory to /content/mdrun_12_1669926122_0\n",
            "INFO:gmxapi.simulation.context:Loading TPR file: /content/mdrun_12_1669926122_0/topol.tpr\n",
            "INFO:gmxapi.simulation.context:Exiting session on context rank 0.\n",
            "INFO:gmxapi.simulation.context:Calling session.close().\n",
            "INFO:gmxapi.simulation.context:Freeing sub-communicator _DummyCommunicator on rank 0\n",
            "INFO:gmxapi.simulation.context:Session closed on context rank 0.\n",
            " 62%|██████▎   | 5/8 [00:34<00:27,  9.06s/it]INFO:gmxapi.modify_input:Building mdrun operation from source <gmxapi.simulation.read_tpr.StandardOperationHandle object at 0x7f77637544d0>\n",
            "INFO:gmxapi.modify_input:modify_input receiving input _simulation_input: ResultDescription(dtype=<class 'str'>, width=1)\n",
            "INFO:gmxapi.modify_input:modify_input input bound as source collection DataSourceCollection([('_simulation_input', <Future: name='_simulation_input', description=ResultDescription(dtype=<class 'str'>, width=1)>), ('parameters', {'nsteps': 5000})])\n",
            "INFO:gmxapi.mdrun:Building mdrun operation from source <gmxapi.simulation.modify_input.StandardOperationHandle object at 0x7f7763721190>\n",
            "INFO:gmxapi.mdrun:mdrun receiving input _simulation_input: ResultDescription(dtype=<class 'str'>, width=1)\n",
            "INFO:gmxapi.mdrun:mdrun input bound as source collection DataSourceCollection([('_simulation_input', <Future: name='_simulation_input', description=ResultDescription(dtype=<class 'str'>, width=1)>), ('parameters', <Future: name='parameters', description=ResultDescription(dtype=<class 'dict'>, width=1)>), ('runtime_args', {'-nb': 'gpu', '-pme': 'gpu', '-pmefft': 'gpu', '-bonded': 'gpu', '-x': '/content/pmxrun_1669926122/lysopath/lysozyme_benzene/protein/stateA/run2/eq_posre/traj.xtc', '-o': '/content/pmxrun_1669926122/lysopath/lysozyme_benzene/protein/stateA/run2/eq_posre/traj.trr', '-c': '/content/pmxrun_1669926122/lysopath/lysozyme_benzene/protein/stateA/run2/eq_posre/confout.gro', '-e': '/content/pmxrun_1669926122/lysopath/lysozyme_benzene/protein/stateA/run2/eq_posre/ener.edr', '-g': '/content/pmxrun_1669926122/lysopath/lysozyme_benzene/protein/stateA/run2/eq_posre/md.log', '-cpo': '/content/pmxrun_1669926122/lysopath/lysozyme_benzene/protein/stateA/run2/eq_posre/state.cpt'})])\n",
            "INFO:gmxapi.simulation.context:mpi4py is not available for default session communication.\n",
            "INFO:gmxapi.mdrun:Created /content/mdrun_13_1669926122_0/topol.tpr on rank 0\n",
            "INFO:gmxapi.simulation.workflow:Added element md_sim to workspec.\n"
          ]
        },
        {
          "output_type": "stream",
          "name": "stdout",
          "text": [
            "\n",
            "Running /content/pmxrun_1669926122/lysopath/lysozyme_benzene/protein/stateA/run2/eq_posre/tpr.tpr\n"
          ]
        },
        {
          "output_type": "stream",
          "name": "stderr",
          "text": [
            "INFO:gmxapi.simulation.context:Collected builder for tpr_input\n",
            "INFO:gmxapi.simulation.context:Collected builder for md_sim\n",
            "INFO:gmxapi.simulation.context:Subscribing md_sim to tpr_input.\n",
            "INFO:gmxapi.simulation.context:Building sequence ['tpr_input', 'md_sim']\n",
            "INFO:gmxapi.simulation.context:Building <gmxapi.simulation.context._load_tpr.<locals>.Builder object at 0x7f7763747050>\n",
            "INFO:gmxapi.simulation.context:Building <gmxapi.simulation.context._md.<locals>.Builder object at 0x7f7763731510>\n",
            "INFO:gmxapi.simulation.context:Launching work on context rank 0, subcommunicator rank 0.\n",
            "INFO:gmxapi.simulation.context:rank 0 changed directory to /content/mdrun_13_1669926122_0\n",
            "INFO:gmxapi.simulation.context:Loading TPR file: /content/mdrun_13_1669926122_0/topol.tpr\n",
            "INFO:gmxapi.simulation.context:Exiting session on context rank 0.\n",
            "INFO:gmxapi.simulation.context:Calling session.close().\n",
            "INFO:gmxapi.simulation.context:Freeing sub-communicator _DummyCommunicator on rank 0\n",
            "INFO:gmxapi.simulation.context:Session closed on context rank 0.\n",
            " 75%|███████▌  | 6/8 [00:49<00:22, 11.09s/it]INFO:gmxapi.modify_input:Building mdrun operation from source <gmxapi.simulation.read_tpr.StandardOperationHandle object at 0x7f7763735b90>\n",
            "INFO:gmxapi.modify_input:modify_input receiving input _simulation_input: ResultDescription(dtype=<class 'str'>, width=1)\n",
            "INFO:gmxapi.modify_input:modify_input input bound as source collection DataSourceCollection([('_simulation_input', <Future: name='_simulation_input', description=ResultDescription(dtype=<class 'str'>, width=1)>), ('parameters', {'nsteps': 5000})])\n",
            "INFO:gmxapi.mdrun:Building mdrun operation from source <gmxapi.simulation.modify_input.StandardOperationHandle object at 0x7f7763a2b490>\n",
            "INFO:gmxapi.mdrun:mdrun receiving input _simulation_input: ResultDescription(dtype=<class 'str'>, width=1)\n",
            "INFO:gmxapi.mdrun:mdrun input bound as source collection DataSourceCollection([('_simulation_input', <Future: name='_simulation_input', description=ResultDescription(dtype=<class 'str'>, width=1)>), ('parameters', <Future: name='parameters', description=ResultDescription(dtype=<class 'dict'>, width=1)>), ('runtime_args', {'-nb': 'gpu', '-pme': 'gpu', '-pmefft': 'gpu', '-bonded': 'gpu', '-x': '/content/pmxrun_1669926122/lysopath/lysozyme_benzene/protein/stateB/run1/eq_posre/traj.xtc', '-o': '/content/pmxrun_1669926122/lysopath/lysozyme_benzene/protein/stateB/run1/eq_posre/traj.trr', '-c': '/content/pmxrun_1669926122/lysopath/lysozyme_benzene/protein/stateB/run1/eq_posre/confout.gro', '-e': '/content/pmxrun_1669926122/lysopath/lysozyme_benzene/protein/stateB/run1/eq_posre/ener.edr', '-g': '/content/pmxrun_1669926122/lysopath/lysozyme_benzene/protein/stateB/run1/eq_posre/md.log', '-cpo': '/content/pmxrun_1669926122/lysopath/lysozyme_benzene/protein/stateB/run1/eq_posre/state.cpt'})])\n",
            "INFO:gmxapi.simulation.context:mpi4py is not available for default session communication.\n",
            "INFO:gmxapi.mdrun:Created /content/mdrun_14_1669926122_0/topol.tpr on rank 0\n",
            "INFO:gmxapi.simulation.workflow:Added element md_sim to workspec.\n"
          ]
        },
        {
          "output_type": "stream",
          "name": "stdout",
          "text": [
            "\n",
            "Running /content/pmxrun_1669926122/lysopath/lysozyme_benzene/protein/stateB/run1/eq_posre/tpr.tpr\n"
          ]
        },
        {
          "output_type": "stream",
          "name": "stderr",
          "text": [
            "INFO:gmxapi.simulation.context:Collected builder for tpr_input\n",
            "INFO:gmxapi.simulation.context:Collected builder for md_sim\n",
            "INFO:gmxapi.simulation.context:Subscribing md_sim to tpr_input.\n",
            "INFO:gmxapi.simulation.context:Building sequence ['tpr_input', 'md_sim']\n",
            "INFO:gmxapi.simulation.context:Building <gmxapi.simulation.context._load_tpr.<locals>.Builder object at 0x7f7763728dd0>\n",
            "INFO:gmxapi.simulation.context:Building <gmxapi.simulation.context._md.<locals>.Builder object at 0x7f7763735b90>\n",
            "INFO:gmxapi.simulation.context:Launching work on context rank 0, subcommunicator rank 0.\n",
            "INFO:gmxapi.simulation.context:rank 0 changed directory to /content/mdrun_14_1669926122_0\n",
            "INFO:gmxapi.simulation.context:Loading TPR file: /content/mdrun_14_1669926122_0/topol.tpr\n",
            "INFO:gmxapi.simulation.context:Exiting session on context rank 0.\n",
            "INFO:gmxapi.simulation.context:Calling session.close().\n",
            "INFO:gmxapi.simulation.context:Freeing sub-communicator _DummyCommunicator on rank 0\n",
            "INFO:gmxapi.simulation.context:Session closed on context rank 0.\n",
            " 88%|████████▊ | 7/8 [01:04<00:12, 12.40s/it]INFO:gmxapi.modify_input:Building mdrun operation from source <gmxapi.simulation.read_tpr.StandardOperationHandle object at 0x7f776371b210>\n",
            "INFO:gmxapi.modify_input:modify_input receiving input _simulation_input: ResultDescription(dtype=<class 'str'>, width=1)\n",
            "INFO:gmxapi.modify_input:modify_input input bound as source collection DataSourceCollection([('_simulation_input', <Future: name='_simulation_input', description=ResultDescription(dtype=<class 'str'>, width=1)>), ('parameters', {'nsteps': 5000})])\n",
            "INFO:gmxapi.mdrun:Building mdrun operation from source <gmxapi.simulation.modify_input.StandardOperationHandle object at 0x7f7763758210>\n",
            "INFO:gmxapi.mdrun:mdrun receiving input _simulation_input: ResultDescription(dtype=<class 'str'>, width=1)\n",
            "INFO:gmxapi.mdrun:mdrun input bound as source collection DataSourceCollection([('_simulation_input', <Future: name='_simulation_input', description=ResultDescription(dtype=<class 'str'>, width=1)>), ('parameters', <Future: name='parameters', description=ResultDescription(dtype=<class 'dict'>, width=1)>), ('runtime_args', {'-nb': 'gpu', '-pme': 'gpu', '-pmefft': 'gpu', '-bonded': 'gpu', '-x': '/content/pmxrun_1669926122/lysopath/lysozyme_benzene/protein/stateB/run2/eq_posre/traj.xtc', '-o': '/content/pmxrun_1669926122/lysopath/lysozyme_benzene/protein/stateB/run2/eq_posre/traj.trr', '-c': '/content/pmxrun_1669926122/lysopath/lysozyme_benzene/protein/stateB/run2/eq_posre/confout.gro', '-e': '/content/pmxrun_1669926122/lysopath/lysozyme_benzene/protein/stateB/run2/eq_posre/ener.edr', '-g': '/content/pmxrun_1669926122/lysopath/lysozyme_benzene/protein/stateB/run2/eq_posre/md.log', '-cpo': '/content/pmxrun_1669926122/lysopath/lysozyme_benzene/protein/stateB/run2/eq_posre/state.cpt'})])\n",
            "INFO:gmxapi.simulation.context:mpi4py is not available for default session communication.\n",
            "INFO:gmxapi.mdrun:Created /content/mdrun_15_1669926122_0/topol.tpr on rank 0\n",
            "INFO:gmxapi.simulation.workflow:Added element md_sim to workspec.\n",
            "INFO:gmxapi.simulation.context:Collected builder for tpr_input\n"
          ]
        },
        {
          "output_type": "stream",
          "name": "stdout",
          "text": [
            "\n",
            "Running /content/pmxrun_1669926122/lysopath/lysozyme_benzene/protein/stateB/run2/eq_posre/tpr.tpr\n"
          ]
        },
        {
          "output_type": "stream",
          "name": "stderr",
          "text": [
            "INFO:gmxapi.simulation.context:Collected builder for md_sim\n",
            "INFO:gmxapi.simulation.context:Subscribing md_sim to tpr_input.\n",
            "INFO:gmxapi.simulation.context:Building sequence ['tpr_input', 'md_sim']\n",
            "INFO:gmxapi.simulation.context:Building <gmxapi.simulation.context._load_tpr.<locals>.Builder object at 0x7f77635e3390>\n",
            "INFO:gmxapi.simulation.context:Building <gmxapi.simulation.context._md.<locals>.Builder object at 0x7f77635e3150>\n",
            "INFO:gmxapi.simulation.context:Launching work on context rank 0, subcommunicator rank 0.\n",
            "INFO:gmxapi.simulation.context:rank 0 changed directory to /content/mdrun_15_1669926122_0\n",
            "INFO:gmxapi.simulation.context:Loading TPR file: /content/mdrun_15_1669926122_0/topol.tpr\n",
            "INFO:gmxapi.simulation.context:Exiting session on context rank 0.\n",
            "INFO:gmxapi.simulation.context:Calling session.close().\n",
            "INFO:gmxapi.simulation.context:Freeing sub-communicator _DummyCommunicator on rank 0\n",
            "INFO:gmxapi.simulation.context:Session closed on context rank 0.\n",
            "100%|██████████| 8/8 [01:20<00:00, 10.02s/it]\n"
          ]
        }
      ]
    },
    {
      "cell_type": "code",
      "source": [
        "# Show output files for one run.\n",
        "print(\"Path to mdrun output files:\", os.path.dirname(tpr_files[0]))\n",
        "print(\"Output files:\", os.listdir(\"/\".join(tpr_files[0].split(\"/\")[:-1])))\n",
        "print()\n",
        "\n",
        "# Tail log file to see performance.\n",
        "tail(tpr_files[0].replace('tpr.tpr', 'md.log'), n=5)"
      ],
      "metadata": {
        "id": "4HZiyPuOwQAD",
        "outputId": "5b2967d1-4989-4628-f998-d96ebbaa8e4a",
        "colab": {
          "base_uri": "https://localhost:8080/"
        }
      },
      "execution_count": 15,
      "outputs": [
        {
          "output_type": "stream",
          "name": "stdout",
          "text": [
            "Path to mdrun output files: /content/pmxrun_1669926122/lysopath/lysozyme_benzene/water/stateA/run1/eq_posre\n",
            "Output files: ['ener.edr', 'md.log', 'state.cpt', 'traj.trr', 'confout.gro', 'mdout.mdp', 'tpr.tpr']\n",
            "\n",
            "       Time:        6.364        3.182      200.0\n",
            "                 (ns/day)    (hour/ns)\n",
            "Performance:      271.561        0.088\n",
            "Finished mdrun on rank 0 Thu Dec  1 20:24:29 2022\n",
            "\n"
          ]
        }
      ]
    },
    {
      "cell_type": "code",
      "source": [
        "#@title 3.3&nbsp; Prepare TPR files for equilibrium simulations\n",
        "\n",
        "tpr_files = fe.prepare_simulation(simType='eq', prevSim='eq_posre')\n",
        "\n",
        "print(\"List of TPR files that we'll run:\")\n",
        "for f in tpr_files:\n",
        "  print(f\"  {f}\")"
      ],
      "metadata": {
        "colab": {
          "base_uri": "https://localhost:8080/"
        },
        "id": "niTYHk9FYYLv",
        "outputId": "67e8ea2a-831f-4e3b-f880-e03bd538fb0e"
      },
      "execution_count": 16,
      "outputs": [
        {
          "output_type": "stream",
          "name": "stdout",
          "text": [
            "-----------------------------------------\n",
            "Preparing simulation: eq\n",
            "-----------------------------------------\n",
            "List of TPR files that we'll run:\n",
            "  /content/pmxrun_1669926122/lysopath/lysozyme_benzene/water/stateA/run1/eq/tpr.tpr\n",
            "  /content/pmxrun_1669926122/lysopath/lysozyme_benzene/water/stateA/run2/eq/tpr.tpr\n",
            "  /content/pmxrun_1669926122/lysopath/lysozyme_benzene/water/stateB/run1/eq/tpr.tpr\n",
            "  /content/pmxrun_1669926122/lysopath/lysozyme_benzene/water/stateB/run2/eq/tpr.tpr\n",
            "  /content/pmxrun_1669926122/lysopath/lysozyme_benzene/protein/stateA/run1/eq/tpr.tpr\n",
            "  /content/pmxrun_1669926122/lysopath/lysozyme_benzene/protein/stateA/run2/eq/tpr.tpr\n",
            "  /content/pmxrun_1669926122/lysopath/lysozyme_benzene/protein/stateB/run1/eq/tpr.tpr\n",
            "  /content/pmxrun_1669926122/lysopath/lysozyme_benzene/protein/stateB/run2/eq/tpr.tpr\n"
          ]
        }
      ]
    },
    {
      "cell_type": "code",
      "source": [
        "#@title 3.4&nbsp; Run equilibrium simulations\n",
        "\n",
        "if SHORT_SIMS:\n",
        "  nsteps = 25_000  # 25,000 x 2 fs = 50 ps\n",
        "else:\n",
        "  nsteps = None  # i.e. use what's in the MDP files\n",
        "\n",
        "# Read the TPR files and run all simulations.\n",
        "for tpr_file in tqdm(tpr_files):\n",
        "  print(f\"\\nRunning {tpr_file}\")\n",
        "\n",
        "  # If simulation has been run already, skip.\n",
        "  if mdrun_completed(tpr_file):\n",
        "    print(f\"`{tpr_file}` already ran successfully\")\n",
        "    continue\n",
        "\n",
        "  # Run the simulation (with reduced number of steps to speed things up)\n",
        "  md = mdrun(tpr_file, pmegpu=True, nsteps=nsteps)"
      ],
      "metadata": {
        "colab": {
          "base_uri": "https://localhost:8080/"
        },
        "id": "7tQPHNndYYN8",
        "outputId": "6c99c145-3660-45a0-ddb9-4890e16834b9"
      },
      "execution_count": 17,
      "outputs": [
        {
          "output_type": "stream",
          "name": "stderr",
          "text": [
            "\r  0%|          | 0/8 [00:00<?, ?it/s]INFO:gmxapi.modify_input:Building mdrun operation from source <gmxapi.simulation.read_tpr.StandardOperationHandle object at 0x7f7763728090>\n",
            "INFO:gmxapi.modify_input:modify_input receiving input _simulation_input: ResultDescription(dtype=<class 'str'>, width=1)\n",
            "INFO:gmxapi.modify_input:modify_input input bound as source collection DataSourceCollection([('_simulation_input', <Future: name='_simulation_input', description=ResultDescription(dtype=<class 'str'>, width=1)>), ('parameters', {'nsteps': 25000})])\n",
            "INFO:gmxapi.mdrun:Building mdrun operation from source <gmxapi.simulation.modify_input.StandardOperationHandle object at 0x7f77635e5c10>\n",
            "INFO:gmxapi.mdrun:mdrun receiving input _simulation_input: ResultDescription(dtype=<class 'str'>, width=1)\n",
            "INFO:gmxapi.mdrun:mdrun input bound as source collection DataSourceCollection([('_simulation_input', <Future: name='_simulation_input', description=ResultDescription(dtype=<class 'str'>, width=1)>), ('parameters', <Future: name='parameters', description=ResultDescription(dtype=<class 'dict'>, width=1)>), ('runtime_args', {'-nb': 'gpu', '-pme': 'gpu', '-pmefft': 'gpu', '-bonded': 'gpu', '-x': '/content/pmxrun_1669926122/lysopath/lysozyme_benzene/water/stateA/run1/eq/traj.xtc', '-o': '/content/pmxrun_1669926122/lysopath/lysozyme_benzene/water/stateA/run1/eq/traj.trr', '-c': '/content/pmxrun_1669926122/lysopath/lysozyme_benzene/water/stateA/run1/eq/confout.gro', '-e': '/content/pmxrun_1669926122/lysopath/lysozyme_benzene/water/stateA/run1/eq/ener.edr', '-g': '/content/pmxrun_1669926122/lysopath/lysozyme_benzene/water/stateA/run1/eq/md.log', '-cpo': '/content/pmxrun_1669926122/lysopath/lysozyme_benzene/water/stateA/run1/eq/state.cpt'})])\n",
            "INFO:gmxapi.simulation.context:mpi4py is not available for default session communication.\n",
            "INFO:gmxapi.mdrun:Created /content/mdrun_16_1669926122_0/topol.tpr on rank 0\n",
            "INFO:gmxapi.simulation.workflow:Added element md_sim to workspec.\n"
          ]
        },
        {
          "output_type": "stream",
          "name": "stdout",
          "text": [
            "\n",
            "Running /content/pmxrun_1669926122/lysopath/lysozyme_benzene/water/stateA/run1/eq/tpr.tpr\n"
          ]
        },
        {
          "output_type": "stream",
          "name": "stderr",
          "text": [
            "INFO:gmxapi.simulation.context:Collected builder for tpr_input\n",
            "INFO:gmxapi.simulation.context:Collected builder for md_sim\n",
            "INFO:gmxapi.simulation.context:Subscribing md_sim to tpr_input.\n",
            "INFO:gmxapi.simulation.context:Building sequence ['tpr_input', 'md_sim']\n",
            "INFO:gmxapi.simulation.context:Building <gmxapi.simulation.context._load_tpr.<locals>.Builder object at 0x7f77635e2c10>\n",
            "INFO:gmxapi.simulation.context:Building <gmxapi.simulation.context._md.<locals>.Builder object at 0x7f7769533750>\n",
            "INFO:gmxapi.simulation.context:Launching work on context rank 0, subcommunicator rank 0.\n",
            "INFO:gmxapi.simulation.context:rank 0 changed directory to /content/mdrun_16_1669926122_0\n",
            "INFO:gmxapi.simulation.context:Loading TPR file: /content/mdrun_16_1669926122_0/topol.tpr\n",
            "INFO:gmxapi.simulation.context:Exiting session on context rank 0.\n",
            "INFO:gmxapi.simulation.context:Calling session.close().\n",
            "INFO:gmxapi.simulation.context:Freeing sub-communicator _DummyCommunicator on rank 0\n",
            "INFO:gmxapi.simulation.context:Session closed on context rank 0.\n",
            " 12%|█▎        | 1/8 [00:17<02:00, 17.15s/it]INFO:gmxapi.modify_input:Building mdrun operation from source <gmxapi.simulation.read_tpr.StandardOperationHandle object at 0x7f77635ec390>\n",
            "INFO:gmxapi.modify_input:modify_input receiving input _simulation_input: ResultDescription(dtype=<class 'str'>, width=1)\n",
            "INFO:gmxapi.modify_input:modify_input input bound as source collection DataSourceCollection([('_simulation_input', <Future: name='_simulation_input', description=ResultDescription(dtype=<class 'str'>, width=1)>), ('parameters', {'nsteps': 25000})])\n",
            "INFO:gmxapi.mdrun:Building mdrun operation from source <gmxapi.simulation.modify_input.StandardOperationHandle object at 0x7f77635e5dd0>\n",
            "INFO:gmxapi.mdrun:mdrun receiving input _simulation_input: ResultDescription(dtype=<class 'str'>, width=1)\n",
            "INFO:gmxapi.mdrun:mdrun input bound as source collection DataSourceCollection([('_simulation_input', <Future: name='_simulation_input', description=ResultDescription(dtype=<class 'str'>, width=1)>), ('parameters', <Future: name='parameters', description=ResultDescription(dtype=<class 'dict'>, width=1)>), ('runtime_args', {'-nb': 'gpu', '-pme': 'gpu', '-pmefft': 'gpu', '-bonded': 'gpu', '-x': '/content/pmxrun_1669926122/lysopath/lysozyme_benzene/water/stateA/run2/eq/traj.xtc', '-o': '/content/pmxrun_1669926122/lysopath/lysozyme_benzene/water/stateA/run2/eq/traj.trr', '-c': '/content/pmxrun_1669926122/lysopath/lysozyme_benzene/water/stateA/run2/eq/confout.gro', '-e': '/content/pmxrun_1669926122/lysopath/lysozyme_benzene/water/stateA/run2/eq/ener.edr', '-g': '/content/pmxrun_1669926122/lysopath/lysozyme_benzene/water/stateA/run2/eq/md.log', '-cpo': '/content/pmxrun_1669926122/lysopath/lysozyme_benzene/water/stateA/run2/eq/state.cpt'})])\n",
            "INFO:gmxapi.simulation.context:mpi4py is not available for default session communication.\n",
            "INFO:gmxapi.mdrun:Created /content/mdrun_17_1669926122_0/topol.tpr on rank 0\n",
            "INFO:gmxapi.simulation.workflow:Added element md_sim to workspec.\n"
          ]
        },
        {
          "output_type": "stream",
          "name": "stdout",
          "text": [
            "\n",
            "Running /content/pmxrun_1669926122/lysopath/lysozyme_benzene/water/stateA/run2/eq/tpr.tpr\n"
          ]
        },
        {
          "output_type": "stream",
          "name": "stderr",
          "text": [
            "INFO:gmxapi.simulation.context:Collected builder for tpr_input\n",
            "INFO:gmxapi.simulation.context:Collected builder for md_sim\n",
            "INFO:gmxapi.simulation.context:Subscribing md_sim to tpr_input.\n",
            "INFO:gmxapi.simulation.context:Building sequence ['tpr_input', 'md_sim']\n",
            "INFO:gmxapi.simulation.context:Building <gmxapi.simulation.context._load_tpr.<locals>.Builder object at 0x7f776371bd50>\n",
            "INFO:gmxapi.simulation.context:Building <gmxapi.simulation.context._md.<locals>.Builder object at 0x7f776371b550>\n",
            "INFO:gmxapi.simulation.context:Launching work on context rank 0, subcommunicator rank 0.\n",
            "INFO:gmxapi.simulation.context:rank 0 changed directory to /content/mdrun_17_1669926122_0\n",
            "INFO:gmxapi.simulation.context:Loading TPR file: /content/mdrun_17_1669926122_0/topol.tpr\n",
            "INFO:gmxapi.simulation.context:Exiting session on context rank 0.\n",
            "INFO:gmxapi.simulation.context:Calling session.close().\n",
            "INFO:gmxapi.simulation.context:Freeing sub-communicator _DummyCommunicator on rank 0\n",
            "INFO:gmxapi.simulation.context:Session closed on context rank 0.\n",
            " 25%|██▌       | 2/8 [00:33<01:40, 16.74s/it]INFO:gmxapi.modify_input:Building mdrun operation from source <gmxapi.simulation.read_tpr.StandardOperationHandle object at 0x7f77635e3250>\n",
            "INFO:gmxapi.modify_input:modify_input receiving input _simulation_input: ResultDescription(dtype=<class 'str'>, width=1)\n",
            "INFO:gmxapi.modify_input:modify_input input bound as source collection DataSourceCollection([('_simulation_input', <Future: name='_simulation_input', description=ResultDescription(dtype=<class 'str'>, width=1)>), ('parameters', {'nsteps': 25000})])\n",
            "INFO:gmxapi.mdrun:Building mdrun operation from source <gmxapi.simulation.modify_input.StandardOperationHandle object at 0x7f77635ec1d0>\n",
            "INFO:gmxapi.mdrun:mdrun receiving input _simulation_input: ResultDescription(dtype=<class 'str'>, width=1)\n",
            "INFO:gmxapi.mdrun:mdrun input bound as source collection DataSourceCollection([('_simulation_input', <Future: name='_simulation_input', description=ResultDescription(dtype=<class 'str'>, width=1)>), ('parameters', <Future: name='parameters', description=ResultDescription(dtype=<class 'dict'>, width=1)>), ('runtime_args', {'-nb': 'gpu', '-pme': 'gpu', '-pmefft': 'gpu', '-bonded': 'gpu', '-x': '/content/pmxrun_1669926122/lysopath/lysozyme_benzene/water/stateB/run1/eq/traj.xtc', '-o': '/content/pmxrun_1669926122/lysopath/lysozyme_benzene/water/stateB/run1/eq/traj.trr', '-c': '/content/pmxrun_1669926122/lysopath/lysozyme_benzene/water/stateB/run1/eq/confout.gro', '-e': '/content/pmxrun_1669926122/lysopath/lysozyme_benzene/water/stateB/run1/eq/ener.edr', '-g': '/content/pmxrun_1669926122/lysopath/lysozyme_benzene/water/stateB/run1/eq/md.log', '-cpo': '/content/pmxrun_1669926122/lysopath/lysozyme_benzene/water/stateB/run1/eq/state.cpt'})])\n",
            "INFO:gmxapi.simulation.context:mpi4py is not available for default session communication.\n",
            "INFO:gmxapi.mdrun:Created /content/mdrun_18_1669926122_0/topol.tpr on rank 0\n",
            "INFO:gmxapi.simulation.workflow:Added element md_sim to workspec.\n"
          ]
        },
        {
          "output_type": "stream",
          "name": "stdout",
          "text": [
            "\n",
            "Running /content/pmxrun_1669926122/lysopath/lysozyme_benzene/water/stateB/run1/eq/tpr.tpr\n"
          ]
        },
        {
          "output_type": "stream",
          "name": "stderr",
          "text": [
            "INFO:gmxapi.simulation.context:Collected builder for tpr_input\n",
            "INFO:gmxapi.simulation.context:Collected builder for md_sim\n",
            "INFO:gmxapi.simulation.context:Subscribing md_sim to tpr_input.\n",
            "INFO:gmxapi.simulation.context:Building sequence ['tpr_input', 'md_sim']\n",
            "INFO:gmxapi.simulation.context:Building <gmxapi.simulation.context._load_tpr.<locals>.Builder object at 0x7f77635f2f50>\n",
            "INFO:gmxapi.simulation.context:Building <gmxapi.simulation.context._md.<locals>.Builder object at 0x7f7763728f90>\n",
            "INFO:gmxapi.simulation.context:Launching work on context rank 0, subcommunicator rank 0.\n",
            "INFO:gmxapi.simulation.context:rank 0 changed directory to /content/mdrun_18_1669926122_0\n",
            "INFO:gmxapi.simulation.context:Loading TPR file: /content/mdrun_18_1669926122_0/topol.tpr\n",
            "INFO:gmxapi.simulation.context:Exiting session on context rank 0.\n",
            "INFO:gmxapi.simulation.context:Calling session.close().\n",
            "INFO:gmxapi.simulation.context:Freeing sub-communicator _DummyCommunicator on rank 0\n",
            "INFO:gmxapi.simulation.context:Session closed on context rank 0.\n",
            " 38%|███▊      | 3/8 [00:49<01:22, 16.50s/it]INFO:gmxapi.modify_input:Building mdrun operation from source <gmxapi.simulation.read_tpr.StandardOperationHandle object at 0x7f77635f4cd0>\n",
            "INFO:gmxapi.modify_input:modify_input receiving input _simulation_input: ResultDescription(dtype=<class 'str'>, width=1)\n",
            "INFO:gmxapi.modify_input:modify_input input bound as source collection DataSourceCollection([('_simulation_input', <Future: name='_simulation_input', description=ResultDescription(dtype=<class 'str'>, width=1)>), ('parameters', {'nsteps': 25000})])\n",
            "INFO:gmxapi.mdrun:Building mdrun operation from source <gmxapi.simulation.modify_input.StandardOperationHandle object at 0x7f77635f4350>\n",
            "INFO:gmxapi.mdrun:mdrun receiving input _simulation_input: ResultDescription(dtype=<class 'str'>, width=1)\n",
            "INFO:gmxapi.mdrun:mdrun input bound as source collection DataSourceCollection([('_simulation_input', <Future: name='_simulation_input', description=ResultDescription(dtype=<class 'str'>, width=1)>), ('parameters', <Future: name='parameters', description=ResultDescription(dtype=<class 'dict'>, width=1)>), ('runtime_args', {'-nb': 'gpu', '-pme': 'gpu', '-pmefft': 'gpu', '-bonded': 'gpu', '-x': '/content/pmxrun_1669926122/lysopath/lysozyme_benzene/water/stateB/run2/eq/traj.xtc', '-o': '/content/pmxrun_1669926122/lysopath/lysozyme_benzene/water/stateB/run2/eq/traj.trr', '-c': '/content/pmxrun_1669926122/lysopath/lysozyme_benzene/water/stateB/run2/eq/confout.gro', '-e': '/content/pmxrun_1669926122/lysopath/lysozyme_benzene/water/stateB/run2/eq/ener.edr', '-g': '/content/pmxrun_1669926122/lysopath/lysozyme_benzene/water/stateB/run2/eq/md.log', '-cpo': '/content/pmxrun_1669926122/lysopath/lysozyme_benzene/water/stateB/run2/eq/state.cpt'})])\n",
            "INFO:gmxapi.simulation.context:mpi4py is not available for default session communication.\n",
            "INFO:gmxapi.mdrun:Created /content/mdrun_19_1669926122_0/topol.tpr on rank 0\n",
            "INFO:gmxapi.simulation.workflow:Added element md_sim to workspec.\n"
          ]
        },
        {
          "output_type": "stream",
          "name": "stdout",
          "text": [
            "\n",
            "Running /content/pmxrun_1669926122/lysopath/lysozyme_benzene/water/stateB/run2/eq/tpr.tpr\n"
          ]
        },
        {
          "output_type": "stream",
          "name": "stderr",
          "text": [
            "INFO:gmxapi.simulation.context:Collected builder for tpr_input\n",
            "INFO:gmxapi.simulation.context:Collected builder for md_sim\n",
            "INFO:gmxapi.simulation.context:Subscribing md_sim to tpr_input.\n",
            "INFO:gmxapi.simulation.context:Building sequence ['tpr_input', 'md_sim']\n",
            "INFO:gmxapi.simulation.context:Building <gmxapi.simulation.context._load_tpr.<locals>.Builder object at 0x7f77635e29d0>\n",
            "INFO:gmxapi.simulation.context:Building <gmxapi.simulation.context._md.<locals>.Builder object at 0x7f77635ec9d0>\n",
            "INFO:gmxapi.simulation.context:Launching work on context rank 0, subcommunicator rank 0.\n",
            "INFO:gmxapi.simulation.context:rank 0 changed directory to /content/mdrun_19_1669926122_0\n",
            "INFO:gmxapi.simulation.context:Loading TPR file: /content/mdrun_19_1669926122_0/topol.tpr\n",
            "INFO:gmxapi.simulation.context:Exiting session on context rank 0.\n",
            "INFO:gmxapi.simulation.context:Calling session.close().\n",
            "INFO:gmxapi.simulation.context:Freeing sub-communicator _DummyCommunicator on rank 0\n",
            "INFO:gmxapi.simulation.context:Session closed on context rank 0.\n",
            " 50%|█████     | 4/8 [01:05<01:05, 16.37s/it]INFO:gmxapi.modify_input:Building mdrun operation from source <gmxapi.simulation.read_tpr.StandardOperationHandle object at 0x7f77635f4190>\n",
            "INFO:gmxapi.modify_input:modify_input receiving input _simulation_input: ResultDescription(dtype=<class 'str'>, width=1)\n",
            "INFO:gmxapi.modify_input:modify_input input bound as source collection DataSourceCollection([('_simulation_input', <Future: name='_simulation_input', description=ResultDescription(dtype=<class 'str'>, width=1)>), ('parameters', {'nsteps': 25000})])\n",
            "INFO:gmxapi.mdrun:Building mdrun operation from source <gmxapi.simulation.modify_input.StandardOperationHandle object at 0x7f77635f27d0>\n",
            "INFO:gmxapi.mdrun:mdrun receiving input _simulation_input: ResultDescription(dtype=<class 'str'>, width=1)\n",
            "INFO:gmxapi.mdrun:mdrun input bound as source collection DataSourceCollection([('_simulation_input', <Future: name='_simulation_input', description=ResultDescription(dtype=<class 'str'>, width=1)>), ('parameters', <Future: name='parameters', description=ResultDescription(dtype=<class 'dict'>, width=1)>), ('runtime_args', {'-nb': 'gpu', '-pme': 'gpu', '-pmefft': 'gpu', '-bonded': 'gpu', '-x': '/content/pmxrun_1669926122/lysopath/lysozyme_benzene/protein/stateA/run1/eq/traj.xtc', '-o': '/content/pmxrun_1669926122/lysopath/lysozyme_benzene/protein/stateA/run1/eq/traj.trr', '-c': '/content/pmxrun_1669926122/lysopath/lysozyme_benzene/protein/stateA/run1/eq/confout.gro', '-e': '/content/pmxrun_1669926122/lysopath/lysozyme_benzene/protein/stateA/run1/eq/ener.edr', '-g': '/content/pmxrun_1669926122/lysopath/lysozyme_benzene/protein/stateA/run1/eq/md.log', '-cpo': '/content/pmxrun_1669926122/lysopath/lysozyme_benzene/protein/stateA/run1/eq/state.cpt'})])\n",
            "INFO:gmxapi.simulation.context:mpi4py is not available for default session communication.\n",
            "INFO:gmxapi.mdrun:Created /content/mdrun_20_1669926122_0/topol.tpr on rank 0\n",
            "INFO:gmxapi.simulation.workflow:Added element md_sim to workspec.\n"
          ]
        },
        {
          "output_type": "stream",
          "name": "stdout",
          "text": [
            "\n",
            "Running /content/pmxrun_1669926122/lysopath/lysozyme_benzene/protein/stateA/run1/eq/tpr.tpr\n"
          ]
        },
        {
          "output_type": "stream",
          "name": "stderr",
          "text": [
            "INFO:gmxapi.simulation.context:Collected builder for tpr_input\n",
            "INFO:gmxapi.simulation.context:Collected builder for md_sim\n",
            "INFO:gmxapi.simulation.context:Subscribing md_sim to tpr_input.\n",
            "INFO:gmxapi.simulation.context:Building sequence ['tpr_input', 'md_sim']\n",
            "INFO:gmxapi.simulation.context:Building <gmxapi.simulation.context._load_tpr.<locals>.Builder object at 0x7f77635f2d90>\n",
            "INFO:gmxapi.simulation.context:Building <gmxapi.simulation.context._md.<locals>.Builder object at 0x7f77635f4810>\n",
            "INFO:gmxapi.simulation.context:Launching work on context rank 0, subcommunicator rank 0.\n",
            "INFO:gmxapi.simulation.context:rank 0 changed directory to /content/mdrun_20_1669926122_0\n",
            "INFO:gmxapi.simulation.context:Loading TPR file: /content/mdrun_20_1669926122_0/topol.tpr\n",
            "INFO:gmxapi.simulation.context:Exiting session on context rank 0.\n",
            "INFO:gmxapi.simulation.context:Calling session.close().\n",
            "INFO:gmxapi.simulation.context:Freeing sub-communicator _DummyCommunicator on rank 0\n",
            "INFO:gmxapi.simulation.context:Session closed on context rank 0.\n",
            " 62%|██████▎   | 5/8 [02:12<01:43, 34.34s/it]INFO:gmxapi.modify_input:Building mdrun operation from source <gmxapi.simulation.read_tpr.StandardOperationHandle object at 0x7f7763602350>\n",
            "INFO:gmxapi.modify_input:modify_input receiving input _simulation_input: ResultDescription(dtype=<class 'str'>, width=1)\n",
            "INFO:gmxapi.modify_input:modify_input input bound as source collection DataSourceCollection([('_simulation_input', <Future: name='_simulation_input', description=ResultDescription(dtype=<class 'str'>, width=1)>), ('parameters', {'nsteps': 25000})])\n",
            "INFO:gmxapi.mdrun:Building mdrun operation from source <gmxapi.simulation.modify_input.StandardOperationHandle object at 0x7f7763602910>\n",
            "INFO:gmxapi.mdrun:mdrun receiving input _simulation_input: ResultDescription(dtype=<class 'str'>, width=1)\n",
            "INFO:gmxapi.mdrun:mdrun input bound as source collection DataSourceCollection([('_simulation_input', <Future: name='_simulation_input', description=ResultDescription(dtype=<class 'str'>, width=1)>), ('parameters', <Future: name='parameters', description=ResultDescription(dtype=<class 'dict'>, width=1)>), ('runtime_args', {'-nb': 'gpu', '-pme': 'gpu', '-pmefft': 'gpu', '-bonded': 'gpu', '-x': '/content/pmxrun_1669926122/lysopath/lysozyme_benzene/protein/stateA/run2/eq/traj.xtc', '-o': '/content/pmxrun_1669926122/lysopath/lysozyme_benzene/protein/stateA/run2/eq/traj.trr', '-c': '/content/pmxrun_1669926122/lysopath/lysozyme_benzene/protein/stateA/run2/eq/confout.gro', '-e': '/content/pmxrun_1669926122/lysopath/lysozyme_benzene/protein/stateA/run2/eq/ener.edr', '-g': '/content/pmxrun_1669926122/lysopath/lysozyme_benzene/protein/stateA/run2/eq/md.log', '-cpo': '/content/pmxrun_1669926122/lysopath/lysozyme_benzene/protein/stateA/run2/eq/state.cpt'})])\n",
            "INFO:gmxapi.simulation.context:mpi4py is not available for default session communication.\n",
            "INFO:gmxapi.mdrun:Created /content/mdrun_21_1669926122_0/topol.tpr on rank 0\n",
            "INFO:gmxapi.simulation.workflow:Added element md_sim to workspec.\n",
            "INFO:gmxapi.simulation.context:Collected builder for tpr_input\n"
          ]
        },
        {
          "output_type": "stream",
          "name": "stdout",
          "text": [
            "\n",
            "Running /content/pmxrun_1669926122/lysopath/lysozyme_benzene/protein/stateA/run2/eq/tpr.tpr\n"
          ]
        },
        {
          "output_type": "stream",
          "name": "stderr",
          "text": [
            "INFO:gmxapi.simulation.context:Collected builder for md_sim\n",
            "INFO:gmxapi.simulation.context:Subscribing md_sim to tpr_input.\n",
            "INFO:gmxapi.simulation.context:Building sequence ['tpr_input', 'md_sim']\n",
            "INFO:gmxapi.simulation.context:Building <gmxapi.simulation.context._load_tpr.<locals>.Builder object at 0x7f77636071d0>\n",
            "INFO:gmxapi.simulation.context:Building <gmxapi.simulation.context._md.<locals>.Builder object at 0x7f77635ecb50>\n",
            "INFO:gmxapi.simulation.context:Launching work on context rank 0, subcommunicator rank 0.\n",
            "INFO:gmxapi.simulation.context:rank 0 changed directory to /content/mdrun_21_1669926122_0\n",
            "INFO:gmxapi.simulation.context:Loading TPR file: /content/mdrun_21_1669926122_0/topol.tpr\n",
            "INFO:gmxapi.simulation.context:Exiting session on context rank 0.\n",
            "INFO:gmxapi.simulation.context:Calling session.close().\n",
            "INFO:gmxapi.simulation.context:Freeing sub-communicator _DummyCommunicator on rank 0\n",
            "INFO:gmxapi.simulation.context:Session closed on context rank 0.\n",
            " 75%|███████▌  | 6/8 [03:17<01:29, 44.75s/it]INFO:gmxapi.modify_input:Building mdrun operation from source <gmxapi.simulation.read_tpr.StandardOperationHandle object at 0x7f776360b4d0>\n",
            "INFO:gmxapi.modify_input:modify_input receiving input _simulation_input: ResultDescription(dtype=<class 'str'>, width=1)\n",
            "INFO:gmxapi.modify_input:modify_input input bound as source collection DataSourceCollection([('_simulation_input', <Future: name='_simulation_input', description=ResultDescription(dtype=<class 'str'>, width=1)>), ('parameters', {'nsteps': 25000})])\n",
            "INFO:gmxapi.mdrun:Building mdrun operation from source <gmxapi.simulation.modify_input.StandardOperationHandle object at 0x7f776360d290>\n",
            "INFO:gmxapi.mdrun:mdrun receiving input _simulation_input: ResultDescription(dtype=<class 'str'>, width=1)\n",
            "INFO:gmxapi.mdrun:mdrun input bound as source collection DataSourceCollection([('_simulation_input', <Future: name='_simulation_input', description=ResultDescription(dtype=<class 'str'>, width=1)>), ('parameters', <Future: name='parameters', description=ResultDescription(dtype=<class 'dict'>, width=1)>), ('runtime_args', {'-nb': 'gpu', '-pme': 'gpu', '-pmefft': 'gpu', '-bonded': 'gpu', '-x': '/content/pmxrun_1669926122/lysopath/lysozyme_benzene/protein/stateB/run1/eq/traj.xtc', '-o': '/content/pmxrun_1669926122/lysopath/lysozyme_benzene/protein/stateB/run1/eq/traj.trr', '-c': '/content/pmxrun_1669926122/lysopath/lysozyme_benzene/protein/stateB/run1/eq/confout.gro', '-e': '/content/pmxrun_1669926122/lysopath/lysozyme_benzene/protein/stateB/run1/eq/ener.edr', '-g': '/content/pmxrun_1669926122/lysopath/lysozyme_benzene/protein/stateB/run1/eq/md.log', '-cpo': '/content/pmxrun_1669926122/lysopath/lysozyme_benzene/protein/stateB/run1/eq/state.cpt'})])\n",
            "INFO:gmxapi.simulation.context:mpi4py is not available for default session communication.\n",
            "INFO:gmxapi.mdrun:Created /content/mdrun_22_1669926122_0/topol.tpr on rank 0\n",
            "INFO:gmxapi.simulation.workflow:Added element md_sim to workspec.\n",
            "INFO:gmxapi.simulation.context:Collected builder for tpr_input\n"
          ]
        },
        {
          "output_type": "stream",
          "name": "stdout",
          "text": [
            "\n",
            "Running /content/pmxrun_1669926122/lysopath/lysozyme_benzene/protein/stateB/run1/eq/tpr.tpr\n"
          ]
        },
        {
          "output_type": "stream",
          "name": "stderr",
          "text": [
            "INFO:gmxapi.simulation.context:Collected builder for md_sim\n",
            "INFO:gmxapi.simulation.context:Subscribing md_sim to tpr_input.\n",
            "INFO:gmxapi.simulation.context:Building sequence ['tpr_input', 'md_sim']\n",
            "INFO:gmxapi.simulation.context:Building <gmxapi.simulation.context._load_tpr.<locals>.Builder object at 0x7f77635f8890>\n",
            "INFO:gmxapi.simulation.context:Building <gmxapi.simulation.context._md.<locals>.Builder object at 0x7f7763607a50>\n",
            "INFO:gmxapi.simulation.context:Launching work on context rank 0, subcommunicator rank 0.\n",
            "INFO:gmxapi.simulation.context:rank 0 changed directory to /content/mdrun_22_1669926122_0\n",
            "INFO:gmxapi.simulation.context:Loading TPR file: /content/mdrun_22_1669926122_0/topol.tpr\n",
            "INFO:gmxapi.simulation.context:Exiting session on context rank 0.\n",
            "INFO:gmxapi.simulation.context:Calling session.close().\n",
            "INFO:gmxapi.simulation.context:Freeing sub-communicator _DummyCommunicator on rank 0\n",
            "INFO:gmxapi.simulation.context:Session closed on context rank 0.\n",
            " 88%|████████▊ | 7/8 [04:23<00:51, 51.84s/it]INFO:gmxapi.modify_input:Building mdrun operation from source <gmxapi.simulation.read_tpr.StandardOperationHandle object at 0x7f7763a1c990>\n",
            "INFO:gmxapi.modify_input:modify_input receiving input _simulation_input: ResultDescription(dtype=<class 'str'>, width=1)\n",
            "INFO:gmxapi.modify_input:modify_input input bound as source collection DataSourceCollection([('_simulation_input', <Future: name='_simulation_input', description=ResultDescription(dtype=<class 'str'>, width=1)>), ('parameters', {'nsteps': 25000})])\n",
            "INFO:gmxapi.mdrun:Building mdrun operation from source <gmxapi.simulation.modify_input.StandardOperationHandle object at 0x7f776360dd50>\n",
            "INFO:gmxapi.mdrun:mdrun receiving input _simulation_input: ResultDescription(dtype=<class 'str'>, width=1)\n",
            "INFO:gmxapi.mdrun:mdrun input bound as source collection DataSourceCollection([('_simulation_input', <Future: name='_simulation_input', description=ResultDescription(dtype=<class 'str'>, width=1)>), ('parameters', <Future: name='parameters', description=ResultDescription(dtype=<class 'dict'>, width=1)>), ('runtime_args', {'-nb': 'gpu', '-pme': 'gpu', '-pmefft': 'gpu', '-bonded': 'gpu', '-x': '/content/pmxrun_1669926122/lysopath/lysozyme_benzene/protein/stateB/run2/eq/traj.xtc', '-o': '/content/pmxrun_1669926122/lysopath/lysozyme_benzene/protein/stateB/run2/eq/traj.trr', '-c': '/content/pmxrun_1669926122/lysopath/lysozyme_benzene/protein/stateB/run2/eq/confout.gro', '-e': '/content/pmxrun_1669926122/lysopath/lysozyme_benzene/protein/stateB/run2/eq/ener.edr', '-g': '/content/pmxrun_1669926122/lysopath/lysozyme_benzene/protein/stateB/run2/eq/md.log', '-cpo': '/content/pmxrun_1669926122/lysopath/lysozyme_benzene/protein/stateB/run2/eq/state.cpt'})])\n",
            "INFO:gmxapi.simulation.context:mpi4py is not available for default session communication.\n",
            "INFO:gmxapi.mdrun:Created /content/mdrun_23_1669926122_0/topol.tpr on rank 0\n",
            "INFO:gmxapi.simulation.workflow:Added element md_sim to workspec.\n",
            "INFO:gmxapi.simulation.context:Collected builder for tpr_input\n"
          ]
        },
        {
          "output_type": "stream",
          "name": "stdout",
          "text": [
            "\n",
            "Running /content/pmxrun_1669926122/lysopath/lysozyme_benzene/protein/stateB/run2/eq/tpr.tpr\n"
          ]
        },
        {
          "output_type": "stream",
          "name": "stderr",
          "text": [
            "INFO:gmxapi.simulation.context:Collected builder for md_sim\n",
            "INFO:gmxapi.simulation.context:Subscribing md_sim to tpr_input.\n",
            "INFO:gmxapi.simulation.context:Building sequence ['tpr_input', 'md_sim']\n",
            "INFO:gmxapi.simulation.context:Building <gmxapi.simulation.context._load_tpr.<locals>.Builder object at 0x7f7763613ad0>\n",
            "INFO:gmxapi.simulation.context:Building <gmxapi.simulation.context._md.<locals>.Builder object at 0x7f77635e2ed0>\n",
            "INFO:gmxapi.simulation.context:Launching work on context rank 0, subcommunicator rank 0.\n",
            "INFO:gmxapi.simulation.context:rank 0 changed directory to /content/mdrun_23_1669926122_0\n",
            "INFO:gmxapi.simulation.context:Loading TPR file: /content/mdrun_23_1669926122_0/topol.tpr\n",
            "INFO:gmxapi.simulation.context:Exiting session on context rank 0.\n",
            "INFO:gmxapi.simulation.context:Calling session.close().\n",
            "INFO:gmxapi.simulation.context:Freeing sub-communicator _DummyCommunicator on rank 0\n",
            "INFO:gmxapi.simulation.context:Session closed on context rank 0.\n",
            "100%|██████████| 8/8 [05:30<00:00, 41.27s/it]\n"
          ]
        }
      ]
    },
    {
      "cell_type": "code",
      "source": [
        "i = 0\n",
        "\n",
        "# Show output files for one run.\n",
        "print(\"Path to mdrun output files:\", os.path.dirname(tpr_files[i]))\n",
        "print(\"Output files:\", os.listdir(\"/\".join(tpr_files[i].split(\"/\")[:-1])))\n",
        "print()\n",
        "\n",
        "# Tail log file to see performance.\n",
        "tail(tpr_files[i].replace('tpr.tpr', 'md.log'), n=5)"
      ],
      "metadata": {
        "id": "A65hr9eJy3rA",
        "outputId": "900721dd-1466-4644-84f3-e6f80c7bd002",
        "colab": {
          "base_uri": "https://localhost:8080/"
        }
      },
      "execution_count": 18,
      "outputs": [
        {
          "output_type": "stream",
          "name": "stdout",
          "text": [
            "Path to mdrun output files: /content/pmxrun_1669926122/lysopath/lysozyme_benzene/water/stateA/run1/eq\n",
            "Output files: ['ener.edr', 'md.log', 'state.cpt', 'traj.trr', 'confout.gro', 'mdout.mdp', 'tpr.tpr']\n",
            "\n",
            "       Time:       31.434       15.717      200.0\n",
            "                 (ns/day)    (hour/ns)\n",
            "Performance:      274.873        0.087\n",
            "Finished mdrun on rank 0 Thu Dec  1 20:26:03 2022\n",
            "\n"
          ]
        }
      ]
    },
    {
      "cell_type": "markdown",
      "source": [
        "## 4.&nbsp; Non-Equilibrium Simulations"
      ],
      "metadata": {
        "id": "39TLpxzEYlEH"
      }
    },
    {
      "cell_type": "code",
      "source": [
        "#@title 4.1&nbsp; Extract frames from equilibrium runs, and prepare TPRs\n",
        "\n",
        "fe.equilTime = 0.  # ps to discard as equilibration\n",
        "fe.bGenTiTpr = True  # Generates TPRs from extracted frames and rm GRO file.\n",
        "tpr_files = fe.prepare_simulation(simType='transitions')\n",
        "\n",
        "print(\"List of TPR files that we'll run:\")\n",
        "for f in tpr_files:\n",
        "  print(f\"  {f}\")"
      ],
      "metadata": {
        "colab": {
          "base_uri": "https://localhost:8080/"
        },
        "id": "86UiwjoqYYQV",
        "outputId": "e79ef9ad-9d7e-49d7-e037-62c7d772e486"
      },
      "execution_count": 19,
      "outputs": [
        {
          "output_type": "stream",
          "name": "stdout",
          "text": [
            "-----------------------------------------\n",
            "Preparing simulation: transitions\n",
            "-----------------------------------------\n",
            "List of TPR files that we'll run:\n",
            "  /content/pmxrun_1669926122/lysopath/lysozyme_benzene/water/stateA/run1/transitions/ti1.tpr\n",
            "  /content/pmxrun_1669926122/lysopath/lysozyme_benzene/water/stateA/run2/transitions/ti1.tpr\n",
            "  /content/pmxrun_1669926122/lysopath/lysozyme_benzene/water/stateB/run1/transitions/ti1.tpr\n",
            "  /content/pmxrun_1669926122/lysopath/lysozyme_benzene/water/stateB/run2/transitions/ti1.tpr\n",
            "  /content/pmxrun_1669926122/lysopath/lysozyme_benzene/protein/stateA/run1/transitions/ti1.tpr\n",
            "  /content/pmxrun_1669926122/lysopath/lysozyme_benzene/protein/stateA/run2/transitions/ti1.tpr\n",
            "  /content/pmxrun_1669926122/lysopath/lysozyme_benzene/protein/stateB/run1/transitions/ti1.tpr\n",
            "  /content/pmxrun_1669926122/lysopath/lysozyme_benzene/protein/stateB/run2/transitions/ti1.tpr\n"
          ]
        }
      ]
    },
    {
      "cell_type": "code",
      "source": [
        "#@title 4.2&nbsp; Run non-equilibrium simulations\n",
        "\n",
        "# Read the TPR files and run all simulations.\n",
        "for tpr_file in tqdm(tpr_files):\n",
        "  print(f\"\\nRunning {tpr_file}\")\n",
        "\n",
        "  # If simulation has been run already, skip.\n",
        "  if mdrun_completed(tpr_file, transition=True):\n",
        "    print(f\"`{tpr_file}` already ran successfully\")\n",
        "    continue\n",
        "\n",
        "  # Run the simulation (with reduced number of steps to speed things up)\n",
        "  md = mdrun(tpr_file, pmegpu=True, transition=True)"
      ],
      "metadata": {
        "id": "eXYNsz6qYYSd",
        "outputId": "96a0a52b-25cf-4346-ef17-fef6d0a968b3",
        "colab": {
          "base_uri": "https://localhost:8080/"
        }
      },
      "execution_count": 20,
      "outputs": [
        {
          "output_type": "stream",
          "name": "stderr",
          "text": [
            "\r  0%|          | 0/8 [00:00<?, ?it/s]INFO:gmxapi.mdrun:Building mdrun operation from source <gmxapi.simulation.read_tpr.StandardOperationHandle object at 0x7f77636723d0>\n",
            "INFO:gmxapi.mdrun:mdrun receiving input _simulation_input: ResultDescription(dtype=<class 'str'>, width=1)\n",
            "INFO:gmxapi.mdrun:mdrun input bound as source collection DataSourceCollection([('_simulation_input', <Future: name='_simulation_input', description=ResultDescription(dtype=<class 'str'>, width=1)>), ('parameters', <Future: name='parameters', description=ResultDescription(dtype=<class 'dict'>, width=1)>), ('runtime_args', {'-nb': 'gpu', '-pme': 'gpu', '-pmefft': 'gpu', '-bonded': 'gpu', '-x': '/content/pmxrun_1669926122/lysopath/lysozyme_benzene/water/stateA/run1/transitions/traj_1.xtc', '-o': '/content/pmxrun_1669926122/lysopath/lysozyme_benzene/water/stateA/run1/transitions/traj_1.trr', '-c': '/content/pmxrun_1669926122/lysopath/lysozyme_benzene/water/stateA/run1/transitions/confout_1.gro', '-e': '/content/pmxrun_1669926122/lysopath/lysozyme_benzene/water/stateA/run1/transitions/ener_1.edr', '-g': '/content/pmxrun_1669926122/lysopath/lysozyme_benzene/water/stateA/run1/transitions/md_1.log', '-cpo': '/content/pmxrun_1669926122/lysopath/lysozyme_benzene/water/stateA/run1/transitions/state_1.cpt', '-dhdl': '/content/pmxrun_1669926122/lysopath/lysozyme_benzene/water/stateA/run1/transitions/dhdl_1.xvg'})])\n",
            "INFO:gmxapi.simulation.context:mpi4py is not available for default session communication.\n",
            "INFO:gmxapi.mdrun:Created /content/mdrun_24_1669926122_0/topol.tpr on rank 0\n",
            "INFO:gmxapi.simulation.workflow:Added element md_sim to workspec.\n"
          ]
        },
        {
          "output_type": "stream",
          "name": "stdout",
          "text": [
            "\n",
            "Running /content/pmxrun_1669926122/lysopath/lysozyme_benzene/water/stateA/run1/transitions/ti1.tpr\n"
          ]
        },
        {
          "output_type": "stream",
          "name": "stderr",
          "text": [
            "INFO:gmxapi.simulation.context:Collected builder for tpr_input\n",
            "INFO:gmxapi.simulation.context:Collected builder for md_sim\n",
            "INFO:gmxapi.simulation.context:Subscribing md_sim to tpr_input.\n",
            "INFO:gmxapi.simulation.context:Building sequence ['tpr_input', 'md_sim']\n",
            "INFO:gmxapi.simulation.context:Building <gmxapi.simulation.context._load_tpr.<locals>.Builder object at 0x7f7763613810>\n",
            "INFO:gmxapi.simulation.context:Building <gmxapi.simulation.context._md.<locals>.Builder object at 0x7f7763613390>\n",
            "INFO:gmxapi.simulation.context:Launching work on context rank 0, subcommunicator rank 0.\n",
            "INFO:gmxapi.simulation.context:rank 0 changed directory to /content/mdrun_24_1669926122_0\n",
            "INFO:gmxapi.simulation.context:Loading TPR file: /content/mdrun_24_1669926122_0/topol.tpr\n",
            "INFO:gmxapi.simulation.context:Exiting session on context rank 0.\n",
            "INFO:gmxapi.simulation.context:Calling session.close().\n",
            "INFO:gmxapi.simulation.context:Freeing sub-communicator _DummyCommunicator on rank 0\n",
            "INFO:gmxapi.simulation.context:Session closed on context rank 0.\n",
            "INFO:gmxapi.mdrun:Missing output. *trajectory* is \"None\"\n",
            " 12%|█▎        | 1/8 [00:18<02:11, 18.84s/it]INFO:gmxapi.mdrun:Building mdrun operation from source <gmxapi.simulation.read_tpr.StandardOperationHandle object at 0x7f7763743a90>\n",
            "INFO:gmxapi.mdrun:mdrun receiving input _simulation_input: ResultDescription(dtype=<class 'str'>, width=1)\n",
            "INFO:gmxapi.mdrun:mdrun input bound as source collection DataSourceCollection([('_simulation_input', <Future: name='_simulation_input', description=ResultDescription(dtype=<class 'str'>, width=1)>), ('parameters', <Future: name='parameters', description=ResultDescription(dtype=<class 'dict'>, width=1)>), ('runtime_args', {'-nb': 'gpu', '-pme': 'gpu', '-pmefft': 'gpu', '-bonded': 'gpu', '-x': '/content/pmxrun_1669926122/lysopath/lysozyme_benzene/water/stateA/run2/transitions/traj_1.xtc', '-o': '/content/pmxrun_1669926122/lysopath/lysozyme_benzene/water/stateA/run2/transitions/traj_1.trr', '-c': '/content/pmxrun_1669926122/lysopath/lysozyme_benzene/water/stateA/run2/transitions/confout_1.gro', '-e': '/content/pmxrun_1669926122/lysopath/lysozyme_benzene/water/stateA/run2/transitions/ener_1.edr', '-g': '/content/pmxrun_1669926122/lysopath/lysozyme_benzene/water/stateA/run2/transitions/md_1.log', '-cpo': '/content/pmxrun_1669926122/lysopath/lysozyme_benzene/water/stateA/run2/transitions/state_1.cpt', '-dhdl': '/content/pmxrun_1669926122/lysopath/lysozyme_benzene/water/stateA/run2/transitions/dhdl_1.xvg'})])\n",
            "INFO:gmxapi.simulation.context:mpi4py is not available for default session communication.\n",
            "INFO:gmxapi.mdrun:Created /content/mdrun_25_1669926122_0/topol.tpr on rank 0\n",
            "INFO:gmxapi.simulation.workflow:Added element md_sim to workspec.\n"
          ]
        },
        {
          "output_type": "stream",
          "name": "stdout",
          "text": [
            "\n",
            "Running /content/pmxrun_1669926122/lysopath/lysozyme_benzene/water/stateA/run2/transitions/ti1.tpr\n"
          ]
        },
        {
          "output_type": "stream",
          "name": "stderr",
          "text": [
            "INFO:gmxapi.simulation.context:Collected builder for tpr_input\n",
            "INFO:gmxapi.simulation.context:Collected builder for md_sim\n",
            "INFO:gmxapi.simulation.context:Subscribing md_sim to tpr_input.\n",
            "INFO:gmxapi.simulation.context:Building sequence ['tpr_input', 'md_sim']\n",
            "INFO:gmxapi.simulation.context:Building <gmxapi.simulation.context._load_tpr.<locals>.Builder object at 0x7f7763607490>\n",
            "INFO:gmxapi.simulation.context:Building <gmxapi.simulation.context._md.<locals>.Builder object at 0x7f77635e2ed0>\n",
            "INFO:gmxapi.simulation.context:Launching work on context rank 0, subcommunicator rank 0.\n",
            "INFO:gmxapi.simulation.context:rank 0 changed directory to /content/mdrun_25_1669926122_0\n",
            "INFO:gmxapi.simulation.context:Loading TPR file: /content/mdrun_25_1669926122_0/topol.tpr\n",
            "INFO:gmxapi.simulation.context:Exiting session on context rank 0.\n",
            "INFO:gmxapi.simulation.context:Calling session.close().\n",
            "INFO:gmxapi.simulation.context:Freeing sub-communicator _DummyCommunicator on rank 0\n",
            "INFO:gmxapi.simulation.context:Session closed on context rank 0.\n",
            "INFO:gmxapi.mdrun:Missing output. *trajectory* is \"None\"\n",
            " 25%|██▌       | 2/8 [00:36<01:49, 18.32s/it]INFO:gmxapi.mdrun:Building mdrun operation from source <gmxapi.simulation.read_tpr.StandardOperationHandle object at 0x7f776367d090>\n",
            "INFO:gmxapi.mdrun:mdrun receiving input _simulation_input: ResultDescription(dtype=<class 'str'>, width=1)\n",
            "INFO:gmxapi.mdrun:mdrun input bound as source collection DataSourceCollection([('_simulation_input', <Future: name='_simulation_input', description=ResultDescription(dtype=<class 'str'>, width=1)>), ('parameters', <Future: name='parameters', description=ResultDescription(dtype=<class 'dict'>, width=1)>), ('runtime_args', {'-nb': 'gpu', '-pme': 'gpu', '-pmefft': 'gpu', '-bonded': 'gpu', '-x': '/content/pmxrun_1669926122/lysopath/lysozyme_benzene/water/stateB/run1/transitions/traj_1.xtc', '-o': '/content/pmxrun_1669926122/lysopath/lysozyme_benzene/water/stateB/run1/transitions/traj_1.trr', '-c': '/content/pmxrun_1669926122/lysopath/lysozyme_benzene/water/stateB/run1/transitions/confout_1.gro', '-e': '/content/pmxrun_1669926122/lysopath/lysozyme_benzene/water/stateB/run1/transitions/ener_1.edr', '-g': '/content/pmxrun_1669926122/lysopath/lysozyme_benzene/water/stateB/run1/transitions/md_1.log', '-cpo': '/content/pmxrun_1669926122/lysopath/lysozyme_benzene/water/stateB/run1/transitions/state_1.cpt', '-dhdl': '/content/pmxrun_1669926122/lysopath/lysozyme_benzene/water/stateB/run1/transitions/dhdl_1.xvg'})])\n",
            "INFO:gmxapi.simulation.context:mpi4py is not available for default session communication.\n",
            "INFO:gmxapi.mdrun:Created /content/mdrun_26_1669926122_0/topol.tpr on rank 0\n",
            "INFO:gmxapi.simulation.workflow:Added element md_sim to workspec.\n",
            "INFO:gmxapi.simulation.context:Collected builder for tpr_input\n"
          ]
        },
        {
          "output_type": "stream",
          "name": "stdout",
          "text": [
            "\n",
            "Running /content/pmxrun_1669926122/lysopath/lysozyme_benzene/water/stateB/run1/transitions/ti1.tpr\n"
          ]
        },
        {
          "output_type": "stream",
          "name": "stderr",
          "text": [
            "INFO:gmxapi.simulation.context:Collected builder for md_sim\n",
            "INFO:gmxapi.simulation.context:Subscribing md_sim to tpr_input.\n",
            "INFO:gmxapi.simulation.context:Building sequence ['tpr_input', 'md_sim']\n",
            "INFO:gmxapi.simulation.context:Building <gmxapi.simulation.context._load_tpr.<locals>.Builder object at 0x7f7763682dd0>\n",
            "INFO:gmxapi.simulation.context:Building <gmxapi.simulation.context._md.<locals>.Builder object at 0x7f776c3fbe10>\n",
            "INFO:gmxapi.simulation.context:Launching work on context rank 0, subcommunicator rank 0.\n",
            "INFO:gmxapi.simulation.context:rank 0 changed directory to /content/mdrun_26_1669926122_0\n",
            "INFO:gmxapi.simulation.context:Loading TPR file: /content/mdrun_26_1669926122_0/topol.tpr\n",
            "INFO:gmxapi.simulation.context:Exiting session on context rank 0.\n",
            "INFO:gmxapi.simulation.context:Calling session.close().\n",
            "INFO:gmxapi.simulation.context:Freeing sub-communicator _DummyCommunicator on rank 0\n",
            "INFO:gmxapi.simulation.context:Session closed on context rank 0.\n",
            "INFO:gmxapi.mdrun:Missing output. *trajectory* is \"None\"\n",
            " 38%|███▊      | 3/8 [00:55<01:32, 18.45s/it]INFO:gmxapi.mdrun:Building mdrun operation from source <gmxapi.simulation.read_tpr.StandardOperationHandle object at 0x7f7763685990>\n",
            "INFO:gmxapi.mdrun:mdrun receiving input _simulation_input: ResultDescription(dtype=<class 'str'>, width=1)\n",
            "INFO:gmxapi.mdrun:mdrun input bound as source collection DataSourceCollection([('_simulation_input', <Future: name='_simulation_input', description=ResultDescription(dtype=<class 'str'>, width=1)>), ('parameters', <Future: name='parameters', description=ResultDescription(dtype=<class 'dict'>, width=1)>), ('runtime_args', {'-nb': 'gpu', '-pme': 'gpu', '-pmefft': 'gpu', '-bonded': 'gpu', '-x': '/content/pmxrun_1669926122/lysopath/lysozyme_benzene/water/stateB/run2/transitions/traj_1.xtc', '-o': '/content/pmxrun_1669926122/lysopath/lysozyme_benzene/water/stateB/run2/transitions/traj_1.trr', '-c': '/content/pmxrun_1669926122/lysopath/lysozyme_benzene/water/stateB/run2/transitions/confout_1.gro', '-e': '/content/pmxrun_1669926122/lysopath/lysozyme_benzene/water/stateB/run2/transitions/ener_1.edr', '-g': '/content/pmxrun_1669926122/lysopath/lysozyme_benzene/water/stateB/run2/transitions/md_1.log', '-cpo': '/content/pmxrun_1669926122/lysopath/lysozyme_benzene/water/stateB/run2/transitions/state_1.cpt', '-dhdl': '/content/pmxrun_1669926122/lysopath/lysozyme_benzene/water/stateB/run2/transitions/dhdl_1.xvg'})])\n",
            "INFO:gmxapi.simulation.context:mpi4py is not available for default session communication.\n",
            "INFO:gmxapi.mdrun:Created /content/mdrun_27_1669926122_0/topol.tpr on rank 0\n",
            "INFO:gmxapi.simulation.workflow:Added element md_sim to workspec.\n"
          ]
        },
        {
          "output_type": "stream",
          "name": "stdout",
          "text": [
            "\n",
            "Running /content/pmxrun_1669926122/lysopath/lysozyme_benzene/water/stateB/run2/transitions/ti1.tpr\n"
          ]
        },
        {
          "output_type": "stream",
          "name": "stderr",
          "text": [
            "INFO:gmxapi.simulation.context:Collected builder for tpr_input\n",
            "INFO:gmxapi.simulation.context:Collected builder for md_sim\n",
            "INFO:gmxapi.simulation.context:Subscribing md_sim to tpr_input.\n",
            "INFO:gmxapi.simulation.context:Building sequence ['tpr_input', 'md_sim']\n",
            "INFO:gmxapi.simulation.context:Building <gmxapi.simulation.context._load_tpr.<locals>.Builder object at 0x7f77635e83d0>\n",
            "INFO:gmxapi.simulation.context:Building <gmxapi.simulation.context._md.<locals>.Builder object at 0x7f7763685150>\n",
            "INFO:gmxapi.simulation.context:Launching work on context rank 0, subcommunicator rank 0.\n",
            "INFO:gmxapi.simulation.context:rank 0 changed directory to /content/mdrun_27_1669926122_0\n",
            "INFO:gmxapi.simulation.context:Loading TPR file: /content/mdrun_27_1669926122_0/topol.tpr\n",
            "INFO:gmxapi.simulation.context:Exiting session on context rank 0.\n",
            "INFO:gmxapi.simulation.context:Calling session.close().\n",
            "INFO:gmxapi.simulation.context:Freeing sub-communicator _DummyCommunicator on rank 0\n",
            "INFO:gmxapi.simulation.context:Session closed on context rank 0.\n",
            "INFO:gmxapi.mdrun:Missing output. *trajectory* is \"None\"\n",
            " 50%|█████     | 4/8 [01:13<01:13, 18.42s/it]INFO:gmxapi.mdrun:Building mdrun operation from source <gmxapi.simulation.read_tpr.StandardOperationHandle object at 0x7f7763673150>\n",
            "INFO:gmxapi.mdrun:mdrun receiving input _simulation_input: ResultDescription(dtype=<class 'str'>, width=1)\n",
            "INFO:gmxapi.mdrun:mdrun input bound as source collection DataSourceCollection([('_simulation_input', <Future: name='_simulation_input', description=ResultDescription(dtype=<class 'str'>, width=1)>), ('parameters', <Future: name='parameters', description=ResultDescription(dtype=<class 'dict'>, width=1)>), ('runtime_args', {'-nb': 'gpu', '-pme': 'gpu', '-pmefft': 'gpu', '-bonded': 'gpu', '-x': '/content/pmxrun_1669926122/lysopath/lysozyme_benzene/protein/stateA/run1/transitions/traj_1.xtc', '-o': '/content/pmxrun_1669926122/lysopath/lysozyme_benzene/protein/stateA/run1/transitions/traj_1.trr', '-c': '/content/pmxrun_1669926122/lysopath/lysozyme_benzene/protein/stateA/run1/transitions/confout_1.gro', '-e': '/content/pmxrun_1669926122/lysopath/lysozyme_benzene/protein/stateA/run1/transitions/ener_1.edr', '-g': '/content/pmxrun_1669926122/lysopath/lysozyme_benzene/protein/stateA/run1/transitions/md_1.log', '-cpo': '/content/pmxrun_1669926122/lysopath/lysozyme_benzene/protein/stateA/run1/transitions/state_1.cpt', '-dhdl': '/content/pmxrun_1669926122/lysopath/lysozyme_benzene/protein/stateA/run1/transitions/dhdl_1.xvg'})])\n",
            "INFO:gmxapi.simulation.context:mpi4py is not available for default session communication.\n",
            "INFO:gmxapi.mdrun:Created /content/mdrun_28_1669926122_0/topol.tpr on rank 0\n",
            "INFO:gmxapi.simulation.workflow:Added element md_sim to workspec.\n"
          ]
        },
        {
          "output_type": "stream",
          "name": "stdout",
          "text": [
            "\n",
            "Running /content/pmxrun_1669926122/lysopath/lysozyme_benzene/protein/stateA/run1/transitions/ti1.tpr\n"
          ]
        },
        {
          "output_type": "stream",
          "name": "stderr",
          "text": [
            "INFO:gmxapi.simulation.context:Collected builder for tpr_input\n",
            "INFO:gmxapi.simulation.context:Collected builder for md_sim\n",
            "INFO:gmxapi.simulation.context:Subscribing md_sim to tpr_input.\n",
            "INFO:gmxapi.simulation.context:Building sequence ['tpr_input', 'md_sim']\n",
            "INFO:gmxapi.simulation.context:Building <gmxapi.simulation.context._load_tpr.<locals>.Builder object at 0x7f7763613fd0>\n",
            "INFO:gmxapi.simulation.context:Building <gmxapi.simulation.context._md.<locals>.Builder object at 0x7f7763613290>\n",
            "INFO:gmxapi.simulation.context:Launching work on context rank 0, subcommunicator rank 0.\n",
            "INFO:gmxapi.simulation.context:rank 0 changed directory to /content/mdrun_28_1669926122_0\n",
            "INFO:gmxapi.simulation.context:Loading TPR file: /content/mdrun_28_1669926122_0/topol.tpr\n",
            "INFO:gmxapi.simulation.context:Exiting session on context rank 0.\n",
            "INFO:gmxapi.simulation.context:Calling session.close().\n",
            "INFO:gmxapi.simulation.context:Freeing sub-communicator _DummyCommunicator on rank 0\n",
            "INFO:gmxapi.simulation.context:Session closed on context rank 0.\n",
            "INFO:gmxapi.mdrun:Missing output. *trajectory* is \"None\"\n",
            " 62%|██████▎   | 5/8 [02:28<01:55, 38.61s/it]INFO:gmxapi.mdrun:Building mdrun operation from source <gmxapi.simulation.read_tpr.StandardOperationHandle object at 0x7f776368c2d0>\n",
            "INFO:gmxapi.mdrun:mdrun receiving input _simulation_input: ResultDescription(dtype=<class 'str'>, width=1)\n",
            "INFO:gmxapi.mdrun:mdrun input bound as source collection DataSourceCollection([('_simulation_input', <Future: name='_simulation_input', description=ResultDescription(dtype=<class 'str'>, width=1)>), ('parameters', <Future: name='parameters', description=ResultDescription(dtype=<class 'dict'>, width=1)>), ('runtime_args', {'-nb': 'gpu', '-pme': 'gpu', '-pmefft': 'gpu', '-bonded': 'gpu', '-x': '/content/pmxrun_1669926122/lysopath/lysozyme_benzene/protein/stateA/run2/transitions/traj_1.xtc', '-o': '/content/pmxrun_1669926122/lysopath/lysozyme_benzene/protein/stateA/run2/transitions/traj_1.trr', '-c': '/content/pmxrun_1669926122/lysopath/lysozyme_benzene/protein/stateA/run2/transitions/confout_1.gro', '-e': '/content/pmxrun_1669926122/lysopath/lysozyme_benzene/protein/stateA/run2/transitions/ener_1.edr', '-g': '/content/pmxrun_1669926122/lysopath/lysozyme_benzene/protein/stateA/run2/transitions/md_1.log', '-cpo': '/content/pmxrun_1669926122/lysopath/lysozyme_benzene/protein/stateA/run2/transitions/state_1.cpt', '-dhdl': '/content/pmxrun_1669926122/lysopath/lysozyme_benzene/protein/stateA/run2/transitions/dhdl_1.xvg'})])\n",
            "INFO:gmxapi.simulation.context:mpi4py is not available for default session communication.\n",
            "INFO:gmxapi.mdrun:Created /content/mdrun_29_1669926122_0/topol.tpr on rank 0\n",
            "INFO:gmxapi.simulation.workflow:Added element md_sim to workspec.\n",
            "INFO:gmxapi.simulation.context:Collected builder for tpr_input\n"
          ]
        },
        {
          "output_type": "stream",
          "name": "stdout",
          "text": [
            "\n",
            "Running /content/pmxrun_1669926122/lysopath/lysozyme_benzene/protein/stateA/run2/transitions/ti1.tpr\n"
          ]
        },
        {
          "output_type": "stream",
          "name": "stderr",
          "text": [
            "INFO:gmxapi.simulation.context:Collected builder for md_sim\n",
            "INFO:gmxapi.simulation.context:Subscribing md_sim to tpr_input.\n",
            "INFO:gmxapi.simulation.context:Building sequence ['tpr_input', 'md_sim']\n",
            "INFO:gmxapi.simulation.context:Building <gmxapi.simulation.context._load_tpr.<locals>.Builder object at 0x7f7763692fd0>\n",
            "INFO:gmxapi.simulation.context:Building <gmxapi.simulation.context._md.<locals>.Builder object at 0x7f776360d410>\n",
            "INFO:gmxapi.simulation.context:Launching work on context rank 0, subcommunicator rank 0.\n",
            "INFO:gmxapi.simulation.context:rank 0 changed directory to /content/mdrun_29_1669926122_0\n",
            "INFO:gmxapi.simulation.context:Loading TPR file: /content/mdrun_29_1669926122_0/topol.tpr\n",
            "INFO:gmxapi.simulation.context:Exiting session on context rank 0.\n",
            "INFO:gmxapi.simulation.context:Calling session.close().\n",
            "INFO:gmxapi.simulation.context:Freeing sub-communicator _DummyCommunicator on rank 0\n",
            "INFO:gmxapi.simulation.context:Session closed on context rank 0.\n",
            "INFO:gmxapi.mdrun:Missing output. *trajectory* is \"None\"\n",
            " 75%|███████▌  | 6/8 [03:41<01:41, 50.52s/it]INFO:gmxapi.mdrun:Building mdrun operation from source <gmxapi.simulation.read_tpr.StandardOperationHandle object at 0x7f7763694a10>\n",
            "INFO:gmxapi.mdrun:mdrun receiving input _simulation_input: ResultDescription(dtype=<class 'str'>, width=1)\n",
            "INFO:gmxapi.mdrun:mdrun input bound as source collection DataSourceCollection([('_simulation_input', <Future: name='_simulation_input', description=ResultDescription(dtype=<class 'str'>, width=1)>), ('parameters', <Future: name='parameters', description=ResultDescription(dtype=<class 'dict'>, width=1)>), ('runtime_args', {'-nb': 'gpu', '-pme': 'gpu', '-pmefft': 'gpu', '-bonded': 'gpu', '-x': '/content/pmxrun_1669926122/lysopath/lysozyme_benzene/protein/stateB/run1/transitions/traj_1.xtc', '-o': '/content/pmxrun_1669926122/lysopath/lysozyme_benzene/protein/stateB/run1/transitions/traj_1.trr', '-c': '/content/pmxrun_1669926122/lysopath/lysozyme_benzene/protein/stateB/run1/transitions/confout_1.gro', '-e': '/content/pmxrun_1669926122/lysopath/lysozyme_benzene/protein/stateB/run1/transitions/ener_1.edr', '-g': '/content/pmxrun_1669926122/lysopath/lysozyme_benzene/protein/stateB/run1/transitions/md_1.log', '-cpo': '/content/pmxrun_1669926122/lysopath/lysozyme_benzene/protein/stateB/run1/transitions/state_1.cpt', '-dhdl': '/content/pmxrun_1669926122/lysopath/lysozyme_benzene/protein/stateB/run1/transitions/dhdl_1.xvg'})])\n",
            "INFO:gmxapi.simulation.context:mpi4py is not available for default session communication.\n",
            "INFO:gmxapi.mdrun:Created /content/mdrun_30_1669926122_0/topol.tpr on rank 0\n",
            "INFO:gmxapi.simulation.workflow:Added element md_sim to workspec.\n"
          ]
        },
        {
          "output_type": "stream",
          "name": "stdout",
          "text": [
            "\n",
            "Running /content/pmxrun_1669926122/lysopath/lysozyme_benzene/protein/stateB/run1/transitions/ti1.tpr\n"
          ]
        },
        {
          "output_type": "stream",
          "name": "stderr",
          "text": [
            "INFO:gmxapi.simulation.context:Collected builder for tpr_input\n",
            "INFO:gmxapi.simulation.context:Collected builder for md_sim\n",
            "INFO:gmxapi.simulation.context:Subscribing md_sim to tpr_input.\n",
            "INFO:gmxapi.simulation.context:Building sequence ['tpr_input', 'md_sim']\n",
            "INFO:gmxapi.simulation.context:Building <gmxapi.simulation.context._load_tpr.<locals>.Builder object at 0x7f7763694250>\n",
            "INFO:gmxapi.simulation.context:Building <gmxapi.simulation.context._md.<locals>.Builder object at 0x7f77636945d0>\n",
            "INFO:gmxapi.simulation.context:Launching work on context rank 0, subcommunicator rank 0.\n",
            "INFO:gmxapi.simulation.context:rank 0 changed directory to /content/mdrun_30_1669926122_0\n",
            "INFO:gmxapi.simulation.context:Loading TPR file: /content/mdrun_30_1669926122_0/topol.tpr\n",
            "INFO:gmxapi.simulation.context:Exiting session on context rank 0.\n",
            "INFO:gmxapi.simulation.context:Calling session.close().\n",
            "INFO:gmxapi.simulation.context:Freeing sub-communicator _DummyCommunicator on rank 0\n",
            "INFO:gmxapi.simulation.context:Session closed on context rank 0.\n",
            "INFO:gmxapi.mdrun:Missing output. *trajectory* is \"None\"\n",
            " 88%|████████▊ | 7/8 [04:57<00:58, 58.77s/it]INFO:gmxapi.mdrun:Building mdrun operation from source <gmxapi.simulation.read_tpr.StandardOperationHandle object at 0x7f7763692190>\n",
            "INFO:gmxapi.mdrun:mdrun receiving input _simulation_input: ResultDescription(dtype=<class 'str'>, width=1)\n",
            "INFO:gmxapi.mdrun:mdrun input bound as source collection DataSourceCollection([('_simulation_input', <Future: name='_simulation_input', description=ResultDescription(dtype=<class 'str'>, width=1)>), ('parameters', <Future: name='parameters', description=ResultDescription(dtype=<class 'dict'>, width=1)>), ('runtime_args', {'-nb': 'gpu', '-pme': 'gpu', '-pmefft': 'gpu', '-bonded': 'gpu', '-x': '/content/pmxrun_1669926122/lysopath/lysozyme_benzene/protein/stateB/run2/transitions/traj_1.xtc', '-o': '/content/pmxrun_1669926122/lysopath/lysozyme_benzene/protein/stateB/run2/transitions/traj_1.trr', '-c': '/content/pmxrun_1669926122/lysopath/lysozyme_benzene/protein/stateB/run2/transitions/confout_1.gro', '-e': '/content/pmxrun_1669926122/lysopath/lysozyme_benzene/protein/stateB/run2/transitions/ener_1.edr', '-g': '/content/pmxrun_1669926122/lysopath/lysozyme_benzene/protein/stateB/run2/transitions/md_1.log', '-cpo': '/content/pmxrun_1669926122/lysopath/lysozyme_benzene/protein/stateB/run2/transitions/state_1.cpt', '-dhdl': '/content/pmxrun_1669926122/lysopath/lysozyme_benzene/protein/stateB/run2/transitions/dhdl_1.xvg'})])\n",
            "INFO:gmxapi.simulation.context:mpi4py is not available for default session communication.\n",
            "INFO:gmxapi.mdrun:Created /content/mdrun_31_1669926122_0/topol.tpr on rank 0\n",
            "INFO:gmxapi.simulation.workflow:Added element md_sim to workspec.\n",
            "INFO:gmxapi.simulation.context:Collected builder for tpr_input\n"
          ]
        },
        {
          "output_type": "stream",
          "name": "stdout",
          "text": [
            "\n",
            "Running /content/pmxrun_1669926122/lysopath/lysozyme_benzene/protein/stateB/run2/transitions/ti1.tpr\n"
          ]
        },
        {
          "output_type": "stream",
          "name": "stderr",
          "text": [
            "INFO:gmxapi.simulation.context:Collected builder for md_sim\n",
            "INFO:gmxapi.simulation.context:Subscribing md_sim to tpr_input.\n",
            "INFO:gmxapi.simulation.context:Building sequence ['tpr_input', 'md_sim']\n",
            "INFO:gmxapi.simulation.context:Building <gmxapi.simulation.context._load_tpr.<locals>.Builder object at 0x7f776367dad0>\n",
            "INFO:gmxapi.simulation.context:Building <gmxapi.simulation.context._md.<locals>.Builder object at 0x7f776367db90>\n",
            "INFO:gmxapi.simulation.context:Launching work on context rank 0, subcommunicator rank 0.\n",
            "INFO:gmxapi.simulation.context:rank 0 changed directory to /content/mdrun_31_1669926122_0\n",
            "INFO:gmxapi.simulation.context:Loading TPR file: /content/mdrun_31_1669926122_0/topol.tpr\n",
            "INFO:gmxapi.simulation.context:Exiting session on context rank 0.\n",
            "INFO:gmxapi.simulation.context:Calling session.close().\n",
            "INFO:gmxapi.simulation.context:Freeing sub-communicator _DummyCommunicator on rank 0\n",
            "INFO:gmxapi.simulation.context:Session closed on context rank 0.\n",
            "INFO:gmxapi.mdrun:Missing output. *trajectory* is \"None\"\n",
            "100%|██████████| 8/8 [06:13<00:00, 46.65s/it]\n"
          ]
        }
      ]
    },
    {
      "cell_type": "code",
      "source": [
        "i = 0  # tpr id\n",
        "\n",
        "# Show output files for one run.\n",
        "print(\"Path to mdrun output files:\", os.path.dirname(tpr_files[i]))\n",
        "print(\"Output files:\", os.listdir(\"/\".join(tpr_files[i].split(\"/\")[:-1])))\n",
        "print()\n",
        "\n",
        "# Tail dhdl file.\n",
        "print(\"Last 10 lines of an XVG files. The first column is time in ps, the second column is the instantaneous dH/dl.\")\n",
        "tail(\"/\".join(tpr_files[i].split(\"/\")[:-1]) + \"/dhdl_1.xvg\", n=10)"
      ],
      "metadata": {
        "id": "sDYl7JsRRjA3",
        "outputId": "014e3be4-adad-4b01-aa45-0783e3ceaae2",
        "colab": {
          "base_uri": "https://localhost:8080/"
        }
      },
      "execution_count": 21,
      "outputs": [
        {
          "output_type": "stream",
          "name": "stdout",
          "text": [
            "Path to mdrun output files: /content/pmxrun_1669926122/lysopath/lysozyme_benzene/water/stateA/run1/transitions\n",
            "Output files: ['dhdl_1.xvg', 'ti1.tpr', 'mdout.mdp']\n",
            "\n",
            "Last 10 lines of an XVG files. The first column is time in ps, the second column is the instantaneous dH/dl.\n",
            "49.9820 -1.9545932\n",
            "49.9840 -2.1036406\n",
            "49.9860 -2.4040251\n",
            "49.9880 -2.7775602\n",
            "49.9900 -3.2136259\n",
            "49.9920 -3.7254896\n",
            "49.9940 -4.0950804\n",
            "49.9960 -4.1832151\n",
            "49.9980 -4.0391798\n",
            "50.0000 -3.7565947\n"
          ]
        }
      ]
    },
    {
      "cell_type": "markdown",
      "source": [
        "## 5.&nbsp; Free Energy Estimation"
      ],
      "metadata": {
        "id": "nAub78THv3Sc"
      }
    },
    {
      "cell_type": "code",
      "source": [
        "# Estimate and show free energy terms.\n",
        "fe.ligSymmetry = 2  # This is becuase we're unlikely to sample ring flips in benzene.\n",
        "fe.run_analysis(ligs=['lysozyme_benzene'])\n",
        "fe.analysis_summary(ligs=['lysozyme_benzene'])\n",
        "fe.resultsAll"
      ],
      "metadata": {
        "id": "TXnU3ddrLaoZ",
        "outputId": "24abf86a-b572-49f1-c248-87fb0b7b248a",
        "colab": {
          "base_uri": "https://localhost:8080/",
          "height": 415
        }
      },
      "execution_count": 22,
      "outputs": [
        {
          "output_type": "stream",
          "name": "stdout",
          "text": [
            "----------------\n",
            "Running analysis\n",
            "----------------\n"
          ]
        },
        {
          "output_type": "execute_result",
          "data": {
            "text/html": [
              "\n",
              "  <div id=\"df-f7f1c608-64a1-47e5-81f3-910e6107e387\">\n",
              "    <div class=\"colab-df-container\">\n",
              "      <div>\n",
              "<style scoped>\n",
              "    .dataframe tbody tr th:only-of-type {\n",
              "        vertical-align: middle;\n",
              "    }\n",
              "\n",
              "    .dataframe tbody tr th {\n",
              "        vertical-align: top;\n",
              "    }\n",
              "\n",
              "    .dataframe thead th {\n",
              "        text-align: right;\n",
              "    }\n",
              "</style>\n",
              "<table border=\"1\" class=\"dataframe\">\n",
              "  <thead>\n",
              "    <tr style=\"text-align: right;\">\n",
              "      <th></th>\n",
              "      <th>dGcalc</th>\n",
              "      <th>errBoot</th>\n",
              "      <th>errAnalyt</th>\n",
              "      <th>framesA</th>\n",
              "      <th>framesB</th>\n",
              "    </tr>\n",
              "  </thead>\n",
              "  <tbody>\n",
              "    <tr>\n",
              "      <th>lysozyme_benzene_correction</th>\n",
              "      <td>-31.295500</td>\n",
              "      <td>NaN</td>\n",
              "      <td>NaN</td>\n",
              "      <td>NaN</td>\n",
              "      <td>NaN</td>\n",
              "    </tr>\n",
              "    <tr>\n",
              "      <th>lysozyme_benzene_symmetry</th>\n",
              "      <td>-1.718282</td>\n",
              "      <td>NaN</td>\n",
              "      <td>NaN</td>\n",
              "      <td>NaN</td>\n",
              "      <td>NaN</td>\n",
              "    </tr>\n",
              "    <tr>\n",
              "      <th>lysozyme_benzene_water_1</th>\n",
              "      <td>-4.930000</td>\n",
              "      <td>0.000000</td>\n",
              "      <td>8.920000</td>\n",
              "      <td>1.0</td>\n",
              "      <td>1.0</td>\n",
              "    </tr>\n",
              "    <tr>\n",
              "      <th>lysozyme_benzene_water_2</th>\n",
              "      <td>-2.050000</td>\n",
              "      <td>0.000000</td>\n",
              "      <td>4.300000</td>\n",
              "      <td>1.0</td>\n",
              "      <td>1.0</td>\n",
              "    </tr>\n",
              "    <tr>\n",
              "      <th>lysozyme_benzene_water_all</th>\n",
              "      <td>-2.820000</td>\n",
              "      <td>1.090000</td>\n",
              "      <td>3.880000</td>\n",
              "      <td>2.0</td>\n",
              "      <td>2.0</td>\n",
              "    </tr>\n",
              "    <tr>\n",
              "      <th>lysozyme_benzene_protein_1</th>\n",
              "      <td>31.330000</td>\n",
              "      <td>0.000000</td>\n",
              "      <td>0.360000</td>\n",
              "      <td>1.0</td>\n",
              "      <td>1.0</td>\n",
              "    </tr>\n",
              "    <tr>\n",
              "      <th>lysozyme_benzene_protein_2</th>\n",
              "      <td>27.280000</td>\n",
              "      <td>0.000000</td>\n",
              "      <td>20.370000</td>\n",
              "      <td>1.0</td>\n",
              "      <td>1.0</td>\n",
              "    </tr>\n",
              "    <tr>\n",
              "      <th>lysozyme_benzene_protein_all</th>\n",
              "      <td>31.170000</td>\n",
              "      <td>3.800000</td>\n",
              "      <td>2.340000</td>\n",
              "      <td>2.0</td>\n",
              "      <td>2.0</td>\n",
              "    </tr>\n",
              "    <tr>\n",
              "      <th>lysozyme_benzene_water</th>\n",
              "      <td>-2.820000</td>\n",
              "      <td>1.018488</td>\n",
              "      <td>5.127137</td>\n",
              "      <td>2.0</td>\n",
              "      <td>2.0</td>\n",
              "    </tr>\n",
              "    <tr>\n",
              "      <th>lysozyme_benzene_protein</th>\n",
              "      <td>31.170000</td>\n",
              "      <td>1.432249</td>\n",
              "      <td>10.111551</td>\n",
              "      <td>2.0</td>\n",
              "      <td>2.0</td>\n",
              "    </tr>\n",
              "  </tbody>\n",
              "</table>\n",
              "</div>\n",
              "      <button class=\"colab-df-convert\" onclick=\"convertToInteractive('df-f7f1c608-64a1-47e5-81f3-910e6107e387')\"\n",
              "              title=\"Convert this dataframe to an interactive table.\"\n",
              "              style=\"display:none;\">\n",
              "        \n",
              "  <svg xmlns=\"http://www.w3.org/2000/svg\" height=\"24px\"viewBox=\"0 0 24 24\"\n",
              "       width=\"24px\">\n",
              "    <path d=\"M0 0h24v24H0V0z\" fill=\"none\"/>\n",
              "    <path d=\"M18.56 5.44l.94 2.06.94-2.06 2.06-.94-2.06-.94-.94-2.06-.94 2.06-2.06.94zm-11 1L8.5 8.5l.94-2.06 2.06-.94-2.06-.94L8.5 2.5l-.94 2.06-2.06.94zm10 10l.94 2.06.94-2.06 2.06-.94-2.06-.94-.94-2.06-.94 2.06-2.06.94z\"/><path d=\"M17.41 7.96l-1.37-1.37c-.4-.4-.92-.59-1.43-.59-.52 0-1.04.2-1.43.59L10.3 9.45l-7.72 7.72c-.78.78-.78 2.05 0 2.83L4 21.41c.39.39.9.59 1.41.59.51 0 1.02-.2 1.41-.59l7.78-7.78 2.81-2.81c.8-.78.8-2.07 0-2.86zM5.41 20L4 18.59l7.72-7.72 1.47 1.35L5.41 20z\"/>\n",
              "  </svg>\n",
              "      </button>\n",
              "      \n",
              "  <style>\n",
              "    .colab-df-container {\n",
              "      display:flex;\n",
              "      flex-wrap:wrap;\n",
              "      gap: 12px;\n",
              "    }\n",
              "\n",
              "    .colab-df-convert {\n",
              "      background-color: #E8F0FE;\n",
              "      border: none;\n",
              "      border-radius: 50%;\n",
              "      cursor: pointer;\n",
              "      display: none;\n",
              "      fill: #1967D2;\n",
              "      height: 32px;\n",
              "      padding: 0 0 0 0;\n",
              "      width: 32px;\n",
              "    }\n",
              "\n",
              "    .colab-df-convert:hover {\n",
              "      background-color: #E2EBFA;\n",
              "      box-shadow: 0px 1px 2px rgba(60, 64, 67, 0.3), 0px 1px 3px 1px rgba(60, 64, 67, 0.15);\n",
              "      fill: #174EA6;\n",
              "    }\n",
              "\n",
              "    [theme=dark] .colab-df-convert {\n",
              "      background-color: #3B4455;\n",
              "      fill: #D2E3FC;\n",
              "    }\n",
              "\n",
              "    [theme=dark] .colab-df-convert:hover {\n",
              "      background-color: #434B5C;\n",
              "      box-shadow: 0px 1px 3px 1px rgba(0, 0, 0, 0.15);\n",
              "      filter: drop-shadow(0px 1px 2px rgba(0, 0, 0, 0.3));\n",
              "      fill: #FFFFFF;\n",
              "    }\n",
              "  </style>\n",
              "\n",
              "      <script>\n",
              "        const buttonEl =\n",
              "          document.querySelector('#df-f7f1c608-64a1-47e5-81f3-910e6107e387 button.colab-df-convert');\n",
              "        buttonEl.style.display =\n",
              "          google.colab.kernel.accessAllowed ? 'block' : 'none';\n",
              "\n",
              "        async function convertToInteractive(key) {\n",
              "          const element = document.querySelector('#df-f7f1c608-64a1-47e5-81f3-910e6107e387');\n",
              "          const dataTable =\n",
              "            await google.colab.kernel.invokeFunction('convertToInteractive',\n",
              "                                                     [key], {});\n",
              "          if (!dataTable) return;\n",
              "\n",
              "          const docLinkHtml = 'Like what you see? Visit the ' +\n",
              "            '<a target=\"_blank\" href=https://colab.research.google.com/notebooks/data_table.ipynb>data table notebook</a>'\n",
              "            + ' to learn more about interactive tables.';\n",
              "          element.innerHTML = '';\n",
              "          dataTable['output_type'] = 'display_data';\n",
              "          await google.colab.output.renderOutput(dataTable, element);\n",
              "          const docLink = document.createElement('div');\n",
              "          docLink.innerHTML = docLinkHtml;\n",
              "          element.appendChild(docLink);\n",
              "        }\n",
              "      </script>\n",
              "    </div>\n",
              "  </div>\n",
              "  "
            ],
            "text/plain": [
              "                                 dGcalc   errBoot  errAnalyt  framesA  framesB\n",
              "lysozyme_benzene_correction  -31.295500       NaN        NaN      NaN      NaN\n",
              "lysozyme_benzene_symmetry     -1.718282       NaN        NaN      NaN      NaN\n",
              "lysozyme_benzene_water_1      -4.930000  0.000000   8.920000      1.0      1.0\n",
              "lysozyme_benzene_water_2      -2.050000  0.000000   4.300000      1.0      1.0\n",
              "lysozyme_benzene_water_all    -2.820000  1.090000   3.880000      2.0      2.0\n",
              "lysozyme_benzene_protein_1    31.330000  0.000000   0.360000      1.0      1.0\n",
              "lysozyme_benzene_protein_2    27.280000  0.000000  20.370000      1.0      1.0\n",
              "lysozyme_benzene_protein_all  31.170000  3.800000   2.340000      2.0      2.0\n",
              "lysozyme_benzene_water        -2.820000  1.018488   5.127137      2.0      2.0\n",
              "lysozyme_benzene_protein      31.170000  1.432249  10.111551      2.0      2.0"
            ]
          },
          "metadata": {},
          "execution_count": 22
        }
      ]
    },
    {
      "cell_type": "code",
      "source": [
        "# Show estimated binding free energy (dGcalc).\n",
        "fe.resultsSummary"
      ],
      "metadata": {
        "id": "n_90Vy1QrjMh",
        "outputId": "22bd1381-b543-42ac-a048-9a722b2c85dd",
        "colab": {
          "base_uri": "https://localhost:8080/",
          "height": 81
        }
      },
      "execution_count": 23,
      "outputs": [
        {
          "output_type": "execute_result",
          "data": {
            "text/html": [
              "\n",
              "  <div id=\"df-3b48c0bb-29eb-425a-941b-a27f4cc154b4\">\n",
              "    <div class=\"colab-df-container\">\n",
              "      <div>\n",
              "<style scoped>\n",
              "    .dataframe tbody tr th:only-of-type {\n",
              "        vertical-align: middle;\n",
              "    }\n",
              "\n",
              "    .dataframe tbody tr th {\n",
              "        vertical-align: top;\n",
              "    }\n",
              "\n",
              "    .dataframe thead th {\n",
              "        text-align: right;\n",
              "    }\n",
              "</style>\n",
              "<table border=\"1\" class=\"dataframe\">\n",
              "  <thead>\n",
              "    <tr style=\"text-align: right;\">\n",
              "      <th></th>\n",
              "      <th>dGcalc</th>\n",
              "      <th>errAnalyt</th>\n",
              "      <th>errBoot</th>\n",
              "    </tr>\n",
              "  </thead>\n",
              "  <tbody>\n",
              "    <tr>\n",
              "      <th>lysozyme_benzene</th>\n",
              "      <td>-4.412782</td>\n",
              "      <td>11.337151</td>\n",
              "      <td>1.757457</td>\n",
              "    </tr>\n",
              "  </tbody>\n",
              "</table>\n",
              "</div>\n",
              "      <button class=\"colab-df-convert\" onclick=\"convertToInteractive('df-3b48c0bb-29eb-425a-941b-a27f4cc154b4')\"\n",
              "              title=\"Convert this dataframe to an interactive table.\"\n",
              "              style=\"display:none;\">\n",
              "        \n",
              "  <svg xmlns=\"http://www.w3.org/2000/svg\" height=\"24px\"viewBox=\"0 0 24 24\"\n",
              "       width=\"24px\">\n",
              "    <path d=\"M0 0h24v24H0V0z\" fill=\"none\"/>\n",
              "    <path d=\"M18.56 5.44l.94 2.06.94-2.06 2.06-.94-2.06-.94-.94-2.06-.94 2.06-2.06.94zm-11 1L8.5 8.5l.94-2.06 2.06-.94-2.06-.94L8.5 2.5l-.94 2.06-2.06.94zm10 10l.94 2.06.94-2.06 2.06-.94-2.06-.94-.94-2.06-.94 2.06-2.06.94z\"/><path d=\"M17.41 7.96l-1.37-1.37c-.4-.4-.92-.59-1.43-.59-.52 0-1.04.2-1.43.59L10.3 9.45l-7.72 7.72c-.78.78-.78 2.05 0 2.83L4 21.41c.39.39.9.59 1.41.59.51 0 1.02-.2 1.41-.59l7.78-7.78 2.81-2.81c.8-.78.8-2.07 0-2.86zM5.41 20L4 18.59l7.72-7.72 1.47 1.35L5.41 20z\"/>\n",
              "  </svg>\n",
              "      </button>\n",
              "      \n",
              "  <style>\n",
              "    .colab-df-container {\n",
              "      display:flex;\n",
              "      flex-wrap:wrap;\n",
              "      gap: 12px;\n",
              "    }\n",
              "\n",
              "    .colab-df-convert {\n",
              "      background-color: #E8F0FE;\n",
              "      border: none;\n",
              "      border-radius: 50%;\n",
              "      cursor: pointer;\n",
              "      display: none;\n",
              "      fill: #1967D2;\n",
              "      height: 32px;\n",
              "      padding: 0 0 0 0;\n",
              "      width: 32px;\n",
              "    }\n",
              "\n",
              "    .colab-df-convert:hover {\n",
              "      background-color: #E2EBFA;\n",
              "      box-shadow: 0px 1px 2px rgba(60, 64, 67, 0.3), 0px 1px 3px 1px rgba(60, 64, 67, 0.15);\n",
              "      fill: #174EA6;\n",
              "    }\n",
              "\n",
              "    [theme=dark] .colab-df-convert {\n",
              "      background-color: #3B4455;\n",
              "      fill: #D2E3FC;\n",
              "    }\n",
              "\n",
              "    [theme=dark] .colab-df-convert:hover {\n",
              "      background-color: #434B5C;\n",
              "      box-shadow: 0px 1px 3px 1px rgba(0, 0, 0, 0.15);\n",
              "      filter: drop-shadow(0px 1px 2px rgba(0, 0, 0, 0.3));\n",
              "      fill: #FFFFFF;\n",
              "    }\n",
              "  </style>\n",
              "\n",
              "      <script>\n",
              "        const buttonEl =\n",
              "          document.querySelector('#df-3b48c0bb-29eb-425a-941b-a27f4cc154b4 button.colab-df-convert');\n",
              "        buttonEl.style.display =\n",
              "          google.colab.kernel.accessAllowed ? 'block' : 'none';\n",
              "\n",
              "        async function convertToInteractive(key) {\n",
              "          const element = document.querySelector('#df-3b48c0bb-29eb-425a-941b-a27f4cc154b4');\n",
              "          const dataTable =\n",
              "            await google.colab.kernel.invokeFunction('convertToInteractive',\n",
              "                                                     [key], {});\n",
              "          if (!dataTable) return;\n",
              "\n",
              "          const docLinkHtml = 'Like what you see? Visit the ' +\n",
              "            '<a target=\"_blank\" href=https://colab.research.google.com/notebooks/data_table.ipynb>data table notebook</a>'\n",
              "            + ' to learn more about interactive tables.';\n",
              "          element.innerHTML = '';\n",
              "          dataTable['output_type'] = 'display_data';\n",
              "          await google.colab.output.renderOutput(dataTable, element);\n",
              "          const docLink = document.createElement('div');\n",
              "          docLink.innerHTML = docLinkHtml;\n",
              "          element.appendChild(docLink);\n",
              "        }\n",
              "      </script>\n",
              "    </div>\n",
              "  </div>\n",
              "  "
            ],
            "text/plain": [
              "                    dGcalc  errAnalyt   errBoot\n",
              "lysozyme_benzene -4.412782  11.337151  1.757457"
            ]
          },
          "metadata": {},
          "execution_count": 23
        }
      ]
    },
    {
      "cell_type": "code",
      "source": [],
      "metadata": {
        "id": "WPMjYh4JhTl7"
      },
      "execution_count": null,
      "outputs": []
    }
  ],
  "metadata": {
    "accelerator": "GPU",
    "colab": {
      "name": "abfe_tutorial.ipynb",
      "provenance": [],
      "include_colab_link": true
    },
    "language_info": {
      "name": "python"
    },
    "kernelspec": {
      "name": "python3",
      "display_name": "Python 3"
    },
    "gpuClass": "standard"
  },
  "nbformat": 4,
  "nbformat_minor": 0
}